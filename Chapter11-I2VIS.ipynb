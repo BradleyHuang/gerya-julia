{
 "cells": [
  {
   "cell_type": "markdown",
   "id": "8ea95bde",
   "metadata": {},
   "source": [
    "# Chapter 11 - I2VIS\n",
    "\n",
    "This is an implementation of a 2D viscous flow code. The energy equation (for temperature) is solved at the cell centers (unlike the example in the chapter 10 notebook, which is solved at the basic nodes."
   ]
  },
  {
   "cell_type": "code",
   "execution_count": 9,
   "id": "adabca4a",
   "metadata": {},
   "outputs": [],
   "source": [
    "# Import necessary packages\n",
    "using SparseArrays\n",
    "using LinearAlgebra\n",
    "using IterativeSolvers\n",
    "using WriteVTK\n",
    "using Printf\n",
    "\n",
    "include(\"Grid.jl\")\n",
    "include(\"Markers.jl\")\n",
    "include(\"Stokes.jl\")\n",
    "\n",
    "using PyPlot"
   ]
  },
  {
   "cell_type": "code",
   "execution_count": 2,
   "id": "d1e54a62",
   "metadata": {},
   "outputs": [
    {
     "data": {
      "text/plain": [
       "visualization (generic function with 2 methods)"
      ]
     },
     "execution_count": 2,
     "metadata": {},
     "output_type": "execute_result"
    }
   ],
   "source": [
    "# Define a function to form the energy equation left hand side and right hand side\n",
    "function assemble_energy_equation_center(grid::CartesianGrid,rho::Matrix,Cp::Matrix,kThermal::Matrix,H::Matrix,Tlast::Matrix,dt)\n",
    "    bcleft  = -1   # -1 = insulating, 1 = constant temp\n",
    "    bcright = -1   #\n",
    "    bctop   =  1\n",
    "    bcbottom  = 1\n",
    "    bcval = [0.0,0.0,1000.0,1000.0] # left,right,top,bottom\n",
    "    \n",
    "    N = grid.nx*grid.ny\n",
    "    row = zeros(Int64,5*N);\n",
    "    col = zeros(Int64,5*N);\n",
    "    val = zeros(Float64, 5*N);\n",
    "    R = zeros(Float64,N,1);\n",
    "    k = 1;\n",
    "    #        j-1   j     j   j+1   j+1\n",
    "    #   i-1   |----kC----|----vy----|\n",
    "    #         |          |          |\n",
    "    #   i     kA    T   kB    T     |\n",
    "    #         |          |          |\n",
    "    #   i     |----kD--(i,j)--vy----|\n",
    "    #         |          |          |\n",
    "    #   i+1   vx    c    vx   c     vx\n",
    "    #         |          |          |\n",
    "    #   i+1   |----vy----|----vy----|\n",
    "    \n",
    "    for j in 1:grid.nx\n",
    "        dxc = j>1 ? grid.x[j] - grid.x[j-1] : grid.x[j+1] - grid.x[j]\n",
    "        dxp = grid.xc[j+1] - grid.xc[j]\n",
    "        dxm = j>1 ? grid.xc[j]-grid.xc[j-1] : grid.xc[j+1] - grid.xc[j]\n",
    "        for i in 1:grid.ny\n",
    "            dyc = i>1 ? grid.y[i] - grid.y[i-1] : grid.y[i+1] - grid.y[i]\n",
    "            dyp = grid.yc[i+1] - grid.yc[i]\n",
    "            dym = i>1 ? grid.yc[i]-grid.yc[i-1] : grid.yc[i+1] - grid.yc[i]\n",
    "            \n",
    "            this_row = node_index(i,j,grid.ny);\n",
    "            if i==1 # ghost nodes along top.\n",
    "                row[k] = this_row\n",
    "                col[k] = this_row\n",
    "                val[k] = 1.0/2.0\n",
    "                k+=1\n",
    "                \n",
    "                row[k] = this_row\n",
    "                col[k] = node_index(i+1,j,grid.ny)\n",
    "                val[k] = bctop/2.0\n",
    "                k+=1\n",
    "                \n",
    "                R[this_row] = bcval[3]\n",
    "            elseif j==1 # ghost nodes along left side.\n",
    "                row[k] = this_row\n",
    "                col[k] = this_row\n",
    "                val[k] = 1.0/2.0\n",
    "                k+=1\n",
    "                \n",
    "                row[k] = this_row\n",
    "                col[k] = node_index(i,j+1,grid.ny)\n",
    "                val[k] = bcleft/2.0\n",
    "                k+=1\n",
    "                \n",
    "                R[this_row] = bcval[1]\n",
    "            else            \n",
    "                # kA, kB, kC, kD\n",
    "                kA = 0.5*(kThermal[i-1,j-1] + kThermal[i,j-1])\n",
    "                kB = 0.5*(kThermal[i,j]     + kThermal[i-1,j])\n",
    "                kC = 0.5*(kThermal[i-1,j-1] + kThermal[i-1,j])\n",
    "                kD = 0.5*(kThermal[i,j-1]   + kThermal[i,j])\n",
    "                rho_c = 0.25*(rho[i-1,j-1] + rho[i,j-1] + rho[i-1,j] + rho[i,j])\n",
    "                Cp_c = 0.25*(Cp[i-1,j-1] + Cp[i,j-1] + Cp[i-1,j] + Cp[i,j])\n",
    "\n",
    "                # diagonal entry\n",
    "                row[k] = this_row;\n",
    "                col[k] = this_row;\n",
    "                val[k] = (rho_c*Cp_c)/dt + kB/dxp/dxc + kA/dxm/dxc + kD/dyp/dyc + kC/dyp/dyc;\n",
    "                k+=1\n",
    "                # right\n",
    "                row[k] = this_row;\n",
    "                #col[k] = j==grid.nx ? node_index(i,2,grid.ny) : node_index(i,j+1,grid.ny);\n",
    "                col[k] = j==grid.nx ? node_index(i,j,grid.ny) : node_index(i,j+1,grid.ny);\n",
    "                val[k] = j==grid.nx ? bcright*kB/dxp/dxc : -kB/dxp/dxc;\n",
    "                k+=1\n",
    "                # left\n",
    "                row[k] = this_row;\n",
    "                col[k] = node_index(i,j-1,grid.ny);\n",
    "                val[k] = -kA/dxm/dxc;\n",
    "                k+=1\n",
    "                # down (+y)\n",
    "                row[k] = this_row;\n",
    "                col[k] = i==grid.ny ? node_index(i,j,grid.ny) : node_index(i+1,j,grid.ny);\n",
    "                val[k] = i==grid.ny ? bcbottom*kD/dyp/dyc : -kD/dyp/dyc;\n",
    "                k+=1\n",
    "                # up (-y)\n",
    "                row[k] = this_row;\n",
    "                col[k] = node_index(i-1,j,grid.ny);\n",
    "                val[k] = -kC/dyp/dyc;\n",
    "                k+=1\n",
    "                \n",
    "                R[this_row] = Tlast[i,j]*rho_c*Cp_c/dt;\n",
    "                if j==grid.nx\n",
    "                    R[this_row] += 2*bcval[2]*bcright*kB/dxp/dxc\n",
    "                end\n",
    "                if i==grid.ny\n",
    "                    R[this_row] += 2*bcval[4]*bcbottom*kD/dyp/dyc\n",
    "                end\n",
    "            end\n",
    "        end\n",
    "    end\n",
    "    row = @views row[1:k-1]\n",
    "    col = @views col[1:k-1]\n",
    "    val = @views val[1:k-1]\n",
    "    L = sparse(row,col,val)\n",
    "    return L,R\n",
    "end\n",
    "\n",
    "function ghost_temperature(grid::CartesianGrid,T::Matrix)\n",
    "    # Define a new grid that is (ny+1)x(nx+1) and insert the ghost temperature values.\n",
    "    bcleft  = -1   # -1 = insulating, 1 = constant temp\n",
    "    bcright = -1   #\n",
    "    bctop   =  1\n",
    "    bcbottom  = 1\n",
    "    bcval = [0.0,0.0,1000.0,1000.0] # left,right,top,bottom\n",
    "    Tpad = Array{Float64,2}(undef,grid.ny+1,grid.nx+1)\n",
    "    Tpad[1:grid.ny,1:grid.nx] = T[1:grid.ny,1:grid.nx]\n",
    "    # right side first\n",
    "    for i in 1:grid.ny\n",
    "        if bcright == 1\n",
    "             Tpad[i,grid.nx+1] = 2.0*bcval[2]-Tpad[i,grid.nx]\n",
    "        elseif bcright == -1\n",
    "            Tpad[i,grid.nx+1] = Tpad[i,grid.nx]\n",
    "        end\n",
    "    end\n",
    "    # bottom\n",
    "    for j in 1:grid.nx+1\n",
    "        if bcbottom == 1\n",
    "            Tpad[grid.ny+1,j] = 2.0*bcval[4]-Tpad[grid.ny,j]\n",
    "        elseif bcbottom == -1\n",
    "            Tpad[grid.ny+1,j] = Tpad[grid.ny,j]\n",
    "        end\n",
    "    end\n",
    "    return Tpad\n",
    "end\n",
    "\n",
    "function subgrid_temperature_relaxation!(markers::Markers,grid::CartesianGrid,Tlast::Matrix,Cp,kThermal,dt::Float64)\n",
    "        dsubgrid = 1.0; # subgrid temperature diffusivity\n",
    "        dT_subgrid_m = Array{Float64,1}(undef,markers.nmark)\n",
    "        # compuate the nodal temperature on the markers.\n",
    "    \n",
    "        cell_center_to_markers!(markers,grid,Tlast,dT_subgrid_m)\n",
    "#         figure()\n",
    "#         scatter(markers.x[1,1:markers.nmark],markers.x[2,1:markers.nmark],c=dT_subgrid_m)\n",
    "#         title(\"Tlast at markers\")\n",
    "#         colorbar()\n",
    "#         show()\n",
    "    \n",
    "        # compute the subgrid temperature changes on the markers\n",
    "        rho = markers.scalarFields[\"rho\"]\n",
    "        T = markers.scalarFields[\"T\"]\n",
    "        Threads.@threads for i in 1:markers.nmark\n",
    "            dx2 = (grid.x[markers.cell[1,i]+1] - grid.x[markers.cell[1,i]])^2\n",
    "            dy2 = (grid.y[markers.cell[2,i]+1] - grid.y[markers.cell[2,i]])^2\n",
    "            tdiff = markers.scalars[rho,i]*Cp/kThermal / (2/dx2 + 2/dy2)\n",
    "            dT_subgrid_m[i] = (dT_subgrid_m[i]-markers.scalars[T,i])*( 1.0 - exp(-dsubgrid*dt/tdiff) )\n",
    "        end\n",
    "        # interpolate subgrid temperature changes back onto basic nodes.\n",
    "        markers.scalars[T,1:markers.nmark] += dT_subgrid_m\n",
    "    \n",
    "        dT_subgrid_node = marker_to_cell_center(markers,grid,dT_subgrid_m)\n",
    "#         figure()\n",
    "#         pcolormesh(dT_subgrid_node)\n",
    "#         title(\"subgrid change at nodes\")\n",
    "#         colorbar()\n",
    "#         show()\n",
    "        return dT_subgrid_node\n",
    "end\n",
    "\n",
    "function initial_conditions!(markers::Markers)\n",
    "    rho = markers.scalarFields[\"rho\"]\n",
    "    eta = markers.scalarFields[\"eta\"]\n",
    "    T = markers.scalarFields[\"T\"]\n",
    "    for i in 1:markers.nmark\n",
    "        mx = markers.x[1,i]\n",
    "        my = markers.x[2,i]\n",
    "        mr = ((mx-2.5e5)^2 + (my-2.5e5)^2)^0.5\n",
    "        # my initial misunderstanding of the problem setup:\n",
    "        # markers.rho[i] = mx >= 200e3 && mx <= 300e3 ? 3200. : 3300.\n",
    "        markers.scalars[rho,i] = mr < 1.0e5 ? 3200. : 3300.\n",
    "        markers.scalars[eta,i] = mr < 1.0e5 ? 1e20 : 1e21 \n",
    "        markers.scalars[T,i] = mr < 1.0e5 ? 1300. : 1000.\n",
    "    end\n",
    "end\n",
    "\n",
    "function visualization(grid::CartesianGrid,rho::Matrix,eta::Matrix,vn::Array{Float64},pressure::Matrix,temperature::Matrix,time ; filename=\"test.vts\")\n",
    "    # write the visualization output from the regular grid as a .vts file.\n",
    "    vtk_grid(filename, grid.x, grid.y) do vtk\n",
    "        vtk[\"rho\"] = transpose(rho)\n",
    "        vtk[\"viscosity\"] = transpose(eta)\n",
    "        # add a fake third dimension to the velocity vectors\n",
    "        v3 = Array{Float64,3}(undef,3,grid.nx,grid.ny)\n",
    "        v3[1:2,:,:] = vn\n",
    "        v3[3,:,:] .= 0.0\n",
    "        vtk[\"Velocity\"] = v3\n",
    "        vtk[\"Temperature\"] = transpose(temperature)\n",
    "        vtk[\"pressure\"] = transpose(pressure[2:end,2:end])\n",
    "        vtk[\"TIME\"] = time\n",
    "    end\n",
    "end\n",
    "\n",
    "function visualization(markers::Markers,time; filename=\"markers.vtp\")  \n",
    "    p3 = Array{Float64,2}(undef,3,markers.nmark)\n",
    "    p3[1:2,:] = markers.x[1:2,1:markers.nmark]\n",
    "    p3[3,:] .= 0.0\n",
    "      \n",
    "    polys = [MeshCell(PolyData.Polys(),i:i) for i in 1:markers.nmark]\n",
    "    vtk_grid(filename,p3,polys) do vtk    \n",
    "        for key in keys(markers.scalarFields)\n",
    "            vtk[key] = markers.scalars[markers.scalarFields[key],1:markers.nmark]\n",
    "        end\n",
    "       vtk[\"TIME\"] = time\n",
    "    end\n",
    "end"
   ]
  },
  {
   "cell_type": "code",
   "execution_count": 5,
   "id": "7333fd83",
   "metadata": {},
   "outputs": [
    {
     "name": "stdout",
     "output_type": "stream",
     "text": [
      "Creating Markers...\n",
      "  0.001551 seconds (21 allocations: 3.598 MiB)\n",
      "Initial condition...\n",
      "  0.001674 seconds\n"
     ]
    },
    {
     "data": {
      "text/plain": [
       "1.6612535796046726e12"
      ]
     },
     "execution_count": 5,
     "metadata": {},
     "output_type": "execute_result"
    }
   ],
   "source": [
    "nx = 51\n",
    "ny = 51\n",
    "W = 5e5\n",
    "H = 5e5\n",
    "gx = 0.0\n",
    "gy = 10.0\n",
    "\n",
    "bc = BoundaryConditions(0,0,0,0) # currently does nothing but is required argument to stokes solver.\n",
    "\n",
    "\n",
    "markx = 5\n",
    "marky = 5\n",
    "seconds_in_year = 3.15e7\n",
    "plot_interval = 1e5*seconds_in_year # plot interval in seconds\n",
    "end_time = 3e7*seconds_in_year\n",
    "dtmax = plot_interval\n",
    "grid = CartesianGrid(W,H,nx,ny)\n",
    "println(\"Creating Markers...\")\n",
    "@time markers = Markers(grid,[\"T\",\"rho\",\"eta\"],[\"material\"] ; nmx=markx,nmy=marky,random=false)\n",
    "println(\"Initial condition...\")\n",
    "@time initial_conditions!(markers)\n",
    "\n",
    "# define arrays for k, rho, cp, H at the basic nodes. Fill them with constant values for now.\n",
    "kThermal = 3.0 .*ones(grid.ny,grid.nx);\n",
    "Cp = 1250. .* ones(grid.ny,grid.nx);\n",
    "H = zeros(grid.ny,grid.nx);\n",
    "# fill!(rho,3200.);\n",
    "# fill!(kThermal,3.0);\n",
    "# fill!(Cp,1000.);\n",
    "\n",
    "time = 0.0\n",
    "iout=0\n",
    "# while time <= end_time\n",
    "    # Get density and viscosity from the markers.\n",
    "    tmp = marker_to_basic_node(markers,grid,[\"rho\",\"eta\"]);\n",
    "    rho_new = tmp[1,:,:];\n",
    "    eta_s_new = tmp[2,:,:];\n",
    "    \n",
    "    if time > 0.0\n",
    "        nanind = findall(isnan.(rho_new))\n",
    "        rho_new[nanind] = rho[nanind]\n",
    "        eta_s_new[nanind] = eta_s[nanind]     \n",
    "    end\n",
    "    \n",
    "    global rho   = copy(rho_new)\n",
    "    global eta_s = copy(eta_s_new) \n",
    "    \n",
    "    eta_n = viscosity_to_cell_centers(grid,eta_s_new)\n",
    "\n",
    "    # assemble and solve the stokes equations\n",
    "    L,R = form_stokes(grid,eta_s_new,eta_n,rho_new,bc,gx,gy)\n",
    "    solution = L\\R\n",
    "    vx,vy,P = unpack(solution,grid;ghost=true)\n",
    "    vxc,vyc = velocity_to_centers(grid,vx,vy)\n",
    "    dt = compute_timestep(grid,vxc,vyc;dtmax=dtmax)\n",
    "    \n",
    "    # get temperature at cell centers\n",
    "    tmp = marker_to_cell_center(markers,grid,[\"T\",])\n",
    "    Tlast = tmp[1,:,:]\n",
    "    Tlast = ghost_temperature(grid,Tlast);\n",
    "\n",
    "    # assemble and solve the energy equation\n",
    "    L,R = assemble_energy_equation_center(grid,rho,Cp,kThermal,H,Tlast,dt);\n",
    "    Tnew = L\\R;\n",
    "    Tnew = reshape(Tnew,grid.ny,grid.nx);\n",
    "    Tnew = ghost_temperature(grid,Tnew);\n",
    "    \n",
    "    dTemp = Tnew-Tlast\n",
    "    dT_subgrid_node = subgrid_temperature_relaxation!(markers,grid,Tlast,Cp[1,1],kThermal[1,1],dt)\n",
    "    dT_remaining = dTemp - dT_subgrid_node\n",
    "    cell_center_change_to_markers!(markers,grid,dT_remaining,\"T\")\n",
    "    \n",
    "    if time == 0.0 || time - last_plot >= plot_interval\n",
    "        last_plot = time \n",
    "        name = @sprintf(\"output_chapter11/viz.%04d.vtr\",iout)\n",
    "        eta_s = zeros(grid.ny,grid.nx)\n",
    "        vn = velocity_to_basic_nodes(grid,vxc,vyc)\n",
    "\n",
    "        visualization(grid,rho,eta_s,vn,P,Tnew,time/seconds_in_year;filename=name)\n",
    "        name = @sprintf(\"output_chapter11/markers.%04d.vtp\",iout)\n",
    "        visualization(markers,time/seconds_in_year;filename=name)\n",
    "        iout += 1\n",
    "    end\n",
    "    \n",
    "    move_markers_rk2!(markers,grid,vxc,vyc,dt)\n",
    "    time += dt\n",
    "# end"
   ]
  },
  {
   "cell_type": "code",
   "execution_count": 3,
   "id": "8130a5f0",
   "metadata": {},
   "outputs": [
    {
     "name": "stdout",
     "output_type": "stream",
     "text": [
      "20"
     ]
    }
   ],
   "source": [
    "print(Threads.nthreads())"
   ]
  },
  {
   "cell_type": "code",
   "execution_count": 12,
   "id": "d8748d9f",
   "metadata": {},
   "outputs": [
    {
     "data": {
      "image/png": "[encoded data removed]",
      "text/plain": [
       "Figure(PyObject <Figure size 640x480 with 1 Axes>)"
      ]
     },
     "metadata": {},
     "output_type": "display_data"
    },
    {
     "data": {
      "image/png": "[encoded data removed]",
      "text/plain": [
       "Figure(PyObject <Figure size 640x480 with 1 Axes>)"
      ]
     },
     "metadata": {},
     "output_type": "display_data"
    },
    {
     "data": {
      "image/png": "[encoded data removed]",
      "text/plain": [
       "Figure(PyObject <Figure size 640x480 with 2 Axes>)"
      ]
     },
     "metadata": {},
     "output_type": "display_data"
    },
    {
     "name": "stdout",
     "output_type": "stream",
     "text": [
      "Creating Markers...\n",
      "Initial condition...\n",
      "  0.268918 seconds (5 allocations: 61.341 MiB, 52.59% gc time)\n",
      " 11.448788 seconds (184.00 M allocations: 2.775 GiB, 4.88% gc time)\n",
      "  3.564699 seconds (152.00 M allocations: 3.975 GiB, 22.33% gc time)\n",
      " 32.111340 seconds (543.56 M allocations: 80.141 GiB, 41.45% gc time)\n"
     ]
    }
   ],
   "source": [
    "nx = 401\n",
    "ny = nx\n",
    "markx=5\n",
    "marky=5\n",
    "W = 5e5\n",
    "H=5e5\n",
    "grid = CartesianGrid(W,H,nx,ny)\n",
    "println(\"Creating Markers...\")\n",
    "markers = Markers(grid,[\"T\",\"rho\",\"eta\"],[\"material\"] ; nmx=markx,nmy=marky,random=false)\n",
    "println(\"Initial condition...\")\n",
    "initial_conditions!(markers)\n",
    "@time sort(markers.x[2,:])\n",
    "@time tmp1 = marker_to_basic_node(markers,grid,markers.scalars[1,:])\n",
    "@time tmp2 = marker_to_basic_node2(markers,grid,markers.scalars[1,:])\n",
    "@time tmp3 = marker_to_basic_node3(markers,grid,markers.scalars[1,:])\n",
    "\n",
    "\n",
    "figure()\n",
    "pcolormesh(tmp1)\n",
    "show()\n",
    "\n",
    "figure()\n",
    "pcolormesh(tmp2)\n",
    "show()\n",
    "\n",
    "figure()\n",
    "pcolormesh(tmp3-tmp1)\n",
    "colorbar()\n",
    "show()"
   ]
  },
  {
   "cell_type": "code",
   "execution_count": 22,
   "id": "4e8795ac",
   "metadata": {},
   "outputs": [
    {
     "name": "stdout",
     "output_type": "stream",
     "text": [
      "Creating Markers...\n",
      "Initial condition...\n",
      "  0.000185 seconds\n",
      "10000"
     ]
    },
    {
     "data": {
      "application/vnd.vegalite.v4+json": {
       "data": {
        "values": [
         {
          "level": 0,
          "sf": "ip:0x0",
          "status": "Runtime dispatch",
          "x1": 1,
          "x2": 318.9
         },
         {
          "level": 1,
          "sf": "_start() at client.jl:495",
          "status": "Default",
          "x1": 3,
          "x2": 255.9
         },
         {
          "level": 2,
          "sf": "exec_options(opts::Base.JLOptions) at client.jl:292",
          "status": "Runtime dispatch",
          "x1": 3,
          "x2": 255.9
         },
         {
          "level": 3,
          "sf": "include(mod::Module, _path::String) at Base.jl:418",
          "status": "Default",
          "x1": 3,
          "x2": 255.9
         },
         {
          "level": 4,
          "sf": "_include(mapexpr::Function, mod::Module, _path::String) at loading.jl:1253",
          "status": "Runtime dispatch",
          "x1": 3,
          "x2": 255.9
         },
         {
          "level": 5,
          "sf": "include_string(mapexpr::typeof(identity), mod::Module, code::String, filename::String) at loading.jl:1196",
          "status": "Default",
          "x1": 3,
          "x2": 255.9
         },
         {
          "level": 6,
          "sf": "eval at boot.jl:373 [inlined]",
          "status": "Runtime dispatch",
          "x1": 3,
          "x2": 255.9
         },
         {
          "level": 7,
          "sf": "(::VSCodeServer.var\"#serve_notebook##kw\")(::NamedTuple{(:crashreporting_pipename,), Tuple{String}}, ::typeof(VSCodeServer.serve_notebook), pipename::String) at serve_notebook.jl:55",
          "status": "Default",
          "x1": 3,
          "x2": 255.9
         },
         {
          "level": 8,
          "sf": "serve_notebook(pipename::String; crashreporting_pipename::String) at serve_notebook.jl:94",
          "status": "Runtime dispatch",
          "x1": 3,
          "x2": 255.9
         },
         {
          "level": 9,
          "sf": "dispatch_msg(x::VSCodeServer.JSONRPC.JSONRPCEndpoint{Base.PipeEndpoint, Base.PipeEndpoint}, dispatcher::VSCodeServer.JSONRPC.MsgDispatcher, msg::Dict{String, Any}) at typed.jl:67",
          "status": "Runtime dispatch",
          "x1": 3,
          "x2": 255.9
         },
         {
          "level": 10,
          "sf": "notebook_runcell_request(conn::VSCodeServer.JSONRPC.JSONRPCEndpoint{Base.PipeEndpoint, Base.PipeEndpoint}, params::VSCodeServer.NotebookRunCellArguments) at serve_notebook.jl:14",
          "status": "Default",
          "x1": 3,
          "x2": 255.9
         },
         {
          "level": 11,
          "sf": "withpath(f::VSCodeServer.var\"#150#151\"{VSCodeServer.NotebookRunCellArguments, String}, path::String) at repl.jl:185",
          "status": "Default",
          "x1": 3,
          "x2": 255.9
         },
         {
          "level": 12,
          "sf": "(::VSCodeServer.var\"#150#151\"{VSCodeServer.NotebookRunCellArguments, String})() at serve_notebook.jl:18",
          "status": "Default",
          "x1": 3,
          "x2": 255.9
         },
         {
          "level": 13,
          "sf": "invokelatest at essentials.jl:714 [inlined]",
          "status": "Default",
          "x1": 3,
          "x2": 255.9
         },
         {
          "level": 14,
          "sf": "#invokelatest#2 at essentials.jl:716 [inlined]",
          "status": "Runtime dispatch",
          "x1": 3,
          "x2": 255.9
         },
         {
          "level": 15,
          "sf": "include_string(mapexpr::typeof(REPL.softscope), mod::Module, code::String, filename::String) at loading.jl:1196",
          "status": "Default",
          "x1": 3,
          "x2": 255.9
         },
         {
          "level": 16,
          "sf": "eval at boot.jl:373 [inlined]",
          "status": "Runtime dispatch",
          "x1": 3,
          "x2": 255.9
         },
         {
          "level": 17,
          "sf": "typeinf_ext_toplevel(mi::Core.MethodInstance, world::UInt64) at typeinfer.jl:938",
          "status": "Default",
          "x1": 97,
          "x2": 168.9
         },
         {
          "level": 18,
          "sf": "typeinf_ext_toplevel(interp::Core.Compiler.NativeInterpreter, linfo::Core.MethodInstance) at typeinfer.jl:942",
          "status": "Default",
          "x1": 97,
          "x2": 168.9
         },
         {
          "level": 19,
          "sf": "typeinf_ext(interp::Core.Compiler.NativeInterpreter, mi::Core.MethodInstance) at typeinfer.jl:909",
          "status": "Default",
          "x1": 97,
          "x2": 168.9
         },
         {
          "level": 20,
          "sf": "typeinf(interp::Core.Compiler.NativeInterpreter, frame::Core.Compiler.InferenceState) at typeinfer.jl:209",
          "status": "Default",
          "x1": 97,
          "x2": 168.9
         },
         {
          "level": 21,
          "sf": "_typeinf(interp::Core.Compiler.NativeInterpreter, frame::Core.Compiler.InferenceState) at typeinfer.jl:226",
          "status": "Default",
          "x1": 97,
          "x2": 159.9
         },
         {
          "level": 22,
          "sf": "typeinf_nocycle(interp::Core.Compiler.NativeInterpreter, frame::Core.Compiler.InferenceState) at abstractinterpretation.jl:2014",
          "status": "Default",
          "x1": 97,
          "x2": 159.9
         },
         {
          "level": 23,
          "sf": "typeinf_local(interp::Core.Compiler.NativeInterpreter, frame::Core.Compiler.InferenceState) at abstractinterpretation.jl:1900",
          "status": "Default",
          "x1": 97,
          "x2": 146.9
         },
         {
          "level": 24,
          "sf": "abstract_eval_statement(interp::Core.Compiler.NativeInterpreter, e::Any, vtypes::Vector{Any}, sv::Core.Compiler.InferenceState) at abstractinterpretation.jl:1534",
          "status": "Default",
          "x1": 97,
          "x2": 146.9
         },
         {
          "level": 25,
          "sf": "abstract_call(interp::Core.Compiler.NativeInterpreter, fargs::Vector{Any}, argtypes::Vector{Any}, sv::Core.Compiler.InferenceState) at abstractinterpretation.jl:1382",
          "status": "Default",
          "x1": 97,
          "x2": 146.9
         },
         {
          "level": 26,
          "sf": "abstract_call(interp::Core.Compiler.NativeInterpreter, fargs::Vector{Any}, argtypes::Vector{Any}, sv::Core.Compiler.InferenceState, max_methods::Int64) at abstractinterpretation.jl:1397",
          "status": "Default",
          "x1": 97,
          "x2": 146.9
         },
         {
          "level": 27,
          "sf": "abstract_call_known(interp::Core.Compiler.NativeInterpreter, f::Any, fargs::Vector{Any}, argtypes::Vector{Any}, sv::Core.Compiler.InferenceState, max_methods::Int64) at abstractinterpretation.jl:1342",
          "status": "Default",
          "x1": 97,
          "x2": 146.9
         },
         {
          "level": 28,
          "sf": "abstract_call_gf_by_type(interp::Core.Compiler.NativeInterpreter, f::Any, fargs::Vector{Any}, argtypes::Vector{Any}, atype::Any, sv::Core.Compiler.InferenceState, max_methods::Int64) at abstractinterpretation.jl:113",
          "status": "Default",
          "x1": 97,
          "x2": 146.9
         },
         {
          "level": 29,
          "sf": "abstract_call_method_with_const_args(interp::Core.Compiler.NativeInterpreter, result::Core.Compiler.MethodCallResult, f::Any, argtypes::Vector{Any}, match::Core.MethodMatch, sv::Core.Compiler.InferenceState, va_override::Bool) at abstractinterpretation.jl:557",
          "status": "Default",
          "x1": 97,
          "x2": 146.9
         },
         {
          "level": 30,
          "sf": "typeinf(interp::Core.Compiler.NativeInterpreter, frame::Core.Compiler.InferenceState) at typeinfer.jl:209",
          "status": "Default",
          "x1": 97,
          "x2": 146.9
         },
         {
          "level": 31,
          "sf": "_typeinf(interp::Core.Compiler.NativeInterpreter, frame::Core.Compiler.InferenceState) at typeinfer.jl:226",
          "status": "Default",
          "x1": 97,
          "x2": 141.9
         },
         {
          "level": 32,
          "sf": "typeinf_nocycle(interp::Core.Compiler.NativeInterpreter, frame::Core.Compiler.InferenceState) at abstractinterpretation.jl:2014",
          "status": "Default",
          "x1": 97,
          "x2": 141.9
         },
         {
          "level": 33,
          "sf": "typeinf_local(interp::Core.Compiler.NativeInterpreter, frame::Core.Compiler.InferenceState) at abstractinterpretation.jl:1918",
          "status": "Default",
          "x1": 97,
          "x2": 141.9
         },
         {
          "level": 34,
          "sf": "abstract_eval_statement(interp::Core.Compiler.NativeInterpreter, e::Any, vtypes::Vector{Any}, sv::Core.Compiler.InferenceState) at abstractinterpretation.jl:1534",
          "status": "Default",
          "x1": 97,
          "x2": 141.9
         },
         {
          "level": 35,
          "sf": "abstract_call(interp::Core.Compiler.NativeInterpreter, fargs::Vector{Any}, argtypes::Vector{Any}, sv::Core.Compiler.InferenceState) at abstractinterpretation.jl:1382",
          "status": "Default",
          "x1": 97,
          "x2": 141.9
         },
         {
          "level": 36,
          "sf": "abstract_call(interp::Core.Compiler.NativeInterpreter, fargs::Vector{Any}, argtypes::Vector{Any}, sv::Core.Compiler.InferenceState, max_methods::Int64) at abstractinterpretation.jl:1397",
          "status": "Default",
          "x1": 97,
          "x2": 141.9
         },
         {
          "level": 37,
          "sf": "abstract_call_known(interp::Core.Compiler.NativeInterpreter, f::Any, fargs::Vector{Any}, argtypes::Vector{Any}, sv::Core.Compiler.InferenceState, max_methods::Int64) at abstractinterpretation.jl:1341",
          "status": "Default",
          "x1": 97,
          "x2": 98.9
         },
         {
          "level": 38,
          "sf": "argtypes_to_type at typeutils.jl:53 [inlined]",
          "status": "Default",
          "x1": 97,
          "x2": 98.9
         },
         {
          "level": 39,
          "sf": "anymap(f::Core.Compiler.var\"#251#252\", a::Vector{Any}) at utilities.jl:39",
          "status": "Default",
          "x1": 97,
          "x2": 97.9
         },
         {
          "level": 40,
          "sf": "(::Core.Compiler.var\"#251#252\")(a::Any) at typeutils.jl:53",
          "status": "Runtime dispatch",
          "x1": 97,
          "x2": 97.9
         },
         {
          "level": 41,
          "sf": "widenconst(c::Core.Const) at typelattice.jl:286",
          "status": "Default",
          "x1": 97,
          "x2": 97.9
         },
         {
          "level": 37,
          "sf": "abstract_call_known(interp::Core.Compiler.NativeInterpreter, f::Any, fargs::Vector{Any}, argtypes::Vector{Any}, sv::Core.Compiler.InferenceState, max_methods::Int64) at abstractinterpretation.jl:1342",
          "status": "Default",
          "x1": 99,
          "x2": 141.9
         },
         {
          "level": 38,
          "sf": "abstract_call_gf_by_type(interp::Core.Compiler.NativeInterpreter, f::Any, fargs::Vector{Any}, argtypes::Vector{Any}, atype::Any, sv::Core.Compiler.InferenceState, max_methods::Int64) at abstractinterpretation.jl:113",
          "status": "Default",
          "x1": 99,
          "x2": 141.9
         },
         {
          "level": 39,
          "sf": "abstract_call_method_with_const_args(interp::Core.Compiler.NativeInterpreter, result::Core.Compiler.MethodCallResult, f::Any, argtypes::Vector{Any}, match::Core.MethodMatch, sv::Core.Compiler.InferenceState, va_override::Bool) at abstractinterpretation.jl:548",
          "status": "Default",
          "x1": 99,
          "x2": 99.9
         },
         {
          "level": 40,
          "sf": "InferenceResult at types.jl:33 [inlined]",
          "status": "Default",
          "x1": 99,
          "x2": 99.9
         },
         {
          "level": 41,
          "sf": "matching_cache_argtypes(linfo::Core.MethodInstance, given_argtypes::Vector{Any}, va_override::Bool) at inferenceresult.jl:37",
          "status": "Default",
          "x1": 99,
          "x2": 99.9
         },
         {
          "level": 42,
          "sf": "matching_cache_argtypes(linfo::Core.MethodInstance, #unused#::Nothing, va_override::Bool) at inferenceresult.jl:152",
          "status": "Runtime dispatch",
          "x1": 99,
          "x2": 99.9
         },
         {
          "level": 39,
          "sf": "abstract_call_method_with_const_args(interp::Core.Compiler.NativeInterpreter, result::Core.Compiler.MethodCallResult, f::Any, argtypes::Vector{Any}, match::Core.MethodMatch, sv::Core.Compiler.InferenceState, va_override::Bool) at abstractinterpretation.jl:557",
          "status": "Default",
          "x1": 100,
          "x2": 141.9
         },
         {
          "level": 40,
          "sf": "typeinf(interp::Core.Compiler.NativeInterpreter, frame::Core.Compiler.InferenceState) at typeinfer.jl:209",
          "status": "Default",
          "x1": 100,
          "x2": 141.9
         },
         {
          "level": 41,
          "sf": "_typeinf(interp::Core.Compiler.NativeInterpreter, frame::Core.Compiler.InferenceState) at typeinfer.jl:226",
          "status": "Default",
          "x1": 100,
          "x2": 139.9
         },
         {
          "level": 42,
          "sf": "typeinf_nocycle(interp::Core.Compiler.NativeInterpreter, frame::Core.Compiler.InferenceState) at abstractinterpretation.jl:2014",
          "status": "Default",
          "x1": 100,
          "x2": 139.9
         },
         {
          "level": 43,
          "sf": "typeinf_local(interp::Core.Compiler.NativeInterpreter, frame::Core.Compiler.InferenceState) at abstractinterpretation.jl:1900",
          "status": "Default",
          "x1": 100,
          "x2": 101.9
         },
         {
          "level": 44,
          "sf": "abstract_eval_statement(interp::Core.Compiler.NativeInterpreter, e::Any, vtypes::Vector{Any}, sv::Core.Compiler.InferenceState) at abstractinterpretation.jl:1534",
          "status": "Default",
          "x1": 100,
          "x2": 101.9
         },
         {
          "level": 45,
          "sf": "abstract_call(interp::Core.Compiler.NativeInterpreter, fargs::Vector{Any}, argtypes::Vector{Any}, sv::Core.Compiler.InferenceState) at abstractinterpretation.jl:1382",
          "status": "Default",
          "x1": 100,
          "x2": 101.9
         },
         {
          "level": 46,
          "sf": "abstract_call(interp::Core.Compiler.NativeInterpreter, fargs::Vector{Any}, argtypes::Vector{Any}, sv::Core.Compiler.InferenceState, max_methods::Int64) at abstractinterpretation.jl:1397",
          "status": "Default",
          "x1": 100,
          "x2": 101.9
         },
         {
          "level": 47,
          "sf": "abstract_call_known(interp::Core.Compiler.NativeInterpreter, f::Any, fargs::Vector{Any}, argtypes::Vector{Any}, sv::Core.Compiler.InferenceState, max_methods::Int64) at abstractinterpretation.jl:1249",
          "status": "Default",
          "x1": 100,
          "x2": 101.9
         },
         {
          "level": 48,
          "sf": "abstract_apply(interp::Core.Compiler.NativeInterpreter, argtypes::Vector{Any}, sv::Core.Compiler.InferenceState, max_methods::Int64) at abstractinterpretation.jl:987",
          "status": "Default",
          "x1": 100,
          "x2": 101.9
         },
         {
          "level": 49,
          "sf": "abstract_call(interp::Core.Compiler.NativeInterpreter, fargs::Nothing, argtypes::Vector{Any}, sv::Core.Compiler.InferenceState, max_methods::Int64) at abstractinterpretation.jl:1397",
          "status": "Default",
          "x1": 100,
          "x2": 101.9
         },
         {
          "level": 50,
          "sf": "abstract_call_known(interp::Core.Compiler.NativeInterpreter, f::Any, fargs::Nothing, argtypes::Vector{Any}, sv::Core.Compiler.InferenceState, max_methods::Int64) at abstractinterpretation.jl:1342",
          "status": "Default",
          "x1": 100,
          "x2": 101.9
         },
         {
          "level": 51,
          "sf": "abstract_call_gf_by_type(interp::Core.Compiler.NativeInterpreter, f::Any, fargs::Nothing, argtypes::Vector{Any}, atype::Any, sv::Core.Compiler.InferenceState, max_methods::Int64) at abstractinterpretation.jl:113",
          "status": "Default",
          "x1": 100,
          "x2": 101.9
         },
         {
          "level": 52,
          "sf": "abstract_call_method_with_const_args(interp::Core.Compiler.NativeInterpreter, result::Core.Compiler.MethodCallResult, f::Any, argtypes::Vector{Any}, match::Core.MethodMatch, sv::Core.Compiler.InferenceState, va_override::Bool) at abstractinterpretation.jl:557",
          "status": "Default",
          "x1": 100,
          "x2": 101.9
         },
         {
          "level": 53,
          "sf": "typeinf(interp::Core.Compiler.NativeInterpreter, frame::Core.Compiler.InferenceState) at typeinfer.jl:209",
          "status": "Default",
          "x1": 100,
          "x2": 101.9
         },
         {
          "level": 54,
          "sf": "_typeinf(interp::Core.Compiler.NativeInterpreter, frame::Core.Compiler.InferenceState) at typeinfer.jl:255",
          "status": "Default",
          "x1": 100,
          "x2": 101.9
         },
         {
          "level": 55,
          "sf": "optimize at optimize.jl:296 [inlined]",
          "status": "Default",
          "x1": 100,
          "x2": 101.9
         },
         {
          "level": 56,
          "sf": "run_passes(ci::Core.CodeInfo, nargs::Int64, sv::Core.Compiler.OptimizationState) at optimize.jl:307",
          "status": "Runtime dispatch",
          "x1": 100,
          "x2": 101.9
         },
         {
          "level": 57,
          "sf": "ssa_inlining_pass!(ir::Core.Compiler.IRCode, linetable::Vector{Core.LineInfoNode}, state::Core.Compiler.InliningState{Core.Compiler.EdgeTracker, Core.Compiler.WorldView{Core.Compiler.InternalCodeCache}, typeof(Core.Compiler.default_inlining_policy)}, propagate_inbounds::Bool) at inlining.jl:80",
          "status": "Default",
          "x1": 100,
          "x2": 100.9
         },
         {
          "level": 58,
          "sf": "assemble_inline_todo!(ir::Core.Compiler.IRCode, state::Core.Compiler.InliningState{Core.Compiler.EdgeTracker, Core.Compiler.WorldView{Core.Compiler.InternalCodeCache}, typeof(Core.Compiler.default_inlining_policy)}) at inlining.jl:1419",
          "status": "Default",
          "x1": 100,
          "x2": 100.9
         },
         {
          "level": 59,
          "sf": "analyze_single_call!(ir::Core.Compiler.IRCode, todo::Vector{Pair{Int64, Any}}, idx::Int64, stmt::Any, ::Core.Compiler.Signature, infos::Vector{Core.Compiler.MethodMatchInfo}, state::Core.Compiler.InliningState{Core.Compiler.EdgeTracker, Core.Compiler.WorldView{Core.Compiler.InternalCodeCache}, typeof(Core.Compiler.default_inlining_policy)}) at inlining.jl:1238",
          "status": "Default",
          "x1": 100,
          "x2": 100.9
         },
         {
          "level": 60,
          "sf": "analyze_method!(match::Core.MethodMatch, atypes::Vector{Any}, state::Core.Compiler.InliningState{Core.Compiler.EdgeTracker, Core.Compiler.WorldView{Core.Compiler.InternalCodeCache}, typeof(Core.Compiler.default_inlining_policy)}) at inlining.jl:851",
          "status": "Default",
          "x1": 100,
          "x2": 100.9
         },
         {
          "level": 61,
          "sf": "resolve_todo(todo::Core.Compiler.InliningTodo, state::Core.Compiler.InliningState{Core.Compiler.EdgeTracker, Core.Compiler.WorldView{Core.Compiler.InternalCodeCache}, typeof(Core.Compiler.default_inlining_policy)}) at inlining.jl:795",
          "status": "Runtime dispatch",
          "x1": 100,
          "x2": 100.9
         },
         {
          "level": 62,
          "sf": "Core.Compiler.InliningTodo(mi::Core.MethodInstance, src::Vector{UInt8}) at inlining.jl:864",
          "status": "Default",
          "x1": 100,
          "x2": 100.9
         },
         {
          "level": 63,
          "sf": "inflate_ir(ci::Core.CodeInfo, linfo::Core.MethodInstance) at legacy.jl:6",
          "status": "Default",
          "x1": 100,
          "x2": 100.9
         },
         {
          "level": 64,
          "sf": "matching_cache_argtypes(linfo::Core.MethodInstance, #unused#::Nothing, va_override::Bool) at inferenceresult.jl:152",
          "status": "Runtime dispatch",
          "x1": 100,
          "x2": 100.9
         },
         {
          "level": 57,
          "sf": "ssa_inlining_pass!(ir::Core.Compiler.IRCode, linetable::Vector{Core.LineInfoNode}, state::Core.Compiler.InliningState{Core.Compiler.EdgeTracker, Core.Compiler.WorldView{Core.Compiler.InternalCodeCache}, typeof(Core.Compiler.default_inlining_policy)}, propagate_inbounds::Bool) at inlining.jl:83",
          "status": "Default",
          "x1": 101,
          "x2": 101.9
         },
         {
          "level": 58,
          "sf": "batch_inline!(todo::Vector{Pair{Int64, Any}}, ir::Core.Compiler.IRCode, linetable::Vector{Core.LineInfoNode}, propagate_inbounds::Bool) at inlining.jl:594",
          "status": "Default",
          "x1": 101,
          "x2": 101.9
         },
         {
          "level": 59,
          "sf": "ir_inline_item!(compact::Core.Compiler.IncrementalCompact, idx::Int64, argexprs::Vector{Any}, linetable::Vector{Core.LineInfoNode}, item::Core.Compiler.InliningTodo, boundscheck::Symbol, todo_bbs::Vector{Tuple{Int64, Int64}}) at inlining.jl:345",
          "status": "Default",
          "x1": 101,
          "x2": 101.9
         },
         {
          "level": 60,
          "sf": "mk_tuplecall!(compact::Core.Compiler.IncrementalCompact, args::Vector{Any}, line_idx::Int32) at inlining.jl:1425",
          "status": "Runtime dispatch",
          "x1": 101,
          "x2": 101.9
         },
         {
          "level": 61,
          "sf": "Expr(::Any, ::Vararg{Any}) at boot.jl:263",
          "status": "Default",
          "x1": 101,
          "x2": 101.9
         },
         {
          "level": 43,
          "sf": "typeinf_local(interp::Core.Compiler.NativeInterpreter, frame::Core.Compiler.InferenceState) at abstractinterpretation.jl:1918",
          "status": "Default",
          "x1": 102,
          "x2": 139.9
         },
         {
          "level": 44,
          "sf": "abstract_eval_statement(interp::Core.Compiler.NativeInterpreter, e::Any, vtypes::Vector{Any}, sv::Core.Compiler.InferenceState) at abstractinterpretation.jl:1534",
          "status": "Default",
          "x1": 102,
          "x2": 139.9
         },
         {
          "level": 45,
          "sf": "abstract_call(interp::Core.Compiler.NativeInterpreter, fargs::Vector{Any}, argtypes::Vector{Any}, sv::Core.Compiler.InferenceState) at abstractinterpretation.jl:1382",
          "status": "Default",
          "x1": 102,
          "x2": 139.9
         },
         {
          "level": 46,
          "sf": "abstract_call(interp::Core.Compiler.NativeInterpreter, fargs::Vector{Any}, argtypes::Vector{Any}, sv::Core.Compiler.InferenceState, max_methods::Int64) at abstractinterpretation.jl:1397",
          "status": "Default",
          "x1": 102,
          "x2": 139.9
         },
         {
          "level": 47,
          "sf": "abstract_call_known(interp::Core.Compiler.NativeInterpreter, f::Any, fargs::Vector{Any}, argtypes::Vector{Any}, sv::Core.Compiler.InferenceState, max_methods::Int64) at abstractinterpretation.jl:1255",
          "status": "Default",
          "x1": 102,
          "x2": 102.9
         },
         {
          "level": 48,
          "sf": "abstract_call_builtin(interp::Core.Compiler.NativeInterpreter, f::Core.Builtin, fargs::Vector{Any}, argtypes::Vector{Any}, sv::Core.Compiler.InferenceState, max_methods::Int64) at abstractinterpretation.jl:1078",
          "status": "Default",
          "x1": 102,
          "x2": 102.9
         },
         {
          "level": 49,
          "sf": "builtin_tfunction(interp::Core.Compiler.AbstractInterpreter, f::Any, argtypes::Vector{Any}, sv::Union{Nothing, Core.Compiler.InferenceState}) at tfuncs.jl:1646",
          "status": "Runtime dispatch",
          "x1": 102,
          "x2": 102.9
         },
         {
          "level": 50,
          "sf": "getfield_tfunc(s00::Any, name::Any) at tfuncs.jl:829",
          "status": "Default",
          "x1": 102,
          "x2": 102.9
         },
         {
          "level": 47,
          "sf": "abstract_call_known(interp::Core.Compiler.NativeInterpreter, f::Any, fargs::Vector{Any}, argtypes::Vector{Any}, sv::Core.Compiler.InferenceState, max_methods::Int64) at abstractinterpretation.jl:1342",
          "status": "Default",
          "x1": 103,
          "x2": 139.9
         },
         {
          "level": 48,
          "sf": "abstract_call_gf_by_type(interp::Core.Compiler.NativeInterpreter, f::Any, fargs::Vector{Any}, argtypes::Vector{Any}, atype::Any, sv::Core.Compiler.InferenceState, max_methods::Int64) at abstractinterpretation.jl:113",
          "status": "Default",
          "x1": 103,
          "x2": 138.9
         },
         {
          "level": 49,
          "sf": "abstract_call_method_with_const_args(interp::Core.Compiler.NativeInterpreter, result::Core.Compiler.MethodCallResult, f::Any, argtypes::Vector{Any}, match::Core.MethodMatch, sv::Core.Compiler.InferenceState, va_override::Bool) at abstractinterpretation.jl:557",
          "status": "Default",
          "x1": 103,
          "x2": 138.9
         },
         {
          "level": 50,
          "sf": "typeinf(interp::Core.Compiler.NativeInterpreter, frame::Core.Compiler.InferenceState) at typeinfer.jl:209",
          "status": "Default",
          "x1": 103,
          "x2": 138.9
         },
         {
          "level": 51,
          "sf": "_typeinf(interp::Core.Compiler.NativeInterpreter, frame::Core.Compiler.InferenceState) at typeinfer.jl:226",
          "status": "Default",
          "x1": 103,
          "x2": 136.9
         },
         {
          "level": 52,
          "sf": "typeinf_nocycle(interp::Core.Compiler.NativeInterpreter, frame::Core.Compiler.InferenceState) at abstractinterpretation.jl:2014",
          "status": "Default",
          "x1": 103,
          "x2": 136.9
         },
         {
          "level": 53,
          "sf": "typeinf_local(interp::Core.Compiler.NativeInterpreter, frame::Core.Compiler.InferenceState) at abstractinterpretation.jl:1918",
          "status": "Default",
          "x1": 103,
          "x2": 136.9
         },
         {
          "level": 54,
          "sf": "abstract_eval_statement(interp::Core.Compiler.NativeInterpreter, e::Any, vtypes::Vector{Any}, sv::Core.Compiler.InferenceState) at abstractinterpretation.jl:1534",
          "status": "Default",
          "x1": 103,
          "x2": 136.9
         },
         {
          "level": 55,
          "sf": "abstract_call(interp::Core.Compiler.NativeInterpreter, fargs::Vector{Any}, argtypes::Vector{Any}, sv::Core.Compiler.InferenceState) at abstractinterpretation.jl:1382",
          "status": "Default",
          "x1": 103,
          "x2": 136.9
         },
         {
          "level": 56,
          "sf": "abstract_call(interp::Core.Compiler.NativeInterpreter, fargs::Vector{Any}, argtypes::Vector{Any}, sv::Core.Compiler.InferenceState, max_methods::Int64) at abstractinterpretation.jl:1397",
          "status": "Default",
          "x1": 103,
          "x2": 136.9
         },
         {
          "level": 57,
          "sf": "abstract_call_known(interp::Core.Compiler.NativeInterpreter, f::Any, fargs::Vector{Any}, argtypes::Vector{Any}, sv::Core.Compiler.InferenceState, max_methods::Int64) at abstractinterpretation.jl:1341",
          "status": "Default",
          "x1": 103,
          "x2": 103.9
         },
         {
          "level": 58,
          "sf": "argtypes_to_type at typeutils.jl:53 [inlined]",
          "status": "Default",
          "x1": 103,
          "x2": 103.9
         },
         {
          "level": 59,
          "sf": "anymap(f::Core.Compiler.var\"#251#252\", a::Vector{Any}) at utilities.jl:39",
          "status": "Default",
          "x1": 103,
          "x2": 103.9
         },
         {
          "level": 60,
          "sf": "(::Core.Compiler.var\"#251#252\")(a::Any) at typeutils.jl:53",
          "status": "Runtime dispatch",
          "x1": 103,
          "x2": 103.9
         },
         {
          "level": 61,
          "sf": "widenconst(c::Core.Const) at typelattice.jl:286",
          "status": "Default",
          "x1": 103,
          "x2": 103.9
         },
         {
          "level": 57,
          "sf": "abstract_call_known(interp::Core.Compiler.NativeInterpreter, f::Any, fargs::Vector{Any}, argtypes::Vector{Any}, sv::Core.Compiler.InferenceState, max_methods::Int64) at abstractinterpretation.jl:1342",
          "status": "Default",
          "x1": 104,
          "x2": 136.9
         },
         {
          "level": 58,
          "sf": "abstract_call_gf_by_type(interp::Core.Compiler.NativeInterpreter, f::Any, fargs::Vector{Any}, argtypes::Vector{Any}, atype::Any, sv::Core.Compiler.InferenceState, max_methods::Int64) at abstractinterpretation.jl:113",
          "status": "Default",
          "x1": 104,
          "x2": 136.9
         },
         {
          "level": 59,
          "sf": "abstract_call_method_with_const_args(interp::Core.Compiler.NativeInterpreter, result::Core.Compiler.MethodCallResult, f::Any, argtypes::Vector{Any}, match::Core.MethodMatch, sv::Core.Compiler.InferenceState, va_override::Bool) at abstractinterpretation.jl:557",
          "status": "Default",
          "x1": 104,
          "x2": 136.9
         },
         {
          "level": 60,
          "sf": "typeinf(interp::Core.Compiler.NativeInterpreter, frame::Core.Compiler.InferenceState) at typeinfer.jl:209",
          "status": "Default",
          "x1": 104,
          "x2": 136.9
         },
         {
          "level": 61,
          "sf": "_typeinf(interp::Core.Compiler.NativeInterpreter, frame::Core.Compiler.InferenceState) at typeinfer.jl:226",
          "status": "Default",
          "x1": 104,
          "x2": 126.9
         },
         {
          "level": 62,
          "sf": "typeinf_nocycle(interp::Core.Compiler.NativeInterpreter, frame::Core.Compiler.InferenceState) at abstractinterpretation.jl:2014",
          "status": "Default",
          "x1": 104,
          "x2": 126.9
         },
         {
          "level": 63,
          "sf": "typeinf_local(interp::Core.Compiler.NativeInterpreter, frame::Core.Compiler.InferenceState) at abstractinterpretation.jl:1900",
          "status": "Default",
          "x1": 104,
          "x2": 113.9
         },
         {
          "level": 64,
          "sf": "abstract_eval_statement(interp::Core.Compiler.NativeInterpreter, e::Any, vtypes::Vector{Any}, sv::Core.Compiler.InferenceState) at abstractinterpretation.jl:1534",
          "status": "Default",
          "x1": 104,
          "x2": 113.9
         },
         {
          "level": 65,
          "sf": "abstract_call(interp::Core.Compiler.NativeInterpreter, fargs::Vector{Any}, argtypes::Vector{Any}, sv::Core.Compiler.InferenceState) at abstractinterpretation.jl:1382",
          "status": "Default",
          "x1": 104,
          "x2": 113.9
         },
         {
          "level": 66,
          "sf": "abstract_call(interp::Core.Compiler.NativeInterpreter, fargs::Vector{Any}, argtypes::Vector{Any}, sv::Core.Compiler.InferenceState, max_methods::Int64) at abstractinterpretation.jl:1397",
          "status": "Default",
          "x1": 104,
          "x2": 113.9
         },
         {
          "level": 67,
          "sf": "abstract_call_known(interp::Core.Compiler.NativeInterpreter, f::Any, fargs::Vector{Any}, argtypes::Vector{Any}, sv::Core.Compiler.InferenceState, max_methods::Int64) at abstractinterpretation.jl:1342",
          "status": "Default",
          "x1": 104,
          "x2": 113.9
         },
         {
          "level": 68,
          "sf": "abstract_call_gf_by_type(interp::Core.Compiler.NativeInterpreter, f::Any, fargs::Vector{Any}, argtypes::Vector{Any}, atype::Any, sv::Core.Compiler.InferenceState, max_methods::Int64) at abstractinterpretation.jl:113",
          "status": "Default",
          "x1": 104,
          "x2": 113.9
         },
         {
          "level": 69,
          "sf": "abstract_call_method_with_const_args(interp::Core.Compiler.NativeInterpreter, result::Core.Compiler.MethodCallResult, f::Any, argtypes::Vector{Any}, match::Core.MethodMatch, sv::Core.Compiler.InferenceState, va_override::Bool) at abstractinterpretation.jl:557",
          "status": "Default",
          "x1": 104,
          "x2": 113.9
         },
         {
          "level": 70,
          "sf": "typeinf(interp::Core.Compiler.NativeInterpreter, frame::Core.Compiler.InferenceState) at typeinfer.jl:209",
          "status": "Default",
          "x1": 104,
          "x2": 113.9
         },
         {
          "level": 71,
          "sf": "_typeinf(interp::Core.Compiler.NativeInterpreter, frame::Core.Compiler.InferenceState) at typeinfer.jl:226",
          "status": "Default",
          "x1": 104,
          "x2": 111.9
         },
         {
          "level": 72,
          "sf": "typeinf_nocycle(interp::Core.Compiler.NativeInterpreter, frame::Core.Compiler.InferenceState) at abstractinterpretation.jl:2014",
          "status": "Default",
          "x1": 104,
          "x2": 111.9
         },
         {
          "level": 73,
          "sf": "typeinf_local(interp::Core.Compiler.NativeInterpreter, frame::Core.Compiler.InferenceState) at abstractinterpretation.jl:1918",
          "status": "Default",
          "x1": 104,
          "x2": 111.9
         },
         {
          "level": 74,
          "sf": "abstract_eval_statement(interp::Core.Compiler.NativeInterpreter, e::Any, vtypes::Vector{Any}, sv::Core.Compiler.InferenceState) at abstractinterpretation.jl:1534",
          "status": "Default",
          "x1": 104,
          "x2": 111.9
         },
         {
          "level": 75,
          "sf": "abstract_call(interp::Core.Compiler.NativeInterpreter, fargs::Vector{Any}, argtypes::Vector{Any}, sv::Core.Compiler.InferenceState) at abstractinterpretation.jl:1382",
          "status": "Default",
          "x1": 104,
          "x2": 111.9
         },
         {
          "level": 76,
          "sf": "abstract_call(interp::Core.Compiler.NativeInterpreter, fargs::Vector{Any}, argtypes::Vector{Any}, sv::Core.Compiler.InferenceState, max_methods::Int64) at abstractinterpretation.jl:1397",
          "status": "Default",
          "x1": 104,
          "x2": 111.9
         },
         {
          "level": 77,
          "sf": "abstract_call_known(interp::Core.Compiler.NativeInterpreter, f::Any, fargs::Vector{Any}, argtypes::Vector{Any}, sv::Core.Compiler.InferenceState, max_methods::Int64) at abstractinterpretation.jl:1249",
          "status": "Default",
          "x1": 104,
          "x2": 104.9
         },
         {
          "level": 78,
          "sf": "abstract_apply(interp::Core.Compiler.NativeInterpreter, argtypes::Vector{Any}, sv::Core.Compiler.InferenceState, max_methods::Int64) at abstractinterpretation.jl:987",
          "status": "Default",
          "x1": 104,
          "x2": 104.9
         },
         {
          "level": 79,
          "sf": "abstract_call(interp::Core.Compiler.NativeInterpreter, fargs::Nothing, argtypes::Vector{Any}, sv::Core.Compiler.InferenceState, max_methods::Int64) at abstractinterpretation.jl:1397",
          "status": "Default",
          "x1": 104,
          "x2": 104.9
         },
         {
          "level": 80,
          "sf": "abstract_call_known(interp::Core.Compiler.NativeInterpreter, f::Any, fargs::Nothing, argtypes::Vector{Any}, sv::Core.Compiler.InferenceState, max_methods::Int64) at abstractinterpretation.jl:1342",
          "status": "Default",
          "x1": 104,
          "x2": 104.9
         },
         {
          "level": 81,
          "sf": "abstract_call_gf_by_type(interp::Core.Compiler.NativeInterpreter, f::Any, fargs::Nothing, argtypes::Vector{Any}, atype::Any, sv::Core.Compiler.InferenceState, max_methods::Int64) at abstractinterpretation.jl:113",
          "status": "Default",
          "x1": 104,
          "x2": 104.9
         },
         {
          "level": 82,
          "sf": "abstract_call_method_with_const_args(interp::Core.Compiler.NativeInterpreter, result::Core.Compiler.MethodCallResult, f::Any, argtypes::Vector{Any}, match::Core.MethodMatch, sv::Core.Compiler.InferenceState, va_override::Bool) at abstractinterpretation.jl:557",
          "status": "Default",
          "x1": 104,
          "x2": 104.9
         },
         {
          "level": 83,
          "sf": "typeinf(interp::Core.Compiler.NativeInterpreter, frame::Core.Compiler.InferenceState) at typeinfer.jl:209",
          "status": "Default",
          "x1": 104,
          "x2": 104.9
         },
         {
          "level": 84,
          "sf": "_typeinf(interp::Core.Compiler.NativeInterpreter, frame::Core.Compiler.InferenceState) at typeinfer.jl:255",
          "status": "Default",
          "x1": 104,
          "x2": 104.9
         },
         {
          "level": 85,
          "sf": "optimize at optimize.jl:296 [inlined]",
          "status": "Default",
          "x1": 104,
          "x2": 104.9
         },
         {
          "level": 86,
          "sf": "run_passes(ci::Core.CodeInfo, nargs::Int64, sv::Core.Compiler.OptimizationState) at optimize.jl:303",
          "status": "Default",
          "x1": 104,
          "x2": 104.9
         },
         {
          "level": 87,
          "sf": "slot2reg at optimize.jl:418 [inlined]",
          "status": "Default",
          "x1": 104,
          "x2": 104.9
         },
         {
          "level": 88,
          "sf": "scan_slot_def_use(nargs::Int64, ci::Core.CodeInfo, code::Vector{Any}) at slot2ssa.jl:45",
          "status": "Default",
          "x1": 104,
          "x2": 104.9
         },
         {
          "level": 89,
          "sf": "scan_entry!(result::Vector{Core.Compiler.SlotInfo}, idx::Int64, stmt::Any) at slot2ssa.jl:30",
          "status": "Default",
          "x1": 104,
          "x2": 104.9
         },
         {
          "level": 90,
          "sf": "push! at array.jl:995 [inlined]",
          "status": "Default",
          "x1": 104,
          "x2": 104.9
         },
         {
          "level": 91,
          "sf": "_growend! at array.jl:948 [inlined]",
          "status": "Garbage collection",
          "x1": 104,
          "x2": 104.9
         },
         {
          "level": 77,
          "sf": "abstract_call_known(interp::Core.Compiler.NativeInterpreter, f::Any, fargs::Vector{Any}, argtypes::Vector{Any}, sv::Core.Compiler.InferenceState, max_methods::Int64) at abstractinterpretation.jl:1342",
          "status": "Default",
          "x1": 105,
          "x2": 111.9
         },
         {
          "level": 78,
          "sf": "abstract_call_gf_by_type(interp::Core.Compiler.NativeInterpreter, f::Any, fargs::Vector{Any}, argtypes::Vector{Any}, atype::Any, sv::Core.Compiler.InferenceState, max_methods::Int64) at abstractinterpretation.jl:105",
          "status": "Default",
          "x1": 105,
          "x2": 105.9
         },
         {
          "level": 79,
          "sf": "abstract_call_method(interp::Core.Compiler.NativeInterpreter, method::Method, sig::Any, sparams::Core.SimpleVector, hardlimit::Bool, sv::Core.Compiler.InferenceState) at abstractinterpretation.jl:504",
          "status": "Default",
          "x1": 105,
          "x2": 105.9
         },
         {
          "level": 80,
          "sf": "typeinf_edge at typeinfer.jl:781 [inlined]",
          "status": "Default",
          "x1": 105,
          "x2": 105.9
         },
         {
          "level": 81,
          "sf": "get at cicache.jl:56 [inlined]",
          "status": "Default",
          "x1": 105,
          "x2": 105.9
         },
         {
          "level": 78,
          "sf": "abstract_call_gf_by_type(interp::Core.Compiler.NativeInterpreter, f::Any, fargs::Vector{Any}, argtypes::Vector{Any}, atype::Any, sv::Core.Compiler.InferenceState, max_methods::Int64) at abstractinterpretation.jl:113",
          "status": "Default",
          "x1": 106,
          "x2": 111.9
         },
         {
          "level": 79,
          "sf": "abstract_call_method_with_const_args(interp::Core.Compiler.NativeInterpreter, result::Core.Compiler.MethodCallResult, f::Any, argtypes::Vector{Any}, match::Core.MethodMatch, sv::Core.Compiler.InferenceState, va_override::Bool) at abstractinterpretation.jl:557",
          "status": "Default",
          "x1": 106,
          "x2": 111.9
         },
         {
          "level": 80,
          "sf": "typeinf(interp::Core.Compiler.NativeInterpreter, frame::Core.Compiler.InferenceState) at typeinfer.jl:209",
          "status": "Default",
          "x1": 106,
          "x2": 111.9
         },
         {
          "level": 81,
          "sf": "_typeinf(interp::Core.Compiler.NativeInterpreter, frame::Core.Compiler.InferenceState) at typeinfer.jl:226",
          "status": "Default",
          "x1": 106,
          "x2": 108.9
         },
         {
          "level": 82,
          "sf": "typeinf_nocycle(interp::Core.Compiler.NativeInterpreter, frame::Core.Compiler.InferenceState) at abstractinterpretation.jl:2014",
          "status": "Default",
          "x1": 106,
          "x2": 108.9
         },
         {
          "level": 83,
          "sf": "typeinf_local(interp::Core.Compiler.NativeInterpreter, frame::Core.Compiler.InferenceState) at abstractinterpretation.jl:1918",
          "status": "Default",
          "x1": 106,
          "x2": 108.9
         },
         {
          "level": 84,
          "sf": "abstract_eval_statement(interp::Core.Compiler.NativeInterpreter, e::Any, vtypes::Vector{Any}, sv::Core.Compiler.InferenceState) at abstractinterpretation.jl:1534",
          "status": "Default",
          "x1": 106,
          "x2": 108.9
         },
         {
          "level": 85,
          "sf": "abstract_call(interp::Core.Compiler.NativeInterpreter, fargs::Vector{Any}, argtypes::Vector{Any}, sv::Core.Compiler.InferenceState) at abstractinterpretation.jl:1382",
          "status": "Default",
          "x1": 106,
          "x2": 108.9
         },
         {
          "level": 86,
          "sf": "abstract_call(interp::Core.Compiler.NativeInterpreter, fargs::Vector{Any}, argtypes::Vector{Any}, sv::Core.Compiler.InferenceState, max_methods::Int64) at abstractinterpretation.jl:1397",
          "status": "Default",
          "x1": 106,
          "x2": 108.9
         },
         {
          "level": 87,
          "sf": "abstract_call_known(interp::Core.Compiler.NativeInterpreter, f::Any, fargs::Vector{Any}, argtypes::Vector{Any}, sv::Core.Compiler.InferenceState, max_methods::Int64) at abstractinterpretation.jl:1341",
          "status": "Default",
          "x1": 106,
          "x2": 106.9
         },
         {
          "level": 88,
          "sf": "argtypes_to_type at typeutils.jl:53 [inlined]",
          "status": "Runtime dispatch",
          "x1": 106,
          "x2": 106.9
         },
         {
          "level": 87,
          "sf": "abstract_call_known(interp::Core.Compiler.NativeInterpreter, f::Any, fargs::Vector{Any}, argtypes::Vector{Any}, sv::Core.Compiler.InferenceState, max_methods::Int64) at abstractinterpretation.jl:1342",
          "status": "Default",
          "x1": 107,
          "x2": 108.9
         },
         {
          "level": 88,
          "sf": "abstract_call_gf_by_type(interp::Core.Compiler.NativeInterpreter, f::Any, fargs::Vector{Any}, argtypes::Vector{Any}, atype::Any, sv::Core.Compiler.InferenceState, max_methods::Int64) at abstractinterpretation.jl:113",
          "status": "Default",
          "x1": 107,
          "x2": 108.9
         },
         {
          "level": 89,
          "sf": "abstract_call_method_with_const_args(interp::Core.Compiler.NativeInterpreter, result::Core.Compiler.MethodCallResult, f::Any, argtypes::Vector{Any}, match::Core.MethodMatch, sv::Core.Compiler.InferenceState, va_override::Bool) at abstractinterpretation.jl:532",
          "status": "Default",
          "x1": 107,
          "x2": 107.9
         },
         {
          "level": 90,
          "sf": "cache_lookup(linfo::Core.MethodInstance, given_argtypes::Vector{Any}, cache::Vector{Core.Compiler.InferenceResult}) at inferenceresult.jl:162",
          "status": "Default",
          "x1": 107,
          "x2": 107.9
         },
         {
          "level": 91,
          "sf": "iterate at array.jl:835 [inlined]",
          "status": "Default",
          "x1": 107,
          "x2": 107.9
         },
         {
          "level": 92,
          "sf": "iterate at array.jl:835 [inlined]",
          "status": "Default",
          "x1": 107,
          "x2": 107.9
         },
         {
          "level": 93,
          "sf": "getindex at array.jl:861 [inlined]",
          "status": "Default",
          "x1": 107,
          "x2": 107.9
         },
         {
          "level": 89,
          "sf": "abstract_call_method_with_const_args(interp::Core.Compiler.NativeInterpreter, result::Core.Compiler.MethodCallResult, f::Any, argtypes::Vector{Any}, match::Core.MethodMatch, sv::Core.Compiler.InferenceState, va_override::Bool) at abstractinterpretation.jl:557",
          "status": "Default",
          "x1": 108,
          "x2": 108.9
         },
         {
          "level": 90,
          "sf": "typeinf(interp::Core.Compiler.NativeInterpreter, frame::Core.Compiler.InferenceState) at typeinfer.jl:209",
          "status": "Default",
          "x1": 108,
          "x2": 108.9
         },
         {
          "level": 91,
          "sf": "_typeinf(interp::Core.Compiler.NativeInterpreter, frame::Core.Compiler.InferenceState) at typeinfer.jl:255",
          "status": "Default",
          "x1": 108,
          "x2": 108.9
         },
         {
          "level": 92,
          "sf": "optimize at optimize.jl:296 [inlined]",
          "status": "Default",
          "x1": 108,
          "x2": 108.9
         },
         {
          "level": 93,
          "sf": "run_passes(ci::Core.CodeInfo, nargs::Int64, sv::Core.Compiler.OptimizationState) at optimize.jl:307",
          "status": "Runtime dispatch",
          "x1": 108,
          "x2": 108.9
         },
         {
          "level": 94,
          "sf": "ssa_inlining_pass!(ir::Core.Compiler.IRCode, linetable::Vector{Core.LineInfoNode}, state::Core.Compiler.InliningState{Core.Compiler.EdgeTracker, Core.Compiler.WorldView{Core.Compiler.InternalCodeCache}, typeof(Core.Compiler.default_inlining_policy)}, propagate_inbounds::Bool) at inlining.jl:80",
          "status": "Default",
          "x1": 108,
          "x2": 108.9
         },
         {
          "level": 95,
          "sf": "assemble_inline_todo!(ir::Core.Compiler.IRCode, state::Core.Compiler.InliningState{Core.Compiler.EdgeTracker, Core.Compiler.WorldView{Core.Compiler.InternalCodeCache}, typeof(Core.Compiler.default_inlining_policy)}) at inlining.jl:1419",
          "status": "Default",
          "x1": 108,
          "x2": 108.9
         },
         {
          "level": 96,
          "sf": "analyze_single_call!(ir::Core.Compiler.IRCode, todo::Vector{Pair{Int64, Any}}, idx::Int64, stmt::Any, ::Core.Compiler.Signature, infos::Vector{Core.Compiler.MethodMatchInfo}, state::Core.Compiler.InliningState{Core.Compiler.EdgeTracker, Core.Compiler.WorldView{Core.Compiler.InternalCodeCache}, typeof(Core.Compiler.default_inlining_policy)}) at inlining.jl:1238",
          "status": "Default",
          "x1": 108,
          "x2": 108.9
         },
         {
          "level": 97,
          "sf": "analyze_method!(match::Core.MethodMatch, atypes::Vector{Any}, state::Core.Compiler.InliningState{Core.Compiler.EdgeTracker, Core.Compiler.WorldView{Core.Compiler.InternalCodeCache}, typeof(Core.Compiler.default_inlining_policy)}) at inlining.jl:851",
          "status": "Default",
          "x1": 108,
          "x2": 108.9
         },
         {
          "level": 98,
          "sf": "resolve_todo(todo::Core.Compiler.InliningTodo, state::Core.Compiler.InliningState{Core.Compiler.EdgeTracker, Core.Compiler.WorldView{Core.Compiler.InternalCodeCache}, typeof(Core.Compiler.default_inlining_policy)}) at inlining.jl:795",
          "status": "Runtime dispatch",
          "x1": 108,
          "x2": 108.9
         },
         {
          "level": 81,
          "sf": "_typeinf(interp::Core.Compiler.NativeInterpreter, frame::Core.Compiler.InferenceState) at typeinfer.jl:239",
          "status": "Default",
          "x1": 109,
          "x2": 109.9
         },
         {
          "level": 82,
          "sf": "finish(me::Core.Compiler.InferenceState, interp::Core.Compiler.NativeInterpreter) at typeinfer.jl:475",
          "status": "Default",
          "x1": 109,
          "x2": 109.9
         },
         {
          "level": 83,
          "sf": "type_annotate!(sv::Core.Compiler.InferenceState, run_optimizer::Bool) at typeinfer.jl:658",
          "status": "Default",
          "x1": 109,
          "x2": 109.9
         },
         {
          "level": 84,
          "sf": "annotate_slot_load!(e::Expr, vtypes::Vector{Any}, sv::Core.Compiler.InferenceState, undefs::Vector{Bool}) at typeinfer.jl:542",
          "status": "Default",
          "x1": 109,
          "x2": 109.9
         },
         {
          "level": 81,
          "sf": "_typeinf(interp::Core.Compiler.NativeInterpreter, frame::Core.Compiler.InferenceState) at typeinfer.jl:255",
          "status": "Default",
          "x1": 110,
          "x2": 111.9
         },
         {
          "level": 82,
          "sf": "optimize at optimize.jl:296 [inlined]",
          "status": "Default",
          "x1": 110,
          "x2": 111.9
         },
         {
          "level": 83,
          "sf": "run_passes(ci::Core.CodeInfo, nargs::Int64, sv::Core.Compiler.OptimizationState) at optimize.jl:302",
          "status": "Default",
          "x1": 110,
          "x2": 110.9
         },
         {
          "level": 84,
          "sf": "copy_exprargs(x::Vector{Any}) at expr.jl:64",
          "status": "Default",
          "x1": 110,
          "x2": 110.9
         },
         {
          "level": 85,
          "sf": "copy_exprs(x::Any) at expr.jl:43",
          "status": "Default",
          "x1": 110,
          "x2": 110.9
         },
         {
          "level": 83,
          "sf": "run_passes(ci::Core.CodeInfo, nargs::Int64, sv::Core.Compiler.OptimizationState) at optimize.jl:314",
          "status": "Default",
          "x1": 111,
          "x2": 111.9
         },
         {
          "level": 84,
          "sf": "adce_pass!(ir::Core.Compiler.IRCode) at passes.jl:896",
          "status": "Default",
          "x1": 111,
          "x2": 111.9
         },
         {
          "level": 85,
          "sf": "fill at array.jl:471 [inlined]",
          "status": "Default",
          "x1": 111,
          "x2": 111.9
         },
         {
          "level": 86,
          "sf": "fill at array.jl:473 [inlined]",
          "status": "Default",
          "x1": 111,
          "x2": 111.9
         },
         {
          "level": 87,
          "sf": "fill! at array.jl:353 [inlined]",
          "status": "Default",
          "x1": 111,
          "x2": 111.9
         },
         {
          "level": 71,
          "sf": "_typeinf(interp::Core.Compiler.NativeInterpreter, frame::Core.Compiler.InferenceState) at typeinfer.jl:255",
          "status": "Default",
          "x1": 112,
          "x2": 113.9
         },
         {
          "level": 72,
          "sf": "optimize at optimize.jl:296 [inlined]",
          "status": "Default",
          "x1": 112,
          "x2": 113.9
         },
         {
          "level": 73,
          "sf": "run_passes(ci::Core.CodeInfo, nargs::Int64, sv::Core.Compiler.OptimizationState) at optimize.jl:311",
          "status": "Default",
          "x1": 112,
          "x2": 113.9
         },
         {
          "level": 74,
          "sf": "getfield_elim_pass!(ir::Core.Compiler.IRCode) at passes.jl:727",
          "status": "Default",
          "x1": 112,
          "x2": 113.9
         },
         {
          "level": 75,
          "sf": "iterate(compact::Core.Compiler.IncrementalCompact, ::Tuple{Int64, Int64}) at ir.jl:1294",
          "status": "Default",
          "x1": 112,
          "x2": 113.9
         },
         {
          "level": 76,
          "sf": "process_node!(compact::Core.Compiler.IncrementalCompact, result_idx::Int64, inst::Core.Compiler.Instruction, idx::Int64, processed_idx::Int64, active_bb::Int64, do_rename_ssa::Bool) at ir.jl:986",
          "status": "Default",
          "x1": 112,
          "x2": 112.9
         },
         {
          "level": 77,
          "sf": "getindex at ir.jl:238 [inlined]",
          "status": "Default",
          "x1": 112,
          "x2": 112.9
         },
         {
          "level": 76,
          "sf": "process_node!(compact::Core.Compiler.IncrementalCompact, result_idx::Int64, inst::Core.Compiler.Instruction, idx::Int64, processed_idx::Int64, active_bb::Int64, do_rename_ssa::Bool) at ir.jl:1021",
          "status": "Default",
          "x1": 113,
          "x2": 113.9
         },
         {
          "level": 77,
          "sf": "renumber_ssa2!(stmt::Any, ssanums::Vector{Any}, used_ssas::Vector{Int64}, late_fixup::Vector{Int64}, result_idx::Int64, do_rename_ssa::Bool) at ir.jl:912",
          "status": "Default",
          "x1": 113,
          "x2": 113.9
         },
         {
          "level": 78,
          "sf": "setindex!(x::Core.Compiler.UseRef, v::Any) at ir.jl:430",
          "status": "Default",
          "x1": 113,
          "x2": 113.9
         },
         {
          "level": 79,
          "sf": "setindex! at essentials.jl:479 [inlined]",
          "status": "Default",
          "x1": 113,
          "x2": 113.9
         },
         {
          "level": 63,
          "sf": "typeinf_local(interp::Core.Compiler.NativeInterpreter, frame::Core.Compiler.InferenceState) at abstractinterpretation.jl:1918",
          "status": "Default",
          "x1": 114,
          "x2": 125.9
         },
         {
          "level": 64,
          "sf": "abstract_eval_statement(interp::Core.Compiler.NativeInterpreter, e::Any, vtypes::Vector{Any}, sv::Core.Compiler.InferenceState) at abstractinterpretation.jl:1534",
          "status": "Default",
          "x1": 114,
          "x2": 125.9
         },
         {
          "level": 65,
          "sf": "abstract_call(interp::Core.Compiler.NativeInterpreter, fargs::Vector{Any}, argtypes::Vector{Any}, sv::Core.Compiler.InferenceState) at abstractinterpretation.jl:1382",
          "status": "Default",
          "x1": 114,
          "x2": 125.9
         },
         {
          "level": 66,
          "sf": "abstract_call(interp::Core.Compiler.NativeInterpreter, fargs::Vector{Any}, argtypes::Vector{Any}, sv::Core.Compiler.InferenceState, max_methods::Int64) at abstractinterpretation.jl:1388",
          "status": "Default",
          "x1": 114,
          "x2": 114.9
         },
         {
          "level": 66,
          "sf": "abstract_call(interp::Core.Compiler.NativeInterpreter, fargs::Vector{Any}, argtypes::Vector{Any}, sv::Core.Compiler.InferenceState, max_methods::Int64) at abstractinterpretation.jl:1397",
          "status": "Default",
          "x1": 115,
          "x2": 125.9
         },
         {
          "level": 67,
          "sf": "abstract_call_known(interp::Core.Compiler.NativeInterpreter, f::Any, fargs::Vector{Any}, argtypes::Vector{Any}, sv::Core.Compiler.InferenceState, max_methods::Int64) at abstractinterpretation.jl:1342",
          "status": "Default",
          "x1": 115,
          "x2": 125.9
         },
         {
          "level": 68,
          "sf": "abstract_call_gf_by_type(interp::Core.Compiler.NativeInterpreter, f::Any, fargs::Vector{Any}, argtypes::Vector{Any}, atype::Any, sv::Core.Compiler.InferenceState, max_methods::Int64) at abstractinterpretation.jl:113",
          "status": "Default",
          "x1": 115,
          "x2": 124.9
         },
         {
          "level": 69,
          "sf": "abstract_call_method_with_const_args(interp::Core.Compiler.NativeInterpreter, result::Core.Compiler.MethodCallResult, f::Any, argtypes::Vector{Any}, match::Core.MethodMatch, sv::Core.Compiler.InferenceState, va_override::Bool) at abstractinterpretation.jl:557",
          "status": "Default",
          "x1": 115,
          "x2": 124.9
         },
         {
          "level": 70,
          "sf": "typeinf(interp::Core.Compiler.NativeInterpreter, frame::Core.Compiler.InferenceState) at typeinfer.jl:209",
          "status": "Default",
          "x1": 115,
          "x2": 124.9
         },
         {
          "level": 71,
          "sf": "_typeinf(interp::Core.Compiler.NativeInterpreter, frame::Core.Compiler.InferenceState) at typeinfer.jl:226",
          "status": "Default",
          "x1": 115,
          "x2": 121.9
         },
         {
          "level": 72,
          "sf": "typeinf_nocycle(interp::Core.Compiler.NativeInterpreter, frame::Core.Compiler.InferenceState) at abstractinterpretation.jl:2014",
          "status": "Default",
          "x1": 115,
          "x2": 121.9
         },
         {
          "level": 73,
          "sf": "typeinf_local(interp::Core.Compiler.NativeInterpreter, frame::Core.Compiler.InferenceState) at abstractinterpretation.jl:1900",
          "status": "Default",
          "x1": 115,
          "x2": 121.9
         },
         {
          "level": 74,
          "sf": "abstract_eval_statement(interp::Core.Compiler.NativeInterpreter, e::Any, vtypes::Vector{Any}, sv::Core.Compiler.InferenceState) at abstractinterpretation.jl:1534",
          "status": "Default",
          "x1": 115,
          "x2": 121.9
         },
         {
          "level": 75,
          "sf": "abstract_call(interp::Core.Compiler.NativeInterpreter, fargs::Vector{Any}, argtypes::Vector{Any}, sv::Core.Compiler.InferenceState) at abstractinterpretation.jl:1382",
          "status": "Default",
          "x1": 115,
          "x2": 121.9
         },
         {
          "level": 76,
          "sf": "abstract_call(interp::Core.Compiler.NativeInterpreter, fargs::Vector{Any}, argtypes::Vector{Any}, sv::Core.Compiler.InferenceState, max_methods::Int64) at abstractinterpretation.jl:1397",
          "status": "Default",
          "x1": 115,
          "x2": 121.9
         },
         {
          "level": 77,
          "sf": "abstract_call_known(interp::Core.Compiler.NativeInterpreter, f::Any, fargs::Vector{Any}, argtypes::Vector{Any}, sv::Core.Compiler.InferenceState, max_methods::Int64) at abstractinterpretation.jl:1342",
          "status": "Default",
          "x1": 115,
          "x2": 121.9
         },
         {
          "level": 78,
          "sf": "abstract_call_gf_by_type(interp::Core.Compiler.NativeInterpreter, f::Any, fargs::Vector{Any}, argtypes::Vector{Any}, atype::Any, sv::Core.Compiler.InferenceState, max_methods::Int64) at abstractinterpretation.jl:113",
          "status": "Default",
          "x1": 115,
          "x2": 121.9
         },
         {
          "level": 79,
          "sf": "abstract_call_method_with_const_args(interp::Core.Compiler.NativeInterpreter, result::Core.Compiler.MethodCallResult, f::Any, argtypes::Vector{Any}, match::Core.MethodMatch, sv::Core.Compiler.InferenceState, va_override::Bool) at abstractinterpretation.jl:557",
          "status": "Default",
          "x1": 115,
          "x2": 121.9
         },
         {
          "level": 80,
          "sf": "typeinf(interp::Core.Compiler.NativeInterpreter, frame::Core.Compiler.InferenceState) at typeinfer.jl:209",
          "status": "Default",
          "x1": 115,
          "x2": 121.9
         },
         {
          "level": 81,
          "sf": "_typeinf(interp::Core.Compiler.NativeInterpreter, frame::Core.Compiler.InferenceState) at typeinfer.jl:226",
          "status": "Default",
          "x1": 115,
          "x2": 120.9
         },
         {
          "level": 82,
          "sf": "typeinf_nocycle(interp::Core.Compiler.NativeInterpreter, frame::Core.Compiler.InferenceState) at abstractinterpretation.jl:2014",
          "status": "Default",
          "x1": 115,
          "x2": 120.9
         },
         {
          "level": 83,
          "sf": "typeinf_local(interp::Core.Compiler.NativeInterpreter, frame::Core.Compiler.InferenceState) at abstractinterpretation.jl:1900",
          "status": "Default",
          "x1": 115,
          "x2": 120.9
         },
         {
          "level": 84,
          "sf": "abstract_eval_statement(interp::Core.Compiler.NativeInterpreter, e::Any, vtypes::Vector{Any}, sv::Core.Compiler.InferenceState) at abstractinterpretation.jl:1534",
          "status": "Default",
          "x1": 115,
          "x2": 120.9
         },
         {
          "level": 85,
          "sf": "abstract_call(interp::Core.Compiler.NativeInterpreter, fargs::Vector{Any}, argtypes::Vector{Any}, sv::Core.Compiler.InferenceState) at abstractinterpretation.jl:1382",
          "status": "Default",
          "x1": 115,
          "x2": 120.9
         },
         {
          "level": 86,
          "sf": "abstract_call(interp::Core.Compiler.NativeInterpreter, fargs::Vector{Any}, argtypes::Vector{Any}, sv::Core.Compiler.InferenceState, max_methods::Int64) at abstractinterpretation.jl:1397",
          "status": "Default",
          "x1": 115,
          "x2": 120.9
         },
         {
          "level": 87,
          "sf": "abstract_call_known(interp::Core.Compiler.NativeInterpreter, f::Any, fargs::Vector{Any}, argtypes::Vector{Any}, sv::Core.Compiler.InferenceState, max_methods::Int64) at abstractinterpretation.jl:1342",
          "status": "Default",
          "x1": 115,
          "x2": 120.9
         },
         {
          "level": 88,
          "sf": "abstract_call_gf_by_type(interp::Core.Compiler.NativeInterpreter, f::Any, fargs::Vector{Any}, argtypes::Vector{Any}, atype::Any, sv::Core.Compiler.InferenceState, max_methods::Int64) at abstractinterpretation.jl:113",
          "status": "Default",
          "x1": 115,
          "x2": 120.9
         },
         {
          "level": 89,
          "sf": "abstract_call_method_with_const_args(interp::Core.Compiler.NativeInterpreter, result::Core.Compiler.MethodCallResult, f::Any, argtypes::Vector{Any}, match::Core.MethodMatch, sv::Core.Compiler.InferenceState, va_override::Bool) at abstractinterpretation.jl:557",
          "status": "Default",
          "x1": 115,
          "x2": 120.9
         },
         {
          "level": 90,
          "sf": "typeinf(interp::Core.Compiler.NativeInterpreter, frame::Core.Compiler.InferenceState) at typeinfer.jl:209",
          "status": "Default",
          "x1": 115,
          "x2": 120.9
         },
         {
          "level": 91,
          "sf": "_typeinf(interp::Core.Compiler.NativeInterpreter, frame::Core.Compiler.InferenceState) at typeinfer.jl:226",
          "status": "Default",
          "x1": 115,
          "x2": 118.9
         },
         {
          "level": 92,
          "sf": "typeinf_nocycle(interp::Core.Compiler.NativeInterpreter, frame::Core.Compiler.InferenceState) at abstractinterpretation.jl:2014",
          "status": "Default",
          "x1": 115,
          "x2": 118.9
         },
         {
          "level": 93,
          "sf": "typeinf_local(interp::Core.Compiler.NativeInterpreter, frame::Core.Compiler.InferenceState) at abstractinterpretation.jl:1918",
          "status": "Default",
          "x1": 115,
          "x2": 118.9
         },
         {
          "level": 94,
          "sf": "abstract_eval_statement(interp::Core.Compiler.NativeInterpreter, e::Any, vtypes::Vector{Any}, sv::Core.Compiler.InferenceState) at abstractinterpretation.jl:1534",
          "status": "Default",
          "x1": 115,
          "x2": 118.9
         },
         {
          "level": 95,
          "sf": "abstract_call(interp::Core.Compiler.NativeInterpreter, fargs::Vector{Any}, argtypes::Vector{Any}, sv::Core.Compiler.InferenceState) at abstractinterpretation.jl:1382",
          "status": "Default",
          "x1": 115,
          "x2": 118.9
         },
         {
          "level": 96,
          "sf": "abstract_call(interp::Core.Compiler.NativeInterpreter, fargs::Vector{Any}, argtypes::Vector{Any}, sv::Core.Compiler.InferenceState, max_methods::Int64) at abstractinterpretation.jl:1397",
          "status": "Default",
          "x1": 115,
          "x2": 118.9
         },
         {
          "level": 97,
          "sf": "abstract_call_known(interp::Core.Compiler.NativeInterpreter, f::Any, fargs::Vector{Any}, argtypes::Vector{Any}, sv::Core.Compiler.InferenceState, max_methods::Int64) at abstractinterpretation.jl:1342",
          "status": "Default",
          "x1": 115,
          "x2": 118.9
         },
         {
          "level": 98,
          "sf": "abstract_call_gf_by_type(interp::Core.Compiler.NativeInterpreter, f::Any, fargs::Vector{Any}, argtypes::Vector{Any}, atype::Any, sv::Core.Compiler.InferenceState, max_methods::Int64) at abstractinterpretation.jl:113",
          "status": "Default",
          "x1": 115,
          "x2": 118.9
         },
         {
          "level": 99,
          "sf": "abstract_call_method_with_const_args(interp::Core.Compiler.NativeInterpreter, result::Core.Compiler.MethodCallResult, f::Any, argtypes::Vector{Any}, match::Core.MethodMatch, sv::Core.Compiler.InferenceState, va_override::Bool) at abstractinterpretation.jl:557",
          "status": "Default",
          "x1": 115,
          "x2": 118.9
         },
         {
          "level": 100,
          "sf": "typeinf(interp::Core.Compiler.NativeInterpreter, frame::Core.Compiler.InferenceState) at typeinfer.jl:209",
          "status": "Default",
          "x1": 115,
          "x2": 118.9
         },
         {
          "level": 101,
          "sf": "_typeinf(interp::Core.Compiler.NativeInterpreter, frame::Core.Compiler.InferenceState) at typeinfer.jl:226",
          "status": "Default",
          "x1": 115,
          "x2": 116.9
         },
         {
          "level": 102,
          "sf": "typeinf_nocycle(interp::Core.Compiler.NativeInterpreter, frame::Core.Compiler.InferenceState) at abstractinterpretation.jl:2014",
          "status": "Default",
          "x1": 115,
          "x2": 116.9
         },
         {
          "level": 103,
          "sf": "typeinf_local(interp::Core.Compiler.NativeInterpreter, frame::Core.Compiler.InferenceState) at abstractinterpretation.jl:1918",
          "status": "Default",
          "x1": 115,
          "x2": 116.9
         },
         {
          "level": 104,
          "sf": "abstract_eval_statement(interp::Core.Compiler.NativeInterpreter, e::Any, vtypes::Vector{Any}, sv::Core.Compiler.InferenceState) at abstractinterpretation.jl:1534",
          "status": "Default",
          "x1": 115,
          "x2": 116.9
         },
         {
          "level": 105,
          "sf": "abstract_call(interp::Core.Compiler.NativeInterpreter, fargs::Vector{Any}, argtypes::Vector{Any}, sv::Core.Compiler.InferenceState) at abstractinterpretation.jl:1382",
          "status": "Default",
          "x1": 115,
          "x2": 116.9
         },
         {
          "level": 106,
          "sf": "abstract_call(interp::Core.Compiler.NativeInterpreter, fargs::Vector{Any}, argtypes::Vector{Any}, sv::Core.Compiler.InferenceState, max_methods::Int64) at abstractinterpretation.jl:1397",
          "status": "Default",
          "x1": 115,
          "x2": 116.9
         },
         {
          "level": 107,
          "sf": "abstract_call_known(interp::Core.Compiler.NativeInterpreter, f::Any, fargs::Vector{Any}, argtypes::Vector{Any}, sv::Core.Compiler.InferenceState, max_methods::Int64) at abstractinterpretation.jl:1342",
          "status": "Default",
          "x1": 115,
          "x2": 116.9
         },
         {
          "level": 108,
          "sf": "abstract_call_gf_by_type(interp::Core.Compiler.NativeInterpreter, f::Any, fargs::Vector{Any}, argtypes::Vector{Any}, atype::Any, sv::Core.Compiler.InferenceState, max_methods::Int64) at abstractinterpretation.jl:113",
          "status": "Default",
          "x1": 115,
          "x2": 116.9
         },
         {
          "level": 109,
          "sf": "abstract_call_method_with_const_args(interp::Core.Compiler.NativeInterpreter, result::Core.Compiler.MethodCallResult, f::Any, argtypes::Vector{Any}, match::Core.MethodMatch, sv::Core.Compiler.InferenceState, va_override::Bool) at abstractinterpretation.jl:557",
          "status": "Default",
          "x1": 115,
          "x2": 116.9
         },
         {
          "level": 110,
          "sf": "typeinf(interp::Core.Compiler.NativeInterpreter, frame::Core.Compiler.InferenceState) at typeinfer.jl:209",
          "status": "Default",
          "x1": 115,
          "x2": 116.9
         },
         {
          "level": 111,
          "sf": "_typeinf(interp::Core.Compiler.NativeInterpreter, frame::Core.Compiler.InferenceState) at typeinfer.jl:226",
          "status": "Default",
          "x1": 115,
          "x2": 116.9
         },
         {
          "level": 112,
          "sf": "typeinf_nocycle(interp::Core.Compiler.NativeInterpreter, frame::Core.Compiler.InferenceState) at abstractinterpretation.jl:2014",
          "status": "Default",
          "x1": 115,
          "x2": 116.9
         },
         {
          "level": 113,
          "sf": "typeinf_local(interp::Core.Compiler.NativeInterpreter, frame::Core.Compiler.InferenceState) at abstractinterpretation.jl:1918",
          "status": "Default",
          "x1": 115,
          "x2": 116.9
         },
         {
          "level": 114,
          "sf": "abstract_eval_statement(interp::Core.Compiler.NativeInterpreter, e::Any, vtypes::Vector{Any}, sv::Core.Compiler.InferenceState) at abstractinterpretation.jl:1534",
          "status": "Default",
          "x1": 115,
          "x2": 116.9
         },
         {
          "level": 115,
          "sf": "abstract_call(interp::Core.Compiler.NativeInterpreter, fargs::Vector{Any}, argtypes::Vector{Any}, sv::Core.Compiler.InferenceState) at abstractinterpretation.jl:1382",
          "status": "Default",
          "x1": 115,
          "x2": 116.9
         },
         {
          "level": 116,
          "sf": "abstract_call(interp::Core.Compiler.NativeInterpreter, fargs::Vector{Any}, argtypes::Vector{Any}, sv::Core.Compiler.InferenceState, max_methods::Int64) at abstractinterpretation.jl:1397",
          "status": "Default",
          "x1": 115,
          "x2": 116.9
         },
         {
          "level": 117,
          "sf": "abstract_call_known(interp::Core.Compiler.NativeInterpreter, f::Any, fargs::Vector{Any}, argtypes::Vector{Any}, sv::Core.Compiler.InferenceState, max_methods::Int64) at abstractinterpretation.jl:1342",
          "status": "Default",
          "x1": 115,
          "x2": 116.9
         },
         {
          "level": 118,
          "sf": "abstract_call_gf_by_type(interp::Core.Compiler.NativeInterpreter, f::Any, fargs::Vector{Any}, argtypes::Vector{Any}, atype::Any, sv::Core.Compiler.InferenceState, max_methods::Int64) at abstractinterpretation.jl:113",
          "status": "Default",
          "x1": 115,
          "x2": 116.9
         },
         {
          "level": 119,
          "sf": "abstract_call_method_with_const_args(interp::Core.Compiler.NativeInterpreter, result::Core.Compiler.MethodCallResult, f::Any, argtypes::Vector{Any}, match::Core.MethodMatch, sv::Core.Compiler.InferenceState, va_override::Bool) at abstractinterpretation.jl:557",
          "status": "Default",
          "x1": 115,
          "x2": 116.9
         },
         {
          "level": 120,
          "sf": "typeinf(interp::Core.Compiler.NativeInterpreter, frame::Core.Compiler.InferenceState) at typeinfer.jl:209",
          "status": "Default",
          "x1": 115,
          "x2": 116.9
         },
         {
          "level": 121,
          "sf": "_typeinf(interp::Core.Compiler.NativeInterpreter, frame::Core.Compiler.InferenceState) at typeinfer.jl:226",
          "status": "Default",
          "x1": 115,
          "x2": 116.9
         },
         {
          "level": 122,
          "sf": "typeinf_nocycle(interp::Core.Compiler.NativeInterpreter, frame::Core.Compiler.InferenceState) at abstractinterpretation.jl:2014",
          "status": "Default",
          "x1": 115,
          "x2": 116.9
         },
         {
          "level": 123,
          "sf": "typeinf_local(interp::Core.Compiler.NativeInterpreter, frame::Core.Compiler.InferenceState) at abstractinterpretation.jl:1918",
          "status": "Default",
          "x1": 115,
          "x2": 116.9
         },
         {
          "level": 124,
          "sf": "abstract_eval_statement(interp::Core.Compiler.NativeInterpreter, e::Any, vtypes::Vector{Any}, sv::Core.Compiler.InferenceState) at abstractinterpretation.jl:1534",
          "status": "Default",
          "x1": 115,
          "x2": 116.9
         },
         {
          "level": 125,
          "sf": "abstract_call(interp::Core.Compiler.NativeInterpreter, fargs::Vector{Any}, argtypes::Vector{Any}, sv::Core.Compiler.InferenceState) at abstractinterpretation.jl:1382",
          "status": "Default",
          "x1": 115,
          "x2": 116.9
         },
         {
          "level": 126,
          "sf": "abstract_call(interp::Core.Compiler.NativeInterpreter, fargs::Vector{Any}, argtypes::Vector{Any}, sv::Core.Compiler.InferenceState, max_methods::Int64) at abstractinterpretation.jl:1397",
          "status": "Default",
          "x1": 115,
          "x2": 116.9
         },
         {
          "level": 127,
          "sf": "abstract_call_known(interp::Core.Compiler.NativeInterpreter, f::Any, fargs::Vector{Any}, argtypes::Vector{Any}, sv::Core.Compiler.InferenceState, max_methods::Int64) at abstractinterpretation.jl:1342",
          "status": "Default",
          "x1": 115,
          "x2": 116.9
         },
         {
          "level": 128,
          "sf": "abstract_call_gf_by_type(interp::Core.Compiler.NativeInterpreter, f::Any, fargs::Vector{Any}, argtypes::Vector{Any}, atype::Any, sv::Core.Compiler.InferenceState, max_methods::Int64) at abstractinterpretation.jl:113",
          "status": "Default",
          "x1": 115,
          "x2": 116.9
         },
         {
          "level": 129,
          "sf": "abstract_call_method_with_const_args(interp::Core.Compiler.NativeInterpreter, result::Core.Compiler.MethodCallResult, f::Any, argtypes::Vector{Any}, match::Core.MethodMatch, sv::Core.Compiler.InferenceState, va_override::Bool) at abstractinterpretation.jl:557",
          "status": "Default",
          "x1": 115,
          "x2": 116.9
         },
         {
          "level": 130,
          "sf": "typeinf(interp::Core.Compiler.NativeInterpreter, frame::Core.Compiler.InferenceState) at typeinfer.jl:209",
          "status": "Default",
          "x1": 115,
          "x2": 116.9
         },
         {
          "level": 131,
          "sf": "_typeinf(interp::Core.Compiler.NativeInterpreter, frame::Core.Compiler.InferenceState) at typeinfer.jl:226",
          "status": "Default",
          "x1": 115,
          "x2": 115.9
         },
         {
          "level": 132,
          "sf": "typeinf_nocycle(interp::Core.Compiler.NativeInterpreter, frame::Core.Compiler.InferenceState) at abstractinterpretation.jl:2014",
          "status": "Default",
          "x1": 115,
          "x2": 115.9
         },
         {
          "level": 133,
          "sf": "typeinf_local(interp::Core.Compiler.NativeInterpreter, frame::Core.Compiler.InferenceState) at abstractinterpretation.jl:1918",
          "status": "Default",
          "x1": 115,
          "x2": 115.9
         },
         {
          "level": 134,
          "sf": "abstract_eval_statement(interp::Core.Compiler.NativeInterpreter, e::Any, vtypes::Vector{Any}, sv::Core.Compiler.InferenceState) at abstractinterpretation.jl:1534",
          "status": "Default",
          "x1": 115,
          "x2": 115.9
         },
         {
          "level": 135,
          "sf": "abstract_call(interp::Core.Compiler.NativeInterpreter, fargs::Vector{Any}, argtypes::Vector{Any}, sv::Core.Compiler.InferenceState) at abstractinterpretation.jl:1382",
          "status": "Default",
          "x1": 115,
          "x2": 115.9
         },
         {
          "level": 136,
          "sf": "abstract_call(interp::Core.Compiler.NativeInterpreter, fargs::Vector{Any}, argtypes::Vector{Any}, sv::Core.Compiler.InferenceState, max_methods::Int64) at abstractinterpretation.jl:1397",
          "status": "Default",
          "x1": 115,
          "x2": 115.9
         },
         {
          "level": 137,
          "sf": "abstract_call_known(interp::Core.Compiler.NativeInterpreter, f::Any, fargs::Vector{Any}, argtypes::Vector{Any}, sv::Core.Compiler.InferenceState, max_methods::Int64) at abstractinterpretation.jl:1342",
          "status": "Default",
          "x1": 115,
          "x2": 115.9
         },
         {
          "level": 138,
          "sf": "abstract_call_gf_by_type(interp::Core.Compiler.NativeInterpreter, f::Any, fargs::Vector{Any}, argtypes::Vector{Any}, atype::Any, sv::Core.Compiler.InferenceState, max_methods::Int64) at abstractinterpretation.jl:113",
          "status": "Default",
          "x1": 115,
          "x2": 115.9
         },
         {
          "level": 139,
          "sf": "abstract_call_method_with_const_args(interp::Core.Compiler.NativeInterpreter, result::Core.Compiler.MethodCallResult, f::Any, argtypes::Vector{Any}, match::Core.MethodMatch, sv::Core.Compiler.InferenceState, va_override::Bool) at abstractinterpretation.jl:557",
          "status": "Default",
          "x1": 115,
          "x2": 115.9
         },
         {
          "level": 140,
          "sf": "typeinf(interp::Core.Compiler.NativeInterpreter, frame::Core.Compiler.InferenceState) at typeinfer.jl:209",
          "status": "Default",
          "x1": 115,
          "x2": 115.9
         },
         {
          "level": 141,
          "sf": "_typeinf(interp::Core.Compiler.NativeInterpreter, frame::Core.Compiler.InferenceState) at typeinfer.jl:255",
          "status": "Default",
          "x1": 115,
          "x2": 115.9
         },
         {
          "level": 142,
          "sf": "optimize at optimize.jl:296 [inlined]",
          "status": "Default",
          "x1": 115,
          "x2": 115.9
         },
         {
          "level": 143,
          "sf": "run_passes(ci::Core.CodeInfo, nargs::Int64, sv::Core.Compiler.OptimizationState) at optimize.jl:303",
          "status": "Default",
          "x1": 115,
          "x2": 115.9
         },
         {
          "level": 144,
          "sf": "slot2reg at optimize.jl:419 [inlined]",
          "status": "Default",
          "x1": 115,
          "x2": 115.9
         },
         {
          "level": 145,
          "sf": "construct_ssa!(ci::Core.CodeInfo, ir::Core.Compiler.IRCode, domtree::Core.Compiler.DomTree, defuses::Vector{Core.Compiler.SlotInfo}, nargs::Int64, slottypes::Vector{Any}) at slot2ssa.jl:633",
          "status": "Default",
          "x1": 115,
          "x2": 115.9
         },
         {
          "level": 146,
          "sf": "compute_live_ins(cfg::Core.Compiler.CFG, defuse::Core.Compiler.SlotInfo) at slot2ssa.jl:539",
          "status": "Default",
          "x1": 115,
          "x2": 115.9
         },
         {
          "level": 147,
          "sf": "BitSet at bitset.jl:18 [inlined]",
          "status": "Default",
          "x1": 115,
          "x2": 115.9
         },
         {
          "level": 148,
          "sf": "zeros at array.jl:521 [inlined]",
          "status": "Default",
          "x1": 115,
          "x2": 115.9
         },
         {
          "level": 149,
          "sf": "zeros at array.jl:525 [inlined]",
          "status": "Default",
          "x1": 115,
          "x2": 115.9
         },
         {
          "level": 150,
          "sf": "Array at boot.jl:466 [inlined]",
          "status": "Default",
          "x1": 115,
          "x2": 115.9
         },
         {
          "level": 151,
          "sf": "Array at boot.jl:457 [inlined]",
          "status": "Garbage collection",
          "x1": 115,
          "x2": 115.9
         },
         {
          "level": 131,
          "sf": "_typeinf(interp::Core.Compiler.NativeInterpreter, frame::Core.Compiler.InferenceState) at typeinfer.jl:255",
          "status": "Default",
          "x1": 116,
          "x2": 116.9
         },
         {
          "level": 132,
          "sf": "optimize at optimize.jl:296 [inlined]",
          "status": "Default",
          "x1": 116,
          "x2": 116.9
         },
         {
          "level": 133,
          "sf": "run_passes(ci::Core.CodeInfo, nargs::Int64, sv::Core.Compiler.OptimizationState) at optimize.jl:307",
          "status": "Runtime dispatch",
          "x1": 116,
          "x2": 116.9
         },
         {
          "level": 134,
          "sf": "ssa_inlining_pass!(ir::Core.Compiler.IRCode, linetable::Vector{Core.LineInfoNode}, state::Core.Compiler.InliningState{Core.Compiler.EdgeTracker, Core.Compiler.WorldView{Core.Compiler.InternalCodeCache}, typeof(Core.Compiler.default_inlining_policy)}, propagate_inbounds::Bool) at inlining.jl:80",
          "status": "Default",
          "x1": 116,
          "x2": 116.9
         },
         {
          "level": 135,
          "sf": "assemble_inline_todo!(ir::Core.Compiler.IRCode, state::Core.Compiler.InliningState{Core.Compiler.EdgeTracker, Core.Compiler.WorldView{Core.Compiler.InternalCodeCache}, typeof(Core.Compiler.default_inlining_policy)}) at inlining.jl:1358",
          "status": "Default",
          "x1": 116,
          "x2": 116.9
         },
         {
          "level": 136,
          "sf": "process_simple!(ir::Core.Compiler.IRCode, todo::Vector{Pair{Int64, Any}}, idx::Int64, state::Core.Compiler.InliningState{Core.Compiler.EdgeTracker, Core.Compiler.WorldView{Core.Compiler.InternalCodeCache}, typeof(Core.Compiler.default_inlining_policy)}) at inlining.jl:1185",
          "status": "Default",
          "x1": 116,
          "x2": 116.9
         },
         {
          "level": 137,
          "sf": "check_effect_free! at inlining.jl:1128 [inlined]",
          "status": "Default",
          "x1": 116,
          "x2": 116.9
         },
         {
          "level": 138,
          "sf": "stmt_effect_free(stmt::Any, rt::Any, src::Core.Compiler.IRCode, sptypes::Vector{Any}) at queries.jl:24",
          "status": "Default",
          "x1": 116,
          "x2": 116.9
         },
         {
          "level": 139,
          "sf": "argextype at utilities.jl:229 [inlined]",
          "status": "Default",
          "x1": 116,
          "x2": 116.9
         },
         {
          "level": 140,
          "sf": "argextype(x::Any, src::Core.Compiler.IRCode, sptypes::Vector{Any}, slottypes::Vector{Any}) at utilities.jl:251",
          "status": "Default",
          "x1": 116,
          "x2": 116.9
         },
         {
          "level": 141,
          "sf": "abstract_eval_global at abstractinterpretation.jl:1676 [inlined]",
          "status": "Default",
          "x1": 116,
          "x2": 116.9
         },
         {
          "level": 101,
          "sf": "_typeinf(interp::Core.Compiler.NativeInterpreter, frame::Core.Compiler.InferenceState) at typeinfer.jl:255",
          "status": "Default",
          "x1": 117,
          "x2": 118.9
         },
         {
          "level": 102,
          "sf": "optimize at optimize.jl:296 [inlined]",
          "status": "Default",
          "x1": 117,
          "x2": 118.9
         },
         {
          "level": 103,
          "sf": "run_passes(ci::Core.CodeInfo, nargs::Int64, sv::Core.Compiler.OptimizationState) at optimize.jl:306",
          "status": "Default",
          "x1": 117,
          "x2": 117.9
         },
         {
          "level": 104,
          "sf": "compact! at ir.jl:1441 [inlined]",
          "status": "Default",
          "x1": 117,
          "x2": 117.9
         },
         {
          "level": 105,
          "sf": "compact!(code::Core.Compiler.IRCode, allow_cfg_transforms::Bool) at ir.jl:1441",
          "status": "Default",
          "x1": 117,
          "x2": 117.9
         },
         {
          "level": 106,
          "sf": "Core.Compiler.IncrementalCompact(code::Core.Compiler.IRCode, allow_cfg_transforms::Bool) at ir.jl:575",
          "status": "Default",
          "x1": 117,
          "x2": 117.9
         },
         {
          "level": 107,
          "sf": "_array_for at array.jl:616 [inlined]",
          "status": "Default",
          "x1": 117,
          "x2": 117.9
         },
         {
          "level": 108,
          "sf": "_array_for at array.jl:613 [inlined]",
          "status": "Default",
          "x1": 117,
          "x2": 117.9
         },
         {
          "level": 109,
          "sf": "similar at abstractarray.jl:828 [inlined]",
          "status": "Default",
          "x1": 117,
          "x2": 117.9
         },
         {
          "level": 110,
          "sf": "similar at abstractarray.jl:829 [inlined]",
          "status": "Default",
          "x1": 117,
          "x2": 117.9
         },
         {
          "level": 111,
          "sf": "Array at boot.jl:466 [inlined]",
          "status": "Default",
          "x1": 117,
          "x2": 117.9
         },
         {
          "level": 112,
          "sf": "Array at boot.jl:457 [inlined]",
          "status": "Garbage collection",
          "x1": 117,
          "x2": 117.9
         },
         {
          "level": 103,
          "sf": "run_passes(ci::Core.CodeInfo, nargs::Int64, sv::Core.Compiler.OptimizationState) at optimize.jl:307",
          "status": "Runtime dispatch",
          "x1": 118,
          "x2": 118.9
         },
         {
          "level": 104,
          "sf": "ssa_inlining_pass!(ir::Core.Compiler.IRCode, linetable::Vector{Core.LineInfoNode}, state::Core.Compiler.InliningState{Core.Compiler.EdgeTracker, Core.Compiler.WorldView{Core.Compiler.InternalCodeCache}, typeof(Core.Compiler.default_inlining_policy)}, propagate_inbounds::Bool) at inlining.jl:80",
          "status": "Default",
          "x1": 118,
          "x2": 118.9
         },
         {
          "level": 105,
          "sf": "assemble_inline_todo!(ir::Core.Compiler.IRCode, state::Core.Compiler.InliningState{Core.Compiler.EdgeTracker, Core.Compiler.WorldView{Core.Compiler.InternalCodeCache}, typeof(Core.Compiler.default_inlining_policy)}) at inlining.jl:1358",
          "status": "Default",
          "x1": 118,
          "x2": 118.9
         },
         {
          "level": 106,
          "sf": "process_simple!(ir::Core.Compiler.IRCode, todo::Vector{Pair{Int64, Any}}, idx::Int64, state::Core.Compiler.InliningState{Core.Compiler.EdgeTracker, Core.Compiler.WorldView{Core.Compiler.InternalCodeCache}, typeof(Core.Compiler.default_inlining_policy)}) at inlining.jl:1163",
          "status": "Default",
          "x1": 118,
          "x2": 118.9
         },
         {
          "level": 107,
          "sf": "early_inline_special_case(ir::Core.Compiler.IRCode, s::Core.Compiler.Signature, e::Expr, params::Core.Compiler.OptimizationParams, etype::Any) at inlining.jl:1468",
          "status": "Default",
          "x1": 118,
          "x2": 118.9
         },
         {
          "level": 108,
          "sf": "ispuretopfunction(f::Any) at inlining.jl:1439",
          "status": "Default",
          "x1": 118,
          "x2": 118.9
         },
         {
          "level": 91,
          "sf": "_typeinf(interp::Core.Compiler.NativeInterpreter, frame::Core.Compiler.InferenceState) at typeinfer.jl:255",
          "status": "Default",
          "x1": 119,
          "x2": 120.9
         },
         {
          "level": 92,
          "sf": "optimize at optimize.jl:296 [inlined]",
          "status": "Default",
          "x1": 119,
          "x2": 120.9
         },
         {
          "level": 93,
          "sf": "run_passes(ci::Core.CodeInfo, nargs::Int64, sv::Core.Compiler.OptimizationState) at optimize.jl:303",
          "status": "Default",
          "x1": 119,
          "x2": 119.9
         },
         {
          "level": 94,
          "sf": "slot2reg at optimize.jl:417 [inlined]",
          "status": "Default",
          "x1": 119,
          "x2": 119.9
         },
         {
          "level": 95,
          "sf": "construct_domtree(blocks::Vector{Core.Compiler.BasicBlock}) at domtree.jl:204",
          "status": "Default",
          "x1": 119,
          "x2": 119.9
         },
         {
          "level": 96,
          "sf": "DomTree at domtree.jl:200 [inlined]",
          "status": "Default",
          "x1": 119,
          "x2": 119.9
         },
         {
          "level": 97,
          "sf": "getindex at array.jl:411 [inlined]",
          "status": "Default",
          "x1": 119,
          "x2": 119.9
         },
         {
          "level": 98,
          "sf": "Array at boot.jl:476 [inlined]",
          "status": "Default",
          "x1": 119,
          "x2": 119.9
         },
         {
          "level": 99,
          "sf": "Array at boot.jl:457 [inlined]",
          "status": "Garbage collection",
          "x1": 119,
          "x2": 119.9
         },
         {
          "level": 93,
          "sf": "run_passes(ci::Core.CodeInfo, nargs::Int64, sv::Core.Compiler.OptimizationState) at optimize.jl:311",
          "status": "Default",
          "x1": 120,
          "x2": 120.9
         },
         {
          "level": 94,
          "sf": "getfield_elim_pass!(ir::Core.Compiler.IRCode) at passes.jl:709",
          "status": "Default",
          "x1": 120,
          "x2": 120.9
         },
         {
          "level": 95,
          "sf": "perform_lifting!(compact::Core.Compiler.IncrementalCompact, visited_phinodes::Vector{Any}, cache_key::Any, lifting_cache::Core.Compiler.IdDict{Pair{Union{Core.Compiler.NewSSAValue, Core.Compiler.OldSSAValue, Core.SSAValue}, Any}, Union{Core.Compiler.NewSSAValue, Core.Compiler.OldSSAValue, Core.SSAValue}}, result_t::Any, lifted_leaves::Core.Compiler.IdDict{Any, Any}, stmt_val::Any) at passes.jl:515",
          "status": "Default",
          "x1": 120,
          "x2": 120.9
         },
         {
          "level": 96,
          "sf": "in at iddict.jl:189 [inlined]",
          "status": "Default",
          "x1": 120,
          "x2": 120.9
         },
         {
          "level": 97,
          "sf": "get at iddict.jl:102 [inlined]",
          "status": "Default",
          "x1": 120,
          "x2": 120.9
         },
         {
          "level": 81,
          "sf": "_typeinf(interp::Core.Compiler.NativeInterpreter, frame::Core.Compiler.InferenceState) at typeinfer.jl:255",
          "status": "Default",
          "x1": 121,
          "x2": 121.9
         },
         {
          "level": 82,
          "sf": "optimize at optimize.jl:296 [inlined]",
          "status": "Default",
          "x1": 121,
          "x2": 121.9
         },
         {
          "level": 83,
          "sf": "run_passes(ci::Core.CodeInfo, nargs::Int64, sv::Core.Compiler.OptimizationState) at optimize.jl:307",
          "status": "Runtime dispatch",
          "x1": 121,
          "x2": 121.9
         },
         {
          "level": 84,
          "sf": "ssa_inlining_pass!(ir::Core.Compiler.IRCode, linetable::Vector{Core.LineInfoNode}, state::Core.Compiler.InliningState{Core.Compiler.EdgeTracker, Core.Compiler.WorldView{Core.Compiler.InternalCodeCache}, typeof(Core.Compiler.default_inlining_policy)}, propagate_inbounds::Bool) at inlining.jl:83",
          "status": "Default",
          "x1": 121,
          "x2": 121.9
         },
         {
          "level": 85,
          "sf": "batch_inline!(todo::Vector{Pair{Int64, Any}}, ir::Core.Compiler.IRCode, linetable::Vector{Core.LineInfoNode}, propagate_inbounds::Bool) at inlining.jl:598",
          "status": "Default",
          "x1": 121,
          "x2": 121.9
         },
         {
          "level": 86,
          "sf": "setindex! at ir.jl:814 [inlined]",
          "status": "Default",
          "x1": 121,
          "x2": 121.9
         },
         {
          "level": 87,
          "sf": "setindex!(compact::Core.Compiler.IncrementalCompact, v::Any, idx::Core.SSAValue) at ir.jl:801",
          "status": "Default",
          "x1": 121,
          "x2": 121.9
         },
         {
          "level": 88,
          "sf": "iterate(it::Core.Compiler.UseRefIterator, #unused#::Nothing) at ir.jl:470",
          "status": "Default",
          "x1": 121,
          "x2": 121.9
         },
         {
          "level": 89,
          "sf": "getindex(x::Core.Compiler.UseRef) at ir.jl:362",
          "status": "Default",
          "x1": 121,
          "x2": 121.9
         },
         {
          "level": 71,
          "sf": "_typeinf(interp::Core.Compiler.NativeInterpreter, frame::Core.Compiler.InferenceState) at typeinfer.jl:255",
          "status": "Default",
          "x1": 122,
          "x2": 124.9
         },
         {
          "level": 72,
          "sf": "optimize at optimize.jl:296 [inlined]",
          "status": "Default",
          "x1": 122,
          "x2": 124.9
         },
         {
          "level": 73,
          "sf": "run_passes(ci::Core.CodeInfo, nargs::Int64, sv::Core.Compiler.OptimizationState) at optimize.jl:303",
          "status": "Default",
          "x1": 122,
          "x2": 122.9
         },
         {
          "level": 74,
          "sf": "slot2reg at optimize.jl:419 [inlined]",
          "status": "Default",
          "x1": 122,
          "x2": 122.9
         },
         {
          "level": 75,
          "sf": "construct_ssa!(ci::Core.CodeInfo, ir::Core.Compiler.IRCode, domtree::Core.Compiler.DomTree, defuses::Vector{Core.Compiler.SlotInfo}, nargs::Int64, slottypes::Vector{Any}) at slot2ssa.jl:751",
          "status": "Default",
          "x1": 122,
          "x2": 122.9
         },
         {
          "level": 76,
          "sf": "rename_uses! at slot2ssa.jl:173 [inlined]",
          "status": "Default",
          "x1": 122,
          "x2": 122.9
         },
         {
          "level": 77,
          "sf": "fixemup!(cond::Core.Compiler.var\"#345#347\", rename::Core.Compiler.var\"#346#348\"{Vector{Any}}, ir::Core.Compiler.IRCode, ci::Core.CodeInfo, idx::Int64, stmt::Any) at slot2ssa.jl:159",
          "status": "Default",
          "x1": 122,
          "x2": 122.9
         },
         {
          "level": 73,
          "sf": "run_passes(ci::Core.CodeInfo, nargs::Int64, sv::Core.Compiler.OptimizationState) at optimize.jl:307",
          "status": "Runtime dispatch",
          "x1": 123,
          "x2": 123.9
         },
         {
          "level": 74,
          "sf": "ssa_inlining_pass!(ir::Core.Compiler.IRCode, linetable::Vector{Core.LineInfoNode}, state::Core.Compiler.InliningState{Core.Compiler.EdgeTracker, Core.Compiler.WorldView{Core.Compiler.InternalCodeCache}, typeof(Core.Compiler.default_inlining_policy)}, propagate_inbounds::Bool) at inlining.jl:80",
          "status": "Default",
          "x1": 123,
          "x2": 123.9
         },
         {
          "level": 75,
          "sf": "assemble_inline_todo!(ir::Core.Compiler.IRCode, state::Core.Compiler.InliningState{Core.Compiler.EdgeTracker, Core.Compiler.WorldView{Core.Compiler.InternalCodeCache}, typeof(Core.Compiler.default_inlining_policy)}) at inlining.jl:1358",
          "status": "Default",
          "x1": 123,
          "x2": 123.9
         },
         {
          "level": 76,
          "sf": "process_simple!(ir::Core.Compiler.IRCode, todo::Vector{Pair{Int64, Any}}, idx::Int64, state::Core.Compiler.InliningState{Core.Compiler.EdgeTracker, Core.Compiler.WorldView{Core.Compiler.InternalCodeCache}, typeof(Core.Compiler.default_inlining_policy)}) at inlining.jl:1192",
          "status": "Default",
          "x1": 123,
          "x2": 123.9
         },
         {
          "level": 77,
          "sf": "with_atype at inlining.jl:20 [inlined]",
          "status": "Default",
          "x1": 123,
          "x2": 123.9
         },
         {
          "level": 78,
          "sf": "argtypes_to_type at typeutils.jl:53 [inlined]",
          "status": "Default",
          "x1": 123,
          "x2": 123.9
         },
         {
          "level": 79,
          "sf": "anymap(f::Core.Compiler.var\"#251#252\", a::Vector{Any}) at utilities.jl:39",
          "status": "Default",
          "x1": 123,
          "x2": 123.9
         },
         {
          "level": 80,
          "sf": "(::Core.Compiler.var\"#251#252\")(a::Any) at typeutils.jl:53",
          "status": "Runtime dispatch",
          "x1": 123,
          "x2": 123.9
         },
         {
          "level": 81,
          "sf": "widenconst(c::Core.Const) at typelattice.jl:286",
          "status": "Default",
          "x1": 123,
          "x2": 123.9
         },
         {
          "level": 73,
          "sf": "run_passes(ci::Core.CodeInfo, nargs::Int64, sv::Core.Compiler.OptimizationState) at optimize.jl:311",
          "status": "Default",
          "x1": 124,
          "x2": 124.9
         },
         {
          "level": 74,
          "sf": "getfield_elim_pass!(ir::Core.Compiler.IRCode) at passes.jl:743",
          "status": "Default",
          "x1": 124,
          "x2": 124.9
         },
         {
          "level": 75,
          "sf": "construct_domtree(blocks::Vector{Core.Compiler.BasicBlock}) at domtree.jl:204",
          "status": "Default",
          "x1": 124,
          "x2": 124.9
         },
         {
          "level": 76,
          "sf": "DomTree at domtree.jl:200 [inlined]",
          "status": "Default",
          "x1": 124,
          "x2": 124.9
         },
         {
          "level": 77,
          "sf": "Core.Compiler.DFSTree(n_blocks::Int64) at array.jl:0",
          "status": "Default",
          "x1": 124,
          "x2": 124.9
         },
         {
          "level": 68,
          "sf": "abstract_call_gf_by_type(interp::Core.Compiler.NativeInterpreter, f::Any, fargs::Vector{Any}, argtypes::Vector{Any}, atype::Any, sv::Core.Compiler.InferenceState, max_methods::Int64) at abstractinterpretation.jl:142",
          "status": "Default",
          "x1": 125,
          "x2": 125.9
         },
         {
          "level": 69,
          "sf": "tmeet(v::Any, t::Any) at typelimits.jl:610",
          "status": "Default",
          "x1": 125,
          "x2": 125.9
         },
         {
          "level": 63,
          "sf": "typeinf_local(interp::Core.Compiler.NativeInterpreter, frame::Core.Compiler.InferenceState) at abstractinterpretation.jl:1956",
          "status": "Default",
          "x1": 126,
          "x2": 126.9
         },
         {
          "level": 64,
          "sf": "stupdate! at typelattice.jl:393 [inlined]",
          "status": "Default",
          "x1": 126,
          "x2": 126.9
         },
         {
          "level": 65,
          "sf": "copy at array.jl:369 [inlined]",
          "status": "Default",
          "x1": 126,
          "x2": 126.9
         },
         {
          "level": 61,
          "sf": "_typeinf(interp::Core.Compiler.NativeInterpreter, frame::Core.Compiler.InferenceState) at typeinfer.jl:255",
          "status": "Default",
          "x1": 127,
          "x2": 136.9
         },
         {
          "level": 62,
          "sf": "optimize at optimize.jl:296 [inlined]",
          "status": "Default",
          "x1": 127,
          "x2": 136.9
         },
         {
          "level": 63,
          "sf": "run_passes(ci::Core.CodeInfo, nargs::Int64, sv::Core.Compiler.OptimizationState) at optimize.jl:303",
          "status": "Default",
          "x1": 127,
          "x2": 127.9
         },
         {
          "level": 64,
          "sf": "slot2reg at optimize.jl:419 [inlined]",
          "status": "Default",
          "x1": 127,
          "x2": 127.9
         },
         {
          "level": 65,
          "sf": "construct_ssa!(ci::Core.CodeInfo, ir::Core.Compiler.IRCode, domtree::Core.Compiler.DomTree, defuses::Vector{Core.Compiler.SlotInfo}, nargs::Int64, slottypes::Vector{Any}) at slot2ssa.jl:896",
          "status": "Default",
          "x1": 127,
          "x2": 127.9
         },
         {
          "level": 66,
          "sf": "domsort_ssa!(ir::Core.Compiler.IRCode, domtree::Core.Compiler.DomTree) at slot2ssa.jl:496",
          "status": "Default",
          "x1": 127,
          "x2": 127.9
         },
         {
          "level": 67,
          "sf": "renumber_ssa! at slot2ssa.jl:62 [inlined]",
          "status": "Default",
          "x1": 127,
          "x2": 127.9
         },
         {
          "level": 68,
          "sf": "ssamap(f::Core.Compiler.var\"#339#340\"{Vector{Core.SSAValue}, Bool}, stmt::Any) at ir.jl:508",
          "status": "Default",
          "x1": 127,
          "x2": 127.9
         },
         {
          "level": 69,
          "sf": "iterate(it::Core.Compiler.UseRefIterator, #unused#::Nothing) at ir.jl:472",
          "status": "Default",
          "x1": 127,
          "x2": 127.9
         },
         {
          "level": 63,
          "sf": "run_passes(ci::Core.CodeInfo, nargs::Int64, sv::Core.Compiler.OptimizationState) at optimize.jl:306",
          "status": "Default",
          "x1": 128,
          "x2": 128.9
         },
         {
          "level": 64,
          "sf": "compact! at ir.jl:1441 [inlined]",
          "status": "Default",
          "x1": 128,
          "x2": 128.9
         },
         {
          "level": 65,
          "sf": "compact!(code::Core.Compiler.IRCode, allow_cfg_transforms::Bool) at ir.jl:1443",
          "status": "Default",
          "x1": 128,
          "x2": 128.9
         },
         {
          "level": 66,
          "sf": "iterate at ir.jl:1237 [inlined]",
          "status": "Default",
          "x1": 128,
          "x2": 128.9
         },
         {
          "level": 67,
          "sf": "iterate(compact::Core.Compiler.IncrementalCompact, ::Tuple{Int64, Int64}) at ir.jl:1243",
          "status": "Default",
          "x1": 128,
          "x2": 128.9
         },
         {
          "level": 68,
          "sf": "< at int.jl:83 [inlined]",
          "status": "Default",
          "x1": 128,
          "x2": 128.9
         },
         {
          "level": 63,
          "sf": "run_passes(ci::Core.CodeInfo, nargs::Int64, sv::Core.Compiler.OptimizationState) at optimize.jl:307",
          "status": "Runtime dispatch",
          "x1": 129,
          "x2": 133.9
         },
         {
          "level": 64,
          "sf": "ssa_inlining_pass!(ir::Core.Compiler.IRCode, linetable::Vector{Core.LineInfoNode}, state::Core.Compiler.InliningState{Core.Compiler.EdgeTracker, Core.Compiler.WorldView{Core.Compiler.InternalCodeCache}, typeof(Core.Compiler.default_inlining_policy)}, propagate_inbounds::Bool) at inlining.jl:80",
          "status": "Default",
          "x1": 129,
          "x2": 131.9
         },
         {
          "level": 65,
          "sf": "assemble_inline_todo!(ir::Core.Compiler.IRCode, state::Core.Compiler.InliningState{Core.Compiler.EdgeTracker, Core.Compiler.WorldView{Core.Compiler.InternalCodeCache}, typeof(Core.Compiler.default_inlining_policy)}) at inlining.jl:1358",
          "status": "Default",
          "x1": 129,
          "x2": 129.9
         },
         {
          "level": 66,
          "sf": "process_simple!(ir::Core.Compiler.IRCode, todo::Vector{Pair{Int64, Any}}, idx::Int64, state::Core.Compiler.InliningState{Core.Compiler.EdgeTracker, Core.Compiler.WorldView{Core.Compiler.InternalCodeCache}, typeof(Core.Compiler.default_inlining_policy)}) at inlining.jl:1192",
          "status": "Default",
          "x1": 129,
          "x2": 129.9
         },
         {
          "level": 67,
          "sf": "with_atype at inlining.jl:20 [inlined]",
          "status": "Default",
          "x1": 129,
          "x2": 129.9
         },
         {
          "level": 68,
          "sf": "argtypes_to_type at typeutils.jl:53 [inlined]",
          "status": "Runtime dispatch",
          "x1": 129,
          "x2": 129.9
         },
         {
          "level": 65,
          "sf": "assemble_inline_todo!(ir::Core.Compiler.IRCode, state::Core.Compiler.InliningState{Core.Compiler.EdgeTracker, Core.Compiler.WorldView{Core.Compiler.InternalCodeCache}, typeof(Core.Compiler.default_inlining_policy)}) at inlining.jl:1389",
          "status": "Default",
          "x1": 130,
          "x2": 130.9
         },
         {
          "level": 66,
          "sf": "maybe_handle_const_call!(ir::Core.Compiler.IRCode, idx::Int64, stmt::Expr, ::Core.Compiler.ConstCallInfo, ::Core.Compiler.Signature, state::Core.Compiler.InliningState{Core.Compiler.EdgeTracker, Core.Compiler.WorldView{Core.Compiler.InternalCodeCache}, typeof(Core.Compiler.default_inlining_policy)}, isinvoke::Bool, todo::Vector{Pair{Int64, Any}}) at inlining.jl:1305",
          "status": "Default",
          "x1": 130,
          "x2": 130.9
         },
         {
          "level": 67,
          "sf": "resolve_todo(todo::Core.Compiler.InliningTodo, state::Core.Compiler.InliningState{Core.Compiler.EdgeTracker, Core.Compiler.WorldView{Core.Compiler.InternalCodeCache}, typeof(Core.Compiler.default_inlining_policy)}) at inlining.jl:795",
          "status": "Runtime dispatch",
          "x1": 130,
          "x2": 130.9
         },
         {
          "level": 68,
          "sf": "Core.Compiler.InliningTodo(mi::Core.MethodInstance, src::Core.CodeInfo) at inlining.jl:864",
          "status": "Default",
          "x1": 130,
          "x2": 130.9
         },
         {
          "level": 69,
          "sf": "inflate_ir(ci::Core.CodeInfo, linfo::Core.MethodInstance) at legacy.jl:10",
          "status": "Default",
          "x1": 130,
          "x2": 130.9
         },
         {
          "level": 70,
          "sf": "inflate_ir(ci::Core.CodeInfo, sptypes::Vector{Any}, argtypes::Vector{Any}) at legacy.jl:14",
          "status": "Default",
          "x1": 130,
          "x2": 130.9
         },
         {
          "level": 71,
          "sf": "copy_exprargs(x::Vector{Any}) at expr.jl:64",
          "status": "Default",
          "x1": 130,
          "x2": 130.9
         },
         {
          "level": 72,
          "sf": "copy_exprs(x::Any) at expr.jl:42",
          "status": "Default",
          "x1": 130,
          "x2": 130.9
         },
         {
          "level": 73,
          "sf": "copy(e::Expr) at expr.jl:37",
          "status": "Default",
          "x1": 130,
          "x2": 130.9
         },
         {
          "level": 74,
          "sf": "copy_exprargs(x::Vector{Any}) at expr.jl:64",
          "status": "Default",
          "x1": 130,
          "x2": 130.9
         },
         {
          "level": 75,
          "sf": "getindex at array.jl:861 [inlined]",
          "status": "Default",
          "x1": 130,
          "x2": 130.9
         },
         {
          "level": 65,
          "sf": "assemble_inline_todo!(ir::Core.Compiler.IRCode, state::Core.Compiler.InliningState{Core.Compiler.EdgeTracker, Core.Compiler.WorldView{Core.Compiler.InternalCodeCache}, typeof(Core.Compiler.default_inlining_policy)}) at inlining.jl:1419",
          "status": "Default",
          "x1": 131,
          "x2": 131.9
         },
         {
          "level": 66,
          "sf": "analyze_single_call!(ir::Core.Compiler.IRCode, todo::Vector{Pair{Int64, Any}}, idx::Int64, stmt::Any, ::Core.Compiler.Signature, infos::Vector{Core.Compiler.MethodMatchInfo}, state::Core.Compiler.InliningState{Core.Compiler.EdgeTracker, Core.Compiler.WorldView{Core.Compiler.InternalCodeCache}, typeof(Core.Compiler.default_inlining_policy)}) at inlining.jl:1238",
          "status": "Default",
          "x1": 131,
          "x2": 131.9
         },
         {
          "level": 67,
          "sf": "analyze_method!(match::Core.MethodMatch, atypes::Vector{Any}, state::Core.Compiler.InliningState{Core.Compiler.EdgeTracker, Core.Compiler.WorldView{Core.Compiler.InternalCodeCache}, typeof(Core.Compiler.default_inlining_policy)}) at inlining.jl:851",
          "status": "Default",
          "x1": 131,
          "x2": 131.9
         },
         {
          "level": 68,
          "sf": "resolve_todo(todo::Core.Compiler.InliningTodo, state::Core.Compiler.InliningState{Core.Compiler.EdgeTracker, Core.Compiler.WorldView{Core.Compiler.InternalCodeCache}, typeof(Core.Compiler.default_inlining_policy)}) at inlining.jl:795",
          "status": "Runtime dispatch",
          "x1": 131,
          "x2": 131.9
         },
         {
          "level": 69,
          "sf": "Core.Compiler.InliningTodo(mi::Core.MethodInstance, src::Vector{UInt8}) at inlining.jl:860",
          "status": "Default",
          "x1": 131,
          "x2": 131.9
         },
         {
          "level": 64,
          "sf": "ssa_inlining_pass!(ir::Core.Compiler.IRCode, linetable::Vector{Core.LineInfoNode}, state::Core.Compiler.InliningState{Core.Compiler.EdgeTracker, Core.Compiler.WorldView{Core.Compiler.InternalCodeCache}, typeof(Core.Compiler.default_inlining_policy)}, propagate_inbounds::Bool) at inlining.jl:83",
          "status": "Default",
          "x1": 132,
          "x2": 133.9
         },
         {
          "level": 65,
          "sf": "batch_inline!(todo::Vector{Pair{Int64, Any}}, ir::Core.Compiler.IRCode, linetable::Vector{Core.LineInfoNode}, propagate_inbounds::Bool) at inlining.jl:594",
          "status": "Default",
          "x1": 132,
          "x2": 133.9
         },
         {
          "level": 66,
          "sf": "ir_inline_item!(compact::Core.Compiler.IncrementalCompact, idx::Int64, argexprs::Vector{Any}, linetable::Vector{Core.LineInfoNode}, item::Core.Compiler.InliningTodo, boundscheck::Symbol, todo_bbs::Vector{Tuple{Int64, Int64}}) at inlining.jl:325",
          "status": "Default",
          "x1": 132,
          "x2": 132.9
         },
         {
          "level": 67,
          "sf": "getindex at array.jl:861 [inlined]",
          "status": "Default",
          "x1": 132,
          "x2": 132.9
         },
         {
          "level": 66,
          "sf": "ir_inline_item!(compact::Core.Compiler.IncrementalCompact, idx::Int64, argexprs::Vector{Any}, linetable::Vector{Core.LineInfoNode}, item::Core.Compiler.InliningTodo, boundscheck::Symbol, todo_bbs::Vector{Tuple{Int64, Int64}}) at inlining.jl:431",
          "status": "Default",
          "x1": 133,
          "x2": 133.9
         },
         {
          "level": 67,
          "sf": "iterate(compact::Core.Compiler.IncrementalCompact, ::Tuple{Int64, Int64}) at ir.jl:1294",
          "status": "Default",
          "x1": 133,
          "x2": 133.9
         },
         {
          "level": 68,
          "sf": "process_node!(compact::Core.Compiler.IncrementalCompact, result_idx::Int64, inst::Core.Compiler.Instruction, idx::Int64, processed_idx::Int64, active_bb::Int64, do_rename_ssa::Bool) at ir.jl:996",
          "status": "Default",
          "x1": 133,
          "x2": 133.9
         },
         {
          "level": 63,
          "sf": "run_passes(ci::Core.CodeInfo, nargs::Int64, sv::Core.Compiler.OptimizationState) at optimize.jl:311",
          "status": "Default",
          "x1": 134,
          "x2": 134.9
         },
         {
          "level": 64,
          "sf": "getfield_elim_pass!(ir::Core.Compiler.IRCode) at passes.jl:682",
          "status": "Default",
          "x1": 134,
          "x2": 134.9
         },
         {
          "level": 65,
          "sf": "getindex at array.jl:423 [inlined]",
          "status": "Default",
          "x1": 134,
          "x2": 134.9
         },
         {
          "level": 66,
          "sf": "Array at boot.jl:476 [inlined]",
          "status": "Default",
          "x1": 134,
          "x2": 134.9
         },
         {
          "level": 67,
          "sf": "Array at boot.jl:457 [inlined]",
          "status": "Default",
          "x1": 134,
          "x2": 134.9
         },
         {
          "level": 63,
          "sf": "run_passes(ci::Core.CodeInfo, nargs::Int64, sv::Core.Compiler.OptimizationState) at optimize.jl:314",
          "status": "Default",
          "x1": 135,
          "x2": 135.9
         },
         {
          "level": 64,
          "sf": "adce_pass!(ir::Core.Compiler.IRCode) at passes.jl:896",
          "status": "Default",
          "x1": 135,
          "x2": 135.9
         },
         {
          "level": 65,
          "sf": "fill at array.jl:471 [inlined]",
          "status": "Default",
          "x1": 135,
          "x2": 135.9
         },
         {
          "level": 66,
          "sf": "fill at array.jl:473 [inlined]",
          "status": "Default",
          "x1": 135,
          "x2": 135.9
         },
         {
          "level": 67,
          "sf": "Array at boot.jl:466 [inlined]",
          "status": "Default",
          "x1": 135,
          "x2": 135.9
         },
         {
          "level": 68,
          "sf": "Array at boot.jl:457 [inlined]",
          "status": "Garbage collection",
          "x1": 135,
          "x2": 135.9
         },
         {
          "level": 63,
          "sf": "run_passes(ci::Core.CodeInfo, nargs::Int64, sv::Core.Compiler.OptimizationState) at optimize.jl:317",
          "status": "Default",
          "x1": 136,
          "x2": 136.9
         },
         {
          "level": 64,
          "sf": "compact! at ir.jl:1441 [inlined]",
          "status": "Default",
          "x1": 136,
          "x2": 136.9
         },
         {
          "level": 65,
          "sf": "compact!(code::Core.Compiler.IRCode, allow_cfg_transforms::Bool) at ir.jl:1441",
          "status": "Default",
          "x1": 136,
          "x2": 136.9
         },
         {
          "level": 66,
          "sf": "Core.Compiler.IncrementalCompact(code::Core.Compiler.IRCode, allow_cfg_transforms::Bool) at ir.jl:620",
          "status": "Default",
          "x1": 136,
          "x2": 136.9
         },
         {
          "level": 67,
          "sf": "NewNodeStream at ir.jl:269 [inlined]",
          "status": "Default",
          "x1": 136,
          "x2": 136.9
         },
         {
          "level": 68,
          "sf": "NewNodeStream at ir.jl:269 [inlined]",
          "status": "Default",
          "x1": 136,
          "x2": 136.9
         },
         {
          "level": 69,
          "sf": "Core.Compiler.InstructionStream(len::Int64) at ir.jl:195",
          "status": "Default",
          "x1": 136,
          "x2": 136.9
         },
         {
          "level": 70,
          "sf": "fill at array.jl:471 [inlined]",
          "status": "Default",
          "x1": 136,
          "x2": 136.9
         },
         {
          "level": 71,
          "sf": "fill at array.jl:473 [inlined]",
          "status": "Default",
          "x1": 136,
          "x2": 136.9
         },
         {
          "level": 72,
          "sf": "Array at boot.jl:466 [inlined]",
          "status": "Default",
          "x1": 136,
          "x2": 136.9
         },
         {
          "level": 73,
          "sf": "Array at boot.jl:457 [inlined]",
          "status": "Garbage collection",
          "x1": 136,
          "x2": 136.9
         },
         {
          "level": 51,
          "sf": "_typeinf(interp::Core.Compiler.NativeInterpreter, frame::Core.Compiler.InferenceState) at typeinfer.jl:255",
          "status": "Default",
          "x1": 137,
          "x2": 138.9
         },
         {
          "level": 52,
          "sf": "optimize at optimize.jl:296 [inlined]",
          "status": "Default",
          "x1": 137,
          "x2": 138.9
         },
         {
          "level": 53,
          "sf": "run_passes(ci::Core.CodeInfo, nargs::Int64, sv::Core.Compiler.OptimizationState) at optimize.jl:303",
          "status": "Default",
          "x1": 137,
          "x2": 137.9
         },
         {
          "level": 54,
          "sf": "slot2reg at optimize.jl:419 [inlined]",
          "status": "Default",
          "x1": 137,
          "x2": 137.9
         },
         {
          "level": 55,
          "sf": "construct_ssa!(ci::Core.CodeInfo, ir::Core.Compiler.IRCode, domtree::Core.Compiler.DomTree, defuses::Vector{Core.Compiler.SlotInfo}, nargs::Int64, slottypes::Vector{Any}) at slot2ssa.jl:0",
          "status": "Default",
          "x1": 137,
          "x2": 137.9
         },
         {
          "level": 53,
          "sf": "run_passes(ci::Core.CodeInfo, nargs::Int64, sv::Core.Compiler.OptimizationState) at optimize.jl:311",
          "status": "Default",
          "x1": 138,
          "x2": 138.9
         },
         {
          "level": 54,
          "sf": "getfield_elim_pass!(ir::Core.Compiler.IRCode) at passes.jl:556",
          "status": "Default",
          "x1": 138,
          "x2": 138.9
         },
         {
          "level": 55,
          "sf": "is_known_call(e::Expr, func::Any, src::Core.Compiler.IncrementalCompact) at queries.jl:101",
          "status": "Default",
          "x1": 138,
          "x2": 138.9
         },
         {
          "level": 56,
          "sf": "compact_exprtype at queries.jl:91 [inlined]",
          "status": "Default",
          "x1": 138,
          "x2": 138.9
         },
         {
          "level": 57,
          "sf": "argextype at utilities.jl:229 [inlined]",
          "status": "Default",
          "x1": 138,
          "x2": 138.9
         },
         {
          "level": 58,
          "sf": "argextype(x::Any, src::Core.Compiler.IRCode, sptypes::Vector{Any}, slottypes::Vector{Any}) at utilities.jl:251",
          "status": "Default",
          "x1": 138,
          "x2": 138.9
         },
         {
          "level": 59,
          "sf": "abstract_eval_global at abstractinterpretation.jl:1676 [inlined]",
          "status": "Default",
          "x1": 138,
          "x2": 138.9
         },
         {
          "level": 60,
          "sf": "isconst at reflection.jl:253 [inlined]",
          "status": "Default",
          "x1": 138,
          "x2": 138.9
         },
         {
          "level": 48,
          "sf": "abstract_call_gf_by_type(interp::Core.Compiler.NativeInterpreter, f::Any, fargs::Vector{Any}, argtypes::Vector{Any}, atype::Any, sv::Core.Compiler.InferenceState, max_methods::Int64) at abstractinterpretation.jl:116",
          "status": "Default",
          "x1": 139,
          "x2": 139.9
         },
         {
          "level": 49,
          "sf": "⊑(a::Any, b::Any) at typelattice.jl:195",
          "status": "Default",
          "x1": 139,
          "x2": 139.9
         },
         {
          "level": 41,
          "sf": "_typeinf(interp::Core.Compiler.NativeInterpreter, frame::Core.Compiler.InferenceState) at typeinfer.jl:255",
          "status": "Default",
          "x1": 140,
          "x2": 141.9
         },
         {
          "level": 42,
          "sf": "optimize at optimize.jl:296 [inlined]",
          "status": "Default",
          "x1": 140,
          "x2": 141.9
         },
         {
          "level": 43,
          "sf": "run_passes(ci::Core.CodeInfo, nargs::Int64, sv::Core.Compiler.OptimizationState) at optimize.jl:307",
          "status": "Runtime dispatch",
          "x1": 140,
          "x2": 140.9
         },
         {
          "level": 44,
          "sf": "ssa_inlining_pass!(ir::Core.Compiler.IRCode, linetable::Vector{Core.LineInfoNode}, state::Core.Compiler.InliningState{Core.Compiler.EdgeTracker, Core.Compiler.WorldView{Core.Compiler.InternalCodeCache}, typeof(Core.Compiler.default_inlining_policy)}, propagate_inbounds::Bool) at inlining.jl:80",
          "status": "Default",
          "x1": 140,
          "x2": 140.9
         },
         {
          "level": 45,
          "sf": "assemble_inline_todo!(ir::Core.Compiler.IRCode, state::Core.Compiler.InliningState{Core.Compiler.EdgeTracker, Core.Compiler.WorldView{Core.Compiler.InternalCodeCache}, typeof(Core.Compiler.default_inlining_policy)}) at inlining.jl:1358",
          "status": "Default",
          "x1": 140,
          "x2": 140.9
         },
         {
          "level": 46,
          "sf": "process_simple!(ir::Core.Compiler.IRCode, todo::Vector{Pair{Int64, Any}}, idx::Int64, state::Core.Compiler.InliningState{Core.Compiler.EdgeTracker, Core.Compiler.WorldView{Core.Compiler.InternalCodeCache}, typeof(Core.Compiler.default_inlining_policy)}) at inlining.jl:1192",
          "status": "Default",
          "x1": 140,
          "x2": 140.9
         },
         {
          "level": 47,
          "sf": "with_atype at inlining.jl:20 [inlined]",
          "status": "Default",
          "x1": 140,
          "x2": 140.9
         },
         {
          "level": 48,
          "sf": "argtypes_to_type at typeutils.jl:53 [inlined]",
          "status": "Default",
          "x1": 140,
          "x2": 140.9
         },
         {
          "level": 49,
          "sf": "anymap(f::Core.Compiler.var\"#251#252\", a::Vector{Any}) at utilities.jl:39",
          "status": "Default",
          "x1": 140,
          "x2": 140.9
         },
         {
          "level": 50,
          "sf": "(::Core.Compiler.var\"#251#252\")(a::Any) at typeutils.jl:53",
          "status": "Runtime dispatch",
          "x1": 140,
          "x2": 140.9
         },
         {
          "level": 51,
          "sf": "widenconst(c::Core.Const) at typelattice.jl:286",
          "status": "Default",
          "x1": 140,
          "x2": 140.9
         },
         {
          "level": 43,
          "sf": "run_passes(ci::Core.CodeInfo, nargs::Int64, sv::Core.Compiler.OptimizationState) at optimize.jl:311",
          "status": "Default",
          "x1": 141,
          "x2": 141.9
         },
         {
          "level": 44,
          "sf": "getfield_elim_pass!(ir::Core.Compiler.IRCode) at passes.jl:526",
          "status": "Default",
          "x1": 141,
          "x2": 141.9
         },
         {
          "level": 45,
          "sf": "IncrementalCompact at ir.jl:575 [inlined]",
          "status": "Default",
          "x1": 141,
          "x2": 141.9
         },
         {
          "level": 46,
          "sf": "Core.Compiler.IncrementalCompact(code::Core.Compiler.IRCode, allow_cfg_transforms::Bool) at ir.jl:580",
          "status": "Default",
          "x1": 141,
          "x2": 141.9
         },
         {
          "level": 47,
          "sf": "fill at array.jl:471 [inlined]",
          "status": "Default",
          "x1": 141,
          "x2": 141.9
         },
         {
          "level": 48,
          "sf": "fill at array.jl:473 [inlined]",
          "status": "Default",
          "x1": 141,
          "x2": 141.9
         },
         {
          "level": 49,
          "sf": "fill! at array.jl:353 [inlined]",
          "status": "Default",
          "x1": 141,
          "x2": 141.9
         },
         {
          "level": 50,
          "sf": "setindex! at array.jl:903 [inlined]",
          "status": "Default",
          "x1": 141,
          "x2": 141.9
         },
         {
          "level": 31,
          "sf": "_typeinf(interp::Core.Compiler.NativeInterpreter, frame::Core.Compiler.InferenceState) at typeinfer.jl:255",
          "status": "Default",
          "x1": 142,
          "x2": 146.9
         },
         {
          "level": 32,
          "sf": "optimize at optimize.jl:296 [inlined]",
          "status": "Default",
          "x1": 142,
          "x2": 146.9
         },
         {
          "level": 33,
          "sf": "run_passes(ci::Core.CodeInfo, nargs::Int64, sv::Core.Compiler.OptimizationState) at optimize.jl:307",
          "status": "Runtime dispatch",
          "x1": 142,
          "x2": 144.9
         },
         {
          "level": 34,
          "sf": "ssa_inlining_pass!(ir::Core.Compiler.IRCode, linetable::Vector{Core.LineInfoNode}, state::Core.Compiler.InliningState{Core.Compiler.EdgeTracker, Core.Compiler.WorldView{Core.Compiler.InternalCodeCache}, typeof(Core.Compiler.default_inlining_policy)}, propagate_inbounds::Bool) at inlining.jl:80",
          "status": "Default",
          "x1": 142,
          "x2": 143.9
         },
         {
          "level": 35,
          "sf": "assemble_inline_todo!(ir::Core.Compiler.IRCode, state::Core.Compiler.InliningState{Core.Compiler.EdgeTracker, Core.Compiler.WorldView{Core.Compiler.InternalCodeCache}, typeof(Core.Compiler.default_inlining_policy)}) at inlining.jl:1358",
          "status": "Default",
          "x1": 142,
          "x2": 142.9
         },
         {
          "level": 36,
          "sf": "process_simple!(ir::Core.Compiler.IRCode, todo::Vector{Pair{Int64, Any}}, idx::Int64, state::Core.Compiler.InliningState{Core.Compiler.EdgeTracker, Core.Compiler.WorldView{Core.Compiler.InternalCodeCache}, typeof(Core.Compiler.default_inlining_policy)}) at inlining.jl:1192",
          "status": "Default",
          "x1": 142,
          "x2": 142.9
         },
         {
          "level": 37,
          "sf": "with_atype at inlining.jl:20 [inlined]",
          "status": "Default",
          "x1": 142,
          "x2": 142.9
         },
         {
          "level": 38,
          "sf": "argtypes_to_type at typeutils.jl:53 [inlined]",
          "status": "Default",
          "x1": 142,
          "x2": 142.9
         },
         {
          "level": 39,
          "sf": "anymap(f::Core.Compiler.var\"#251#252\", a::Vector{Any}) at utilities.jl:39",
          "status": "Default",
          "x1": 142,
          "x2": 142.9
         },
         {
          "level": 40,
          "sf": "(::Core.Compiler.var\"#251#252\")(a::Any) at typeutils.jl:53",
          "status": "Runtime dispatch",
          "x1": 142,
          "x2": 142.9
         },
         {
          "level": 41,
          "sf": "widenconst(c::Core.Const) at typelattice.jl:286",
          "status": "Default",
          "x1": 142,
          "x2": 142.9
         },
         {
          "level": 35,
          "sf": "assemble_inline_todo!(ir::Core.Compiler.IRCode, state::Core.Compiler.InliningState{Core.Compiler.EdgeTracker, Core.Compiler.WorldView{Core.Compiler.InternalCodeCache}, typeof(Core.Compiler.default_inlining_policy)}) at inlining.jl:1389",
          "status": "Default",
          "x1": 143,
          "x2": 143.9
         },
         {
          "level": 36,
          "sf": "maybe_handle_const_call!(ir::Core.Compiler.IRCode, idx::Int64, stmt::Expr, ::Core.Compiler.ConstCallInfo, ::Core.Compiler.Signature, state::Core.Compiler.InliningState{Core.Compiler.EdgeTracker, Core.Compiler.WorldView{Core.Compiler.InternalCodeCache}, typeof(Core.Compiler.default_inlining_policy)}, isinvoke::Bool, todo::Vector{Pair{Int64, Any}}) at inlining.jl:1305",
          "status": "Default",
          "x1": 143,
          "x2": 143.9
         },
         {
          "level": 37,
          "sf": "resolve_todo(todo::Core.Compiler.InliningTodo, state::Core.Compiler.InliningState{Core.Compiler.EdgeTracker, Core.Compiler.WorldView{Core.Compiler.InternalCodeCache}, typeof(Core.Compiler.default_inlining_policy)}) at inlining.jl:795",
          "status": "Runtime dispatch",
          "x1": 143,
          "x2": 143.9
         },
         {
          "level": 38,
          "sf": "Core.Compiler.InliningTodo(mi::Core.MethodInstance, src::Core.CodeInfo) at inlining.jl:864",
          "status": "Default",
          "x1": 143,
          "x2": 143.9
         },
         {
          "level": 39,
          "sf": "inflate_ir(ci::Core.CodeInfo, linfo::Core.MethodInstance) at legacy.jl:6",
          "status": "Default",
          "x1": 143,
          "x2": 143.9
         },
         {
          "level": 40,
          "sf": "matching_cache_argtypes(linfo::Core.MethodInstance, #unused#::Nothing, va_override::Bool) at inferenceresult.jl:152",
          "status": "Runtime dispatch",
          "x1": 143,
          "x2": 143.9
         },
         {
          "level": 41,
          "sf": "most_general_argtypes(method::Method, specTypes::Any, isva::Bool) at inferenceresult.jl:52",
          "status": "Default",
          "x1": 143,
          "x2": 143.9
         },
         {
          "level": 42,
          "sf": "most_general_argtypes(method::Method, specTypes::Any, isva::Bool, withfirst::Bool) at inferenceresult.jl:123",
          "status": "Default",
          "x1": 143,
          "x2": 143.9
         },
         {
          "level": 43,
          "sf": "rewrap(t::Any, u::Any) at typeutils.jl:8",
          "status": "Default",
          "x1": 143,
          "x2": 143.9
         },
         {
          "level": 34,
          "sf": "ssa_inlining_pass!(ir::Core.Compiler.IRCode, linetable::Vector{Core.LineInfoNode}, state::Core.Compiler.InliningState{Core.Compiler.EdgeTracker, Core.Compiler.WorldView{Core.Compiler.InternalCodeCache}, typeof(Core.Compiler.default_inlining_policy)}, propagate_inbounds::Bool) at inlining.jl:83",
          "status": "Default",
          "x1": 144,
          "x2": 144.9
         },
         {
          "level": 35,
          "sf": "batch_inline!(todo::Vector{Pair{Int64, Any}}, ir::Core.Compiler.IRCode, linetable::Vector{Core.LineInfoNode}, propagate_inbounds::Bool) at inlining.jl:589",
          "status": "Default",
          "x1": 144,
          "x2": 144.9
         },
         {
          "level": 36,
          "sf": "effect_free(inst::Core.Compiler.NewInstruction) at ir.jl:177",
          "status": "Runtime dispatch",
          "x1": 144,
          "x2": 144.9
         },
         {
          "level": 33,
          "sf": "run_passes(ci::Core.CodeInfo, nargs::Int64, sv::Core.Compiler.OptimizationState) at optimize.jl:311",
          "status": "Default",
          "x1": 145,
          "x2": 145.9
         },
         {
          "level": 34,
          "sf": "getfield_elim_pass!(ir::Core.Compiler.IRCode) at passes.jl:709",
          "status": "Default",
          "x1": 145,
          "x2": 145.9
         },
         {
          "level": 35,
          "sf": "perform_lifting!(compact::Core.Compiler.IncrementalCompact, visited_phinodes::Vector{Any}, cache_key::Any, lifting_cache::Core.Compiler.IdDict{Pair{Union{Core.Compiler.NewSSAValue, Core.Compiler.OldSSAValue, Core.SSAValue}, Any}, Union{Core.Compiler.NewSSAValue, Core.Compiler.OldSSAValue, Core.SSAValue}}, result_t::Any, lifted_leaves::Core.Compiler.IdDict{Any, Any}, stmt_val::Any) at passes.jl:512",
          "status": "Default",
          "x1": 145,
          "x2": 145.9
         },
         {
          "level": 36,
          "sf": "simple_walk(compact::Core.Compiler.IncrementalCompact, defssa::Any) at passes.jl:95",
          "status": "Default",
          "x1": 145,
          "x2": 145.9
         },
         {
          "level": 37,
          "sf": "simple_walk(compact::Core.Compiler.IncrementalCompact, defssa::Any, pi_callback::Core.Compiler.var\"#381#382\") at passes.jl:106",
          "status": "Runtime dispatch",
          "x1": 145,
          "x2": 145.9
         },
         {
          "level": 33,
          "sf": "run_passes(ci::Core.CodeInfo, nargs::Int64, sv::Core.Compiler.OptimizationState) at optimize.jl:314",
          "status": "Default",
          "x1": 146,
          "x2": 146.9
         },
         {
          "level": 34,
          "sf": "adce_pass!(ir::Core.Compiler.IRCode) at passes.jl:899",
          "status": "Default",
          "x1": 146,
          "x2": 146.9
         },
         {
          "level": 35,
          "sf": "iterate at ir.jl:1237 [inlined]",
          "status": "Default",
          "x1": 146,
          "x2": 146.9
         },
         {
          "level": 36,
          "sf": "iterate(compact::Core.Compiler.IncrementalCompact, ::Tuple{Int64, Int64}) at ir.jl:1294",
          "status": "Default",
          "x1": 146,
          "x2": 146.9
         },
         {
          "level": 37,
          "sf": "process_node!(compact::Core.Compiler.IncrementalCompact, result_idx::Int64, inst::Core.Compiler.Instruction, idx::Int64, processed_idx::Int64, active_bb::Int64, do_rename_ssa::Bool) at ir.jl:1021",
          "status": "Default",
          "x1": 146,
          "x2": 146.9
         },
         {
          "level": 38,
          "sf": "renumber_ssa2!(stmt::Any, ssanums::Vector{Any}, used_ssas::Vector{Int64}, late_fixup::Vector{Int64}, result_idx::Int64, do_rename_ssa::Bool) at ir.jl:912",
          "status": "Default",
          "x1": 146,
          "x2": 146.9
         },
         {
          "level": 39,
          "sf": "iterate(it::Core.Compiler.UseRefIterator, #unused#::Nothing) at ir.jl:472",
          "status": "Default",
          "x1": 146,
          "x2": 146.9
         },
         {
          "level": 23,
          "sf": "typeinf_local(interp::Core.Compiler.NativeInterpreter, frame::Core.Compiler.InferenceState) at abstractinterpretation.jl:1918",
          "status": "Default",
          "x1": 147,
          "x2": 158.9
         },
         {
          "level": 24,
          "sf": "abstract_eval_statement(interp::Core.Compiler.NativeInterpreter, e::Any, vtypes::Vector{Any}, sv::Core.Compiler.InferenceState) at abstractinterpretation.jl:1534",
          "status": "Default",
          "x1": 147,
          "x2": 158.9
         },
         {
          "level": 25,
          "sf": "abstract_call(interp::Core.Compiler.NativeInterpreter, fargs::Vector{Any}, argtypes::Vector{Any}, sv::Core.Compiler.InferenceState) at abstractinterpretation.jl:1382",
          "status": "Default",
          "x1": 147,
          "x2": 158.9
         },
         {
          "level": 26,
          "sf": "abstract_call(interp::Core.Compiler.NativeInterpreter, fargs::Vector{Any}, argtypes::Vector{Any}, sv::Core.Compiler.InferenceState, max_methods::Int64) at abstractinterpretation.jl:1386",
          "status": "Runtime dispatch",
          "x1": 147,
          "x2": 147.9
         },
         {
          "level": 27,
          "sf": "widenconst(c::Core.Const) at typelattice.jl:286",
          "status": "Default",
          "x1": 147,
          "x2": 147.9
         },
         {
          "level": 26,
          "sf": "abstract_call(interp::Core.Compiler.NativeInterpreter, fargs::Vector{Any}, argtypes::Vector{Any}, sv::Core.Compiler.InferenceState, max_methods::Int64) at abstractinterpretation.jl:1397",
          "status": "Default",
          "x1": 148,
          "x2": 158.9
         },
         {
          "level": 27,
          "sf": "abstract_call_known(interp::Core.Compiler.NativeInterpreter, f::Any, fargs::Vector{Any}, argtypes::Vector{Any}, sv::Core.Compiler.InferenceState, max_methods::Int64) at abstractinterpretation.jl:1341",
          "status": "Default",
          "x1": 148,
          "x2": 148.9
         },
         {
          "level": 28,
          "sf": "argtypes_to_type at typeutils.jl:53 [inlined]",
          "status": "Default",
          "x1": 148,
          "x2": 148.9
         },
         {
          "level": 29,
          "sf": "anymap(f::Core.Compiler.var\"#251#252\", a::Vector{Any}) at utilities.jl:39",
          "status": "Default",
          "x1": 148,
          "x2": 148.9
         },
         {
          "level": 30,
          "sf": "(::Core.Compiler.var\"#251#252\")(a::Any) at typeutils.jl:53",
          "status": "Runtime dispatch",
          "x1": 148,
          "x2": 148.9
         },
         {
          "level": 31,
          "sf": "widenconst(c::Core.Const) at typelattice.jl:286",
          "status": "Default",
          "x1": 148,
          "x2": 148.9
         },
         {
          "level": 27,
          "sf": "abstract_call_known(interp::Core.Compiler.NativeInterpreter, f::Any, fargs::Vector{Any}, argtypes::Vector{Any}, sv::Core.Compiler.InferenceState, max_methods::Int64) at abstractinterpretation.jl:1342",
          "status": "Default",
          "x1": 149,
          "x2": 158.9
         },
         {
          "level": 28,
          "sf": "abstract_call_gf_by_type(interp::Core.Compiler.NativeInterpreter, f::Any, fargs::Vector{Any}, argtypes::Vector{Any}, atype::Any, sv::Core.Compiler.InferenceState, max_methods::Int64) at abstractinterpretation.jl:39",
          "status": "Default",
          "x1": 149,
          "x2": 149.9
         },
         {
          "level": 29,
          "sf": "find_matching_methods(argtypes::Vector{Any}, atype::Any, method_table::Core.Compiler.CachedMethodTable{Core.Compiler.InternalMethodTable}, union_split::Int64, max_methods::Int64) at abstractinterpretation.jl:308",
          "status": "Runtime dispatch",
          "x1": 149,
          "x2": 149.9
         },
         {
          "level": 30,
          "sf": "(::Core.Compiler.var\"#findall##kw\")(::NamedTuple{(:limit,), Tuple{Int64}}, ::typeof(Core.Compiler.findall), sig::Type, table::Core.Compiler.CachedMethodTable{Core.Compiler.InternalMethodTable}) at methodtable.jl:95",
          "status": "Default",
          "x1": 149,
          "x2": 149.9
         },
         {
          "level": 31,
          "sf": "#findall#248 at methodtable.jl:96 [inlined]",
          "status": "Default",
          "x1": 149,
          "x2": 149.9
         },
         {
          "level": 32,
          "sf": "get! at iddict.jl:176 [inlined]",
          "status": "Default",
          "x1": 149,
          "x2": 149.9
         },
         {
          "level": 28,
          "sf": "abstract_call_gf_by_type(interp::Core.Compiler.NativeInterpreter, f::Any, fargs::Vector{Any}, argtypes::Vector{Any}, atype::Any, sv::Core.Compiler.InferenceState, max_methods::Int64) at abstractinterpretation.jl:113",
          "status": "Default",
          "x1": 150,
          "x2": 158.9
         },
         {
          "level": 29,
          "sf": "abstract_call_method_with_const_args(interp::Core.Compiler.NativeInterpreter, result::Core.Compiler.MethodCallResult, f::Any, argtypes::Vector{Any}, match::Core.MethodMatch, sv::Core.Compiler.InferenceState, va_override::Bool) at abstractinterpretation.jl:528",
          "status": "Default",
          "x1": 150,
          "x2": 150.9
         },
         {
          "level": 30,
          "sf": "maybe_get_const_prop_profitable(interp::Core.Compiler.NativeInterpreter, result::Core.Compiler.MethodCallResult, f::Any, argtypes::Vector{Any}, match::Core.MethodMatch, sv::Core.Compiler.InferenceState) at abstractinterpretation.jl:593",
          "status": "Default",
          "x1": 150,
          "x2": 150.9
         },
         {
          "level": 31,
          "sf": "specialize_method at utilities.jl:204 [inlined]",
          "status": "Default",
          "x1": 150,
          "x2": 150.9
         },
         {
          "level": 32,
          "sf": "specialize_method at utilities.jl:204 [inlined]",
          "status": "Default",
          "x1": 150,
          "x2": 150.9
         },
         {
          "level": 33,
          "sf": "specialize_method(method::Method, atypes::Any, sparams::Core.SimpleVector, preexisting::Bool, compilesig::Bool) at utilities.jl:200",
          "status": "Default",
          "x1": 150,
          "x2": 150.9
         },
         {
          "level": 29,
          "sf": "abstract_call_method_with_const_args(interp::Core.Compiler.NativeInterpreter, result::Core.Compiler.MethodCallResult, f::Any, argtypes::Vector{Any}, match::Core.MethodMatch, sv::Core.Compiler.InferenceState, va_override::Bool) at abstractinterpretation.jl:557",
          "status": "Default",
          "x1": 151,
          "x2": 158.9
         },
         {
          "level": 30,
          "sf": "typeinf(interp::Core.Compiler.NativeInterpreter, frame::Core.Compiler.InferenceState) at typeinfer.jl:209",
          "status": "Default",
          "x1": 151,
          "x2": 158.9
         },
         {
          "level": 31,
          "sf": "_typeinf(interp::Core.Compiler.NativeInterpreter, frame::Core.Compiler.InferenceState) at typeinfer.jl:226",
          "status": "Default",
          "x1": 151,
          "x2": 154.9
         },
         {
          "level": 32,
          "sf": "typeinf_nocycle(interp::Core.Compiler.NativeInterpreter, frame::Core.Compiler.InferenceState) at abstractinterpretation.jl:2014",
          "status": "Default",
          "x1": 151,
          "x2": 154.9
         },
         {
          "level": 33,
          "sf": "typeinf_local(interp::Core.Compiler.NativeInterpreter, frame::Core.Compiler.InferenceState) at abstractinterpretation.jl:1918",
          "status": "Default",
          "x1": 151,
          "x2": 154.9
         },
         {
          "level": 34,
          "sf": "abstract_eval_statement(interp::Core.Compiler.NativeInterpreter, e::Any, vtypes::Vector{Any}, sv::Core.Compiler.InferenceState) at abstractinterpretation.jl:1534",
          "status": "Default",
          "x1": 151,
          "x2": 154.9
         },
         {
          "level": 35,
          "sf": "abstract_call(interp::Core.Compiler.NativeInterpreter, fargs::Vector{Any}, argtypes::Vector{Any}, sv::Core.Compiler.InferenceState) at abstractinterpretation.jl:1382",
          "status": "Default",
          "x1": 151,
          "x2": 154.9
         },
         {
          "level": 36,
          "sf": "abstract_call(interp::Core.Compiler.NativeInterpreter, fargs::Vector{Any}, argtypes::Vector{Any}, sv::Core.Compiler.InferenceState, max_methods::Int64) at abstractinterpretation.jl:1397",
          "status": "Default",
          "x1": 151,
          "x2": 154.9
         },
         {
          "level": 37,
          "sf": "abstract_call_known(interp::Core.Compiler.NativeInterpreter, f::Any, fargs::Vector{Any}, argtypes::Vector{Any}, sv::Core.Compiler.InferenceState, max_methods::Int64) at abstractinterpretation.jl:1249",
          "status": "Default",
          "x1": 151,
          "x2": 154.9
         },
         {
          "level": 38,
          "sf": "abstract_apply(interp::Core.Compiler.NativeInterpreter, argtypes::Vector{Any}, sv::Core.Compiler.InferenceState, max_methods::Int64) at abstractinterpretation.jl:987",
          "status": "Default",
          "x1": 151,
          "x2": 154.9
         },
         {
          "level": 39,
          "sf": "abstract_call(interp::Core.Compiler.NativeInterpreter, fargs::Nothing, argtypes::Vector{Any}, sv::Core.Compiler.InferenceState, max_methods::Int64) at abstractinterpretation.jl:1397",
          "status": "Default",
          "x1": 151,
          "x2": 154.9
         },
         {
          "level": 40,
          "sf": "abstract_call_known(interp::Core.Compiler.NativeInterpreter, f::Any, fargs::Nothing, argtypes::Vector{Any}, sv::Core.Compiler.InferenceState, max_methods::Int64) at abstractinterpretation.jl:1342",
          "status": "Default",
          "x1": 151,
          "x2": 154.9
         },
         {
          "level": 41,
          "sf": "abstract_call_gf_by_type(interp::Core.Compiler.NativeInterpreter, f::Any, fargs::Nothing, argtypes::Vector{Any}, atype::Any, sv::Core.Compiler.InferenceState, max_methods::Int64) at abstractinterpretation.jl:113",
          "status": "Default",
          "x1": 151,
          "x2": 154.9
         },
         {
          "level": 42,
          "sf": "abstract_call_method_with_const_args(interp::Core.Compiler.NativeInterpreter, result::Core.Compiler.MethodCallResult, f::Any, argtypes::Vector{Any}, match::Core.MethodMatch, sv::Core.Compiler.InferenceState, va_override::Bool) at abstractinterpretation.jl:557",
          "status": "Default",
          "x1": 151,
          "x2": 154.9
         },
         {
          "level": 43,
          "sf": "typeinf(interp::Core.Compiler.NativeInterpreter, frame::Core.Compiler.InferenceState) at typeinfer.jl:209",
          "status": "Default",
          "x1": 151,
          "x2": 154.9
         },
         {
          "level": 44,
          "sf": "_typeinf(interp::Core.Compiler.NativeInterpreter, frame::Core.Compiler.InferenceState) at typeinfer.jl:226",
          "status": "Default",
          "x1": 151,
          "x2": 154.9
         },
         {
          "level": 45,
          "sf": "typeinf_nocycle(interp::Core.Compiler.NativeInterpreter, frame::Core.Compiler.InferenceState) at abstractinterpretation.jl:2014",
          "status": "Default",
          "x1": 151,
          "x2": 154.9
         },
         {
          "level": 46,
          "sf": "typeinf_local(interp::Core.Compiler.NativeInterpreter, frame::Core.Compiler.InferenceState) at abstractinterpretation.jl:1918",
          "status": "Default",
          "x1": 151,
          "x2": 154.9
         },
         {
          "level": 47,
          "sf": "abstract_eval_statement(interp::Core.Compiler.NativeInterpreter, e::Any, vtypes::Vector{Any}, sv::Core.Compiler.InferenceState) at abstractinterpretation.jl:1534",
          "status": "Default",
          "x1": 151,
          "x2": 154.9
         },
         {
          "level": 48,
          "sf": "abstract_call(interp::Core.Compiler.NativeInterpreter, fargs::Vector{Any}, argtypes::Vector{Any}, sv::Core.Compiler.InferenceState) at abstractinterpretation.jl:1382",
          "status": "Default",
          "x1": 151,
          "x2": 154.9
         },
         {
          "level": 49,
          "sf": "abstract_call(interp::Core.Compiler.NativeInterpreter, fargs::Vector{Any}, argtypes::Vector{Any}, sv::Core.Compiler.InferenceState, max_methods::Int64) at abstractinterpretation.jl:1397",
          "status": "Default",
          "x1": 151,
          "x2": 154.9
         },
         {
          "level": 50,
          "sf": "abstract_call_known(interp::Core.Compiler.NativeInterpreter, f::Any, fargs::Vector{Any}, argtypes::Vector{Any}, sv::Core.Compiler.InferenceState, max_methods::Int64) at abstractinterpretation.jl:1341",
          "status": "Default",
          "x1": 151,
          "x2": 151.9
         },
         {
          "level": 51,
          "sf": "argtypes_to_type at typeutils.jl:53 [inlined]",
          "status": "Default",
          "x1": 151,
          "x2": 151.9
         },
         {
          "level": 52,
          "sf": "anymap(f::Core.Compiler.var\"#251#252\", a::Vector{Any}) at utilities.jl:39",
          "status": "Default",
          "x1": 151,
          "x2": 151.9
         },
         {
          "level": 53,
          "sf": "(::Core.Compiler.var\"#251#252\")(a::Any) at typeutils.jl:53",
          "status": "Runtime dispatch",
          "x1": 151,
          "x2": 151.9
         },
         {
          "level": 54,
          "sf": "widenconst(c::Core.Const) at typelattice.jl:286",
          "status": "Default",
          "x1": 151,
          "x2": 151.9
         },
         {
          "level": 50,
          "sf": "abstract_call_known(interp::Core.Compiler.NativeInterpreter, f::Any, fargs::Vector{Any}, argtypes::Vector{Any}, sv::Core.Compiler.InferenceState, max_methods::Int64) at abstractinterpretation.jl:1342",
          "status": "Default",
          "x1": 152,
          "x2": 154.9
         },
         {
          "level": 51,
          "sf": "abstract_call_gf_by_type(interp::Core.Compiler.NativeInterpreter, f::Any, fargs::Vector{Any}, argtypes::Vector{Any}, atype::Any, sv::Core.Compiler.InferenceState, max_methods::Int64) at abstractinterpretation.jl:113",
          "status": "Default",
          "x1": 152,
          "x2": 154.9
         },
         {
          "level": 52,
          "sf": "abstract_call_method_with_const_args(interp::Core.Compiler.NativeInterpreter, result::Core.Compiler.MethodCallResult, f::Any, argtypes::Vector{Any}, match::Core.MethodMatch, sv::Core.Compiler.InferenceState, va_override::Bool) at abstractinterpretation.jl:557",
          "status": "Default",
          "x1": 152,
          "x2": 154.9
         },
         {
          "level": 53,
          "sf": "typeinf(interp::Core.Compiler.NativeInterpreter, frame::Core.Compiler.InferenceState) at typeinfer.jl:209",
          "status": "Default",
          "x1": 152,
          "x2": 154.9
         },
         {
          "level": 54,
          "sf": "_typeinf(interp::Core.Compiler.NativeInterpreter, frame::Core.Compiler.InferenceState) at typeinfer.jl:226",
          "status": "Default",
          "x1": 152,
          "x2": 152.9
         },
         {
          "level": 55,
          "sf": "typeinf_nocycle(interp::Core.Compiler.NativeInterpreter, frame::Core.Compiler.InferenceState) at abstractinterpretation.jl:2014",
          "status": "Default",
          "x1": 152,
          "x2": 152.9
         },
         {
          "level": 56,
          "sf": "typeinf_local(interp::Core.Compiler.NativeInterpreter, frame::Core.Compiler.InferenceState) at abstractinterpretation.jl:1918",
          "status": "Default",
          "x1": 152,
          "x2": 152.9
         },
         {
          "level": 57,
          "sf": "abstract_eval_statement(interp::Core.Compiler.NativeInterpreter, e::Any, vtypes::Vector{Any}, sv::Core.Compiler.InferenceState) at abstractinterpretation.jl:1534",
          "status": "Default",
          "x1": 152,
          "x2": 152.9
         },
         {
          "level": 58,
          "sf": "abstract_call(interp::Core.Compiler.NativeInterpreter, fargs::Vector{Any}, argtypes::Vector{Any}, sv::Core.Compiler.InferenceState) at abstractinterpretation.jl:1382",
          "status": "Default",
          "x1": 152,
          "x2": 152.9
         },
         {
          "level": 59,
          "sf": "abstract_call(interp::Core.Compiler.NativeInterpreter, fargs::Vector{Any}, argtypes::Vector{Any}, sv::Core.Compiler.InferenceState, max_methods::Int64) at abstractinterpretation.jl:1386",
          "status": "Runtime dispatch",
          "x1": 152,
          "x2": 152.9
         },
         {
          "level": 60,
          "sf": "widenconst(c::Core.Const) at typelattice.jl:286",
          "status": "Default",
          "x1": 152,
          "x2": 152.9
         },
         {
          "level": 54,
          "sf": "_typeinf(interp::Core.Compiler.NativeInterpreter, frame::Core.Compiler.InferenceState) at typeinfer.jl:255",
          "status": "Default",
          "x1": 153,
          "x2": 154.9
         },
         {
          "level": 55,
          "sf": "optimize at optimize.jl:296 [inlined]",
          "status": "Default",
          "x1": 153,
          "x2": 154.9
         },
         {
          "level": 56,
          "sf": "run_passes(ci::Core.CodeInfo, nargs::Int64, sv::Core.Compiler.OptimizationState) at optimize.jl:307",
          "status": "Runtime dispatch",
          "x1": 153,
          "x2": 154.9
         },
         {
          "level": 57,
          "sf": "ssa_inlining_pass!(ir::Core.Compiler.IRCode, linetable::Vector{Core.LineInfoNode}, state::Core.Compiler.InliningState{Core.Compiler.EdgeTracker, Core.Compiler.WorldView{Core.Compiler.InternalCodeCache}, typeof(Core.Compiler.default_inlining_policy)}, propagate_inbounds::Bool) at inlining.jl:80",
          "status": "Default",
          "x1": 153,
          "x2": 154.9
         },
         {
          "level": 58,
          "sf": "assemble_inline_todo!(ir::Core.Compiler.IRCode, state::Core.Compiler.InliningState{Core.Compiler.EdgeTracker, Core.Compiler.WorldView{Core.Compiler.InternalCodeCache}, typeof(Core.Compiler.default_inlining_policy)}) at inlining.jl:1358",
          "status": "Default",
          "x1": 153,
          "x2": 154.9
         },
         {
          "level": 59,
          "sf": "process_simple!(ir::Core.Compiler.IRCode, todo::Vector{Pair{Int64, Any}}, idx::Int64, state::Core.Compiler.InliningState{Core.Compiler.EdgeTracker, Core.Compiler.WorldView{Core.Compiler.InternalCodeCache}, typeof(Core.Compiler.default_inlining_policy)}) at inlining.jl:1192",
          "status": "Default",
          "x1": 153,
          "x2": 154.9
         },
         {
          "level": 60,
          "sf": "with_atype at inlining.jl:20 [inlined]",
          "status": "Default",
          "x1": 153,
          "x2": 154.9
         },
         {
          "level": 61,
          "sf": "argtypes_to_type at typeutils.jl:53 [inlined]",
          "status": "Default",
          "x1": 153,
          "x2": 154.9
         },
         {
          "level": 62,
          "sf": "anymap(f::Core.Compiler.var\"#251#252\", a::Vector{Any}) at utilities.jl:39",
          "status": "Default",
          "x1": 153,
          "x2": 154.9
         },
         {
          "level": 63,
          "sf": "(::Core.Compiler.var\"#251#252\")(a::Any) at typeutils.jl:53",
          "status": "Runtime dispatch",
          "x1": 153,
          "x2": 154.9
         },
         {
          "level": 64,
          "sf": "widenconst(c::Core.Const) at typelattice.jl:286",
          "status": "Default",
          "x1": 153,
          "x2": 154.9
         },
         {
          "level": 31,
          "sf": "_typeinf(interp::Core.Compiler.NativeInterpreter, frame::Core.Compiler.InferenceState) at typeinfer.jl:255",
          "status": "Default",
          "x1": 155,
          "x2": 157.9
         },
         {
          "level": 32,
          "sf": "optimize at optimize.jl:296 [inlined]",
          "status": "Default",
          "x1": 155,
          "x2": 157.9
         },
         {
          "level": 33,
          "sf": "run_passes(ci::Core.CodeInfo, nargs::Int64, sv::Core.Compiler.OptimizationState) at optimize.jl:303",
          "status": "Default",
          "x1": 155,
          "x2": 156.9
         },
         {
          "level": 34,
          "sf": "slot2reg at optimize.jl:419 [inlined]",
          "status": "Default",
          "x1": 155,
          "x2": 156.9
         },
         {
          "level": 35,
          "sf": "construct_ssa!(ci::Core.CodeInfo, ir::Core.Compiler.IRCode, domtree::Core.Compiler.DomTree, defuses::Vector{Core.Compiler.SlotInfo}, nargs::Int64, slottypes::Vector{Any}) at slot2ssa.jl:896",
          "status": "Default",
          "x1": 155,
          "x2": 156.9
         },
         {
          "level": 36,
          "sf": "domsort_ssa!(ir::Core.Compiler.IRCode, domtree::Core.Compiler.DomTree) at slot2ssa.jl:422",
          "status": "Default",
          "x1": 155,
          "x2": 155.9
         },
         {
          "level": 37,
          "sf": "Core.Compiler.InstructionStream(len::Int64) at ir.jl:193",
          "status": "Default",
          "x1": 155,
          "x2": 155.9
         },
         {
          "level": 38,
          "sf": "Array at boot.jl:471 [inlined]",
          "status": "Default",
          "x1": 155,
          "x2": 155.9
         },
         {
          "level": 39,
          "sf": "Array at boot.jl:457 [inlined]",
          "status": "Default",
          "x1": 155,
          "x2": 155.9
         },
         {
          "level": 36,
          "sf": "domsort_ssa!(ir::Core.Compiler.IRCode, domtree::Core.Compiler.DomTree) at slot2ssa.jl:496",
          "status": "Default",
          "x1": 156,
          "x2": 156.9
         },
         {
          "level": 37,
          "sf": "renumber_ssa! at slot2ssa.jl:62 [inlined]",
          "status": "Default",
          "x1": 156,
          "x2": 156.9
         },
         {
          "level": 38,
          "sf": "ssamap(f::Core.Compiler.var\"#339#340\"{Vector{Core.SSAValue}, Bool}, stmt::Any) at ir.jl:508",
          "status": "Default",
          "x1": 156,
          "x2": 156.9
         },
         {
          "level": 39,
          "sf": "setindex!(x::Core.Compiler.UseRef, v::Any) at ir.jl:416",
          "status": "Default",
          "x1": 156,
          "x2": 156.9
         },
         {
          "level": 33,
          "sf": "run_passes(ci::Core.CodeInfo, nargs::Int64, sv::Core.Compiler.OptimizationState) at optimize.jl:307",
          "status": "Runtime dispatch",
          "x1": 157,
          "x2": 157.9
         },
         {
          "level": 34,
          "sf": "ssa_inlining_pass!(ir::Core.Compiler.IRCode, linetable::Vector{Core.LineInfoNode}, state::Core.Compiler.InliningState{Core.Compiler.EdgeTracker, Core.Compiler.WorldView{Core.Compiler.InternalCodeCache}, typeof(Core.Compiler.default_inlining_policy)}, propagate_inbounds::Bool) at inlining.jl:80",
          "status": "Default",
          "x1": 157,
          "x2": 157.9
         },
         {
          "level": 35,
          "sf": "assemble_inline_todo!(ir::Core.Compiler.IRCode, state::Core.Compiler.InliningState{Core.Compiler.EdgeTracker, Core.Compiler.WorldView{Core.Compiler.InternalCodeCache}, typeof(Core.Compiler.default_inlining_policy)}) at inlining.jl:1358",
          "status": "Default",
          "x1": 157,
          "x2": 157.9
         },
         {
          "level": 36,
          "sf": "process_simple!(ir::Core.Compiler.IRCode, todo::Vector{Pair{Int64, Any}}, idx::Int64, state::Core.Compiler.InliningState{Core.Compiler.EdgeTracker, Core.Compiler.WorldView{Core.Compiler.InternalCodeCache}, typeof(Core.Compiler.default_inlining_policy)}) at inlining.jl:1192",
          "status": "Default",
          "x1": 157,
          "x2": 157.9
         },
         {
          "level": 37,
          "sf": "with_atype at inlining.jl:20 [inlined]",
          "status": "Default",
          "x1": 157,
          "x2": 157.9
         },
         {
          "level": 38,
          "sf": "argtypes_to_type at typeutils.jl:53 [inlined]",
          "status": "Default",
          "x1": 157,
          "x2": 157.9
         },
         {
          "level": 39,
          "sf": "anymap(f::Core.Compiler.var\"#251#252\", a::Vector{Any}) at utilities.jl:39",
          "status": "Default",
          "x1": 157,
          "x2": 157.9
         },
         {
          "level": 40,
          "sf": "(::Core.Compiler.var\"#251#252\")(a::Any) at typeutils.jl:53",
          "status": "Runtime dispatch",
          "x1": 157,
          "x2": 157.9
         },
         {
          "level": 41,
          "sf": "widenconst(c::Core.Const) at typelattice.jl:286",
          "status": "Default",
          "x1": 157,
          "x2": 157.9
         },
         {
          "level": 31,
          "sf": "_typeinf(interp::Core.Compiler.NativeInterpreter, frame::Core.Compiler.InferenceState) at typeinfer.jl:277",
          "status": "Default",
          "x1": 158,
          "x2": 158.9
         },
         {
          "level": 32,
          "sf": "store_backedges at typeinfer.jl:491 [inlined]",
          "status": "Default",
          "x1": 158,
          "x2": 158.9
         },
         {
          "level": 33,
          "sf": "store_backedges at typeinfer.jl:501 [inlined]",
          "status": "Default",
          "x1": 158,
          "x2": 158.9
         },
         {
          "level": 23,
          "sf": "typeinf_local(interp::Core.Compiler.NativeInterpreter, frame::Core.Compiler.InferenceState) at abstractinterpretation.jl:1956",
          "status": "Default",
          "x1": 159,
          "x2": 159.9
         },
         {
          "level": 24,
          "sf": "stupdate!(state::Nothing, changes::Core.Compiler.StateUpdate) at typelattice.jl:342",
          "status": "Runtime dispatch",
          "x1": 159,
          "x2": 159.9
         },
         {
          "level": 21,
          "sf": "_typeinf(interp::Core.Compiler.NativeInterpreter, frame::Core.Compiler.InferenceState) at typeinfer.jl:255",
          "status": "Default",
          "x1": 160,
          "x2": 166.9
         },
         {
          "level": 22,
          "sf": "optimize at optimize.jl:296 [inlined]",
          "status": "Default",
          "x1": 160,
          "x2": 166.9
         },
         {
          "level": 23,
          "sf": "run_passes(ci::Core.CodeInfo, nargs::Int64, sv::Core.Compiler.OptimizationState) at optimize.jl:307",
          "status": "Runtime dispatch",
          "x1": 160,
          "x2": 163.9
         },
         {
          "level": 24,
          "sf": "ssa_inlining_pass!(ir::Core.Compiler.IRCode, linetable::Vector{Core.LineInfoNode}, state::Core.Compiler.InliningState{Core.Compiler.EdgeTracker, Core.Compiler.WorldView{Core.Compiler.InternalCodeCache}, typeof(Core.Compiler.default_inlining_policy)}, propagate_inbounds::Bool) at inlining.jl:80",
          "status": "Default",
          "x1": 160,
          "x2": 161.9
         },
         {
          "level": 25,
          "sf": "assemble_inline_todo!(ir::Core.Compiler.IRCode, state::Core.Compiler.InliningState{Core.Compiler.EdgeTracker, Core.Compiler.WorldView{Core.Compiler.InternalCodeCache}, typeof(Core.Compiler.default_inlining_policy)}) at inlining.jl:1358",
          "status": "Default",
          "x1": 160,
          "x2": 160.9
         },
         {
          "level": 26,
          "sf": "process_simple!(ir::Core.Compiler.IRCode, todo::Vector{Pair{Int64, Any}}, idx::Int64, state::Core.Compiler.InliningState{Core.Compiler.EdgeTracker, Core.Compiler.WorldView{Core.Compiler.InternalCodeCache}, typeof(Core.Compiler.default_inlining_policy)}) at inlining.jl:1192",
          "status": "Default",
          "x1": 160,
          "x2": 160.9
         },
         {
          "level": 27,
          "sf": "with_atype at inlining.jl:20 [inlined]",
          "status": "Default",
          "x1": 160,
          "x2": 160.9
         },
         {
          "level": 28,
          "sf": "argtypes_to_type at typeutils.jl:53 [inlined]",
          "status": "Default",
          "x1": 160,
          "x2": 160.9
         },
         {
          "level": 29,
          "sf": "anymap(f::Core.Compiler.var\"#251#252\", a::Vector{Any}) at utilities.jl:39",
          "status": "Default",
          "x1": 160,
          "x2": 160.9
         },
         {
          "level": 30,
          "sf": "(::Core.Compiler.var\"#251#252\")(a::Any) at typeutils.jl:53",
          "status": "Runtime dispatch",
          "x1": 160,
          "x2": 160.9
         },
         {
          "level": 31,
          "sf": "widenconst(c::Core.Const) at typelattice.jl:286",
          "status": "Default",
          "x1": 160,
          "x2": 160.9
         },
         {
          "level": 25,
          "sf": "assemble_inline_todo!(ir::Core.Compiler.IRCode, state::Core.Compiler.InliningState{Core.Compiler.EdgeTracker, Core.Compiler.WorldView{Core.Compiler.InternalCodeCache}, typeof(Core.Compiler.default_inlining_policy)}) at inlining.jl:1419",
          "status": "Default",
          "x1": 161,
          "x2": 161.9
         },
         {
          "level": 26,
          "sf": "analyze_single_call!(ir::Core.Compiler.IRCode, todo::Vector{Pair{Int64, Any}}, idx::Int64, stmt::Any, ::Core.Compiler.Signature, infos::Vector{Core.Compiler.MethodMatchInfo}, state::Core.Compiler.InliningState{Core.Compiler.EdgeTracker, Core.Compiler.WorldView{Core.Compiler.InternalCodeCache}, typeof(Core.Compiler.default_inlining_policy)}) at inlining.jl:1238",
          "status": "Default",
          "x1": 161,
          "x2": 161.9
         },
         {
          "level": 27,
          "sf": "analyze_method!(match::Core.MethodMatch, atypes::Vector{Any}, state::Core.Compiler.InliningState{Core.Compiler.EdgeTracker, Core.Compiler.WorldView{Core.Compiler.InternalCodeCache}, typeof(Core.Compiler.default_inlining_policy)}) at inlining.jl:851",
          "status": "Default",
          "x1": 161,
          "x2": 161.9
         },
         {
          "level": 28,
          "sf": "resolve_todo(todo::Core.Compiler.InliningTodo, state::Core.Compiler.InliningState{Core.Compiler.EdgeTracker, Core.Compiler.WorldView{Core.Compiler.InternalCodeCache}, typeof(Core.Compiler.default_inlining_policy)}) at inlining.jl:795",
          "status": "Runtime dispatch",
          "x1": 161,
          "x2": 161.9
         },
         {
          "level": 29,
          "sf": "Core.Compiler.InliningTodo(mi::Core.MethodInstance, src::Vector{UInt8}) at inlining.jl:860",
          "status": "Garbage collection",
          "x1": 161,
          "x2": 161.9
         },
         {
          "level": 24,
          "sf": "ssa_inlining_pass!(ir::Core.Compiler.IRCode, linetable::Vector{Core.LineInfoNode}, state::Core.Compiler.InliningState{Core.Compiler.EdgeTracker, Core.Compiler.WorldView{Core.Compiler.InternalCodeCache}, typeof(Core.Compiler.default_inlining_policy)}, propagate_inbounds::Bool) at inlining.jl:83",
          "status": "Default",
          "x1": 162,
          "x2": 163.9
         },
         {
          "level": 25,
          "sf": "batch_inline!(todo::Vector{Pair{Int64, Any}}, ir::Core.Compiler.IRCode, linetable::Vector{Core.LineInfoNode}, propagate_inbounds::Bool) at inlining.jl:594",
          "status": "Default",
          "x1": 162,
          "x2": 163.9
         },
         {
          "level": 26,
          "sf": "ir_inline_item!(compact::Core.Compiler.IncrementalCompact, idx::Int64, argexprs::Vector{Any}, linetable::Vector{Core.LineInfoNode}, item::Core.Compiler.InliningTodo, boundscheck::Symbol, todo_bbs::Vector{Tuple{Int64, Int64}}) at inlining.jl:400",
          "status": "Default",
          "x1": 162,
          "x2": 162.9
         },
         {
          "level": 27,
          "sf": "ssa_substitute! at inlining.jl:1528 [inlined]",
          "status": "Default",
          "x1": 162,
          "x2": 162.9
         },
         {
          "level": 28,
          "sf": "ssa_substitute_op!(val::Any, arg_replacements::Vector{Any}, spsig::Any, spvals::Core.SimpleVector, boundscheck::Symbol) at inlining.jl:1554",
          "status": "Runtime dispatch",
          "x1": 162,
          "x2": 162.9
         },
         {
          "level": 26,
          "sf": "ir_inline_item!(compact::Core.Compiler.IncrementalCompact, idx::Int64, argexprs::Vector{Any}, linetable::Vector{Core.LineInfoNode}, item::Core.Compiler.InliningTodo, boundscheck::Symbol, todo_bbs::Vector{Tuple{Int64, Int64}}) at inlining.jl:431",
          "status": "Default",
          "x1": 163,
          "x2": 163.9
         },
         {
          "level": 27,
          "sf": "iterate(compact::Core.Compiler.IncrementalCompact, ::Tuple{Int64, Int64}) at ir.jl:1294",
          "status": "Default",
          "x1": 163,
          "x2": 163.9
         },
         {
          "level": 28,
          "sf": "process_node!(compact::Core.Compiler.IncrementalCompact, result_idx::Int64, inst::Core.Compiler.Instruction, idx::Int64, processed_idx::Int64, active_bb::Int64, do_rename_ssa::Bool) at ir.jl:1122",
          "status": "Default",
          "x1": 163,
          "x2": 163.9
         },
         {
          "level": 23,
          "sf": "run_passes(ci::Core.CodeInfo, nargs::Int64, sv::Core.Compiler.OptimizationState) at optimize.jl:309",
          "status": "Default",
          "x1": 164,
          "x2": 164.9
         },
         {
          "level": 24,
          "sf": "compact! at ir.jl:1441 [inlined]",
          "status": "Default",
          "x1": 164,
          "x2": 164.9
         },
         {
          "level": 25,
          "sf": "compact!(code::Core.Compiler.IRCode, allow_cfg_transforms::Bool) at ir.jl:1441",
          "status": "Default",
          "x1": 164,
          "x2": 164.9
         },
         {
          "level": 26,
          "sf": "Core.Compiler.IncrementalCompact(code::Core.Compiler.IRCode, allow_cfg_transforms::Bool) at ir.jl:622",
          "status": "Garbage collection",
          "x1": 164,
          "x2": 164.9
         },
         {
          "level": 23,
          "sf": "run_passes(ci::Core.CodeInfo, nargs::Int64, sv::Core.Compiler.OptimizationState) at optimize.jl:311",
          "status": "Default",
          "x1": 165,
          "x2": 165.9
         },
         {
          "level": 24,
          "sf": "getfield_elim_pass!(ir::Core.Compiler.IRCode) at passes.jl:687",
          "status": "Default",
          "x1": 165,
          "x2": 165.9
         },
         {
          "level": 25,
          "sf": "try_compute_fieldidx(typ::DataType, field::Any) at tfuncs.jl:693",
          "status": "Default",
          "x1": 165,
          "x2": 165.9
         },
         {
          "level": 26,
          "sf": "fieldindex at reflection.jl:719 [inlined]",
          "status": "Default",
          "x1": 165,
          "x2": 165.9
         },
         {
          "level": 23,
          "sf": "run_passes(ci::Core.CodeInfo, nargs::Int64, sv::Core.Compiler.OptimizationState) at optimize.jl:317",
          "status": "Default",
          "x1": 166,
          "x2": 166.9
         },
         {
          "level": 24,
          "sf": "compact! at ir.jl:1441 [inlined]",
          "status": "Default",
          "x1": 166,
          "x2": 166.9
         },
         {
          "level": 25,
          "sf": "compact!(code::Core.Compiler.IRCode, allow_cfg_transforms::Bool) at ir.jl:1443",
          "status": "Default",
          "x1": 166,
          "x2": 166.9
         },
         {
          "level": 26,
          "sf": "iterate(compact::Core.Compiler.IncrementalCompact, ::Tuple{Int64, Int64}) at ir.jl:1294",
          "status": "Default",
          "x1": 166,
          "x2": 166.9
         },
         {
          "level": 27,
          "sf": "process_node!(compact::Core.Compiler.IncrementalCompact, result_idx::Int64, inst::Core.Compiler.Instruction, idx::Int64, processed_idx::Int64, active_bb::Int64, do_rename_ssa::Bool) at ir.jl:1080",
          "status": "Default",
          "x1": 166,
          "x2": 166.9
         },
         {
          "level": 28,
          "sf": "iterate at range.jl:837 [inlined]",
          "status": "Default",
          "x1": 166,
          "x2": 166.9
         },
         {
          "level": 21,
          "sf": "_typeinf(interp::Core.Compiler.NativeInterpreter, frame::Core.Compiler.InferenceState) at typeinfer.jl:280",
          "status": "Default",
          "x1": 167,
          "x2": 168.9
         },
         {
          "level": 22,
          "sf": "cache_result!(interp::Core.Compiler.NativeInterpreter, result::Core.Compiler.InferenceResult) at typeinfer.jl:397",
          "status": "Default",
          "x1": 167,
          "x2": 168.9
         },
         {
          "level": 23,
          "sf": "transform_result_for_cache at typeinfer.jl:371 [inlined]",
          "status": "Default",
          "x1": 167,
          "x2": 168.9
         },
         {
          "level": 24,
          "sf": "maybe_compress_codeinfo(interp::Core.Compiler.NativeInterpreter, linfo::Core.MethodInstance, ci::Core.CodeInfo) at typeinfer.jl:346",
          "status": "Default",
          "x1": 167,
          "x2": 168.9
         },
         {
          "level": 17,
          "sf": "single_timestep(ny::Int64, nx::Int64) at Chapter11-I2VIS.ipynb:27",
          "status": "Default",
          "x1": 169,
          "x2": 201.9
         },
         {
          "level": 18,
          "sf": "marker_to_basic_node(m::Markers, grid::CartesianGrid, fieldnames::Vector{String}) at Markers.jl:0",
          "status": "Default",
          "x1": 169,
          "x2": 169.9
         },
         {
          "level": 18,
          "sf": "marker_to_basic_node(m::Markers, grid::CartesianGrid, fieldnames::Vector{String}) at Markers.jl:238",
          "status": "Garbage collection",
          "x1": 170,
          "x2": 172.9
         },
         {
          "level": 18,
          "sf": "marker_to_basic_node(m::Markers, grid::CartesianGrid, fieldnames::Vector{String}) at Markers.jl:240",
          "status": "Runtime dispatch",
          "x1": 173,
          "x2": 173.9
         },
         {
          "level": 18,
          "sf": "marker_to_basic_node(m::Markers, grid::CartesianGrid, fieldnames::Vector{String}) at Markers.jl:242",
          "status": "Garbage collection",
          "x1": 174,
          "x2": 174.9
         },
         {
          "level": 18,
          "sf": "marker_to_basic_node(m::Markers, grid::CartesianGrid, fieldnames::Vector{String}) at Markers.jl:244",
          "status": "Runtime dispatch",
          "x1": 175,
          "x2": 175.9
         },
         {
          "level": 18,
          "sf": "marker_to_basic_node(m::Markers, grid::CartesianGrid, fieldnames::Vector{String}) at Markers.jl:246",
          "status": "Garbage collection",
          "x1": 176,
          "x2": 177.9
         },
         {
          "level": 18,
          "sf": "marker_to_basic_node(m::Markers, grid::CartesianGrid, fieldnames::Vector{String}) at Markers.jl:249",
          "status": "Default",
          "x1": 178,
          "x2": 178.9
         },
         {
          "level": 18,
          "sf": "marker_to_basic_node(m::Markers, grid::CartesianGrid, fieldnames::Vector{String}) at Markers.jl:250",
          "status": "Garbage collection",
          "x1": 179,
          "x2": 182.9
         },
         {
          "level": 19,
          "sf": "setindex! at array.jl:905 [inlined]",
          "status": "Runtime dispatch",
          "x1": 179,
          "x2": 179.9
         },
         {
          "level": 18,
          "sf": "marker_to_basic_node(m::Markers, grid::CartesianGrid, fieldnames::Vector{String}) at Markers.jl:251",
          "status": "Garbage collection",
          "x1": 183,
          "x2": 187.9
         },
         {
          "level": 19,
          "sf": "setindex! at array.jl:905 [inlined]",
          "status": "Runtime dispatch",
          "x1": 183,
          "x2": 184.9
         },
         {
          "level": 18,
          "sf": "marker_to_basic_node(m::Markers, grid::CartesianGrid, fieldnames::Vector{String}) at Markers.jl:252",
          "status": "Runtime dispatch",
          "x1": 188,
          "x2": 189.9
         },
         {
          "level": 18,
          "sf": "marker_to_basic_node(m::Markers, grid::CartesianGrid, fieldnames::Vector{String}) at Markers.jl:253",
          "status": "Runtime dispatch",
          "x1": 190,
          "x2": 195.9
         },
         {
          "level": 19,
          "sf": "setindex! at array.jl:905 [inlined]",
          "status": "Runtime dispatch",
          "x1": 190,
          "x2": 191.9
         },
         {
          "level": 18,
          "sf": "marker_to_basic_node(m::Markers, grid::CartesianGrid, fieldnames::Vector{String}) at Markers.jl:255",
          "status": "Default",
          "x1": 196,
          "x2": 197.9
         },
         {
          "level": 19,
          "sf": "setindex! at array.jl:905 [inlined]",
          "status": "Runtime dispatch",
          "x1": 196,
          "x2": 197.9
         },
         {
          "level": 18,
          "sf": "marker_to_basic_node(m::Markers, grid::CartesianGrid, fieldnames::Vector{String}) at Markers.jl:256",
          "status": "Garbage collection",
          "x1": 198,
          "x2": 199.9
         },
         {
          "level": 19,
          "sf": "setindex! at array.jl:905 [inlined]",
          "status": "Runtime dispatch",
          "x1": 198,
          "x2": 198.9
         },
         {
          "level": 18,
          "sf": "marker_to_basic_node(m::Markers, grid::CartesianGrid, fieldnames::Vector{String}) at Markers.jl:257",
          "status": "Default",
          "x1": 200,
          "x2": 200.9
         },
         {
          "level": 18,
          "sf": "marker_to_basic_node(m::Markers, grid::CartesianGrid, fieldnames::Vector{String}) at Markers.jl:258",
          "status": "Default",
          "x1": 201,
          "x2": 201.9
         },
         {
          "level": 19,
          "sf": "setindex! at array.jl:905 [inlined]",
          "status": "Runtime dispatch",
          "x1": 201,
          "x2": 201.9
         },
         {
          "level": 17,
          "sf": "single_timestep(ny::Int64, nx::Int64) at Chapter11-I2VIS.ipynb:43",
          "status": "Default",
          "x1": 202,
          "x2": 203.9
         },
         {
          "level": 18,
          "sf": "form_stokes(grid::CartesianGrid, eta_s::Matrix{Float64}, eta_n::Matrix{Float64}, rho::Matrix{Float64}, bc::BoundaryConditions, gx::Float64, gy::Float64) at Stokes.jl:178",
          "status": "Runtime dispatch",
          "x1": 202,
          "x2": 202.9
         },
         {
          "level": 18,
          "sf": "form_stokes(grid::CartesianGrid, eta_s::Matrix{Float64}, eta_n::Matrix{Float64}, rho::Matrix{Float64}, bc::BoundaryConditions, gx::Float64, gy::Float64) at Stokes.jl:200",
          "status": "Runtime dispatch",
          "x1": 203,
          "x2": 203.9
         },
         {
          "level": 17,
          "sf": "single_timestep(ny::Int64, nx::Int64) at Chapter11-I2VIS.ipynb:44",
          "status": "Default",
          "x1": 204,
          "x2": 207.9
         },
         {
          "level": 18,
          "sf": "\\(A::SparseMatrixCSC{Float64, Int64}, B::Matrix{Float64}) at linalg.jl:1554",
          "status": "Default",
          "x1": 204,
          "x2": 207.9
         },
         {
          "level": 19,
          "sf": "lu at umfpack.jl:196 [inlined]",
          "status": "Default",
          "x1": 204,
          "x2": 207.9
         },
         {
          "level": 20,
          "sf": "lu(S::SparseMatrixCSC{Float64, Int64}; check::Bool) at umfpack.jl:202",
          "status": "Default",
          "x1": 204,
          "x2": 207.9
         },
         {
          "level": 21,
          "sf": "umfpack_numeric! at umfpack.jl:385 [inlined]",
          "status": "Default",
          "x1": 204,
          "x2": 207.9
         },
         {
          "level": 22,
          "sf": "umfpack_numeric!(U::SuiteSparse.UMFPACK.UmfpackLU{Float64, Int64}; reuse_numeric::Bool) at umfpack.jl:386",
          "status": "Default",
          "x1": 204,
          "x2": 204.9
         },
         {
          "level": 23,
          "sf": "umfpack_symbolic!(U::SuiteSparse.UMFPACK.UmfpackLU{Float64, Int64}) at umfpack.jl:365",
          "status": "Default",
          "x1": 204,
          "x2": 204.9
         },
         {
          "level": 22,
          "sf": "umfpack_numeric!(U::SuiteSparse.UMFPACK.UmfpackLU{Float64, Int64}; reuse_numeric::Bool) at umfpack.jl:388",
          "status": "Default",
          "x1": 205,
          "x2": 207.9
         },
         {
          "level": 17,
          "sf": "single_timestep(ny::Int64, nx::Int64) at Chapter11-I2VIS.ipynb:50",
          "status": "Default",
          "x1": 208,
          "x2": 230.9
         },
         {
          "level": 18,
          "sf": "marker_to_cell_center(m::Markers, grid::CartesianGrid, fieldnames::Vector{String}) at Markers.jl:155",
          "status": "Runtime dispatch",
          "x1": 208,
          "x2": 209.9
         },
         {
          "level": 18,
          "sf": "marker_to_cell_center(m::Markers, grid::CartesianGrid, fieldnames::Vector{String}) at Markers.jl:156",
          "status": "Garbage collection",
          "x1": 210,
          "x2": 214.9
         },
         {
          "level": 18,
          "sf": "marker_to_cell_center(m::Markers, grid::CartesianGrid, fieldnames::Vector{String}) at Markers.jl:158",
          "status": "Garbage collection",
          "x1": 215,
          "x2": 216.9
         },
         {
          "level": 18,
          "sf": "marker_to_cell_center(m::Markers, grid::CartesianGrid, fieldnames::Vector{String}) at Markers.jl:168",
          "status": "Runtime dispatch",
          "x1": 217,
          "x2": 221.9
         },
         {
          "level": 19,
          "sf": "setindex! at array.jl:905 [inlined]",
          "status": "Runtime dispatch",
          "x1": 217,
          "x2": 219.9
         },
         {
          "level": 18,
          "sf": "marker_to_cell_center(m::Markers, grid::CartesianGrid, fieldnames::Vector{String}) at Markers.jl:169",
          "status": "Garbage collection",
          "x1": 222,
          "x2": 223.9
         },
         {
          "level": 18,
          "sf": "marker_to_cell_center(m::Markers, grid::CartesianGrid, fieldnames::Vector{String}) at Markers.jl:170",
          "status": "Default",
          "x1": 224,
          "x2": 225.9
         },
         {
          "level": 19,
          "sf": "getindex at array.jl:862 [inlined]",
          "status": "Default",
          "x1": 224,
          "x2": 224.9
         },
         {
          "level": 19,
          "sf": "setindex! at array.jl:905 [inlined]",
          "status": "Runtime dispatch",
          "x1": 225,
          "x2": 225.9
         },
         {
          "level": 18,
          "sf": "marker_to_cell_center(m::Markers, grid::CartesianGrid, fieldnames::Vector{String}) at Markers.jl:171",
          "status": "Garbage collection",
          "x1": 226,
          "x2": 227.9
         },
         {
          "level": 18,
          "sf": "marker_to_cell_center(m::Markers, grid::CartesianGrid, fieldnames::Vector{String}) at Markers.jl:173",
          "status": "Default",
          "x1": 228,
          "x2": 229.9
         },
         {
          "level": 19,
          "sf": "setindex! at array.jl:905 [inlined]",
          "status": "Runtime dispatch",
          "x1": 228,
          "x2": 229.9
         },
         {
          "level": 18,
          "sf": "marker_to_cell_center(m::Markers, grid::CartesianGrid, fieldnames::Vector{String}) at Markers.jl:175",
          "status": "Default",
          "x1": 230,
          "x2": 230.9
         },
         {
          "level": 19,
          "sf": "setindex! at array.jl:905 [inlined]",
          "status": "Runtime dispatch",
          "x1": 230,
          "x2": 230.9
         },
         {
          "level": 17,
          "sf": "single_timestep(ny::Int64, nx::Int64) at Chapter11-I2VIS.ipynb:55",
          "status": "Runtime dispatch",
          "x1": 231,
          "x2": 231.9
         },
         {
          "level": 18,
          "sf": "assemble_energy_equation_center(grid::CartesianGrid, rho::Matrix{Float64}, Cp::Matrix{Float64}, kThermal::Matrix{Float64}, H::Matrix{Float64}, Tlast::Matrix{Float64}, dt::Float64) at Chapter11-I2VIS.ipynb:93",
          "status": "Runtime dispatch",
          "x1": 231,
          "x2": 231.9
         },
         {
          "level": 17,
          "sf": "single_timestep(ny::Int64, nx::Int64) at Chapter11-I2VIS.ipynb:56",
          "status": "Default",
          "x1": 232,
          "x2": 232.9
         },
         {
          "level": 18,
          "sf": "\\(A::SparseMatrixCSC{Float64, Int64}, B::Matrix{Float64}) at linalg.jl:1554",
          "status": "Default",
          "x1": 232,
          "x2": 232.9
         },
         {
          "level": 19,
          "sf": "lu at umfpack.jl:196 [inlined]",
          "status": "Default",
          "x1": 232,
          "x2": 232.9
         },
         {
          "level": 20,
          "sf": "lu(S::SparseMatrixCSC{Float64, Int64}; check::Bool) at umfpack.jl:202",
          "status": "Default",
          "x1": 232,
          "x2": 232.9
         },
         {
          "level": 21,
          "sf": "umfpack_numeric! at umfpack.jl:385 [inlined]",
          "status": "Default",
          "x1": 232,
          "x2": 232.9
         },
         {
          "level": 22,
          "sf": "umfpack_numeric!(U::SuiteSparse.UMFPACK.UmfpackLU{Float64, Int64}; reuse_numeric::Bool) at umfpack.jl:388",
          "status": "Default",
          "x1": 232,
          "x2": 232.9
         },
         {
          "level": 17,
          "sf": "single_timestep(ny::Int64, nx::Int64) at Chapter11-I2VIS.ipynb:61",
          "status": "Default",
          "x1": 233,
          "x2": 255.9
         },
         {
          "level": 18,
          "sf": "subgrid_temperature_relaxation!(markers::Markers, grid::CartesianGrid, Tlast::Matrix{Float64}, Cp::Float64, kThermal::Float64, dt::Float64) at Chapter11-I2VIS.ipynb:165",
          "status": "Default",
          "x1": 233,
          "x2": 255.9
         },
         {
          "level": 19,
          "sf": "marker_to_cell_center(m::Markers, grid::CartesianGrid, markerfield::Vector{Float64}) at Markers.jl:195",
          "status": "Runtime dispatch",
          "x1": 233,
          "x2": 233.9
         },
         {
          "level": 19,
          "sf": "marker_to_cell_center(m::Markers, grid::CartesianGrid, markerfield::Vector{Float64}) at Markers.jl:197",
          "status": "Runtime dispatch",
          "x1": 234,
          "x2": 234.9
         },
         {
          "level": 19,
          "sf": "marker_to_cell_center(m::Markers, grid::CartesianGrid, markerfield::Vector{Float64}) at Markers.jl:198",
          "status": "Garbage collection",
          "x1": 235,
          "x2": 235.9
         },
         {
          "level": 19,
          "sf": "marker_to_cell_center(m::Markers, grid::CartesianGrid, markerfield::Vector{Float64}) at Markers.jl:200",
          "status": "Garbage collection",
          "x1": 236,
          "x2": 236.9
         },
         {
          "level": 19,
          "sf": "marker_to_cell_center(m::Markers, grid::CartesianGrid, markerfield::Vector{Float64}) at Markers.jl:204",
          "status": "Runtime dispatch",
          "x1": 237,
          "x2": 237.9
         },
         {
          "level": 19,
          "sf": "marker_to_cell_center(m::Markers, grid::CartesianGrid, markerfield::Vector{Float64}) at Markers.jl:208",
          "status": "Garbage collection",
          "x1": 238,
          "x2": 242.9
         },
         {
          "level": 20,
          "sf": "setindex! at array.jl:905 [inlined]",
          "status": "Runtime dispatch",
          "x1": 238,
          "x2": 238.9
         },
         {
          "level": 19,
          "sf": "marker_to_cell_center(m::Markers, grid::CartesianGrid, markerfield::Vector{Float64}) at Markers.jl:209",
          "status": "Default",
          "x1": 243,
          "x2": 243.9
         },
         {
          "level": 20,
          "sf": "setindex! at array.jl:905 [inlined]",
          "status": "Runtime dispatch",
          "x1": 243,
          "x2": 243.9
         },
         {
          "level": 19,
          "sf": "marker_to_cell_center(m::Markers, grid::CartesianGrid, markerfield::Vector{Float64}) at Markers.jl:210",
          "status": "Garbage collection",
          "x1": 244,
          "x2": 247.9
         },
         {
          "level": 20,
          "sf": "setindex! at array.jl:905 [inlined]",
          "status": "Runtime dispatch",
          "x1": 244,
          "x2": 244.9
         },
         {
          "level": 19,
          "sf": "marker_to_cell_center(m::Markers, grid::CartesianGrid, markerfield::Vector{Float64}) at Markers.jl:211",
          "status": "Garbage collection",
          "x1": 248,
          "x2": 249.9
         },
         {
          "level": 19,
          "sf": "marker_to_cell_center(m::Markers, grid::CartesianGrid, markerfield::Vector{Float64}) at Markers.jl:213",
          "status": "Runtime dispatch",
          "x1": 250,
          "x2": 252.9
         },
         {
          "level": 20,
          "sf": "setindex! at array.jl:905 [inlined]",
          "status": "Runtime dispatch",
          "x1": 250,
          "x2": 251.9
         },
         {
          "level": 19,
          "sf": "marker_to_cell_center(m::Markers, grid::CartesianGrid, markerfield::Vector{Float64}) at Markers.jl:214",
          "status": "Default",
          "x1": 253,
          "x2": 253.9
         },
         {
          "level": 20,
          "sf": "setindex! at array.jl:905 [inlined]",
          "status": "Runtime dispatch",
          "x1": 253,
          "x2": 253.9
         },
         {
          "level": 19,
          "sf": "marker_to_cell_center(m::Markers, grid::CartesianGrid, markerfield::Vector{Float64}) at Markers.jl:215",
          "status": "Default",
          "x1": 254,
          "x2": 254.9
         },
         {
          "level": 20,
          "sf": "setindex! at array.jl:905 [inlined]",
          "status": "Runtime dispatch",
          "x1": 254,
          "x2": 254.9
         },
         {
          "level": 19,
          "sf": "marker_to_cell_center(m::Markers, grid::CartesianGrid, markerfield::Vector{Float64}) at Markers.jl:216",
          "status": "Default",
          "x1": 255,
          "x2": 255.9
         },
         {
          "level": 1,
          "sf": "(::var\"#226#threadsfor_fun#36\"{Markers, CartesianGrid, Matrix{Float64}, Vector{Float64}, UnitRange{Int64}})() at threadingconstructs.jl:52",
          "status": "Default",
          "x1": 256,
          "x2": 263.9
         },
         {
          "level": 2,
          "sf": "(::var\"#226#threadsfor_fun#36\"{Markers, CartesianGrid, Matrix{Float64}, Vector{Float64}, UnitRange{Int64}})(onethread::Bool) at threadingconstructs.jl:85",
          "status": "Default",
          "x1": 256,
          "x2": 263.9
         },
         {
          "level": 3,
          "sf": "macro expansion at Markers.jl:316 [inlined]",
          "status": "Runtime dispatch",
          "x1": 256,
          "x2": 256.9
         },
         {
          "level": 3,
          "sf": "macro expansion at Markers.jl:318 [inlined]",
          "status": "Garbage collection",
          "x1": 257,
          "x2": 262.9
         },
         {
          "level": 3,
          "sf": "macro expansion at Markers.jl:319 [inlined]",
          "status": "Runtime dispatch",
          "x1": 263,
          "x2": 263.9
         },
         {
          "level": 1,
          "sf": "(::var\"#243#threadsfor_fun#37\"{Markers, CartesianGrid, Matrix{Float64}, Int64, UnitRange{Int64}})() at threadingconstructs.jl:52",
          "status": "Default",
          "x1": 264,
          "x2": 270.9
         },
         {
          "level": 2,
          "sf": "(::var\"#243#threadsfor_fun#37\"{Markers, CartesianGrid, Matrix{Float64}, Int64, UnitRange{Int64}})(onethread::Bool) at threadingconstructs.jl:85",
          "status": "Default",
          "x1": 264,
          "x2": 270.9
         },
         {
          "level": 3,
          "sf": "macro expansion at Markers.jl:344 [inlined]",
          "status": "Runtime dispatch",
          "x1": 264,
          "x2": 265.9
         },
         {
          "level": 3,
          "sf": "macro expansion at Markers.jl:346 [inlined]",
          "status": "Runtime dispatch",
          "x1": 266,
          "x2": 266.9
         },
         {
          "level": 3,
          "sf": "macro expansion at Markers.jl:348 [inlined]",
          "status": "Runtime dispatch",
          "x1": 267,
          "x2": 268.9
         },
         {
          "level": 3,
          "sf": "macro expansion at Markers.jl:349 [inlined]",
          "status": "Garbage collection",
          "x1": 269,
          "x2": 270.9
         },
         {
          "level": 1,
          "sf": "(::var\"#275#threadsfor_fun#40\"{Matrix{Float64}, Matrix{Int64}, CartesianGrid, Matrix{Float64}, Matrix{Float64}, Vector{Float64}, Vector{Float64}, UnitRange{Int64}})() at threadingconstructs.jl:52",
          "status": "Default",
          "x1": 271,
          "x2": 281.9
         },
         {
          "level": 2,
          "sf": "(::var\"#275#threadsfor_fun#40\"{Matrix{Float64}, Matrix{Int64}, CartesianGrid, Matrix{Float64}, Matrix{Float64}, Vector{Float64}, Vector{Float64}, UnitRange{Int64}})(onethread::Bool) at threadingconstructs.jl:85",
          "status": "Default",
          "x1": 271,
          "x2": 281.9
         },
         {
          "level": 3,
          "sf": "macro expansion at Markers.jl:463 [inlined]",
          "status": "Default",
          "x1": 271,
          "x2": 271.9
         },
         {
          "level": 3,
          "sf": "macro expansion at Markers.jl:465 [inlined]",
          "status": "Garbage collection",
          "x1": 272,
          "x2": 277.9
         },
         {
          "level": 3,
          "sf": "macro expansion at Markers.jl:466 [inlined]",
          "status": "Runtime dispatch",
          "x1": 278,
          "x2": 281.9
         },
         {
          "level": 1,
          "sf": "(::var\"#306#threadsfor_fun#42\"{Markers, Float64, Matrix{Float64}, UnitRange{Int64}})() at threadingconstructs.jl:52",
          "status": "Default",
          "x1": 282,
          "x2": 289.9
         },
         {
          "level": 2,
          "sf": "(::var\"#306#threadsfor_fun#42\"{Markers, Float64, Matrix{Float64}, UnitRange{Int64}})(onethread::Bool) at threadingconstructs.jl:85",
          "status": "Default",
          "x1": 282,
          "x2": 289.9
         },
         {
          "level": 3,
          "sf": "macro expansion at Markers.jl:508 [inlined]",
          "status": "Garbage collection",
          "x1": 282,
          "x2": 284.9
         },
         {
          "level": 3,
          "sf": "macro expansion at Markers.jl:509 [inlined]",
          "status": "Garbage collection",
          "x1": 285,
          "x2": 289.9
         },
         {
          "level": 4,
          "sf": "setindex! at array.jl:905 [inlined]",
          "status": "Runtime dispatch",
          "x1": 285,
          "x2": 286.9
         },
         {
          "level": 1,
          "sf": "(::var\"#336#threadsfor_fun#44\"{Markers, Float64, UnitRange{Int64}})() at threadingconstructs.jl:52",
          "status": "Default",
          "x1": 290,
          "x2": 296.9
         },
         {
          "level": 2,
          "sf": "(::var\"#336#threadsfor_fun#44\"{Markers, Float64, UnitRange{Int64}})(onethread::Bool) at threadingconstructs.jl:85",
          "status": "Default",
          "x1": 290,
          "x2": 296.9
         },
         {
          "level": 3,
          "sf": "macro expansion at Markers.jl:521 [inlined]",
          "status": "Runtime dispatch",
          "x1": 290,
          "x2": 294.9
         },
         {
          "level": 4,
          "sf": "setindex! at array.jl:905 [inlined]",
          "status": "Runtime dispatch",
          "x1": 290,
          "x2": 291.9
         },
         {
          "level": 3,
          "sf": "macro expansion at Markers.jl:522 [inlined]",
          "status": "Runtime dispatch",
          "x1": 295,
          "x2": 296.9
         },
         {
          "level": 4,
          "sf": "setindex! at array.jl:905 [inlined]",
          "status": "Runtime dispatch",
          "x1": 295,
          "x2": 295.9
         },
         {
          "level": 1,
          "sf": "(::var\"#363#threadsfor_fun#47\"{Markers, CartesianGrid, Float64, Float64, Float64, Int64, Int64, Vector{Float64}, Float64, UnitRange{Int64}})() at threadingconstructs.jl:52",
          "status": "Default",
          "x1": 297,
          "x2": 303.9
         },
         {
          "level": 2,
          "sf": "(::var\"#363#threadsfor_fun#47\"{Markers, CartesianGrid, Float64, Float64, Float64, Int64, Int64, Vector{Float64}, Float64, UnitRange{Int64}})(onethread::Bool) at threadingconstructs.jl:85",
          "status": "Default",
          "x1": 297,
          "x2": 303.9
         },
         {
          "level": 3,
          "sf": "macro expansion at Chapter11-I2VIS.ipynb:157 [inlined]",
          "status": "Runtime dispatch",
          "x1": 297,
          "x2": 297.9
         },
         {
          "level": 3,
          "sf": "macro expansion at Chapter11-I2VIS.ipynb:158 [inlined]",
          "status": "Runtime dispatch",
          "x1": 298,
          "x2": 298.9
         },
         {
          "level": 3,
          "sf": "macro expansion at Chapter11-I2VIS.ipynb:159 [inlined]",
          "status": "Runtime dispatch",
          "x1": 299,
          "x2": 299.9
         },
         {
          "level": 3,
          "sf": "macro expansion at Chapter11-I2VIS.ipynb:160 [inlined]",
          "status": "Garbage collection",
          "x1": 300,
          "x2": 303.9
         },
         {
          "level": 4,
          "sf": "/(x::Float64, y::Float64) at float.jl:408",
          "status": "Default",
          "x1": 301,
          "x2": 301.9
         }
        ]
       },
       "encoding": {
        "color": {
         "field": "status",
         "legend": {
          "orient": "bottom",
          "title": null
         },
         "type": "nominal"
        },
        "fillOpacity": {
         "condition": [
          {
           "selection": "highlight",
           "value": 0.6
          },
          {
           "selection": "select",
           "value": 0.5
          }
         ],
         "value": 1
        },
        "strokeWidth": {
         "condition": [
          {
           "selection": "highlight",
           "value": 0.5
          },
          {
           "selection": "select",
           "value": 0.5
          }
         ],
         "value": 0
        },
        "tooltip": {
         "field": "sf",
         "type": "nominal"
        },
        "x": {
         "axis": null,
         "field": "x1",
         "type": "quantitative"
        },
        "x2": {
         "field": "x2",
         "type": "quantitative"
        },
        "y": {
         "axis": null,
         "field": "level",
         "type": "quantitative"
        },
        "y2": {
         "field": "level2",
         "type": "quantitative"
        }
       },
       "height": 400,
       "mark": {
        "stroke": "#505050",
        "type": "rect"
       },
       "selection": {
        "grid": {
         "bind": "scales",
         "type": "interval"
        },
        "highlight": {
         "empty": "none",
         "on": "mouseover",
         "type": "single"
        },
        "select": {
         "empty": "none",
         "type": "multi"
        }
       },
       "title": "Profile Results",
       "transform": [
        {
         "as": "level2",
         "calculate": "datum.level+0.9"
        }
       ],
       "width": 800
      },
      "image/png": "[encoded data removed]",
      "image/svg+xml": [
       "<?xml version=\"1.0\" encoding=\"utf-8\"?>\n",
       "<!DOCTYPE svg PUBLIC \"-//W3C//DTD SVG 1.1//EN\" \"http://www.w3.org/Graphics/SVG/1.1/DTD/svg11.dtd\">\n",
       "<svg xmlns=\"http://www.w3.org/2000/svg\" xmlns:xlink=\"http://www.w3.org/1999/xlink\" version=\"1.1\" class=\"marks\" width=\"810\" height=\"458\" viewBox=\"0 0 810 458\"><rect width=\"810\" height=\"458\" fill=\"white\"/><g fill=\"none\" stroke-miterlimit=\"10\" transform=\"translate(5,22)\"><g class=\"mark-group role-frame root\" role=\"graphics-object\" aria-roledescription=\"group mark container\"><g transform=\"translate(0,0)\"><path class=\"background\" aria-hidden=\"true\" d=\"M0.5,0.5h800v400h-800Z\" stroke=\"#ddd\"/><g><g class=\"mark-rect role-mark marks\" clip-path=\"url(#clip1)\" role=\"graphics-object\" aria-roledescription=\"rect mark container\"><path aria-label=\"x1: 1; x2: 318.9; level: 0; level2: 0.9; status: Runtime dispatch; sf: ip:0x0\" role=\"graphics-symbol\" aria-roledescription=\"rect mark\" d=\"M2.2857142857142856,397.75h726.6285714285713v2.25h-726.6285714285713Z\" fill=\"#e45756\" fill-opacity=\"1\" stroke=\"#505050\" stroke-width=\"0\"/><path aria-label=\"x1: 3; x2: 255.9; level: 1; level2: 1.9; status: Default; sf: _start() at client.jl:495\" role=\"graphics-symbol\" aria-roledescription=\"rect mark\" d=\"M6.857142857142858,395.25h578.0571428571428v2.25h-578.0571428571428Z\" fill=\"#4c78a8\" fill-opacity=\"1\" stroke=\"#505050\" stroke-width=\"0\"/><path aria-label=\"x1: 3; x2: 255.9; level: 2; level2: 2.9; status: Runtime dispatch; sf: exec_options(opts::Base.JLOptions) at client.jl:292\" role=\"graphics-symbol\" aria-roledescription=\"rect mark\" d=\"M6.857142857142858,392.75h578.0571428571428v2.25h-578.0571428571428Z\" fill=\"#e45756\" fill-opacity=\"1\" stroke=\"#505050\" stroke-width=\"0\"/><path aria-label=\"x1: 3; x2: 255.9; level: 3; level2: 3.9; status: Default; sf: include(mod::Module, _path::String) at Base.jl:418\" role=\"graphics-symbol\" aria-roledescription=\"rect mark\" d=\"M6.857142857142858,390.25h578.0571428571428v2.25h-578.0571428571428Z\" fill=\"#4c78a8\" fill-opacity=\"1\" stroke=\"#505050\" stroke-width=\"0\"/><path aria-label=\"x1: 3; x2: 255.9; level: 4; level2: 4.9; status: Runtime dispatch; sf: _include(mapexpr::Function, mod::Module, _path::String) at loading.jl:1253\" role=\"graphics-symbol\" aria-roledescription=\"rect mark\" d=\"M6.857142857142858,387.75h578.0571428571428v2.25h-578.0571428571428Z\" fill=\"#e45756\" fill-opacity=\"1\" stroke=\"#505050\" stroke-width=\"0\"/><path aria-label=\"x1: 3; x2: 255.9; level: 5; level2: 5.9; status: Default; sf: include_string(mapexpr::typeof(identity), mod::Module, code::String, filename::String) at loading.jl:1196\" role=\"graphics-symbol\" aria-roledescription=\"rect mark\" d=\"M6.857142857142858,385.25h578.0571428571428v2.25h-578.0571428571428Z\" fill=\"#4c78a8\" fill-opacity=\"1\" stroke=\"#505050\" stroke-width=\"0\"/><path aria-label=\"x1: 3; x2: 255.9; level: 6; level2: 6.9; status: Runtime dispatch; sf: eval at boot.jl:373 [inlined]\" role=\"graphics-symbol\" aria-roledescription=\"rect mark\" d=\"M6.857142857142858,382.75h578.0571428571428v2.25h-578.0571428571428Z\" fill=\"#e45756\" fill-opacity=\"1\" stroke=\"#505050\" stroke-width=\"0\"/><path aria-label=\"x1: 3; x2: 255.9; level: 7; level2: 7.9; status: Default; sf: (::VSCodeServer.var&quot;#serve_notebook##kw&quot;)(::NamedTuple{(:crashreporting_pipename,), Tuple{String}}, ::typeof(VSCodeServer.serve_notebook), pipename::String) at serve_notebook.jl:55\" role=\"graphics-symbol\" aria-roledescription=\"rect mark\" d=\"M6.857142857142858,380.25h578.0571428571428v2.25h-578.0571428571428Z\" fill=\"#4c78a8\" fill-opacity=\"1\" stroke=\"#505050\" stroke-width=\"0\"/><path aria-label=\"x1: 3; x2: 255.9; level: 8; level2: 8.9; status: Runtime dispatch; sf: serve_notebook(pipename::String; crashreporting_pipename::String) at serve_notebook.jl:94\" role=\"graphics-symbol\" aria-roledescription=\"rect mark\" d=\"M6.857142857142858,377.75h578.0571428571428v2.25h-578.0571428571428Z\" fill=\"#e45756\" fill-opacity=\"1\" stroke=\"#505050\" stroke-width=\"0\"/><path aria-label=\"x1: 3; x2: 255.9; level: 9; level2: 9.9; status: Runtime dispatch; sf: dispatch_msg(x::VSCodeServer.JSONRPC.JSONRPCEndpoint{Base.PipeEndpoint, Base.PipeEndpoint}, dispatcher::VSCodeServer.JSONRPC.MsgDispatcher, msg::Dict{String, Any}) at typed.jl:67\" role=\"graphics-symbol\" aria-roledescription=\"rect mark\" d=\"M6.857142857142858,375.25h578.0571428571428v2.25h-578.0571428571428Z\" fill=\"#e45756\" fill-opacity=\"1\" stroke=\"#505050\" stroke-width=\"0\"/><path aria-label=\"x1: 3; x2: 255.9; level: 10; level2: 10.9; status: Default; sf: notebook_runcell_request(conn::VSCodeServer.JSONRPC.JSONRPCEndpoint{Base.PipeEndpoint, Base.PipeEndpoint}, params::VSCodeServer.NotebookRunCellArguments) at serve_notebook.jl:14\" role=\"graphics-symbol\" aria-roledescription=\"rect mark\" d=\"M6.857142857142858,372.75h578.0571428571428v2.25h-578.0571428571428Z\" fill=\"#4c78a8\" fill-opacity=\"1\" stroke=\"#505050\" stroke-width=\"0\"/><path aria-label=\"x1: 3; x2: 255.9; level: 11; level2: 11.9; status: Default; sf: withpath(f::VSCodeServer.var&quot;#150#151&quot;{VSCodeServer.NotebookRunCellArguments, String}, path::String) at repl.jl:185\" role=\"graphics-symbol\" aria-roledescription=\"rect mark\" d=\"M6.857142857142858,370.25h578.0571428571428v2.25h-578.0571428571428Z\" fill=\"#4c78a8\" fill-opacity=\"1\" stroke=\"#505050\" stroke-width=\"0\"/><path aria-label=\"x1: 3; x2: 255.9; level: 12; level2: 12.9; status: Default; sf: (::VSCodeServer.var&quot;#150#151&quot;{VSCodeServer.NotebookRunCellArguments, String})() at serve_notebook.jl:18\" role=\"graphics-symbol\" aria-roledescription=\"rect mark\" d=\"M6.857142857142858,367.75h578.0571428571428v2.25h-578.0571428571428Z\" fill=\"#4c78a8\" fill-opacity=\"1\" stroke=\"#505050\" stroke-width=\"0\"/><path aria-label=\"x1: 3; x2: 255.9; level: 13; level2: 13.9; status: Default; sf: invokelatest at essentials.jl:714 [inlined]\" role=\"graphics-symbol\" aria-roledescription=\"rect mark\" d=\"M6.857142857142858,365.25h578.0571428571428v2.25h-578.0571428571428Z\" fill=\"#4c78a8\" fill-opacity=\"1\" stroke=\"#505050\" stroke-width=\"0\"/><path aria-label=\"x1: 3; x2: 255.9; level: 14; level2: 14.9; status: Runtime dispatch; sf: #invokelatest#2 at essentials.jl:716 [inlined]\" role=\"graphics-symbol\" aria-roledescription=\"rect mark\" d=\"M6.857142857142858,362.75h578.0571428571428v2.25h-578.0571428571428Z\" fill=\"#e45756\" fill-opacity=\"1\" stroke=\"#505050\" stroke-width=\"0\"/><path aria-label=\"x1: 3; x2: 255.9; level: 15; level2: 15.9; status: Default; sf: include_string(mapexpr::typeof(REPL.softscope), mod::Module, code::String, filename::String) at loading.jl:1196\" role=\"graphics-symbol\" aria-roledescription=\"rect mark\" d=\"M6.857142857142858,360.25h578.0571428571428v2.25h-578.0571428571428Z\" fill=\"#4c78a8\" fill-opacity=\"1\" stroke=\"#505050\" stroke-width=\"0\"/><path aria-label=\"x1: 3; x2: 255.9; level: 16; level2: 16.9; status: Runtime dispatch; sf: eval at boot.jl:373 [inlined]\" role=\"graphics-symbol\" aria-roledescription=\"rect mark\" d=\"M6.857142857142858,357.75h578.0571428571428v2.25h-578.0571428571428Z\" fill=\"#e45756\" fill-opacity=\"1\" stroke=\"#505050\" stroke-width=\"0\"/><path aria-label=\"x1: 97; x2: 168.9; level: 17; level2: 17.9; status: Default; sf: typeinf_ext_toplevel(mi::Core.MethodInstance, world::UInt64) at typeinfer.jl:938\" role=\"graphics-symbol\" aria-roledescription=\"rect mark\" d=\"M221.71428571428572,355.25h164.34285714285716v2.25h-164.34285714285716Z\" fill=\"#4c78a8\" fill-opacity=\"1\" stroke=\"#505050\" stroke-width=\"0\"/><path aria-label=\"x1: 97; x2: 168.9; level: 18; level2: 18.9; status: Default; sf: typeinf_ext_toplevel(interp::Core.Compiler.NativeInterpreter, linfo::Core.MethodInstance) at typeinfer.jl:942\" role=\"graphics-symbol\" aria-roledescription=\"rect mark\" d=\"M221.71428571428572,352.75h164.34285714285716v2.25h-164.34285714285716Z\" fill=\"#4c78a8\" fill-opacity=\"1\" stroke=\"#505050\" stroke-width=\"0\"/><path aria-label=\"x1: 97; x2: 168.9; level: 19; level2: 19.9; status: Default; sf: typeinf_ext(interp::Core.Compiler.NativeInterpreter, mi::Core.MethodInstance) at typeinfer.jl:909\" role=\"graphics-symbol\" aria-roledescription=\"rect mark\" d=\"M221.71428571428572,350.25h164.34285714285716v2.25h-164.34285714285716Z\" fill=\"#4c78a8\" fill-opacity=\"1\" stroke=\"#505050\" stroke-width=\"0\"/><path aria-label=\"x1: 97; x2: 168.9; level: 20; level2: 20.9; status: Default; sf: typeinf(interp::Core.Compiler.NativeInterpreter, frame::Core.Compiler.InferenceState) at typeinfer.jl:209\" role=\"graphics-symbol\" aria-roledescription=\"rect mark\" d=\"M221.71428571428572,347.75h164.34285714285716v2.25h-164.34285714285716Z\" fill=\"#4c78a8\" fill-opacity=\"1\" stroke=\"#505050\" stroke-width=\"0\"/><path aria-label=\"x1: 97; x2: 159.9; level: 21; level2: 21.9; status: Default; sf: _typeinf(interp::Core.Compiler.NativeInterpreter, frame::Core.Compiler.InferenceState) at typeinfer.jl:226\" role=\"graphics-symbol\" aria-roledescription=\"rect mark\" d=\"M221.71428571428572,345.25h143.77142857142854v2.25h-143.77142857142854Z\" fill=\"#4c78a8\" fill-opacity=\"1\" stroke=\"#505050\" stroke-width=\"0\"/><path aria-label=\"x1: 97; x2: 159.9; level: 22; level2: 22.9; status: Default; sf: typeinf_nocycle(interp::Core.Compiler.NativeInterpreter, frame::Core.Compiler.InferenceState) at abstractinterpretation.jl:2014\" role=\"graphics-symbol\" aria-roledescription=\"rect mark\" d=\"M221.71428571428572,342.75h143.77142857142854v2.25h-143.77142857142854Z\" fill=\"#4c78a8\" fill-opacity=\"1\" stroke=\"#505050\" stroke-width=\"0\"/><path aria-label=\"x1: 97; x2: 146.9; level: 23; level2: 23.9; status: Default; sf: typeinf_local(interp::Core.Compiler.NativeInterpreter, frame::Core.Compiler.InferenceState) at abstractinterpretation.jl:1900\" role=\"graphics-symbol\" aria-roledescription=\"rect mark\" d=\"M221.71428571428572,340.25h114.05714285714282v2.25h-114.05714285714282Z\" fill=\"#4c78a8\" fill-opacity=\"1\" stroke=\"#505050\" stroke-width=\"0\"/><path aria-label=\"x1: 97; x2: 146.9; level: 24; level2: 24.9; status: Default; sf: abstract_eval_statement(interp::Core.Compiler.NativeInterpreter, e::Any, vtypes::Vector{Any}, sv::Core.Compiler.InferenceState) at abstractinterpretation.jl:1534\" role=\"graphics-symbol\" aria-roledescription=\"rect mark\" d=\"M221.71428571428572,337.75h114.05714285714282v2.25h-114.05714285714282Z\" fill=\"#4c78a8\" fill-opacity=\"1\" stroke=\"#505050\" stroke-width=\"0\"/><path aria-label=\"x1: 97; x2: 146.9; level: 25; level2: 25.9; status: Default; sf: abstract_call(interp::Core.Compiler.NativeInterpreter, fargs::Vector{Any}, argtypes::Vector{Any}, sv::Core.Compiler.InferenceState) at abstractinterpretation.jl:1382\" role=\"graphics-symbol\" aria-roledescription=\"rect mark\" d=\"M221.71428571428572,335.25h114.05714285714282v2.25h-114.05714285714282Z\" fill=\"#4c78a8\" fill-opacity=\"1\" stroke=\"#505050\" stroke-width=\"0\"/><path aria-label=\"x1: 97; x2: 146.9; level: 26; level2: 26.9; status: Default; sf: abstract_call(interp::Core.Compiler.NativeInterpreter, fargs::Vector{Any}, argtypes::Vector{Any}, sv::Core.Compiler.InferenceState, max_methods::Int64) at abstractinterpretation.jl:1397\" role=\"graphics-symbol\" aria-roledescription=\"rect mark\" d=\"M221.71428571428572,332.75h114.05714285714282v2.25h-114.05714285714282Z\" fill=\"#4c78a8\" fill-opacity=\"1\" stroke=\"#505050\" stroke-width=\"0\"/><path aria-label=\"x1: 97; x2: 146.9; level: 27; level2: 27.9; status: Default; sf: abstract_call_known(interp::Core.Compiler.NativeInterpreter, f::Any, fargs::Vector{Any}, argtypes::Vector{Any}, sv::Core.Compiler.InferenceState, max_methods::Int64) at abstractinterpretation.jl:1342\" role=\"graphics-symbol\" aria-roledescription=\"rect mark\" d=\"M221.71428571428572,330.25h114.05714285714282v2.25h-114.05714285714282Z\" fill=\"#4c78a8\" fill-opacity=\"1\" stroke=\"#505050\" stroke-width=\"0\"/><path aria-label=\"x1: 97; x2: 146.9; level: 28; level2: 28.9; status: Default; sf: abstract_call_gf_by_type(interp::Core.Compiler.NativeInterpreter, f::Any, fargs::Vector{Any}, argtypes::Vector{Any}, atype::Any, sv::Core.Compiler.InferenceState, max_methods::Int64) at abstractinterpretation.jl:113\" role=\"graphics-symbol\" aria-roledescription=\"rect mark\" d=\"M221.71428571428572,327.75h114.05714285714282v2.25h-114.05714285714282Z\" fill=\"#4c78a8\" fill-opacity=\"1\" stroke=\"#505050\" stroke-width=\"0\"/><path aria-label=\"x1: 97; x2: 146.9; level: 29; level2: 29.9; status: Default; sf: abstract_call_method_with_const_args(interp::Core.Compiler.NativeInterpreter, result::Core.Compiler.MethodCallResult, f::Any, argtypes::Vector{Any}, match::Core.MethodMatch, sv::Core.Compiler.InferenceState, va_override::Bool) at abstractinterpretation.jl:557\" role=\"graphics-symbol\" aria-roledescription=\"rect mark\" d=\"M221.71428571428572,325.25h114.05714285714282v2.25h-114.05714285714282Z\" fill=\"#4c78a8\" fill-opacity=\"1\" stroke=\"#505050\" stroke-width=\"0\"/><path aria-label=\"x1: 97; x2: 146.9; level: 30; level2: 30.9; status: Default; sf: typeinf(interp::Core.Compiler.NativeInterpreter, frame::Core.Compiler.InferenceState) at typeinfer.jl:209\" role=\"graphics-symbol\" aria-roledescription=\"rect mark\" d=\"M221.71428571428572,322.75h114.05714285714282v2.25h-114.05714285714282Z\" fill=\"#4c78a8\" fill-opacity=\"1\" stroke=\"#505050\" stroke-width=\"0\"/><path aria-label=\"x1: 97; x2: 141.9; level: 31; level2: 31.9; status: Default; sf: _typeinf(interp::Core.Compiler.NativeInterpreter, frame::Core.Compiler.InferenceState) at typeinfer.jl:226\" role=\"graphics-symbol\" aria-roledescription=\"rect mark\" d=\"M221.71428571428572,320.25h102.62857142857143v2.25h-102.62857142857143Z\" fill=\"#4c78a8\" fill-opacity=\"1\" stroke=\"#505050\" stroke-width=\"0\"/><path aria-label=\"x1: 97; x2: 141.9; level: 32; level2: 32.9; status: Default; sf: typeinf_nocycle(interp::Core.Compiler.NativeInterpreter, frame::Core.Compiler.InferenceState) at abstractinterpretation.jl:2014\" role=\"graphics-symbol\" aria-roledescription=\"rect mark\" d=\"M221.71428571428572,317.75h102.62857142857143v2.25h-102.62857142857143Z\" fill=\"#4c78a8\" fill-opacity=\"1\" stroke=\"#505050\" stroke-width=\"0\"/><path aria-label=\"x1: 97; x2: 141.9; level: 33; level2: 33.9; status: Default; sf: typeinf_local(interp::Core.Compiler.NativeInterpreter, frame::Core.Compiler.InferenceState) at abstractinterpretation.jl:1918\" role=\"graphics-symbol\" aria-roledescription=\"rect mark\" d=\"M221.71428571428572,315.25h102.62857142857143v2.25h-102.62857142857143Z\" fill=\"#4c78a8\" fill-opacity=\"1\" stroke=\"#505050\" stroke-width=\"0\"/><path aria-label=\"x1: 97; x2: 141.9; level: 34; level2: 34.9; status: Default; sf: abstract_eval_statement(interp::Core.Compiler.NativeInterpreter, e::Any, vtypes::Vector{Any}, sv::Core.Compiler.InferenceState) at abstractinterpretation.jl:1534\" role=\"graphics-symbol\" aria-roledescription=\"rect mark\" d=\"M221.71428571428572,312.75h102.62857142857143v2.25h-102.62857142857143Z\" fill=\"#4c78a8\" fill-opacity=\"1\" stroke=\"#505050\" stroke-width=\"0\"/><path aria-label=\"x1: 97; x2: 141.9; level: 35; level2: 35.9; status: Default; sf: abstract_call(interp::Core.Compiler.NativeInterpreter, fargs::Vector{Any}, argtypes::Vector{Any}, sv::Core.Compiler.InferenceState) at abstractinterpretation.jl:1382\" role=\"graphics-symbol\" aria-roledescription=\"rect mark\" d=\"M221.71428571428572,310.25h102.62857142857143v2.25h-102.62857142857143Z\" fill=\"#4c78a8\" fill-opacity=\"1\" stroke=\"#505050\" stroke-width=\"0\"/><path aria-label=\"x1: 97; x2: 141.9; level: 36; level2: 36.9; status: Default; sf: abstract_call(interp::Core.Compiler.NativeInterpreter, fargs::Vector{Any}, argtypes::Vector{Any}, sv::Core.Compiler.InferenceState, max_methods::Int64) at abstractinterpretation.jl:1397\" role=\"graphics-symbol\" aria-roledescription=\"rect mark\" d=\"M221.71428571428572,307.75h102.62857142857143v2.25h-102.62857142857143Z\" fill=\"#4c78a8\" fill-opacity=\"1\" stroke=\"#505050\" stroke-width=\"0\"/><path aria-label=\"x1: 97; x2: 98.9; level: 37; level2: 37.9; status: Default; sf: abstract_call_known(interp::Core.Compiler.NativeInterpreter, f::Any, fargs::Vector{Any}, argtypes::Vector{Any}, sv::Core.Compiler.InferenceState, max_methods::Int64) at abstractinterpretation.jl:1341\" role=\"graphics-symbol\" aria-roledescription=\"rect mark\" d=\"M221.71428571428572,305.25h4.342857142857156v2.25h-4.342857142857156Z\" fill=\"#4c78a8\" fill-opacity=\"1\" stroke=\"#505050\" stroke-width=\"0\"/><path aria-label=\"x1: 97; x2: 98.9; level: 38; level2: 38.9; status: Default; sf: argtypes_to_type at typeutils.jl:53 [inlined]\" role=\"graphics-symbol\" aria-roledescription=\"rect mark\" d=\"M221.71428571428572,302.75h4.342857142857156v2.25h-4.342857142857156Z\" fill=\"#4c78a8\" fill-opacity=\"1\" stroke=\"#505050\" stroke-width=\"0\"/><path aria-label=\"x1: 97; x2: 97.9; level: 39; level2: 39.9; status: Default; sf: anymap(f::Core.Compiler.var&quot;#251#252&quot;, a::Vector{Any}) at utilities.jl:39\" role=\"graphics-symbol\" aria-roledescription=\"rect mark\" d=\"M221.71428571428572,300.25h2.0571428571428783v2.25h-2.0571428571428783Z\" fill=\"#4c78a8\" fill-opacity=\"1\" stroke=\"#505050\" stroke-width=\"0\"/><path aria-label=\"x1: 97; x2: 97.9; level: 40; level2: 40.9; status: Runtime dispatch; sf: (::Core.Compiler.var&quot;#251#252&quot;)(a::Any) at typeutils.jl:53\" role=\"graphics-symbol\" aria-roledescription=\"rect mark\" d=\"M221.71428571428572,297.75h2.0571428571428783v2.25h-2.0571428571428783Z\" fill=\"#e45756\" fill-opacity=\"1\" stroke=\"#505050\" stroke-width=\"0\"/><path aria-label=\"x1: 97; x2: 97.9; level: 41; level2: 41.9; status: Default; sf: widenconst(c::Core.Const) at typelattice.jl:286\" role=\"graphics-symbol\" aria-roledescription=\"rect mark\" d=\"M221.71428571428572,295.25h2.0571428571428783v2.25h-2.0571428571428783Z\" fill=\"#4c78a8\" fill-opacity=\"1\" stroke=\"#505050\" stroke-width=\"0\"/><path aria-label=\"x1: 99; x2: 141.9; level: 37; level2: 37.9; status: Default; sf: abstract_call_known(interp::Core.Compiler.NativeInterpreter, f::Any, fargs::Vector{Any}, argtypes::Vector{Any}, sv::Core.Compiler.InferenceState, max_methods::Int64) at abstractinterpretation.jl:1342\" role=\"graphics-symbol\" aria-roledescription=\"rect mark\" d=\"M226.28571428571428,305.25h98.05714285714288v2.25h-98.05714285714288Z\" fill=\"#4c78a8\" fill-opacity=\"1\" stroke=\"#505050\" stroke-width=\"0\"/><path aria-label=\"x1: 99; x2: 141.9; level: 38; level2: 38.9; status: Default; sf: abstract_call_gf_by_type(interp::Core.Compiler.NativeInterpreter, f::Any, fargs::Vector{Any}, argtypes::Vector{Any}, atype::Any, sv::Core.Compiler.InferenceState, max_methods::Int64) at abstractinterpretation.jl:113\" role=\"graphics-symbol\" aria-roledescription=\"rect mark\" d=\"M226.28571428571428,302.75h98.05714285714288v2.25h-98.05714285714288Z\" fill=\"#4c78a8\" fill-opacity=\"1\" stroke=\"#505050\" stroke-width=\"0\"/><path aria-label=\"x1: 99; x2: 99.9; level: 39; level2: 39.9; status: Default; sf: abstract_call_method_with_const_args(interp::Core.Compiler.NativeInterpreter, result::Core.Compiler.MethodCallResult, f::Any, argtypes::Vector{Any}, match::Core.MethodMatch, sv::Core.Compiler.InferenceState, va_override::Bool) at abstractinterpretation.jl:548\" role=\"graphics-symbol\" aria-roledescription=\"rect mark\" d=\"M226.28571428571428,300.25h2.05714285714285v2.25h-2.05714285714285Z\" fill=\"#4c78a8\" fill-opacity=\"1\" stroke=\"#505050\" stroke-width=\"0\"/><path aria-label=\"x1: 99; x2: 99.9; level: 40; level2: 40.9; status: Default; sf: InferenceResult at types.jl:33 [inlined]\" role=\"graphics-symbol\" aria-roledescription=\"rect mark\" d=\"M226.28571428571428,297.75h2.05714285714285v2.25h-2.05714285714285Z\" fill=\"#4c78a8\" fill-opacity=\"1\" stroke=\"#505050\" stroke-width=\"0\"/><path aria-label=\"x1: 99; x2: 99.9; level: 41; level2: 41.9; status: Default; sf: matching_cache_argtypes(linfo::Core.MethodInstance, given_argtypes::Vector{Any}, va_override::Bool) at inferenceresult.jl:37\" role=\"graphics-symbol\" aria-roledescription=\"rect mark\" d=\"M226.28571428571428,295.25h2.05714285714285v2.25h-2.05714285714285Z\" fill=\"#4c78a8\" fill-opacity=\"1\" stroke=\"#505050\" stroke-width=\"0\"/><path aria-label=\"x1: 99; x2: 99.9; level: 42; level2: 42.9; status: Runtime dispatch; sf: matching_cache_argtypes(linfo::Core.MethodInstance, #unused#::Nothing, va_override::Bool) at inferenceresult.jl:152\" role=\"graphics-symbol\" aria-roledescription=\"rect mark\" d=\"M226.28571428571428,292.75h2.05714285714285v2.25h-2.05714285714285Z\" fill=\"#e45756\" fill-opacity=\"1\" stroke=\"#505050\" stroke-width=\"0\"/><path aria-label=\"x1: 100; x2: 141.9; level: 39; level2: 39.9; status: Default; sf: abstract_call_method_with_const_args(interp::Core.Compiler.NativeInterpreter, result::Core.Compiler.MethodCallResult, f::Any, argtypes::Vector{Any}, match::Core.MethodMatch, sv::Core.Compiler.InferenceState, va_override::Bool) at abstractinterpretation.jl:557\" role=\"graphics-symbol\" aria-roledescription=\"rect mark\" d=\"M228.57142857142856,300.25h95.7714285714286v2.25h-95.7714285714286Z\" fill=\"#4c78a8\" fill-opacity=\"1\" stroke=\"#505050\" stroke-width=\"0\"/><path aria-label=\"x1: 100; x2: 141.9; level: 40; level2: 40.9; status: Default; sf: typeinf(interp::Core.Compiler.NativeInterpreter, frame::Core.Compiler.InferenceState) at typeinfer.jl:209\" role=\"graphics-symbol\" aria-roledescription=\"rect mark\" d=\"M228.57142857142856,297.75h95.7714285714286v2.25h-95.7714285714286Z\" fill=\"#4c78a8\" fill-opacity=\"1\" stroke=\"#505050\" stroke-width=\"0\"/><path aria-label=\"x1: 100; x2: 139.9; level: 41; level2: 41.9; status: Default; sf: _typeinf(interp::Core.Compiler.NativeInterpreter, frame::Core.Compiler.InferenceState) at typeinfer.jl:226\" role=\"graphics-symbol\" aria-roledescription=\"rect mark\" d=\"M228.57142857142856,295.25h91.20000000000005v2.25h-91.20000000000005Z\" fill=\"#4c78a8\" fill-opacity=\"1\" stroke=\"#505050\" stroke-width=\"0\"/><path aria-label=\"x1: 100; x2: 139.9; level: 42; level2: 42.9; status: Default; sf: typeinf_nocycle(interp::Core.Compiler.NativeInterpreter, frame::Core.Compiler.InferenceState) at abstractinterpretation.jl:2014\" role=\"graphics-symbol\" aria-roledescription=\"rect mark\" d=\"M228.57142857142856,292.75h91.20000000000005v2.25h-91.20000000000005Z\" fill=\"#4c78a8\" fill-opacity=\"1\" stroke=\"#505050\" stroke-width=\"0\"/><path aria-label=\"x1: 100; x2: 101.9; level: 43; level2: 43.9; status: Default; sf: typeinf_local(interp::Core.Compiler.NativeInterpreter, frame::Core.Compiler.InferenceState) at abstractinterpretation.jl:1900\" role=\"graphics-symbol\" aria-roledescription=\"rect mark\" d=\"M228.57142857142856,290.25h4.342857142857156v2.25h-4.342857142857156Z\" fill=\"#4c78a8\" fill-opacity=\"1\" stroke=\"#505050\" stroke-width=\"0\"/><path aria-label=\"x1: 100; x2: 101.9; level: 44; level2: 44.9; status: Default; sf: abstract_eval_statement(interp::Core.Compiler.NativeInterpreter, e::Any, vtypes::Vector{Any}, sv::Core.Compiler.InferenceState) at abstractinterpretation.jl:1534\" role=\"graphics-symbol\" aria-roledescription=\"rect mark\" d=\"M228.57142857142856,287.75h4.342857142857156v2.25h-4.342857142857156Z\" fill=\"#4c78a8\" fill-opacity=\"1\" stroke=\"#505050\" stroke-width=\"0\"/><path aria-label=\"x1: 100; x2: 101.9; level: 45; level2: 45.9; status: Default; sf: abstract_call(interp::Core.Compiler.NativeInterpreter, fargs::Vector{Any}, argtypes::Vector{Any}, sv::Core.Compiler.InferenceState) at abstractinterpretation.jl:1382\" role=\"graphics-symbol\" aria-roledescription=\"rect mark\" d=\"M228.57142857142856,285.25h4.342857142857156v2.25h-4.342857142857156Z\" fill=\"#4c78a8\" fill-opacity=\"1\" stroke=\"#505050\" stroke-width=\"0\"/><path aria-label=\"x1: 100; x2: 101.9; level: 46; level2: 46.9; status: Default; sf: abstract_call(interp::Core.Compiler.NativeInterpreter, fargs::Vector{Any}, argtypes::Vector{Any}, sv::Core.Compiler.InferenceState, max_methods::Int64) at abstractinterpretation.jl:1397\" role=\"graphics-symbol\" aria-roledescription=\"rect mark\" d=\"M228.57142857142856,282.75h4.342857142857156v2.25h-4.342857142857156Z\" fill=\"#4c78a8\" fill-opacity=\"1\" stroke=\"#505050\" stroke-width=\"0\"/><path aria-label=\"x1: 100; x2: 101.9; level: 47; level2: 47.9; status: Default; sf: abstract_call_known(interp::Core.Compiler.NativeInterpreter, f::Any, fargs::Vector{Any}, argtypes::Vector{Any}, sv::Core.Compiler.InferenceState, max_methods::Int64) at abstractinterpretation.jl:1249\" role=\"graphics-symbol\" aria-roledescription=\"rect mark\" d=\"M228.57142857142856,280.25h4.342857142857156v2.25h-4.342857142857156Z\" fill=\"#4c78a8\" fill-opacity=\"1\" stroke=\"#505050\" stroke-width=\"0\"/><path aria-label=\"x1: 100; x2: 101.9; level: 48; level2: 48.9; status: Default; sf: abstract_apply(interp::Core.Compiler.NativeInterpreter, argtypes::Vector{Any}, sv::Core.Compiler.InferenceState, max_methods::Int64) at abstractinterpretation.jl:987\" role=\"graphics-symbol\" aria-roledescription=\"rect mark\" d=\"M228.57142857142856,277.75h4.342857142857156v2.25h-4.342857142857156Z\" fill=\"#4c78a8\" fill-opacity=\"1\" stroke=\"#505050\" stroke-width=\"0\"/><path aria-label=\"x1: 100; x2: 101.9; level: 49; level2: 49.9; status: Default; sf: abstract_call(interp::Core.Compiler.NativeInterpreter, fargs::Nothing, argtypes::Vector{Any}, sv::Core.Compiler.InferenceState, max_methods::Int64) at abstractinterpretation.jl:1397\" role=\"graphics-symbol\" aria-roledescription=\"rect mark\" d=\"M228.57142857142856,275.25h4.342857142857156v2.25h-4.342857142857156Z\" fill=\"#4c78a8\" fill-opacity=\"1\" stroke=\"#505050\" stroke-width=\"0\"/><path aria-label=\"x1: 100; x2: 101.9; level: 50; level2: 50.9; status: Default; sf: abstract_call_known(interp::Core.Compiler.NativeInterpreter, f::Any, fargs::Nothing, argtypes::Vector{Any}, sv::Core.Compiler.InferenceState, max_methods::Int64) at abstractinterpretation.jl:1342\" role=\"graphics-symbol\" aria-roledescription=\"rect mark\" d=\"M228.57142857142856,272.75h4.342857142857156v2.25h-4.342857142857156Z\" fill=\"#4c78a8\" fill-opacity=\"1\" stroke=\"#505050\" stroke-width=\"0\"/><path aria-label=\"x1: 100; x2: 101.9; level: 51; level2: 51.9; status: Default; sf: abstract_call_gf_by_type(interp::Core.Compiler.NativeInterpreter, f::Any, fargs::Nothing, argtypes::Vector{Any}, atype::Any, sv::Core.Compiler.InferenceState, max_methods::Int64) at abstractinterpretation.jl:113\" role=\"graphics-symbol\" aria-roledescription=\"rect mark\" d=\"M228.57142857142856,270.25h4.342857142857156v2.25h-4.342857142857156Z\" fill=\"#4c78a8\" fill-opacity=\"1\" stroke=\"#505050\" stroke-width=\"0\"/><path aria-label=\"x1: 100; x2: 101.9; level: 52; level2: 52.9; status: Default; sf: abstract_call_method_with_const_args(interp::Core.Compiler.NativeInterpreter, result::Core.Compiler.MethodCallResult, f::Any, argtypes::Vector{Any}, match::Core.MethodMatch, sv::Core.Compiler.InferenceState, va_override::Bool) at abstractinterpretation.jl:557\" role=\"graphics-symbol\" aria-roledescription=\"rect mark\" d=\"M228.57142857142856,267.75h4.342857142857156v2.25h-4.342857142857156Z\" fill=\"#4c78a8\" fill-opacity=\"1\" stroke=\"#505050\" stroke-width=\"0\"/><path aria-label=\"x1: 100; x2: 101.9; level: 53; level2: 53.9; status: Default; sf: typeinf(interp::Core.Compiler.NativeInterpreter, frame::Core.Compiler.InferenceState) at typeinfer.jl:209\" role=\"graphics-symbol\" aria-roledescription=\"rect mark\" d=\"M228.57142857142856,265.25h4.342857142857156v2.25h-4.342857142857156Z\" fill=\"#4c78a8\" fill-opacity=\"1\" stroke=\"#505050\" stroke-width=\"0\"/><path aria-label=\"x1: 100; x2: 101.9; level: 54; level2: 54.9; status: Default; sf: _typeinf(interp::Core.Compiler.NativeInterpreter, frame::Core.Compiler.InferenceState) at typeinfer.jl:255\" role=\"graphics-symbol\" aria-roledescription=\"rect mark\" d=\"M228.57142857142856,262.75h4.342857142857156v2.25h-4.342857142857156Z\" fill=\"#4c78a8\" fill-opacity=\"1\" stroke=\"#505050\" stroke-width=\"0\"/><path aria-label=\"x1: 100; x2: 101.9; level: 55; level2: 55.9; status: Default; sf: optimize at optimize.jl:296 [inlined]\" role=\"graphics-symbol\" aria-roledescription=\"rect mark\" d=\"M228.57142857142856,260.25h4.342857142857156v2.25h-4.342857142857156Z\" fill=\"#4c78a8\" fill-opacity=\"1\" stroke=\"#505050\" stroke-width=\"0\"/><path aria-label=\"x1: 100; x2: 101.9; level: 56; level2: 56.9; status: Runtime dispatch; sf: run_passes(ci::Core.CodeInfo, nargs::Int64, sv::Core.Compiler.OptimizationState) at optimize.jl:307\" role=\"graphics-symbol\" aria-roledescription=\"rect mark\" d=\"M228.57142857142856,257.75h4.342857142857156v2.25h-4.342857142857156Z\" fill=\"#e45756\" fill-opacity=\"1\" stroke=\"#505050\" stroke-width=\"0\"/><path aria-label=\"x1: 100; x2: 100.9; level: 57; level2: 57.9; status: Default; sf: ssa_inlining_pass!(ir::Core.Compiler.IRCode, linetable::Vector{Core.LineInfoNode}, state::Core.Compiler.InliningState{Core.Compiler.EdgeTracker, Core.Compiler.WorldView{Core.Compiler.InternalCodeCache}, typeof(Core.Compiler.default_inlining_policy)}, propagate_inbounds::Bool) at inlining.jl:80\" role=\"graphics-symbol\" aria-roledescription=\"rect mark\" d=\"M228.57142857142856,255.25000000000003h2.0571428571429067v2.2499999999999716h-2.0571428571429067Z\" fill=\"#4c78a8\" fill-opacity=\"1\" stroke=\"#505050\" stroke-width=\"0\"/><path aria-label=\"x1: 100; x2: 100.9; level: 58; level2: 58.9; status: Default; sf: assemble_inline_todo!(ir::Core.Compiler.IRCode, state::Core.Compiler.InliningState{Core.Compiler.EdgeTracker, Core.Compiler.WorldView{Core.Compiler.InternalCodeCache}, typeof(Core.Compiler.default_inlining_policy)}) at inlining.jl:1419\" role=\"graphics-symbol\" aria-roledescription=\"rect mark\" d=\"M228.57142857142856,252.75h2.0571428571429067v2.2499999999999716h-2.0571428571429067Z\" fill=\"#4c78a8\" fill-opacity=\"1\" stroke=\"#505050\" stroke-width=\"0\"/><path aria-label=\"x1: 100; x2: 100.9; level: 59; level2: 59.9; status: Default; sf: analyze_single_call!(ir::Core.Compiler.IRCode, todo::Vector{Pair{Int64, Any}}, idx::Int64, stmt::Any, ::Core.Compiler.Signature, infos::Vector{Core.Compiler.MethodMatchInfo}, state::Core.Compiler.InliningState{Core.Compiler.EdgeTracker, Core.Compiler.WorldView{Core.Compiler.InternalCodeCache}, typeof(Core.Compiler.default_inlining_policy)}) at inlining.jl:1238\" role=\"graphics-symbol\" aria-roledescription=\"rect mark\" d=\"M228.57142857142856,250.25h2.0571428571429067v2.25h-2.0571428571429067Z\" fill=\"#4c78a8\" fill-opacity=\"1\" stroke=\"#505050\" stroke-width=\"0\"/><path aria-label=\"x1: 100; x2: 100.9; level: 60; level2: 60.9; status: Default; sf: analyze_method!(match::Core.MethodMatch, atypes::Vector{Any}, state::Core.Compiler.InliningState{Core.Compiler.EdgeTracker, Core.Compiler.WorldView{Core.Compiler.InternalCodeCache}, typeof(Core.Compiler.default_inlining_policy)}) at inlining.jl:851\" role=\"graphics-symbol\" aria-roledescription=\"rect mark\" d=\"M228.57142857142856,247.75h2.0571428571429067v2.25h-2.0571428571429067Z\" fill=\"#4c78a8\" fill-opacity=\"1\" stroke=\"#505050\" stroke-width=\"0\"/><path aria-label=\"x1: 100; x2: 100.9; level: 61; level2: 61.9; status: Runtime dispatch; sf: resolve_todo(todo::Core.Compiler.InliningTodo, state::Core.Compiler.InliningState{Core.Compiler.EdgeTracker, Core.Compiler.WorldView{Core.Compiler.InternalCodeCache}, typeof(Core.Compiler.default_inlining_policy)}) at inlining.jl:795\" role=\"graphics-symbol\" aria-roledescription=\"rect mark\" d=\"M228.57142857142856,245.25h2.0571428571429067v2.25h-2.0571428571429067Z\" fill=\"#e45756\" fill-opacity=\"1\" stroke=\"#505050\" stroke-width=\"0\"/><path aria-label=\"x1: 100; x2: 100.9; level: 62; level2: 62.9; status: Default; sf: Core.Compiler.InliningTodo(mi::Core.MethodInstance, src::Vector{UInt8}) at inlining.jl:864\" role=\"graphics-symbol\" aria-roledescription=\"rect mark\" d=\"M228.57142857142856,242.75000000000003h2.0571428571429067v2.25h-2.0571428571429067Z\" fill=\"#4c78a8\" fill-opacity=\"1\" stroke=\"#505050\" stroke-width=\"0\"/><path aria-label=\"x1: 100; x2: 100.9; level: 63; level2: 63.9; status: Default; sf: inflate_ir(ci::Core.CodeInfo, linfo::Core.MethodInstance) at legacy.jl:6\" role=\"graphics-symbol\" aria-roledescription=\"rect mark\" d=\"M228.57142857142856,240.25h2.0571428571429067v2.2499999999999716h-2.0571428571429067Z\" fill=\"#4c78a8\" fill-opacity=\"1\" stroke=\"#505050\" stroke-width=\"0\"/><path aria-label=\"x1: 100; x2: 100.9; level: 64; level2: 64.9; status: Runtime dispatch; sf: matching_cache_argtypes(linfo::Core.MethodInstance, #unused#::Nothing, va_override::Bool) at inferenceresult.jl:152\" role=\"graphics-symbol\" aria-roledescription=\"rect mark\" d=\"M228.57142857142856,237.75h2.0571428571429067v2.25h-2.0571428571429067Z\" fill=\"#e45756\" fill-opacity=\"1\" stroke=\"#505050\" stroke-width=\"0\"/><path aria-label=\"x1: 101; x2: 101.9; level: 57; level2: 57.9; status: Default; sf: ssa_inlining_pass!(ir::Core.Compiler.IRCode, linetable::Vector{Core.LineInfoNode}, state::Core.Compiler.InliningState{Core.Compiler.EdgeTracker, Core.Compiler.WorldView{Core.Compiler.InternalCodeCache}, typeof(Core.Compiler.default_inlining_policy)}, propagate_inbounds::Bool) at inlining.jl:83\" role=\"graphics-symbol\" aria-roledescription=\"rect mark\" d=\"M230.85714285714286,255.25000000000003h2.05714285714285v2.2499999999999716h-2.05714285714285Z\" fill=\"#4c78a8\" fill-opacity=\"1\" stroke=\"#505050\" stroke-width=\"0\"/><path aria-label=\"x1: 101; x2: 101.9; level: 58; level2: 58.9; status: Default; sf: batch_inline!(todo::Vector{Pair{Int64, Any}}, ir::Core.Compiler.IRCode, linetable::Vector{Core.LineInfoNode}, propagate_inbounds::Bool) at inlining.jl:594\" role=\"graphics-symbol\" aria-roledescription=\"rect mark\" d=\"M230.85714285714286,252.75h2.05714285714285v2.2499999999999716h-2.05714285714285Z\" fill=\"#4c78a8\" fill-opacity=\"1\" stroke=\"#505050\" stroke-width=\"0\"/><path aria-label=\"x1: 101; x2: 101.9; level: 59; level2: 59.9; status: Default; sf: ir_inline_item!(compact::Core.Compiler.IncrementalCompact, idx::Int64, argexprs::Vector{Any}, linetable::Vector{Core.LineInfoNode}, item::Core.Compiler.InliningTodo, boundscheck::Symbol, todo_bbs::Vector{Tuple{Int64, Int64}}) at inlining.jl:345\" role=\"graphics-symbol\" aria-roledescription=\"rect mark\" d=\"M230.85714285714286,250.25h2.05714285714285v2.25h-2.05714285714285Z\" fill=\"#4c78a8\" fill-opacity=\"1\" stroke=\"#505050\" stroke-width=\"0\"/><path aria-label=\"x1: 101; x2: 101.9; level: 60; level2: 60.9; status: Runtime dispatch; sf: mk_tuplecall!(compact::Core.Compiler.IncrementalCompact, args::Vector{Any}, line_idx::Int32) at inlining.jl:1425\" role=\"graphics-symbol\" aria-roledescription=\"rect mark\" d=\"M230.85714285714286,247.75h2.05714285714285v2.25h-2.05714285714285Z\" fill=\"#e45756\" fill-opacity=\"1\" stroke=\"#505050\" stroke-width=\"0\"/><path aria-label=\"x1: 101; x2: 101.9; level: 61; level2: 61.9; status: Default; sf: Expr(::Any, ::Vararg{Any}) at boot.jl:263\" role=\"graphics-symbol\" aria-roledescription=\"rect mark\" d=\"M230.85714285714286,245.25h2.05714285714285v2.25h-2.05714285714285Z\" fill=\"#4c78a8\" fill-opacity=\"1\" stroke=\"#505050\" stroke-width=\"0\"/><path aria-label=\"x1: 102; x2: 139.9; level: 43; level2: 43.9; status: Default; sf: typeinf_local(interp::Core.Compiler.NativeInterpreter, frame::Core.Compiler.InferenceState) at abstractinterpretation.jl:1918\" role=\"graphics-symbol\" aria-roledescription=\"rect mark\" d=\"M233.14285714285714,290.25h86.62857142857146v2.25h-86.62857142857146Z\" fill=\"#4c78a8\" fill-opacity=\"1\" stroke=\"#505050\" stroke-width=\"0\"/><path aria-label=\"x1: 102; x2: 139.9; level: 44; level2: 44.9; status: Default; sf: abstract_eval_statement(interp::Core.Compiler.NativeInterpreter, e::Any, vtypes::Vector{Any}, sv::Core.Compiler.InferenceState) at abstractinterpretation.jl:1534\" role=\"graphics-symbol\" aria-roledescription=\"rect mark\" d=\"M233.14285714285714,287.75h86.62857142857146v2.25h-86.62857142857146Z\" fill=\"#4c78a8\" fill-opacity=\"1\" stroke=\"#505050\" stroke-width=\"0\"/><path aria-label=\"x1: 102; x2: 139.9; level: 45; level2: 45.9; status: Default; sf: abstract_call(interp::Core.Compiler.NativeInterpreter, fargs::Vector{Any}, argtypes::Vector{Any}, sv::Core.Compiler.InferenceState) at abstractinterpretation.jl:1382\" role=\"graphics-symbol\" aria-roledescription=\"rect mark\" d=\"M233.14285714285714,285.25h86.62857142857146v2.25h-86.62857142857146Z\" fill=\"#4c78a8\" fill-opacity=\"1\" stroke=\"#505050\" stroke-width=\"0\"/><path aria-label=\"x1: 102; x2: 139.9; level: 46; level2: 46.9; status: Default; sf: abstract_call(interp::Core.Compiler.NativeInterpreter, fargs::Vector{Any}, argtypes::Vector{Any}, sv::Core.Compiler.InferenceState, max_methods::Int64) at abstractinterpretation.jl:1397\" role=\"graphics-symbol\" aria-roledescription=\"rect mark\" d=\"M233.14285714285714,282.75h86.62857142857146v2.25h-86.62857142857146Z\" fill=\"#4c78a8\" fill-opacity=\"1\" stroke=\"#505050\" stroke-width=\"0\"/><path aria-label=\"x1: 102; x2: 102.9; level: 47; level2: 47.9; status: Default; sf: abstract_call_known(interp::Core.Compiler.NativeInterpreter, f::Any, fargs::Vector{Any}, argtypes::Vector{Any}, sv::Core.Compiler.InferenceState, max_methods::Int64) at abstractinterpretation.jl:1255\" role=\"graphics-symbol\" aria-roledescription=\"rect mark\" d=\"M233.14285714285714,280.25h2.0571428571429067v2.25h-2.0571428571429067Z\" fill=\"#4c78a8\" fill-opacity=\"1\" stroke=\"#505050\" stroke-width=\"0\"/><path aria-label=\"x1: 102; x2: 102.9; level: 48; level2: 48.9; status: Default; sf: abstract_call_builtin(interp::Core.Compiler.NativeInterpreter, f::Core.Builtin, fargs::Vector{Any}, argtypes::Vector{Any}, sv::Core.Compiler.InferenceState, max_methods::Int64) at abstractinterpretation.jl:1078\" role=\"graphics-symbol\" aria-roledescription=\"rect mark\" d=\"M233.14285714285714,277.75h2.0571428571429067v2.25h-2.0571428571429067Z\" fill=\"#4c78a8\" fill-opacity=\"1\" stroke=\"#505050\" stroke-width=\"0\"/><path aria-label=\"x1: 102; x2: 102.9; level: 49; level2: 49.9; status: Runtime dispatch; sf: builtin_tfunction(interp::Core.Compiler.AbstractInterpreter, f::Any, argtypes::Vector{Any}, sv::Union{Nothing, Core.Compiler.InferenceState}) at tfuncs.jl:1646\" role=\"graphics-symbol\" aria-roledescription=\"rect mark\" d=\"M233.14285714285714,275.25h2.0571428571429067v2.25h-2.0571428571429067Z\" fill=\"#e45756\" fill-opacity=\"1\" stroke=\"#505050\" stroke-width=\"0\"/><path aria-label=\"x1: 102; x2: 102.9; level: 50; level2: 50.9; status: Default; sf: getfield_tfunc(s00::Any, name::Any) at tfuncs.jl:829\" role=\"graphics-symbol\" aria-roledescription=\"rect mark\" d=\"M233.14285714285714,272.75h2.0571428571429067v2.25h-2.0571428571429067Z\" fill=\"#4c78a8\" fill-opacity=\"1\" stroke=\"#505050\" stroke-width=\"0\"/><path aria-label=\"x1: 103; x2: 139.9; level: 47; level2: 47.9; status: Default; sf: abstract_call_known(interp::Core.Compiler.NativeInterpreter, f::Any, fargs::Vector{Any}, argtypes::Vector{Any}, sv::Core.Compiler.InferenceState, max_methods::Int64) at abstractinterpretation.jl:1342\" role=\"graphics-symbol\" aria-roledescription=\"rect mark\" d=\"M235.42857142857142,280.25h84.34285714285718v2.25h-84.34285714285718Z\" fill=\"#4c78a8\" fill-opacity=\"1\" stroke=\"#505050\" stroke-width=\"0\"/><path aria-label=\"x1: 103; x2: 138.9; level: 48; level2: 48.9; status: Default; sf: abstract_call_gf_by_type(interp::Core.Compiler.NativeInterpreter, f::Any, fargs::Vector{Any}, argtypes::Vector{Any}, atype::Any, sv::Core.Compiler.InferenceState, max_methods::Int64) at abstractinterpretation.jl:113\" role=\"graphics-symbol\" aria-roledescription=\"rect mark\" d=\"M235.42857142857142,277.75h82.05714285714285v2.25h-82.05714285714285Z\" fill=\"#4c78a8\" fill-opacity=\"1\" stroke=\"#505050\" stroke-width=\"0\"/><path aria-label=\"x1: 103; x2: 138.9; level: 49; level2: 49.9; status: Default; sf: abstract_call_method_with_const_args(interp::Core.Compiler.NativeInterpreter, result::Core.Compiler.MethodCallResult, f::Any, argtypes::Vector{Any}, match::Core.MethodMatch, sv::Core.Compiler.InferenceState, va_override::Bool) at abstractinterpretation.jl:557\" role=\"graphics-symbol\" aria-roledescription=\"rect mark\" d=\"M235.42857142857142,275.25h82.05714285714285v2.25h-82.05714285714285Z\" fill=\"#4c78a8\" fill-opacity=\"1\" stroke=\"#505050\" stroke-width=\"0\"/><path aria-label=\"x1: 103; x2: 138.9; level: 50; level2: 50.9; status: Default; sf: typeinf(interp::Core.Compiler.NativeInterpreter, frame::Core.Compiler.InferenceState) at typeinfer.jl:209\" role=\"graphics-symbol\" aria-roledescription=\"rect mark\" d=\"M235.42857142857142,272.75h82.05714285714285v2.25h-82.05714285714285Z\" fill=\"#4c78a8\" fill-opacity=\"1\" stroke=\"#505050\" stroke-width=\"0\"/><path aria-label=\"x1: 103; x2: 136.9; level: 51; level2: 51.9; status: Default; sf: _typeinf(interp::Core.Compiler.NativeInterpreter, frame::Core.Compiler.InferenceState) at typeinfer.jl:226\" role=\"graphics-symbol\" aria-roledescription=\"rect mark\" d=\"M235.42857142857142,270.25h77.48571428571435v2.25h-77.48571428571435Z\" fill=\"#4c78a8\" fill-opacity=\"1\" stroke=\"#505050\" stroke-width=\"0\"/><path aria-label=\"x1: 103; x2: 136.9; level: 52; level2: 52.9; status: Default; sf: typeinf_nocycle(interp::Core.Compiler.NativeInterpreter, frame::Core.Compiler.InferenceState) at abstractinterpretation.jl:2014\" role=\"graphics-symbol\" aria-roledescription=\"rect mark\" d=\"M235.42857142857142,267.75h77.48571428571435v2.25h-77.48571428571435Z\" fill=\"#4c78a8\" fill-opacity=\"1\" stroke=\"#505050\" stroke-width=\"0\"/><path aria-label=\"x1: 103; x2: 136.9; level: 53; level2: 53.9; status: Default; sf: typeinf_local(interp::Core.Compiler.NativeInterpreter, frame::Core.Compiler.InferenceState) at abstractinterpretation.jl:1918\" role=\"graphics-symbol\" aria-roledescription=\"rect mark\" d=\"M235.42857142857142,265.25h77.48571428571435v2.25h-77.48571428571435Z\" fill=\"#4c78a8\" fill-opacity=\"1\" stroke=\"#505050\" stroke-width=\"0\"/><path aria-label=\"x1: 103; x2: 136.9; level: 54; level2: 54.9; status: Default; sf: abstract_eval_statement(interp::Core.Compiler.NativeInterpreter, e::Any, vtypes::Vector{Any}, sv::Core.Compiler.InferenceState) at abstractinterpretation.jl:1534\" role=\"graphics-symbol\" aria-roledescription=\"rect mark\" d=\"M235.42857142857142,262.75h77.48571428571435v2.25h-77.48571428571435Z\" fill=\"#4c78a8\" fill-opacity=\"1\" stroke=\"#505050\" stroke-width=\"0\"/><path aria-label=\"x1: 103; x2: 136.9; level: 55; level2: 55.9; status: Default; sf: abstract_call(interp::Core.Compiler.NativeInterpreter, fargs::Vector{Any}, argtypes::Vector{Any}, sv::Core.Compiler.InferenceState) at abstractinterpretation.jl:1382\" role=\"graphics-symbol\" aria-roledescription=\"rect mark\" d=\"M235.42857142857142,260.25h77.48571428571435v2.25h-77.48571428571435Z\" fill=\"#4c78a8\" fill-opacity=\"1\" stroke=\"#505050\" stroke-width=\"0\"/><path aria-label=\"x1: 103; x2: 136.9; level: 56; level2: 56.9; status: Default; sf: abstract_call(interp::Core.Compiler.NativeInterpreter, fargs::Vector{Any}, argtypes::Vector{Any}, sv::Core.Compiler.InferenceState, max_methods::Int64) at abstractinterpretation.jl:1397\" role=\"graphics-symbol\" aria-roledescription=\"rect mark\" d=\"M235.42857142857142,257.75h77.48571428571435v2.25h-77.48571428571435Z\" fill=\"#4c78a8\" fill-opacity=\"1\" stroke=\"#505050\" stroke-width=\"0\"/><path aria-label=\"x1: 103; x2: 103.9; level: 57; level2: 57.9; status: Default; sf: abstract_call_known(interp::Core.Compiler.NativeInterpreter, f::Any, fargs::Vector{Any}, argtypes::Vector{Any}, sv::Core.Compiler.InferenceState, max_methods::Int64) at abstractinterpretation.jl:1341\" role=\"graphics-symbol\" aria-roledescription=\"rect mark\" d=\"M235.42857142857142,255.25000000000003h2.0571428571428783v2.2499999999999716h-2.0571428571428783Z\" fill=\"#4c78a8\" fill-opacity=\"1\" stroke=\"#505050\" stroke-width=\"0\"/><path aria-label=\"x1: 103; x2: 103.9; level: 58; level2: 58.9; status: Default; sf: argtypes_to_type at typeutils.jl:53 [inlined]\" role=\"graphics-symbol\" aria-roledescription=\"rect mark\" d=\"M235.42857142857142,252.75h2.0571428571428783v2.2499999999999716h-2.0571428571428783Z\" fill=\"#4c78a8\" fill-opacity=\"1\" stroke=\"#505050\" stroke-width=\"0\"/><path aria-label=\"x1: 103; x2: 103.9; level: 59; level2: 59.9; status: Default; sf: anymap(f::Core.Compiler.var&quot;#251#252&quot;, a::Vector{Any}) at utilities.jl:39\" role=\"graphics-symbol\" aria-roledescription=\"rect mark\" d=\"M235.42857142857142,250.25h2.0571428571428783v2.25h-2.0571428571428783Z\" fill=\"#4c78a8\" fill-opacity=\"1\" stroke=\"#505050\" stroke-width=\"0\"/><path aria-label=\"x1: 103; x2: 103.9; level: 60; level2: 60.9; status: Runtime dispatch; sf: (::Core.Compiler.var&quot;#251#252&quot;)(a::Any) at typeutils.jl:53\" role=\"graphics-symbol\" aria-roledescription=\"rect mark\" d=\"M235.42857142857142,247.75h2.0571428571428783v2.25h-2.0571428571428783Z\" fill=\"#e45756\" fill-opacity=\"1\" stroke=\"#505050\" stroke-width=\"0\"/><path aria-label=\"x1: 103; x2: 103.9; level: 61; level2: 61.9; status: Default; sf: widenconst(c::Core.Const) at typelattice.jl:286\" role=\"graphics-symbol\" aria-roledescription=\"rect mark\" d=\"M235.42857142857142,245.25h2.0571428571428783v2.25h-2.0571428571428783Z\" fill=\"#4c78a8\" fill-opacity=\"1\" stroke=\"#505050\" stroke-width=\"0\"/><path aria-label=\"x1: 104; x2: 136.9; level: 57; level2: 57.9; status: Default; sf: abstract_call_known(interp::Core.Compiler.NativeInterpreter, f::Any, fargs::Vector{Any}, argtypes::Vector{Any}, sv::Core.Compiler.InferenceState, max_methods::Int64) at abstractinterpretation.jl:1342\" role=\"graphics-symbol\" aria-roledescription=\"rect mark\" d=\"M237.71428571428572,255.25000000000003h75.20000000000005v2.2499999999999716h-75.20000000000005Z\" fill=\"#4c78a8\" fill-opacity=\"1\" stroke=\"#505050\" stroke-width=\"0\"/><path aria-label=\"x1: 104; x2: 136.9; level: 58; level2: 58.9; status: Default; sf: abstract_call_gf_by_type(interp::Core.Compiler.NativeInterpreter, f::Any, fargs::Vector{Any}, argtypes::Vector{Any}, atype::Any, sv::Core.Compiler.InferenceState, max_methods::Int64) at abstractinterpretation.jl:113\" role=\"graphics-symbol\" aria-roledescription=\"rect mark\" d=\"M237.71428571428572,252.75h75.20000000000005v2.2499999999999716h-75.20000000000005Z\" fill=\"#4c78a8\" fill-opacity=\"1\" stroke=\"#505050\" stroke-width=\"0\"/><path aria-label=\"x1: 104; x2: 136.9; level: 59; level2: 59.9; status: Default; sf: abstract_call_method_with_const_args(interp::Core.Compiler.NativeInterpreter, result::Core.Compiler.MethodCallResult, f::Any, argtypes::Vector{Any}, match::Core.MethodMatch, sv::Core.Compiler.InferenceState, va_override::Bool) at abstractinterpretation.jl:557\" role=\"graphics-symbol\" aria-roledescription=\"rect mark\" d=\"M237.71428571428572,250.25h75.20000000000005v2.25h-75.20000000000005Z\" fill=\"#4c78a8\" fill-opacity=\"1\" stroke=\"#505050\" stroke-width=\"0\"/><path aria-label=\"x1: 104; x2: 136.9; level: 60; level2: 60.9; status: Default; sf: typeinf(interp::Core.Compiler.NativeInterpreter, frame::Core.Compiler.InferenceState) at typeinfer.jl:209\" role=\"graphics-symbol\" aria-roledescription=\"rect mark\" d=\"M237.71428571428572,247.75h75.20000000000005v2.25h-75.20000000000005Z\" fill=\"#4c78a8\" fill-opacity=\"1\" stroke=\"#505050\" stroke-width=\"0\"/><path aria-label=\"x1: 104; x2: 126.9; level: 61; level2: 61.9; status: Default; sf: _typeinf(interp::Core.Compiler.NativeInterpreter, frame::Core.Compiler.InferenceState) at typeinfer.jl:226\" role=\"graphics-symbol\" aria-roledescription=\"rect mark\" d=\"M237.71428571428572,245.25h52.342857142857156v2.25h-52.342857142857156Z\" fill=\"#4c78a8\" fill-opacity=\"1\" stroke=\"#505050\" stroke-width=\"0\"/><path aria-label=\"x1: 104; x2: 126.9; level: 62; level2: 62.9; status: Default; sf: typeinf_nocycle(interp::Core.Compiler.NativeInterpreter, frame::Core.Compiler.InferenceState) at abstractinterpretation.jl:2014\" role=\"graphics-symbol\" aria-roledescription=\"rect mark\" d=\"M237.71428571428572,242.75000000000003h52.342857142857156v2.25h-52.342857142857156Z\" fill=\"#4c78a8\" fill-opacity=\"1\" stroke=\"#505050\" stroke-width=\"0\"/><path aria-label=\"x1: 104; x2: 113.9; level: 63; level2: 63.9; status: Default; sf: typeinf_local(interp::Core.Compiler.NativeInterpreter, frame::Core.Compiler.InferenceState) at abstractinterpretation.jl:1900\" role=\"graphics-symbol\" aria-roledescription=\"rect mark\" d=\"M237.71428571428572,240.25h22.628571428571433v2.2499999999999716h-22.628571428571433Z\" fill=\"#4c78a8\" fill-opacity=\"1\" stroke=\"#505050\" stroke-width=\"0\"/><path aria-label=\"x1: 104; x2: 113.9; level: 64; level2: 64.9; status: Default; sf: abstract_eval_statement(interp::Core.Compiler.NativeInterpreter, e::Any, vtypes::Vector{Any}, sv::Core.Compiler.InferenceState) at abstractinterpretation.jl:1534\" role=\"graphics-symbol\" aria-roledescription=\"rect mark\" d=\"M237.71428571428572,237.75h22.628571428571433v2.25h-22.628571428571433Z\" fill=\"#4c78a8\" fill-opacity=\"1\" stroke=\"#505050\" stroke-width=\"0\"/><path aria-label=\"x1: 104; x2: 113.9; level: 65; level2: 65.9; status: Default; sf: abstract_call(interp::Core.Compiler.NativeInterpreter, fargs::Vector{Any}, argtypes::Vector{Any}, sv::Core.Compiler.InferenceState) at abstractinterpretation.jl:1382\" role=\"graphics-symbol\" aria-roledescription=\"rect mark\" d=\"M237.71428571428572,235.25h22.628571428571433v2.25h-22.628571428571433Z\" fill=\"#4c78a8\" fill-opacity=\"1\" stroke=\"#505050\" stroke-width=\"0\"/><path aria-label=\"x1: 104; x2: 113.9; level: 66; level2: 66.9; status: Default; sf: abstract_call(interp::Core.Compiler.NativeInterpreter, fargs::Vector{Any}, argtypes::Vector{Any}, sv::Core.Compiler.InferenceState, max_methods::Int64) at abstractinterpretation.jl:1397\" role=\"graphics-symbol\" aria-roledescription=\"rect mark\" d=\"M237.71428571428572,232.74999999999997h22.628571428571433v2.2500000000000284h-22.628571428571433Z\" fill=\"#4c78a8\" fill-opacity=\"1\" stroke=\"#505050\" stroke-width=\"0\"/><path aria-label=\"x1: 104; x2: 113.9; level: 67; level2: 67.9; status: Default; sf: abstract_call_known(interp::Core.Compiler.NativeInterpreter, f::Any, fargs::Vector{Any}, argtypes::Vector{Any}, sv::Core.Compiler.InferenceState, max_methods::Int64) at abstractinterpretation.jl:1342\" role=\"graphics-symbol\" aria-roledescription=\"rect mark\" d=\"M237.71428571428572,230.24999999999997h22.628571428571433v2.250000000000057h-22.628571428571433Z\" fill=\"#4c78a8\" fill-opacity=\"1\" stroke=\"#505050\" stroke-width=\"0\"/><path aria-label=\"x1: 104; x2: 113.9; level: 68; level2: 68.9; status: Default; sf: abstract_call_gf_by_type(interp::Core.Compiler.NativeInterpreter, f::Any, fargs::Vector{Any}, argtypes::Vector{Any}, atype::Any, sv::Core.Compiler.InferenceState, max_methods::Int64) at abstractinterpretation.jl:113\" role=\"graphics-symbol\" aria-roledescription=\"rect mark\" d=\"M237.71428571428572,227.75h22.628571428571433v2.2499999999999716h-22.628571428571433Z\" fill=\"#4c78a8\" fill-opacity=\"1\" stroke=\"#505050\" stroke-width=\"0\"/><path aria-label=\"x1: 104; x2: 113.9; level: 69; level2: 69.9; status: Default; sf: abstract_call_method_with_const_args(interp::Core.Compiler.NativeInterpreter, result::Core.Compiler.MethodCallResult, f::Any, argtypes::Vector{Any}, match::Core.MethodMatch, sv::Core.Compiler.InferenceState, va_override::Bool) at abstractinterpretation.jl:557\" role=\"graphics-symbol\" aria-roledescription=\"rect mark\" d=\"M237.71428571428572,225.25h22.628571428571433v2.25h-22.628571428571433Z\" fill=\"#4c78a8\" fill-opacity=\"1\" stroke=\"#505050\" stroke-width=\"0\"/><path aria-label=\"x1: 104; x2: 113.9; level: 70; level2: 70.9; status: Default; sf: typeinf(interp::Core.Compiler.NativeInterpreter, frame::Core.Compiler.InferenceState) at typeinfer.jl:209\" role=\"graphics-symbol\" aria-roledescription=\"rect mark\" d=\"M237.71428571428572,222.75h22.628571428571433v2.25h-22.628571428571433Z\" fill=\"#4c78a8\" fill-opacity=\"1\" stroke=\"#505050\" stroke-width=\"0\"/><path aria-label=\"x1: 104; x2: 111.9; level: 71; level2: 71.9; status: Default; sf: _typeinf(interp::Core.Compiler.NativeInterpreter, frame::Core.Compiler.InferenceState) at typeinfer.jl:226\" role=\"graphics-symbol\" aria-roledescription=\"rect mark\" d=\"M237.71428571428572,220.24999999999997h18.05714285714285v2.2500000000000284h-18.05714285714285Z\" fill=\"#4c78a8\" fill-opacity=\"1\" stroke=\"#505050\" stroke-width=\"0\"/><path aria-label=\"x1: 104; x2: 111.9; level: 72; level2: 72.9; status: Default; sf: typeinf_nocycle(interp::Core.Compiler.NativeInterpreter, frame::Core.Compiler.InferenceState) at abstractinterpretation.jl:2014\" role=\"graphics-symbol\" aria-roledescription=\"rect mark\" d=\"M237.71428571428572,217.74999999999997h18.05714285714285v2.250000000000057h-18.05714285714285Z\" fill=\"#4c78a8\" fill-opacity=\"1\" stroke=\"#505050\" stroke-width=\"0\"/><path aria-label=\"x1: 104; x2: 111.9; level: 73; level2: 73.9; status: Default; sf: typeinf_local(interp::Core.Compiler.NativeInterpreter, frame::Core.Compiler.InferenceState) at abstractinterpretation.jl:1918\" role=\"graphics-symbol\" aria-roledescription=\"rect mark\" d=\"M237.71428571428572,215.25h18.05714285714285v2.2499999999999716h-18.05714285714285Z\" fill=\"#4c78a8\" fill-opacity=\"1\" stroke=\"#505050\" stroke-width=\"0\"/><path aria-label=\"x1: 104; x2: 111.9; level: 74; level2: 74.9; status: Default; sf: abstract_eval_statement(interp::Core.Compiler.NativeInterpreter, e::Any, vtypes::Vector{Any}, sv::Core.Compiler.InferenceState) at abstractinterpretation.jl:1534\" role=\"graphics-symbol\" aria-roledescription=\"rect mark\" d=\"M237.71428571428572,212.75h18.05714285714285v2.25h-18.05714285714285Z\" fill=\"#4c78a8\" fill-opacity=\"1\" stroke=\"#505050\" stroke-width=\"0\"/><path aria-label=\"x1: 104; x2: 111.9; level: 75; level2: 75.9; status: Default; sf: abstract_call(interp::Core.Compiler.NativeInterpreter, fargs::Vector{Any}, argtypes::Vector{Any}, sv::Core.Compiler.InferenceState) at abstractinterpretation.jl:1382\" role=\"graphics-symbol\" aria-roledescription=\"rect mark\" d=\"M237.71428571428572,210.25h18.05714285714285v2.25h-18.05714285714285Z\" fill=\"#4c78a8\" fill-opacity=\"1\" stroke=\"#505050\" stroke-width=\"0\"/><path aria-label=\"x1: 104; x2: 111.9; level: 76; level2: 76.9; status: Default; sf: abstract_call(interp::Core.Compiler.NativeInterpreter, fargs::Vector{Any}, argtypes::Vector{Any}, sv::Core.Compiler.InferenceState, max_methods::Int64) at abstractinterpretation.jl:1397\" role=\"graphics-symbol\" aria-roledescription=\"rect mark\" d=\"M237.71428571428572,207.74999999999997h18.05714285714285v2.2500000000000284h-18.05714285714285Z\" fill=\"#4c78a8\" fill-opacity=\"1\" stroke=\"#505050\" stroke-width=\"0\"/><path aria-label=\"x1: 104; x2: 104.9; level: 77; level2: 77.9; status: Default; sf: abstract_call_known(interp::Core.Compiler.NativeInterpreter, f::Any, fargs::Vector{Any}, argtypes::Vector{Any}, sv::Core.Compiler.InferenceState, max_methods::Int64) at abstractinterpretation.jl:1249\" role=\"graphics-symbol\" aria-roledescription=\"rect mark\" d=\"M237.71428571428572,205.24999999999997h2.05714285714285v2.250000000000057h-2.05714285714285Z\" fill=\"#4c78a8\" fill-opacity=\"1\" stroke=\"#505050\" stroke-width=\"0\"/><path aria-label=\"x1: 104; x2: 104.9; level: 78; level2: 78.9; status: Default; sf: abstract_apply(interp::Core.Compiler.NativeInterpreter, argtypes::Vector{Any}, sv::Core.Compiler.InferenceState, max_methods::Int64) at abstractinterpretation.jl:987\" role=\"graphics-symbol\" aria-roledescription=\"rect mark\" d=\"M237.71428571428572,202.75h2.05714285714285v2.2499999999999716h-2.05714285714285Z\" fill=\"#4c78a8\" fill-opacity=\"1\" stroke=\"#505050\" stroke-width=\"0\"/><path aria-label=\"x1: 104; x2: 104.9; level: 79; level2: 79.9; status: Default; sf: abstract_call(interp::Core.Compiler.NativeInterpreter, fargs::Nothing, argtypes::Vector{Any}, sv::Core.Compiler.InferenceState, max_methods::Int64) at abstractinterpretation.jl:1397\" role=\"graphics-symbol\" aria-roledescription=\"rect mark\" d=\"M237.71428571428572,200.25h2.05714285714285v2.25h-2.05714285714285Z\" fill=\"#4c78a8\" fill-opacity=\"1\" stroke=\"#505050\" stroke-width=\"0\"/><path aria-label=\"x1: 104; x2: 104.9; level: 80; level2: 80.9; status: Default; sf: abstract_call_known(interp::Core.Compiler.NativeInterpreter, f::Any, fargs::Nothing, argtypes::Vector{Any}, sv::Core.Compiler.InferenceState, max_methods::Int64) at abstractinterpretation.jl:1342\" role=\"graphics-symbol\" aria-roledescription=\"rect mark\" d=\"M237.71428571428572,197.75h2.05714285714285v2.25h-2.05714285714285Z\" fill=\"#4c78a8\" fill-opacity=\"1\" stroke=\"#505050\" stroke-width=\"0\"/><path aria-label=\"x1: 104; x2: 104.9; level: 81; level2: 81.9; status: Default; sf: abstract_call_gf_by_type(interp::Core.Compiler.NativeInterpreter, f::Any, fargs::Nothing, argtypes::Vector{Any}, atype::Any, sv::Core.Compiler.InferenceState, max_methods::Int64) at abstractinterpretation.jl:113\" role=\"graphics-symbol\" aria-roledescription=\"rect mark\" d=\"M237.71428571428572,195.24999999999997h2.05714285714285v2.2500000000000284h-2.05714285714285Z\" fill=\"#4c78a8\" fill-opacity=\"1\" stroke=\"#505050\" stroke-width=\"0\"/><path aria-label=\"x1: 104; x2: 104.9; level: 82; level2: 82.9; status: Default; sf: abstract_call_method_with_const_args(interp::Core.Compiler.NativeInterpreter, result::Core.Compiler.MethodCallResult, f::Any, argtypes::Vector{Any}, match::Core.MethodMatch, sv::Core.Compiler.InferenceState, va_override::Bool) at abstractinterpretation.jl:557\" role=\"graphics-symbol\" aria-roledescription=\"rect mark\" d=\"M237.71428571428572,192.74999999999997h2.05714285714285v2.250000000000057h-2.05714285714285Z\" fill=\"#4c78a8\" fill-opacity=\"1\" stroke=\"#505050\" stroke-width=\"0\"/><path aria-label=\"x1: 104; x2: 104.9; level: 83; level2: 83.9; status: Default; sf: typeinf(interp::Core.Compiler.NativeInterpreter, frame::Core.Compiler.InferenceState) at typeinfer.jl:209\" role=\"graphics-symbol\" aria-roledescription=\"rect mark\" d=\"M237.71428571428572,190.25h2.05714285714285v2.2499999999999716h-2.05714285714285Z\" fill=\"#4c78a8\" fill-opacity=\"1\" stroke=\"#505050\" stroke-width=\"0\"/><path aria-label=\"x1: 104; x2: 104.9; level: 84; level2: 84.9; status: Default; sf: _typeinf(interp::Core.Compiler.NativeInterpreter, frame::Core.Compiler.InferenceState) at typeinfer.jl:255\" role=\"graphics-symbol\" aria-roledescription=\"rect mark\" d=\"M237.71428571428572,187.75h2.05714285714285v2.25h-2.05714285714285Z\" fill=\"#4c78a8\" fill-opacity=\"1\" stroke=\"#505050\" stroke-width=\"0\"/><path aria-label=\"x1: 104; x2: 104.9; level: 85; level2: 85.9; status: Default; sf: optimize at optimize.jl:296 [inlined]\" role=\"graphics-symbol\" aria-roledescription=\"rect mark\" d=\"M237.71428571428572,185.25h2.05714285714285v2.25h-2.05714285714285Z\" fill=\"#4c78a8\" fill-opacity=\"1\" stroke=\"#505050\" stroke-width=\"0\"/><path aria-label=\"x1: 104; x2: 104.9; level: 86; level2: 86.9; status: Default; sf: run_passes(ci::Core.CodeInfo, nargs::Int64, sv::Core.Compiler.OptimizationState) at optimize.jl:303\" role=\"graphics-symbol\" aria-roledescription=\"rect mark\" d=\"M237.71428571428572,182.74999999999997h2.05714285714285v2.2500000000000284h-2.05714285714285Z\" fill=\"#4c78a8\" fill-opacity=\"1\" stroke=\"#505050\" stroke-width=\"0\"/><path aria-label=\"x1: 104; x2: 104.9; level: 87; level2: 87.9; status: Default; sf: slot2reg at optimize.jl:418 [inlined]\" role=\"graphics-symbol\" aria-roledescription=\"rect mark\" d=\"M237.71428571428572,180.24999999999997h2.05714285714285v2.250000000000057h-2.05714285714285Z\" fill=\"#4c78a8\" fill-opacity=\"1\" stroke=\"#505050\" stroke-width=\"0\"/><path aria-label=\"x1: 104; x2: 104.9; level: 88; level2: 88.9; status: Default; sf: scan_slot_def_use(nargs::Int64, ci::Core.CodeInfo, code::Vector{Any}) at slot2ssa.jl:45\" role=\"graphics-symbol\" aria-roledescription=\"rect mark\" d=\"M237.71428571428572,177.75h2.05714285714285v2.2499999999999716h-2.05714285714285Z\" fill=\"#4c78a8\" fill-opacity=\"1\" stroke=\"#505050\" stroke-width=\"0\"/><path aria-label=\"x1: 104; x2: 104.9; level: 89; level2: 89.9; status: Default; sf: scan_entry!(result::Vector{Core.Compiler.SlotInfo}, idx::Int64, stmt::Any) at slot2ssa.jl:30\" role=\"graphics-symbol\" aria-roledescription=\"rect mark\" d=\"M237.71428571428572,175.25h2.05714285714285v2.25h-2.05714285714285Z\" fill=\"#4c78a8\" fill-opacity=\"1\" stroke=\"#505050\" stroke-width=\"0\"/><path aria-label=\"x1: 104; x2: 104.9; level: 90; level2: 90.9; status: Default; sf: push! at array.jl:995 [inlined]\" role=\"graphics-symbol\" aria-roledescription=\"rect mark\" d=\"M237.71428571428572,172.75h2.05714285714285v2.25h-2.05714285714285Z\" fill=\"#4c78a8\" fill-opacity=\"1\" stroke=\"#505050\" stroke-width=\"0\"/><path aria-label=\"x1: 104; x2: 104.9; level: 91; level2: 91.9; status: Garbage collection; sf: _growend! at array.jl:948 [inlined]\" role=\"graphics-symbol\" aria-roledescription=\"rect mark\" d=\"M237.71428571428572,170.24999999999997h2.05714285714285v2.2500000000000284h-2.05714285714285Z\" fill=\"#f58518\" fill-opacity=\"1\" stroke=\"#505050\" stroke-width=\"0\"/><path aria-label=\"x1: 105; x2: 111.9; level: 77; level2: 77.9; status: Default; sf: abstract_call_known(interp::Core.Compiler.NativeInterpreter, f::Any, fargs::Vector{Any}, argtypes::Vector{Any}, sv::Core.Compiler.InferenceState, max_methods::Int64) at abstractinterpretation.jl:1342\" role=\"graphics-symbol\" aria-roledescription=\"rect mark\" d=\"M240,205.24999999999997h15.771428571428572v2.250000000000057h-15.771428571428572Z\" fill=\"#4c78a8\" fill-opacity=\"1\" stroke=\"#505050\" stroke-width=\"0\"/><path aria-label=\"x1: 105; x2: 105.9; level: 78; level2: 78.9; status: Default; sf: abstract_call_gf_by_type(interp::Core.Compiler.NativeInterpreter, f::Any, fargs::Vector{Any}, argtypes::Vector{Any}, atype::Any, sv::Core.Compiler.InferenceState, max_methods::Int64) at abstractinterpretation.jl:105\" role=\"graphics-symbol\" aria-roledescription=\"rect mark\" d=\"M240,202.75h2.0571428571428783v2.2499999999999716h-2.0571428571428783Z\" fill=\"#4c78a8\" fill-opacity=\"1\" stroke=\"#505050\" stroke-width=\"0\"/><path aria-label=\"x1: 105; x2: 105.9; level: 79; level2: 79.9; status: Default; sf: abstract_call_method(interp::Core.Compiler.NativeInterpreter, method::Method, sig::Any, sparams::Core.SimpleVector, hardlimit::Bool, sv::Core.Compiler.InferenceState) at abstractinterpretation.jl:504\" role=\"graphics-symbol\" aria-roledescription=\"rect mark\" d=\"M240,200.25h2.0571428571428783v2.25h-2.0571428571428783Z\" fill=\"#4c78a8\" fill-opacity=\"1\" stroke=\"#505050\" stroke-width=\"0\"/><path aria-label=\"x1: 105; x2: 105.9; level: 80; level2: 80.9; status: Default; sf: typeinf_edge at typeinfer.jl:781 [inlined]\" role=\"graphics-symbol\" aria-roledescription=\"rect mark\" d=\"M240,197.75h2.0571428571428783v2.25h-2.0571428571428783Z\" fill=\"#4c78a8\" fill-opacity=\"1\" stroke=\"#505050\" stroke-width=\"0\"/><path aria-label=\"x1: 105; x2: 105.9; level: 81; level2: 81.9; status: Default; sf: get at cicache.jl:56 [inlined]\" role=\"graphics-symbol\" aria-roledescription=\"rect mark\" d=\"M240,195.24999999999997h2.0571428571428783v2.2500000000000284h-2.0571428571428783Z\" fill=\"#4c78a8\" fill-opacity=\"1\" stroke=\"#505050\" stroke-width=\"0\"/><path aria-label=\"x1: 106; x2: 111.9; level: 78; level2: 78.9; status: Default; sf: abstract_call_gf_by_type(interp::Core.Compiler.NativeInterpreter, f::Any, fargs::Vector{Any}, argtypes::Vector{Any}, atype::Any, sv::Core.Compiler.InferenceState, max_methods::Int64) at abstractinterpretation.jl:113\" role=\"graphics-symbol\" aria-roledescription=\"rect mark\" d=\"M242.2857142857143,202.75h13.485714285714266v2.2499999999999716h-13.485714285714266Z\" fill=\"#4c78a8\" fill-opacity=\"1\" stroke=\"#505050\" stroke-width=\"0\"/><path aria-label=\"x1: 106; x2: 111.9; level: 79; level2: 79.9; status: Default; sf: abstract_call_method_with_const_args(interp::Core.Compiler.NativeInterpreter, result::Core.Compiler.MethodCallResult, f::Any, argtypes::Vector{Any}, match::Core.MethodMatch, sv::Core.Compiler.InferenceState, va_override::Bool) at abstractinterpretation.jl:557\" role=\"graphics-symbol\" aria-roledescription=\"rect mark\" d=\"M242.2857142857143,200.25h13.485714285714266v2.25h-13.485714285714266Z\" fill=\"#4c78a8\" fill-opacity=\"1\" stroke=\"#505050\" stroke-width=\"0\"/><path aria-label=\"x1: 106; x2: 111.9; level: 80; level2: 80.9; status: Default; sf: typeinf(interp::Core.Compiler.NativeInterpreter, frame::Core.Compiler.InferenceState) at typeinfer.jl:209\" role=\"graphics-symbol\" aria-roledescription=\"rect mark\" d=\"M242.2857142857143,197.75h13.485714285714266v2.25h-13.485714285714266Z\" fill=\"#4c78a8\" fill-opacity=\"1\" stroke=\"#505050\" stroke-width=\"0\"/><path aria-label=\"x1: 106; x2: 108.9; level: 81; level2: 81.9; status: Default; sf: _typeinf(interp::Core.Compiler.NativeInterpreter, frame::Core.Compiler.InferenceState) at typeinfer.jl:226\" role=\"graphics-symbol\" aria-roledescription=\"rect mark\" d=\"M242.2857142857143,195.24999999999997h6.628571428571433v2.2500000000000284h-6.628571428571433Z\" fill=\"#4c78a8\" fill-opacity=\"1\" stroke=\"#505050\" stroke-width=\"0\"/><path aria-label=\"x1: 106; x2: 108.9; level: 82; level2: 82.9; status: Default; sf: typeinf_nocycle(interp::Core.Compiler.NativeInterpreter, frame::Core.Compiler.InferenceState) at abstractinterpretation.jl:2014\" role=\"graphics-symbol\" aria-roledescription=\"rect mark\" d=\"M242.2857142857143,192.74999999999997h6.628571428571433v2.250000000000057h-6.628571428571433Z\" fill=\"#4c78a8\" fill-opacity=\"1\" stroke=\"#505050\" stroke-width=\"0\"/><path aria-label=\"x1: 106; x2: 108.9; level: 83; level2: 83.9; status: Default; sf: typeinf_local(interp::Core.Compiler.NativeInterpreter, frame::Core.Compiler.InferenceState) at abstractinterpretation.jl:1918\" role=\"graphics-symbol\" aria-roledescription=\"rect mark\" d=\"M242.2857142857143,190.25h6.628571428571433v2.2499999999999716h-6.628571428571433Z\" fill=\"#4c78a8\" fill-opacity=\"1\" stroke=\"#505050\" stroke-width=\"0\"/><path aria-label=\"x1: 106; x2: 108.9; level: 84; level2: 84.9; status: Default; sf: abstract_eval_statement(interp::Core.Compiler.NativeInterpreter, e::Any, vtypes::Vector{Any}, sv::Core.Compiler.InferenceState) at abstractinterpretation.jl:1534\" role=\"graphics-symbol\" aria-roledescription=\"rect mark\" d=\"M242.2857142857143,187.75h6.628571428571433v2.25h-6.628571428571433Z\" fill=\"#4c78a8\" fill-opacity=\"1\" stroke=\"#505050\" stroke-width=\"0\"/><path aria-label=\"x1: 106; x2: 108.9; level: 85; level2: 85.9; status: Default; sf: abstract_call(interp::Core.Compiler.NativeInterpreter, fargs::Vector{Any}, argtypes::Vector{Any}, sv::Core.Compiler.InferenceState) at abstractinterpretation.jl:1382\" role=\"graphics-symbol\" aria-roledescription=\"rect mark\" d=\"M242.2857142857143,185.25h6.628571428571433v2.25h-6.628571428571433Z\" fill=\"#4c78a8\" fill-opacity=\"1\" stroke=\"#505050\" stroke-width=\"0\"/><path aria-label=\"x1: 106; x2: 108.9; level: 86; level2: 86.9; status: Default; sf: abstract_call(interp::Core.Compiler.NativeInterpreter, fargs::Vector{Any}, argtypes::Vector{Any}, sv::Core.Compiler.InferenceState, max_methods::Int64) at abstractinterpretation.jl:1397\" role=\"graphics-symbol\" aria-roledescription=\"rect mark\" d=\"M242.2857142857143,182.74999999999997h6.628571428571433v2.2500000000000284h-6.628571428571433Z\" fill=\"#4c78a8\" fill-opacity=\"1\" stroke=\"#505050\" stroke-width=\"0\"/><path aria-label=\"x1: 106; x2: 106.9; level: 87; level2: 87.9; status: Default; sf: abstract_call_known(interp::Core.Compiler.NativeInterpreter, f::Any, fargs::Vector{Any}, argtypes::Vector{Any}, sv::Core.Compiler.InferenceState, max_methods::Int64) at abstractinterpretation.jl:1341\" role=\"graphics-symbol\" aria-roledescription=\"rect mark\" d=\"M242.2857142857143,180.24999999999997h2.05714285714285v2.250000000000057h-2.05714285714285Z\" fill=\"#4c78a8\" fill-opacity=\"1\" stroke=\"#505050\" stroke-width=\"0\"/><path aria-label=\"x1: 106; x2: 106.9; level: 88; level2: 88.9; status: Runtime dispatch; sf: argtypes_to_type at typeutils.jl:53 [inlined]\" role=\"graphics-symbol\" aria-roledescription=\"rect mark\" d=\"M242.2857142857143,177.75h2.05714285714285v2.2499999999999716h-2.05714285714285Z\" fill=\"#e45756\" fill-opacity=\"1\" stroke=\"#505050\" stroke-width=\"0\"/><path aria-label=\"x1: 107; x2: 108.9; level: 87; level2: 87.9; status: Default; sf: abstract_call_known(interp::Core.Compiler.NativeInterpreter, f::Any, fargs::Vector{Any}, argtypes::Vector{Any}, sv::Core.Compiler.InferenceState, max_methods::Int64) at abstractinterpretation.jl:1342\" role=\"graphics-symbol\" aria-roledescription=\"rect mark\" d=\"M244.57142857142858,180.24999999999997h4.342857142857156v2.250000000000057h-4.342857142857156Z\" fill=\"#4c78a8\" fill-opacity=\"1\" stroke=\"#505050\" stroke-width=\"0\"/><path aria-label=\"x1: 107; x2: 108.9; level: 88; level2: 88.9; status: Default; sf: abstract_call_gf_by_type(interp::Core.Compiler.NativeInterpreter, f::Any, fargs::Vector{Any}, argtypes::Vector{Any}, atype::Any, sv::Core.Compiler.InferenceState, max_methods::Int64) at abstractinterpretation.jl:113\" role=\"graphics-symbol\" aria-roledescription=\"rect mark\" d=\"M244.57142857142858,177.75h4.342857142857156v2.2499999999999716h-4.342857142857156Z\" fill=\"#4c78a8\" fill-opacity=\"1\" stroke=\"#505050\" stroke-width=\"0\"/><path aria-label=\"x1: 107; x2: 107.9; level: 89; level2: 89.9; status: Default; sf: abstract_call_method_with_const_args(interp::Core.Compiler.NativeInterpreter, result::Core.Compiler.MethodCallResult, f::Any, argtypes::Vector{Any}, match::Core.MethodMatch, sv::Core.Compiler.InferenceState, va_override::Bool) at abstractinterpretation.jl:532\" role=\"graphics-symbol\" aria-roledescription=\"rect mark\" d=\"M244.57142857142858,175.25h2.0571428571428783v2.25h-2.0571428571428783Z\" fill=\"#4c78a8\" fill-opacity=\"1\" stroke=\"#505050\" stroke-width=\"0\"/><path aria-label=\"x1: 107; x2: 107.9; level: 90; level2: 90.9; status: Default; sf: cache_lookup(linfo::Core.MethodInstance, given_argtypes::Vector{Any}, cache::Vector{Core.Compiler.InferenceResult}) at inferenceresult.jl:162\" role=\"graphics-symbol\" aria-roledescription=\"rect mark\" d=\"M244.57142857142858,172.75h2.0571428571428783v2.25h-2.0571428571428783Z\" fill=\"#4c78a8\" fill-opacity=\"1\" stroke=\"#505050\" stroke-width=\"0\"/><path aria-label=\"x1: 107; x2: 107.9; level: 91; level2: 91.9; status: Default; sf: iterate at array.jl:835 [inlined]\" role=\"graphics-symbol\" aria-roledescription=\"rect mark\" d=\"M244.57142857142858,170.24999999999997h2.0571428571428783v2.2500000000000284h-2.0571428571428783Z\" fill=\"#4c78a8\" fill-opacity=\"1\" stroke=\"#505050\" stroke-width=\"0\"/><path aria-label=\"x1: 107; x2: 107.9; level: 92; level2: 92.9; status: Default; sf: iterate at array.jl:835 [inlined]\" role=\"graphics-symbol\" aria-roledescription=\"rect mark\" d=\"M244.57142857142858,167.74999999999997h2.0571428571428783v2.250000000000057h-2.0571428571428783Z\" fill=\"#4c78a8\" fill-opacity=\"1\" stroke=\"#505050\" stroke-width=\"0\"/><path aria-label=\"x1: 107; x2: 107.9; level: 93; level2: 93.9; status: Default; sf: getindex at array.jl:861 [inlined]\" role=\"graphics-symbol\" aria-roledescription=\"rect mark\" d=\"M244.57142857142858,165.25h2.0571428571428783v2.2499999999999716h-2.0571428571428783Z\" fill=\"#4c78a8\" fill-opacity=\"1\" stroke=\"#505050\" stroke-width=\"0\"/><path aria-label=\"x1: 108; x2: 108.9; level: 89; level2: 89.9; status: Default; sf: abstract_call_method_with_const_args(interp::Core.Compiler.NativeInterpreter, result::Core.Compiler.MethodCallResult, f::Any, argtypes::Vector{Any}, match::Core.MethodMatch, sv::Core.Compiler.InferenceState, va_override::Bool) at abstractinterpretation.jl:557\" role=\"graphics-symbol\" aria-roledescription=\"rect mark\" d=\"M246.85714285714283,175.25h2.0571428571429067v2.25h-2.0571428571429067Z\" fill=\"#4c78a8\" fill-opacity=\"1\" stroke=\"#505050\" stroke-width=\"0\"/><path aria-label=\"x1: 108; x2: 108.9; level: 90; level2: 90.9; status: Default; sf: typeinf(interp::Core.Compiler.NativeInterpreter, frame::Core.Compiler.InferenceState) at typeinfer.jl:209\" role=\"graphics-symbol\" aria-roledescription=\"rect mark\" d=\"M246.85714285714283,172.75h2.0571428571429067v2.25h-2.0571428571429067Z\" fill=\"#4c78a8\" fill-opacity=\"1\" stroke=\"#505050\" stroke-width=\"0\"/><path aria-label=\"x1: 108; x2: 108.9; level: 91; level2: 91.9; status: Default; sf: _typeinf(interp::Core.Compiler.NativeInterpreter, frame::Core.Compiler.InferenceState) at typeinfer.jl:255\" role=\"graphics-symbol\" aria-roledescription=\"rect mark\" d=\"M246.85714285714283,170.24999999999997h2.0571428571429067v2.2500000000000284h-2.0571428571429067Z\" fill=\"#4c78a8\" fill-opacity=\"1\" stroke=\"#505050\" stroke-width=\"0\"/><path aria-label=\"x1: 108; x2: 108.9; level: 92; level2: 92.9; status: Default; sf: optimize at optimize.jl:296 [inlined]\" role=\"graphics-symbol\" aria-roledescription=\"rect mark\" d=\"M246.85714285714283,167.74999999999997h2.0571428571429067v2.250000000000057h-2.0571428571429067Z\" fill=\"#4c78a8\" fill-opacity=\"1\" stroke=\"#505050\" stroke-width=\"0\"/><path aria-label=\"x1: 108; x2: 108.9; level: 93; level2: 93.9; status: Runtime dispatch; sf: run_passes(ci::Core.CodeInfo, nargs::Int64, sv::Core.Compiler.OptimizationState) at optimize.jl:307\" role=\"graphics-symbol\" aria-roledescription=\"rect mark\" d=\"M246.85714285714283,165.25h2.0571428571429067v2.2499999999999716h-2.0571428571429067Z\" fill=\"#e45756\" fill-opacity=\"1\" stroke=\"#505050\" stroke-width=\"0\"/><path aria-label=\"x1: 108; x2: 108.9; level: 94; level2: 94.9; status: Default; sf: ssa_inlining_pass!(ir::Core.Compiler.IRCode, linetable::Vector{Core.LineInfoNode}, state::Core.Compiler.InliningState{Core.Compiler.EdgeTracker, Core.Compiler.WorldView{Core.Compiler.InternalCodeCache}, typeof(Core.Compiler.default_inlining_policy)}, propagate_inbounds::Bool) at inlining.jl:80\" role=\"graphics-symbol\" aria-roledescription=\"rect mark\" d=\"M246.85714285714283,162.75h2.0571428571429067v2.25h-2.0571428571429067Z\" fill=\"#4c78a8\" fill-opacity=\"1\" stroke=\"#505050\" stroke-width=\"0\"/><path aria-label=\"x1: 108; x2: 108.9; level: 95; level2: 95.9; status: Default; sf: assemble_inline_todo!(ir::Core.Compiler.IRCode, state::Core.Compiler.InliningState{Core.Compiler.EdgeTracker, Core.Compiler.WorldView{Core.Compiler.InternalCodeCache}, typeof(Core.Compiler.default_inlining_policy)}) at inlining.jl:1419\" role=\"graphics-symbol\" aria-roledescription=\"rect mark\" d=\"M246.85714285714283,160.25h2.0571428571429067v2.25h-2.0571428571429067Z\" fill=\"#4c78a8\" fill-opacity=\"1\" stroke=\"#505050\" stroke-width=\"0\"/><path aria-label=\"x1: 108; x2: 108.9; level: 96; level2: 96.9; status: Default; sf: analyze_single_call!(ir::Core.Compiler.IRCode, todo::Vector{Pair{Int64, Any}}, idx::Int64, stmt::Any, ::Core.Compiler.Signature, infos::Vector{Core.Compiler.MethodMatchInfo}, state::Core.Compiler.InliningState{Core.Compiler.EdgeTracker, Core.Compiler.WorldView{Core.Compiler.InternalCodeCache}, typeof(Core.Compiler.default_inlining_policy)}) at inlining.jl:1238\" role=\"graphics-symbol\" aria-roledescription=\"rect mark\" d=\"M246.85714285714283,157.74999999999997h2.0571428571429067v2.2500000000000284h-2.0571428571429067Z\" fill=\"#4c78a8\" fill-opacity=\"1\" stroke=\"#505050\" stroke-width=\"0\"/><path aria-label=\"x1: 108; x2: 108.9; level: 97; level2: 97.9; status: Default; sf: analyze_method!(match::Core.MethodMatch, atypes::Vector{Any}, state::Core.Compiler.InliningState{Core.Compiler.EdgeTracker, Core.Compiler.WorldView{Core.Compiler.InternalCodeCache}, typeof(Core.Compiler.default_inlining_policy)}) at inlining.jl:851\" role=\"graphics-symbol\" aria-roledescription=\"rect mark\" d=\"M246.85714285714283,155.24999999999997h2.0571428571429067v2.250000000000057h-2.0571428571429067Z\" fill=\"#4c78a8\" fill-opacity=\"1\" stroke=\"#505050\" stroke-width=\"0\"/><path aria-label=\"x1: 108; x2: 108.9; level: 98; level2: 98.9; status: Runtime dispatch; sf: resolve_todo(todo::Core.Compiler.InliningTodo, state::Core.Compiler.InliningState{Core.Compiler.EdgeTracker, Core.Compiler.WorldView{Core.Compiler.InternalCodeCache}, typeof(Core.Compiler.default_inlining_policy)}) at inlining.jl:795\" role=\"graphics-symbol\" aria-roledescription=\"rect mark\" d=\"M246.85714285714283,152.75h2.0571428571429067v2.2499999999999716h-2.0571428571429067Z\" fill=\"#e45756\" fill-opacity=\"1\" stroke=\"#505050\" stroke-width=\"0\"/><path aria-label=\"x1: 109; x2: 109.9; level: 81; level2: 81.9; status: Default; sf: _typeinf(interp::Core.Compiler.NativeInterpreter, frame::Core.Compiler.InferenceState) at typeinfer.jl:239\" role=\"graphics-symbol\" aria-roledescription=\"rect mark\" d=\"M249.14285714285717,195.24999999999997h2.0571428571428214v2.2500000000000284h-2.0571428571428214Z\" fill=\"#4c78a8\" fill-opacity=\"1\" stroke=\"#505050\" stroke-width=\"0\"/><path aria-label=\"x1: 109; x2: 109.9; level: 82; level2: 82.9; status: Default; sf: finish(me::Core.Compiler.InferenceState, interp::Core.Compiler.NativeInterpreter) at typeinfer.jl:475\" role=\"graphics-symbol\" aria-roledescription=\"rect mark\" d=\"M249.14285714285717,192.74999999999997h2.0571428571428214v2.250000000000057h-2.0571428571428214Z\" fill=\"#4c78a8\" fill-opacity=\"1\" stroke=\"#505050\" stroke-width=\"0\"/><path aria-label=\"x1: 109; x2: 109.9; level: 83; level2: 83.9; status: Default; sf: type_annotate!(sv::Core.Compiler.InferenceState, run_optimizer::Bool) at typeinfer.jl:658\" role=\"graphics-symbol\" aria-roledescription=\"rect mark\" d=\"M249.14285714285717,190.25h2.0571428571428214v2.2499999999999716h-2.0571428571428214Z\" fill=\"#4c78a8\" fill-opacity=\"1\" stroke=\"#505050\" stroke-width=\"0\"/><path aria-label=\"x1: 109; x2: 109.9; level: 84; level2: 84.9; status: Default; sf: annotate_slot_load!(e::Expr, vtypes::Vector{Any}, sv::Core.Compiler.InferenceState, undefs::Vector{Bool}) at typeinfer.jl:542\" role=\"graphics-symbol\" aria-roledescription=\"rect mark\" d=\"M249.14285714285717,187.75h2.0571428571428214v2.25h-2.0571428571428214Z\" fill=\"#4c78a8\" fill-opacity=\"1\" stroke=\"#505050\" stroke-width=\"0\"/><path aria-label=\"x1: 110; x2: 111.9; level: 81; level2: 81.9; status: Default; sf: _typeinf(interp::Core.Compiler.NativeInterpreter, frame::Core.Compiler.InferenceState) at typeinfer.jl:255\" role=\"graphics-symbol\" aria-roledescription=\"rect mark\" d=\"M251.42857142857142,195.24999999999997h4.342857142857156v2.2500000000000284h-4.342857142857156Z\" fill=\"#4c78a8\" fill-opacity=\"1\" stroke=\"#505050\" stroke-width=\"0\"/><path aria-label=\"x1: 110; x2: 111.9; level: 82; level2: 82.9; status: Default; sf: optimize at optimize.jl:296 [inlined]\" role=\"graphics-symbol\" aria-roledescription=\"rect mark\" d=\"M251.42857142857142,192.74999999999997h4.342857142857156v2.250000000000057h-4.342857142857156Z\" fill=\"#4c78a8\" fill-opacity=\"1\" stroke=\"#505050\" stroke-width=\"0\"/><path aria-label=\"x1: 110; x2: 110.9; level: 83; level2: 83.9; status: Default; sf: run_passes(ci::Core.CodeInfo, nargs::Int64, sv::Core.Compiler.OptimizationState) at optimize.jl:302\" role=\"graphics-symbol\" aria-roledescription=\"rect mark\" d=\"M251.42857142857142,190.25h2.0571428571429067v2.2499999999999716h-2.0571428571429067Z\" fill=\"#4c78a8\" fill-opacity=\"1\" stroke=\"#505050\" stroke-width=\"0\"/><path aria-label=\"x1: 110; x2: 110.9; level: 84; level2: 84.9; status: Default; sf: copy_exprargs(x::Vector{Any}) at expr.jl:64\" role=\"graphics-symbol\" aria-roledescription=\"rect mark\" d=\"M251.42857142857142,187.75h2.0571428571429067v2.25h-2.0571428571429067Z\" fill=\"#4c78a8\" fill-opacity=\"1\" stroke=\"#505050\" stroke-width=\"0\"/><path aria-label=\"x1: 110; x2: 110.9; level: 85; level2: 85.9; status: Default; sf: copy_exprs(x::Any) at expr.jl:43\" role=\"graphics-symbol\" aria-roledescription=\"rect mark\" d=\"M251.42857142857142,185.25h2.0571428571429067v2.25h-2.0571428571429067Z\" fill=\"#4c78a8\" fill-opacity=\"1\" stroke=\"#505050\" stroke-width=\"0\"/><path aria-label=\"x1: 111; x2: 111.9; level: 83; level2: 83.9; status: Default; sf: run_passes(ci::Core.CodeInfo, nargs::Int64, sv::Core.Compiler.OptimizationState) at optimize.jl:314\" role=\"graphics-symbol\" aria-roledescription=\"rect mark\" d=\"M253.7142857142857,190.25h2.0571428571428783v2.2499999999999716h-2.0571428571428783Z\" fill=\"#4c78a8\" fill-opacity=\"1\" stroke=\"#505050\" stroke-width=\"0\"/><path aria-label=\"x1: 111; x2: 111.9; level: 84; level2: 84.9; status: Default; sf: adce_pass!(ir::Core.Compiler.IRCode) at passes.jl:896\" role=\"graphics-symbol\" aria-roledescription=\"rect mark\" d=\"M253.7142857142857,187.75h2.0571428571428783v2.25h-2.0571428571428783Z\" fill=\"#4c78a8\" fill-opacity=\"1\" stroke=\"#505050\" stroke-width=\"0\"/><path aria-label=\"x1: 111; x2: 111.9; level: 85; level2: 85.9; status: Default; sf: fill at array.jl:471 [inlined]\" role=\"graphics-symbol\" aria-roledescription=\"rect mark\" d=\"M253.7142857142857,185.25h2.0571428571428783v2.25h-2.0571428571428783Z\" fill=\"#4c78a8\" fill-opacity=\"1\" stroke=\"#505050\" stroke-width=\"0\"/><path aria-label=\"x1: 111; x2: 111.9; level: 86; level2: 86.9; status: Default; sf: fill at array.jl:473 [inlined]\" role=\"graphics-symbol\" aria-roledescription=\"rect mark\" d=\"M253.7142857142857,182.74999999999997h2.0571428571428783v2.2500000000000284h-2.0571428571428783Z\" fill=\"#4c78a8\" fill-opacity=\"1\" stroke=\"#505050\" stroke-width=\"0\"/><path aria-label=\"x1: 111; x2: 111.9; level: 87; level2: 87.9; status: Default; sf: fill! at array.jl:353 [inlined]\" role=\"graphics-symbol\" aria-roledescription=\"rect mark\" d=\"M253.7142857142857,180.24999999999997h2.0571428571428783v2.250000000000057h-2.0571428571428783Z\" fill=\"#4c78a8\" fill-opacity=\"1\" stroke=\"#505050\" stroke-width=\"0\"/><path aria-label=\"x1: 112; x2: 113.9; level: 71; level2: 71.9; status: Default; sf: _typeinf(interp::Core.Compiler.NativeInterpreter, frame::Core.Compiler.InferenceState) at typeinfer.jl:255\" role=\"graphics-symbol\" aria-roledescription=\"rect mark\" d=\"M256,220.24999999999997h4.342857142857156v2.2500000000000284h-4.342857142857156Z\" fill=\"#4c78a8\" fill-opacity=\"1\" stroke=\"#505050\" stroke-width=\"0\"/><path aria-label=\"x1: 112; x2: 113.9; level: 72; level2: 72.9; status: Default; sf: optimize at optimize.jl:296 [inlined]\" role=\"graphics-symbol\" aria-roledescription=\"rect mark\" d=\"M256,217.74999999999997h4.342857142857156v2.250000000000057h-4.342857142857156Z\" fill=\"#4c78a8\" fill-opacity=\"1\" stroke=\"#505050\" stroke-width=\"0\"/><path aria-label=\"x1: 112; x2: 113.9; level: 73; level2: 73.9; status: Default; sf: run_passes(ci::Core.CodeInfo, nargs::Int64, sv::Core.Compiler.OptimizationState) at optimize.jl:311\" role=\"graphics-symbol\" aria-roledescription=\"rect mark\" d=\"M256,215.25h4.342857142857156v2.2499999999999716h-4.342857142857156Z\" fill=\"#4c78a8\" fill-opacity=\"1\" stroke=\"#505050\" stroke-width=\"0\"/><path aria-label=\"x1: 112; x2: 113.9; level: 74; level2: 74.9; status: Default; sf: getfield_elim_pass!(ir::Core.Compiler.IRCode) at passes.jl:727\" role=\"graphics-symbol\" aria-roledescription=\"rect mark\" d=\"M256,212.75h4.342857142857156v2.25h-4.342857142857156Z\" fill=\"#4c78a8\" fill-opacity=\"1\" stroke=\"#505050\" stroke-width=\"0\"/><path aria-label=\"x1: 112; x2: 113.9; level: 75; level2: 75.9; status: Default; sf: iterate(compact::Core.Compiler.IncrementalCompact, ::Tuple{Int64, Int64}) at ir.jl:1294\" role=\"graphics-symbol\" aria-roledescription=\"rect mark\" d=\"M256,210.25h4.342857142857156v2.25h-4.342857142857156Z\" fill=\"#4c78a8\" fill-opacity=\"1\" stroke=\"#505050\" stroke-width=\"0\"/><path aria-label=\"x1: 112; x2: 112.9; level: 76; level2: 76.9; status: Default; sf: process_node!(compact::Core.Compiler.IncrementalCompact, result_idx::Int64, inst::Core.Compiler.Instruction, idx::Int64, processed_idx::Int64, active_bb::Int64, do_rename_ssa::Bool) at ir.jl:986\" role=\"graphics-symbol\" aria-roledescription=\"rect mark\" d=\"M256,207.74999999999997h2.0571428571428783v2.2500000000000284h-2.0571428571428783Z\" fill=\"#4c78a8\" fill-opacity=\"1\" stroke=\"#505050\" stroke-width=\"0\"/><path aria-label=\"x1: 112; x2: 112.9; level: 77; level2: 77.9; status: Default; sf: getindex at ir.jl:238 [inlined]\" role=\"graphics-symbol\" aria-roledescription=\"rect mark\" d=\"M256,205.24999999999997h2.0571428571428783v2.250000000000057h-2.0571428571428783Z\" fill=\"#4c78a8\" fill-opacity=\"1\" stroke=\"#505050\" stroke-width=\"0\"/><path aria-label=\"x1: 113; x2: 113.9; level: 76; level2: 76.9; status: Default; sf: process_node!(compact::Core.Compiler.IncrementalCompact, result_idx::Int64, inst::Core.Compiler.Instruction, idx::Int64, processed_idx::Int64, active_bb::Int64, do_rename_ssa::Bool) at ir.jl:1021\" role=\"graphics-symbol\" aria-roledescription=\"rect mark\" d=\"M258.2857142857143,207.74999999999997h2.0571428571428783v2.2500000000000284h-2.0571428571428783Z\" fill=\"#4c78a8\" fill-opacity=\"1\" stroke=\"#505050\" stroke-width=\"0\"/><path aria-label=\"x1: 113; x2: 113.9; level: 77; level2: 77.9; status: Default; sf: renumber_ssa2!(stmt::Any, ssanums::Vector{Any}, used_ssas::Vector{Int64}, late_fixup::Vector{Int64}, result_idx::Int64, do_rename_ssa::Bool) at ir.jl:912\" role=\"graphics-symbol\" aria-roledescription=\"rect mark\" d=\"M258.2857142857143,205.24999999999997h2.0571428571428783v2.250000000000057h-2.0571428571428783Z\" fill=\"#4c78a8\" fill-opacity=\"1\" stroke=\"#505050\" stroke-width=\"0\"/><path aria-label=\"x1: 113; x2: 113.9; level: 78; level2: 78.9; status: Default; sf: setindex!(x::Core.Compiler.UseRef, v::Any) at ir.jl:430\" role=\"graphics-symbol\" aria-roledescription=\"rect mark\" d=\"M258.2857142857143,202.75h2.0571428571428783v2.2499999999999716h-2.0571428571428783Z\" fill=\"#4c78a8\" fill-opacity=\"1\" stroke=\"#505050\" stroke-width=\"0\"/><path aria-label=\"x1: 113; x2: 113.9; level: 79; level2: 79.9; status: Default; sf: setindex! at essentials.jl:479 [inlined]\" role=\"graphics-symbol\" aria-roledescription=\"rect mark\" d=\"M258.2857142857143,200.25h2.0571428571428783v2.25h-2.0571428571428783Z\" fill=\"#4c78a8\" fill-opacity=\"1\" stroke=\"#505050\" stroke-width=\"0\"/><path aria-label=\"x1: 114; x2: 125.9; level: 63; level2: 63.9; status: Default; sf: typeinf_local(interp::Core.Compiler.NativeInterpreter, frame::Core.Compiler.InferenceState) at abstractinterpretation.jl:1918\" role=\"graphics-symbol\" aria-roledescription=\"rect mark\" d=\"M260.5714285714286,240.25h27.199999999999932v2.2499999999999716h-27.199999999999932Z\" fill=\"#4c78a8\" fill-opacity=\"1\" stroke=\"#505050\" stroke-width=\"0\"/><path aria-label=\"x1: 114; x2: 125.9; level: 64; level2: 64.9; status: Default; sf: abstract_eval_statement(interp::Core.Compiler.NativeInterpreter, e::Any, vtypes::Vector{Any}, sv::Core.Compiler.InferenceState) at abstractinterpretation.jl:1534\" role=\"graphics-symbol\" aria-roledescription=\"rect mark\" d=\"M260.5714285714286,237.75h27.199999999999932v2.25h-27.199999999999932Z\" fill=\"#4c78a8\" fill-opacity=\"1\" stroke=\"#505050\" stroke-width=\"0\"/><path aria-label=\"x1: 114; x2: 125.9; level: 65; level2: 65.9; status: Default; sf: abstract_call(interp::Core.Compiler.NativeInterpreter, fargs::Vector{Any}, argtypes::Vector{Any}, sv::Core.Compiler.InferenceState) at abstractinterpretation.jl:1382\" role=\"graphics-symbol\" aria-roledescription=\"rect mark\" d=\"M260.5714285714286,235.25h27.199999999999932v2.25h-27.199999999999932Z\" fill=\"#4c78a8\" fill-opacity=\"1\" stroke=\"#505050\" stroke-width=\"0\"/><path aria-label=\"x1: 114; x2: 114.9; level: 66; level2: 66.9; status: Default; sf: abstract_call(interp::Core.Compiler.NativeInterpreter, fargs::Vector{Any}, argtypes::Vector{Any}, sv::Core.Compiler.InferenceState, max_methods::Int64) at abstractinterpretation.jl:1388\" role=\"graphics-symbol\" aria-roledescription=\"rect mark\" d=\"M260.5714285714286,232.74999999999997h2.0571428571428214v2.2500000000000284h-2.0571428571428214Z\" fill=\"#4c78a8\" fill-opacity=\"1\" stroke=\"#505050\" stroke-width=\"0\"/><path aria-label=\"x1: 115; x2: 125.9; level: 66; level2: 66.9; status: Default; sf: abstract_call(interp::Core.Compiler.NativeInterpreter, fargs::Vector{Any}, argtypes::Vector{Any}, sv::Core.Compiler.InferenceState, max_methods::Int64) at abstractinterpretation.jl:1397\" role=\"graphics-symbol\" aria-roledescription=\"rect mark\" d=\"M262.85714285714283,232.74999999999997h24.91428571428571v2.2500000000000284h-24.91428571428571Z\" fill=\"#4c78a8\" fill-opacity=\"1\" stroke=\"#505050\" stroke-width=\"0\"/><path aria-label=\"x1: 115; x2: 125.9; level: 67; level2: 67.9; status: Default; sf: abstract_call_known(interp::Core.Compiler.NativeInterpreter, f::Any, fargs::Vector{Any}, argtypes::Vector{Any}, sv::Core.Compiler.InferenceState, max_methods::Int64) at abstractinterpretation.jl:1342\" role=\"graphics-symbol\" aria-roledescription=\"rect mark\" d=\"M262.85714285714283,230.24999999999997h24.91428571428571v2.250000000000057h-24.91428571428571Z\" fill=\"#4c78a8\" fill-opacity=\"1\" stroke=\"#505050\" stroke-width=\"0\"/><path aria-label=\"x1: 115; x2: 124.9; level: 68; level2: 68.9; status: Default; sf: abstract_call_gf_by_type(interp::Core.Compiler.NativeInterpreter, f::Any, fargs::Vector{Any}, argtypes::Vector{Any}, atype::Any, sv::Core.Compiler.InferenceState, max_methods::Int64) at abstractinterpretation.jl:113\" role=\"graphics-symbol\" aria-roledescription=\"rect mark\" d=\"M262.85714285714283,227.75h22.62857142857149v2.2499999999999716h-22.62857142857149Z\" fill=\"#4c78a8\" fill-opacity=\"1\" stroke=\"#505050\" stroke-width=\"0\"/><path aria-label=\"x1: 115; x2: 124.9; level: 69; level2: 69.9; status: Default; sf: abstract_call_method_with_const_args(interp::Core.Compiler.NativeInterpreter, result::Core.Compiler.MethodCallResult, f::Any, argtypes::Vector{Any}, match::Core.MethodMatch, sv::Core.Compiler.InferenceState, va_override::Bool) at abstractinterpretation.jl:557\" role=\"graphics-symbol\" aria-roledescription=\"rect mark\" d=\"M262.85714285714283,225.25h22.62857142857149v2.25h-22.62857142857149Z\" fill=\"#4c78a8\" fill-opacity=\"1\" stroke=\"#505050\" stroke-width=\"0\"/><path aria-label=\"x1: 115; x2: 124.9; level: 70; level2: 70.9; status: Default; sf: typeinf(interp::Core.Compiler.NativeInterpreter, frame::Core.Compiler.InferenceState) at typeinfer.jl:209\" role=\"graphics-symbol\" aria-roledescription=\"rect mark\" d=\"M262.85714285714283,222.75h22.62857142857149v2.25h-22.62857142857149Z\" fill=\"#4c78a8\" fill-opacity=\"1\" stroke=\"#505050\" stroke-width=\"0\"/><path aria-label=\"x1: 115; x2: 121.9; level: 71; level2: 71.9; status: Default; sf: _typeinf(interp::Core.Compiler.NativeInterpreter, frame::Core.Compiler.InferenceState) at typeinfer.jl:226\" role=\"graphics-symbol\" aria-roledescription=\"rect mark\" d=\"M262.85714285714283,220.24999999999997h15.7714285714286v2.2500000000000284h-15.7714285714286Z\" fill=\"#4c78a8\" fill-opacity=\"1\" stroke=\"#505050\" stroke-width=\"0\"/><path aria-label=\"x1: 115; x2: 121.9; level: 72; level2: 72.9; status: Default; sf: typeinf_nocycle(interp::Core.Compiler.NativeInterpreter, frame::Core.Compiler.InferenceState) at abstractinterpretation.jl:2014\" role=\"graphics-symbol\" aria-roledescription=\"rect mark\" d=\"M262.85714285714283,217.74999999999997h15.7714285714286v2.250000000000057h-15.7714285714286Z\" fill=\"#4c78a8\" fill-opacity=\"1\" stroke=\"#505050\" stroke-width=\"0\"/><path aria-label=\"x1: 115; x2: 121.9; level: 73; level2: 73.9; status: Default; sf: typeinf_local(interp::Core.Compiler.NativeInterpreter, frame::Core.Compiler.InferenceState) at abstractinterpretation.jl:1900\" role=\"graphics-symbol\" aria-roledescription=\"rect mark\" d=\"M262.85714285714283,215.25h15.7714285714286v2.2499999999999716h-15.7714285714286Z\" fill=\"#4c78a8\" fill-opacity=\"1\" stroke=\"#505050\" stroke-width=\"0\"/><path aria-label=\"x1: 115; x2: 121.9; level: 74; level2: 74.9; status: Default; sf: abstract_eval_statement(interp::Core.Compiler.NativeInterpreter, e::Any, vtypes::Vector{Any}, sv::Core.Compiler.InferenceState) at abstractinterpretation.jl:1534\" role=\"graphics-symbol\" aria-roledescription=\"rect mark\" d=\"M262.85714285714283,212.75h15.7714285714286v2.25h-15.7714285714286Z\" fill=\"#4c78a8\" fill-opacity=\"1\" stroke=\"#505050\" stroke-width=\"0\"/><path aria-label=\"x1: 115; x2: 121.9; level: 75; level2: 75.9; status: Default; sf: abstract_call(interp::Core.Compiler.NativeInterpreter, fargs::Vector{Any}, argtypes::Vector{Any}, sv::Core.Compiler.InferenceState) at abstractinterpretation.jl:1382\" role=\"graphics-symbol\" aria-roledescription=\"rect mark\" d=\"M262.85714285714283,210.25h15.7714285714286v2.25h-15.7714285714286Z\" fill=\"#4c78a8\" fill-opacity=\"1\" stroke=\"#505050\" stroke-width=\"0\"/><path aria-label=\"x1: 115; x2: 121.9; level: 76; level2: 76.9; status: Default; sf: abstract_call(interp::Core.Compiler.NativeInterpreter, fargs::Vector{Any}, argtypes::Vector{Any}, sv::Core.Compiler.InferenceState, max_methods::Int64) at abstractinterpretation.jl:1397\" role=\"graphics-symbol\" aria-roledescription=\"rect mark\" d=\"M262.85714285714283,207.74999999999997h15.7714285714286v2.2500000000000284h-15.7714285714286Z\" fill=\"#4c78a8\" fill-opacity=\"1\" stroke=\"#505050\" stroke-width=\"0\"/><path aria-label=\"x1: 115; x2: 121.9; level: 77; level2: 77.9; status: Default; sf: abstract_call_known(interp::Core.Compiler.NativeInterpreter, f::Any, fargs::Vector{Any}, argtypes::Vector{Any}, sv::Core.Compiler.InferenceState, max_methods::Int64) at abstractinterpretation.jl:1342\" role=\"graphics-symbol\" aria-roledescription=\"rect mark\" d=\"M262.85714285714283,205.24999999999997h15.7714285714286v2.250000000000057h-15.7714285714286Z\" fill=\"#4c78a8\" fill-opacity=\"1\" stroke=\"#505050\" stroke-width=\"0\"/><path aria-label=\"x1: 115; x2: 121.9; level: 78; level2: 78.9; status: Default; sf: abstract_call_gf_by_type(interp::Core.Compiler.NativeInterpreter, f::Any, fargs::Vector{Any}, argtypes::Vector{Any}, atype::Any, sv::Core.Compiler.InferenceState, max_methods::Int64) at abstractinterpretation.jl:113\" role=\"graphics-symbol\" aria-roledescription=\"rect mark\" d=\"M262.85714285714283,202.75h15.7714285714286v2.2499999999999716h-15.7714285714286Z\" fill=\"#4c78a8\" fill-opacity=\"1\" stroke=\"#505050\" stroke-width=\"0\"/><path aria-label=\"x1: 115; x2: 121.9; level: 79; level2: 79.9; status: Default; sf: abstract_call_method_with_const_args(interp::Core.Compiler.NativeInterpreter, result::Core.Compiler.MethodCallResult, f::Any, argtypes::Vector{Any}, match::Core.MethodMatch, sv::Core.Compiler.InferenceState, va_override::Bool) at abstractinterpretation.jl:557\" role=\"graphics-symbol\" aria-roledescription=\"rect mark\" d=\"M262.85714285714283,200.25h15.7714285714286v2.25h-15.7714285714286Z\" fill=\"#4c78a8\" fill-opacity=\"1\" stroke=\"#505050\" stroke-width=\"0\"/><path aria-label=\"x1: 115; x2: 121.9; level: 80; level2: 80.9; status: Default; sf: typeinf(interp::Core.Compiler.NativeInterpreter, frame::Core.Compiler.InferenceState) at typeinfer.jl:209\" role=\"graphics-symbol\" aria-roledescription=\"rect mark\" d=\"M262.85714285714283,197.75h15.7714285714286v2.25h-15.7714285714286Z\" fill=\"#4c78a8\" fill-opacity=\"1\" stroke=\"#505050\" stroke-width=\"0\"/><path aria-label=\"x1: 115; x2: 120.9; level: 81; level2: 81.9; status: Default; sf: _typeinf(interp::Core.Compiler.NativeInterpreter, frame::Core.Compiler.InferenceState) at typeinfer.jl:226\" role=\"graphics-symbol\" aria-roledescription=\"rect mark\" d=\"M262.85714285714283,195.24999999999997h13.485714285714323v2.2500000000000284h-13.485714285714323Z\" fill=\"#4c78a8\" fill-opacity=\"1\" stroke=\"#505050\" stroke-width=\"0\"/><path aria-label=\"x1: 115; x2: 120.9; level: 82; level2: 82.9; status: Default; sf: typeinf_nocycle(interp::Core.Compiler.NativeInterpreter, frame::Core.Compiler.InferenceState) at abstractinterpretation.jl:2014\" role=\"graphics-symbol\" aria-roledescription=\"rect mark\" d=\"M262.85714285714283,192.74999999999997h13.485714285714323v2.250000000000057h-13.485714285714323Z\" fill=\"#4c78a8\" fill-opacity=\"1\" stroke=\"#505050\" stroke-width=\"0\"/><path aria-label=\"x1: 115; x2: 120.9; level: 83; level2: 83.9; status: Default; sf: typeinf_local(interp::Core.Compiler.NativeInterpreter, frame::Core.Compiler.InferenceState) at abstractinterpretation.jl:1900\" role=\"graphics-symbol\" aria-roledescription=\"rect mark\" d=\"M262.85714285714283,190.25h13.485714285714323v2.2499999999999716h-13.485714285714323Z\" fill=\"#4c78a8\" fill-opacity=\"1\" stroke=\"#505050\" stroke-width=\"0\"/><path aria-label=\"x1: 115; x2: 120.9; level: 84; level2: 84.9; status: Default; sf: abstract_eval_statement(interp::Core.Compiler.NativeInterpreter, e::Any, vtypes::Vector{Any}, sv::Core.Compiler.InferenceState) at abstractinterpretation.jl:1534\" role=\"graphics-symbol\" aria-roledescription=\"rect mark\" d=\"M262.85714285714283,187.75h13.485714285714323v2.25h-13.485714285714323Z\" fill=\"#4c78a8\" fill-opacity=\"1\" stroke=\"#505050\" stroke-width=\"0\"/><path aria-label=\"x1: 115; x2: 120.9; level: 85; level2: 85.9; status: Default; sf: abstract_call(interp::Core.Compiler.NativeInterpreter, fargs::Vector{Any}, argtypes::Vector{Any}, sv::Core.Compiler.InferenceState) at abstractinterpretation.jl:1382\" role=\"graphics-symbol\" aria-roledescription=\"rect mark\" d=\"M262.85714285714283,185.25h13.485714285714323v2.25h-13.485714285714323Z\" fill=\"#4c78a8\" fill-opacity=\"1\" stroke=\"#505050\" stroke-width=\"0\"/><path aria-label=\"x1: 115; x2: 120.9; level: 86; level2: 86.9; status: Default; sf: abstract_call(interp::Core.Compiler.NativeInterpreter, fargs::Vector{Any}, argtypes::Vector{Any}, sv::Core.Compiler.InferenceState, max_methods::Int64) at abstractinterpretation.jl:1397\" role=\"graphics-symbol\" aria-roledescription=\"rect mark\" d=\"M262.85714285714283,182.74999999999997h13.485714285714323v2.2500000000000284h-13.485714285714323Z\" fill=\"#4c78a8\" fill-opacity=\"1\" stroke=\"#505050\" stroke-width=\"0\"/><path aria-label=\"x1: 115; x2: 120.9; level: 87; level2: 87.9; status: Default; sf: abstract_call_known(interp::Core.Compiler.NativeInterpreter, f::Any, fargs::Vector{Any}, argtypes::Vector{Any}, sv::Core.Compiler.InferenceState, max_methods::Int64) at abstractinterpretation.jl:1342\" role=\"graphics-symbol\" aria-roledescription=\"rect mark\" d=\"M262.85714285714283,180.24999999999997h13.485714285714323v2.250000000000057h-13.485714285714323Z\" fill=\"#4c78a8\" fill-opacity=\"1\" stroke=\"#505050\" stroke-width=\"0\"/><path aria-label=\"x1: 115; x2: 120.9; level: 88; level2: 88.9; status: Default; sf: abstract_call_gf_by_type(interp::Core.Compiler.NativeInterpreter, f::Any, fargs::Vector{Any}, argtypes::Vector{Any}, atype::Any, sv::Core.Compiler.InferenceState, max_methods::Int64) at abstractinterpretation.jl:113\" role=\"graphics-symbol\" aria-roledescription=\"rect mark\" d=\"M262.85714285714283,177.75h13.485714285714323v2.2499999999999716h-13.485714285714323Z\" fill=\"#4c78a8\" fill-opacity=\"1\" stroke=\"#505050\" stroke-width=\"0\"/><path aria-label=\"x1: 115; x2: 120.9; level: 89; level2: 89.9; status: Default; sf: abstract_call_method_with_const_args(interp::Core.Compiler.NativeInterpreter, result::Core.Compiler.MethodCallResult, f::Any, argtypes::Vector{Any}, match::Core.MethodMatch, sv::Core.Compiler.InferenceState, va_override::Bool) at abstractinterpretation.jl:557\" role=\"graphics-symbol\" aria-roledescription=\"rect mark\" d=\"M262.85714285714283,175.25h13.485714285714323v2.25h-13.485714285714323Z\" fill=\"#4c78a8\" fill-opacity=\"1\" stroke=\"#505050\" stroke-width=\"0\"/><path aria-label=\"x1: 115; x2: 120.9; level: 90; level2: 90.9; status: Default; sf: typeinf(interp::Core.Compiler.NativeInterpreter, frame::Core.Compiler.InferenceState) at typeinfer.jl:209\" role=\"graphics-symbol\" aria-roledescription=\"rect mark\" d=\"M262.85714285714283,172.75h13.485714285714323v2.25h-13.485714285714323Z\" fill=\"#4c78a8\" fill-opacity=\"1\" stroke=\"#505050\" stroke-width=\"0\"/><path aria-label=\"x1: 115; x2: 118.9; level: 91; level2: 91.9; status: Default; sf: _typeinf(interp::Core.Compiler.NativeInterpreter, frame::Core.Compiler.InferenceState) at typeinfer.jl:226\" role=\"graphics-symbol\" aria-roledescription=\"rect mark\" d=\"M262.85714285714283,170.24999999999997h8.914285714285768v2.2500000000000284h-8.914285714285768Z\" fill=\"#4c78a8\" fill-opacity=\"1\" stroke=\"#505050\" stroke-width=\"0\"/><path aria-label=\"x1: 115; x2: 118.9; level: 92; level2: 92.9; status: Default; sf: typeinf_nocycle(interp::Core.Compiler.NativeInterpreter, frame::Core.Compiler.InferenceState) at abstractinterpretation.jl:2014\" role=\"graphics-symbol\" aria-roledescription=\"rect mark\" d=\"M262.85714285714283,167.74999999999997h8.914285714285768v2.250000000000057h-8.914285714285768Z\" fill=\"#4c78a8\" fill-opacity=\"1\" stroke=\"#505050\" stroke-width=\"0\"/><path aria-label=\"x1: 115; x2: 118.9; level: 93; level2: 93.9; status: Default; sf: typeinf_local(interp::Core.Compiler.NativeInterpreter, frame::Core.Compiler.InferenceState) at abstractinterpretation.jl:1918\" role=\"graphics-symbol\" aria-roledescription=\"rect mark\" d=\"M262.85714285714283,165.25h8.914285714285768v2.2499999999999716h-8.914285714285768Z\" fill=\"#4c78a8\" fill-opacity=\"1\" stroke=\"#505050\" stroke-width=\"0\"/><path aria-label=\"x1: 115; x2: 118.9; level: 94; level2: 94.9; status: Default; sf: abstract_eval_statement(interp::Core.Compiler.NativeInterpreter, e::Any, vtypes::Vector{Any}, sv::Core.Compiler.InferenceState) at abstractinterpretation.jl:1534\" role=\"graphics-symbol\" aria-roledescription=\"rect mark\" d=\"M262.85714285714283,162.75h8.914285714285768v2.25h-8.914285714285768Z\" fill=\"#4c78a8\" fill-opacity=\"1\" stroke=\"#505050\" stroke-width=\"0\"/><path aria-label=\"x1: 115; x2: 118.9; level: 95; level2: 95.9; status: Default; sf: abstract_call(interp::Core.Compiler.NativeInterpreter, fargs::Vector{Any}, argtypes::Vector{Any}, sv::Core.Compiler.InferenceState) at abstractinterpretation.jl:1382\" role=\"graphics-symbol\" aria-roledescription=\"rect mark\" d=\"M262.85714285714283,160.25h8.914285714285768v2.25h-8.914285714285768Z\" fill=\"#4c78a8\" fill-opacity=\"1\" stroke=\"#505050\" stroke-width=\"0\"/><path aria-label=\"x1: 115; x2: 118.9; level: 96; level2: 96.9; status: Default; sf: abstract_call(interp::Core.Compiler.NativeInterpreter, fargs::Vector{Any}, argtypes::Vector{Any}, sv::Core.Compiler.InferenceState, max_methods::Int64) at abstractinterpretation.jl:1397\" role=\"graphics-symbol\" aria-roledescription=\"rect mark\" d=\"M262.85714285714283,157.74999999999997h8.914285714285768v2.2500000000000284h-8.914285714285768Z\" fill=\"#4c78a8\" fill-opacity=\"1\" stroke=\"#505050\" stroke-width=\"0\"/><path aria-label=\"x1: 115; x2: 118.9; level: 97; level2: 97.9; status: Default; sf: abstract_call_known(interp::Core.Compiler.NativeInterpreter, f::Any, fargs::Vector{Any}, argtypes::Vector{Any}, sv::Core.Compiler.InferenceState, max_methods::Int64) at abstractinterpretation.jl:1342\" role=\"graphics-symbol\" aria-roledescription=\"rect mark\" d=\"M262.85714285714283,155.24999999999997h8.914285714285768v2.250000000000057h-8.914285714285768Z\" fill=\"#4c78a8\" fill-opacity=\"1\" stroke=\"#505050\" stroke-width=\"0\"/><path aria-label=\"x1: 115; x2: 118.9; level: 98; level2: 98.9; status: Default; sf: abstract_call_gf_by_type(interp::Core.Compiler.NativeInterpreter, f::Any, fargs::Vector{Any}, argtypes::Vector{Any}, atype::Any, sv::Core.Compiler.InferenceState, max_methods::Int64) at abstractinterpretation.jl:113\" role=\"graphics-symbol\" aria-roledescription=\"rect mark\" d=\"M262.85714285714283,152.75h8.914285714285768v2.2499999999999716h-8.914285714285768Z\" fill=\"#4c78a8\" fill-opacity=\"1\" stroke=\"#505050\" stroke-width=\"0\"/><path aria-label=\"x1: 115; x2: 118.9; level: 99; level2: 99.9; status: Default; sf: abstract_call_method_with_const_args(interp::Core.Compiler.NativeInterpreter, result::Core.Compiler.MethodCallResult, f::Any, argtypes::Vector{Any}, match::Core.MethodMatch, sv::Core.Compiler.InferenceState, va_override::Bool) at abstractinterpretation.jl:557\" role=\"graphics-symbol\" aria-roledescription=\"rect mark\" d=\"M262.85714285714283,150.25h8.914285714285768v2.25h-8.914285714285768Z\" fill=\"#4c78a8\" fill-opacity=\"1\" stroke=\"#505050\" stroke-width=\"0\"/><path aria-label=\"x1: 115; x2: 118.9; level: 100; level2: 100.9; status: Default; sf: typeinf(interp::Core.Compiler.NativeInterpreter, frame::Core.Compiler.InferenceState) at typeinfer.jl:209\" role=\"graphics-symbol\" aria-roledescription=\"rect mark\" d=\"M262.85714285714283,147.75h8.914285714285768v2.25h-8.914285714285768Z\" fill=\"#4c78a8\" fill-opacity=\"1\" stroke=\"#505050\" stroke-width=\"0\"/><path aria-label=\"x1: 115; x2: 116.9; level: 101; level2: 101.9; status: Default; sf: _typeinf(interp::Core.Compiler.NativeInterpreter, frame::Core.Compiler.InferenceState) at typeinfer.jl:226\" role=\"graphics-symbol\" aria-roledescription=\"rect mark\" d=\"M262.85714285714283,145.24999999999997h4.342857142857156v2.2500000000000284h-4.342857142857156Z\" fill=\"#4c78a8\" fill-opacity=\"1\" stroke=\"#505050\" stroke-width=\"0\"/><path aria-label=\"x1: 115; x2: 116.9; level: 102; level2: 102.9; status: Default; sf: typeinf_nocycle(interp::Core.Compiler.NativeInterpreter, frame::Core.Compiler.InferenceState) at abstractinterpretation.jl:2014\" role=\"graphics-symbol\" aria-roledescription=\"rect mark\" d=\"M262.85714285714283,142.74999999999997h4.342857142857156v2.250000000000057h-4.342857142857156Z\" fill=\"#4c78a8\" fill-opacity=\"1\" stroke=\"#505050\" stroke-width=\"0\"/><path aria-label=\"x1: 115; x2: 116.9; level: 103; level2: 103.9; status: Default; sf: typeinf_local(interp::Core.Compiler.NativeInterpreter, frame::Core.Compiler.InferenceState) at abstractinterpretation.jl:1918\" role=\"graphics-symbol\" aria-roledescription=\"rect mark\" d=\"M262.85714285714283,140.25h4.342857142857156v2.2499999999999716h-4.342857142857156Z\" fill=\"#4c78a8\" fill-opacity=\"1\" stroke=\"#505050\" stroke-width=\"0\"/><path aria-label=\"x1: 115; x2: 116.9; level: 104; level2: 104.9; status: Default; sf: abstract_eval_statement(interp::Core.Compiler.NativeInterpreter, e::Any, vtypes::Vector{Any}, sv::Core.Compiler.InferenceState) at abstractinterpretation.jl:1534\" role=\"graphics-symbol\" aria-roledescription=\"rect mark\" d=\"M262.85714285714283,137.75h4.342857142857156v2.25h-4.342857142857156Z\" fill=\"#4c78a8\" fill-opacity=\"1\" stroke=\"#505050\" stroke-width=\"0\"/><path aria-label=\"x1: 115; x2: 116.9; level: 105; level2: 105.9; status: Default; sf: abstract_call(interp::Core.Compiler.NativeInterpreter, fargs::Vector{Any}, argtypes::Vector{Any}, sv::Core.Compiler.InferenceState) at abstractinterpretation.jl:1382\" role=\"graphics-symbol\" aria-roledescription=\"rect mark\" d=\"M262.85714285714283,135.25h4.342857142857156v2.25h-4.342857142857156Z\" fill=\"#4c78a8\" fill-opacity=\"1\" stroke=\"#505050\" stroke-width=\"0\"/><path aria-label=\"x1: 115; x2: 116.9; level: 106; level2: 106.9; status: Default; sf: abstract_call(interp::Core.Compiler.NativeInterpreter, fargs::Vector{Any}, argtypes::Vector{Any}, sv::Core.Compiler.InferenceState, max_methods::Int64) at abstractinterpretation.jl:1397\" role=\"graphics-symbol\" aria-roledescription=\"rect mark\" d=\"M262.85714285714283,132.74999999999997h4.342857142857156v2.2500000000000284h-4.342857142857156Z\" fill=\"#4c78a8\" fill-opacity=\"1\" stroke=\"#505050\" stroke-width=\"0\"/><path aria-label=\"x1: 115; x2: 116.9; level: 107; level2: 107.9; status: Default; sf: abstract_call_known(interp::Core.Compiler.NativeInterpreter, f::Any, fargs::Vector{Any}, argtypes::Vector{Any}, sv::Core.Compiler.InferenceState, max_methods::Int64) at abstractinterpretation.jl:1342\" role=\"graphics-symbol\" aria-roledescription=\"rect mark\" d=\"M262.85714285714283,130.24999999999997h4.342857142857156v2.250000000000057h-4.342857142857156Z\" fill=\"#4c78a8\" fill-opacity=\"1\" stroke=\"#505050\" stroke-width=\"0\"/><path aria-label=\"x1: 115; x2: 116.9; level: 108; level2: 108.9; status: Default; sf: abstract_call_gf_by_type(interp::Core.Compiler.NativeInterpreter, f::Any, fargs::Vector{Any}, argtypes::Vector{Any}, atype::Any, sv::Core.Compiler.InferenceState, max_methods::Int64) at abstractinterpretation.jl:113\" role=\"graphics-symbol\" aria-roledescription=\"rect mark\" d=\"M262.85714285714283,127.74999999999999h4.342857142857156v2.249999999999986h-4.342857142857156Z\" fill=\"#4c78a8\" fill-opacity=\"1\" stroke=\"#505050\" stroke-width=\"0\"/><path aria-label=\"x1: 115; x2: 116.9; level: 109; level2: 109.9; status: Default; sf: abstract_call_method_with_const_args(interp::Core.Compiler.NativeInterpreter, result::Core.Compiler.MethodCallResult, f::Any, argtypes::Vector{Any}, match::Core.MethodMatch, sv::Core.Compiler.InferenceState, va_override::Bool) at abstractinterpretation.jl:557\" role=\"graphics-symbol\" aria-roledescription=\"rect mark\" d=\"M262.85714285714283,125.25h4.342857142857156v2.249999999999986h-4.342857142857156Z\" fill=\"#4c78a8\" fill-opacity=\"1\" stroke=\"#505050\" stroke-width=\"0\"/><path aria-label=\"x1: 115; x2: 116.9; level: 110; level2: 110.9; status: Default; sf: typeinf(interp::Core.Compiler.NativeInterpreter, frame::Core.Compiler.InferenceState) at typeinfer.jl:209\" role=\"graphics-symbol\" aria-roledescription=\"rect mark\" d=\"M262.85714285714283,122.75h4.342857142857156v2.25h-4.342857142857156Z\" fill=\"#4c78a8\" fill-opacity=\"1\" stroke=\"#505050\" stroke-width=\"0\"/><path aria-label=\"x1: 115; x2: 116.9; level: 111; level2: 111.9; status: Default; sf: _typeinf(interp::Core.Compiler.NativeInterpreter, frame::Core.Compiler.InferenceState) at typeinfer.jl:226\" role=\"graphics-symbol\" aria-roledescription=\"rect mark\" d=\"M262.85714285714283,120.24999999999997h4.342857142857156v2.2500000000000426h-4.342857142857156Z\" fill=\"#4c78a8\" fill-opacity=\"1\" stroke=\"#505050\" stroke-width=\"0\"/><path aria-label=\"x1: 115; x2: 116.9; level: 112; level2: 112.9; status: Default; sf: typeinf_nocycle(interp::Core.Compiler.NativeInterpreter, frame::Core.Compiler.InferenceState) at abstractinterpretation.jl:2014\" role=\"graphics-symbol\" aria-roledescription=\"rect mark\" d=\"M262.85714285714283,117.74999999999997h4.342857142857156v2.2500000000000426h-4.342857142857156Z\" fill=\"#4c78a8\" fill-opacity=\"1\" stroke=\"#505050\" stroke-width=\"0\"/><path aria-label=\"x1: 115; x2: 116.9; level: 113; level2: 113.9; status: Default; sf: typeinf_local(interp::Core.Compiler.NativeInterpreter, frame::Core.Compiler.InferenceState) at abstractinterpretation.jl:1918\" role=\"graphics-symbol\" aria-roledescription=\"rect mark\" d=\"M262.85714285714283,115.24999999999999h4.342857142857156v2.25h-4.342857142857156Z\" fill=\"#4c78a8\" fill-opacity=\"1\" stroke=\"#505050\" stroke-width=\"0\"/><path aria-label=\"x1: 115; x2: 116.9; level: 114; level2: 114.9; status: Default; sf: abstract_eval_statement(interp::Core.Compiler.NativeInterpreter, e::Any, vtypes::Vector{Any}, sv::Core.Compiler.InferenceState) at abstractinterpretation.jl:1534\" role=\"graphics-symbol\" aria-roledescription=\"rect mark\" d=\"M262.85714285714283,112.75h4.342857142857156v2.249999999999986h-4.342857142857156Z\" fill=\"#4c78a8\" fill-opacity=\"1\" stroke=\"#505050\" stroke-width=\"0\"/><path aria-label=\"x1: 115; x2: 116.9; level: 115; level2: 115.9; status: Default; sf: abstract_call(interp::Core.Compiler.NativeInterpreter, fargs::Vector{Any}, argtypes::Vector{Any}, sv::Core.Compiler.InferenceState) at abstractinterpretation.jl:1382\" role=\"graphics-symbol\" aria-roledescription=\"rect mark\" d=\"M262.85714285714283,110.25h4.342857142857156v2.25h-4.342857142857156Z\" fill=\"#4c78a8\" fill-opacity=\"1\" stroke=\"#505050\" stroke-width=\"0\"/><path aria-label=\"x1: 115; x2: 116.9; level: 116; level2: 116.9; status: Default; sf: abstract_call(interp::Core.Compiler.NativeInterpreter, fargs::Vector{Any}, argtypes::Vector{Any}, sv::Core.Compiler.InferenceState, max_methods::Int64) at abstractinterpretation.jl:1397\" role=\"graphics-symbol\" aria-roledescription=\"rect mark\" d=\"M262.85714285714283,107.74999999999997h4.342857142857156v2.2500000000000426h-4.342857142857156Z\" fill=\"#4c78a8\" fill-opacity=\"1\" stroke=\"#505050\" stroke-width=\"0\"/><path aria-label=\"x1: 115; x2: 116.9; level: 117; level2: 117.9; status: Default; sf: abstract_call_known(interp::Core.Compiler.NativeInterpreter, f::Any, fargs::Vector{Any}, argtypes::Vector{Any}, sv::Core.Compiler.InferenceState, max_methods::Int64) at abstractinterpretation.jl:1342\" role=\"graphics-symbol\" aria-roledescription=\"rect mark\" d=\"M262.85714285714283,105.24999999999997h4.342857142857156v2.2500000000000426h-4.342857142857156Z\" fill=\"#4c78a8\" fill-opacity=\"1\" stroke=\"#505050\" stroke-width=\"0\"/><path aria-label=\"x1: 115; x2: 116.9; level: 118; level2: 118.9; status: Default; sf: abstract_call_gf_by_type(interp::Core.Compiler.NativeInterpreter, f::Any, fargs::Vector{Any}, argtypes::Vector{Any}, atype::Any, sv::Core.Compiler.InferenceState, max_methods::Int64) at abstractinterpretation.jl:113\" role=\"graphics-symbol\" aria-roledescription=\"rect mark\" d=\"M262.85714285714283,102.74999999999999h4.342857142857156v2.25h-4.342857142857156Z\" fill=\"#4c78a8\" fill-opacity=\"1\" stroke=\"#505050\" stroke-width=\"0\"/><path aria-label=\"x1: 115; x2: 116.9; level: 119; level2: 119.9; status: Default; sf: abstract_call_method_with_const_args(interp::Core.Compiler.NativeInterpreter, result::Core.Compiler.MethodCallResult, f::Any, argtypes::Vector{Any}, match::Core.MethodMatch, sv::Core.Compiler.InferenceState, va_override::Bool) at abstractinterpretation.jl:557\" role=\"graphics-symbol\" aria-roledescription=\"rect mark\" d=\"M262.85714285714283,100.25h4.342857142857156v2.249999999999986h-4.342857142857156Z\" fill=\"#4c78a8\" fill-opacity=\"1\" stroke=\"#505050\" stroke-width=\"0\"/><path aria-label=\"x1: 115; x2: 116.9; level: 120; level2: 120.9; status: Default; sf: typeinf(interp::Core.Compiler.NativeInterpreter, frame::Core.Compiler.InferenceState) at typeinfer.jl:209\" role=\"graphics-symbol\" aria-roledescription=\"rect mark\" d=\"M262.85714285714283,97.75h4.342857142857156v2.25h-4.342857142857156Z\" fill=\"#4c78a8\" fill-opacity=\"1\" stroke=\"#505050\" stroke-width=\"0\"/><path aria-label=\"x1: 115; x2: 116.9; level: 121; level2: 121.9; status: Default; sf: _typeinf(interp::Core.Compiler.NativeInterpreter, frame::Core.Compiler.InferenceState) at typeinfer.jl:226\" role=\"graphics-symbol\" aria-roledescription=\"rect mark\" d=\"M262.85714285714283,95.24999999999997h4.342857142857156v2.2500000000000426h-4.342857142857156Z\" fill=\"#4c78a8\" fill-opacity=\"1\" stroke=\"#505050\" stroke-width=\"0\"/><path aria-label=\"x1: 115; x2: 116.9; level: 122; level2: 122.9; status: Default; sf: typeinf_nocycle(interp::Core.Compiler.NativeInterpreter, frame::Core.Compiler.InferenceState) at abstractinterpretation.jl:2014\" role=\"graphics-symbol\" aria-roledescription=\"rect mark\" d=\"M262.85714285714283,92.74999999999997h4.342857142857156v2.2500000000000426h-4.342857142857156Z\" fill=\"#4c78a8\" fill-opacity=\"1\" stroke=\"#505050\" stroke-width=\"0\"/><path aria-label=\"x1: 115; x2: 116.9; level: 123; level2: 123.9; status: Default; sf: typeinf_local(interp::Core.Compiler.NativeInterpreter, frame::Core.Compiler.InferenceState) at abstractinterpretation.jl:1918\" role=\"graphics-symbol\" aria-roledescription=\"rect mark\" d=\"M262.85714285714283,90.24999999999999h4.342857142857156v2.25h-4.342857142857156Z\" fill=\"#4c78a8\" fill-opacity=\"1\" stroke=\"#505050\" stroke-width=\"0\"/><path aria-label=\"x1: 115; x2: 116.9; level: 124; level2: 124.9; status: Default; sf: abstract_eval_statement(interp::Core.Compiler.NativeInterpreter, e::Any, vtypes::Vector{Any}, sv::Core.Compiler.InferenceState) at abstractinterpretation.jl:1534\" role=\"graphics-symbol\" aria-roledescription=\"rect mark\" d=\"M262.85714285714283,87.75h4.342857142857156v2.249999999999986h-4.342857142857156Z\" fill=\"#4c78a8\" fill-opacity=\"1\" stroke=\"#505050\" stroke-width=\"0\"/><path aria-label=\"x1: 115; x2: 116.9; level: 125; level2: 125.9; status: Default; sf: abstract_call(interp::Core.Compiler.NativeInterpreter, fargs::Vector{Any}, argtypes::Vector{Any}, sv::Core.Compiler.InferenceState) at abstractinterpretation.jl:1382\" role=\"graphics-symbol\" aria-roledescription=\"rect mark\" d=\"M262.85714285714283,85.25h4.342857142857156v2.25h-4.342857142857156Z\" fill=\"#4c78a8\" fill-opacity=\"1\" stroke=\"#505050\" stroke-width=\"0\"/><path aria-label=\"x1: 115; x2: 116.9; level: 126; level2: 126.9; status: Default; sf: abstract_call(interp::Core.Compiler.NativeInterpreter, fargs::Vector{Any}, argtypes::Vector{Any}, sv::Core.Compiler.InferenceState, max_methods::Int64) at abstractinterpretation.jl:1397\" role=\"graphics-symbol\" aria-roledescription=\"rect mark\" d=\"M262.85714285714283,82.74999999999997h4.342857142857156v2.2500000000000426h-4.342857142857156Z\" fill=\"#4c78a8\" fill-opacity=\"1\" stroke=\"#505050\" stroke-width=\"0\"/><path aria-label=\"x1: 115; x2: 116.9; level: 127; level2: 127.9; status: Default; sf: abstract_call_known(interp::Core.Compiler.NativeInterpreter, f::Any, fargs::Vector{Any}, argtypes::Vector{Any}, sv::Core.Compiler.InferenceState, max_methods::Int64) at abstractinterpretation.jl:1342\" role=\"graphics-symbol\" aria-roledescription=\"rect mark\" d=\"M262.85714285714283,80.24999999999997h4.342857142857156v2.2500000000000426h-4.342857142857156Z\" fill=\"#4c78a8\" fill-opacity=\"1\" stroke=\"#505050\" stroke-width=\"0\"/><path aria-label=\"x1: 115; x2: 116.9; level: 128; level2: 128.9; status: Default; sf: abstract_call_gf_by_type(interp::Core.Compiler.NativeInterpreter, f::Any, fargs::Vector{Any}, argtypes::Vector{Any}, atype::Any, sv::Core.Compiler.InferenceState, max_methods::Int64) at abstractinterpretation.jl:113\" role=\"graphics-symbol\" aria-roledescription=\"rect mark\" d=\"M262.85714285714283,77.74999999999999h4.342857142857156v2.25h-4.342857142857156Z\" fill=\"#4c78a8\" fill-opacity=\"1\" stroke=\"#505050\" stroke-width=\"0\"/><path aria-label=\"x1: 115; x2: 116.9; level: 129; level2: 129.9; status: Default; sf: abstract_call_method_with_const_args(interp::Core.Compiler.NativeInterpreter, result::Core.Compiler.MethodCallResult, f::Any, argtypes::Vector{Any}, match::Core.MethodMatch, sv::Core.Compiler.InferenceState, va_override::Bool) at abstractinterpretation.jl:557\" role=\"graphics-symbol\" aria-roledescription=\"rect mark\" d=\"M262.85714285714283,75.25h4.342857142857156v2.249999999999986h-4.342857142857156Z\" fill=\"#4c78a8\" fill-opacity=\"1\" stroke=\"#505050\" stroke-width=\"0\"/><path aria-label=\"x1: 115; x2: 116.9; level: 130; level2: 130.9; status: Default; sf: typeinf(interp::Core.Compiler.NativeInterpreter, frame::Core.Compiler.InferenceState) at typeinfer.jl:209\" role=\"graphics-symbol\" aria-roledescription=\"rect mark\" d=\"M262.85714285714283,72.75h4.342857142857156v2.25h-4.342857142857156Z\" fill=\"#4c78a8\" fill-opacity=\"1\" stroke=\"#505050\" stroke-width=\"0\"/><path aria-label=\"x1: 115; x2: 115.9; level: 131; level2: 131.9; status: Default; sf: _typeinf(interp::Core.Compiler.NativeInterpreter, frame::Core.Compiler.InferenceState) at typeinfer.jl:226\" role=\"graphics-symbol\" aria-roledescription=\"rect mark\" d=\"M262.85714285714283,70.24999999999997h2.057142857142935v2.2500000000000426h-2.057142857142935Z\" fill=\"#4c78a8\" fill-opacity=\"1\" stroke=\"#505050\" stroke-width=\"0\"/><path aria-label=\"x1: 115; x2: 115.9; level: 132; level2: 132.9; status: Default; sf: typeinf_nocycle(interp::Core.Compiler.NativeInterpreter, frame::Core.Compiler.InferenceState) at abstractinterpretation.jl:2014\" role=\"graphics-symbol\" aria-roledescription=\"rect mark\" d=\"M262.85714285714283,67.74999999999997h2.057142857142935v2.2500000000000426h-2.057142857142935Z\" fill=\"#4c78a8\" fill-opacity=\"1\" stroke=\"#505050\" stroke-width=\"0\"/><path aria-label=\"x1: 115; x2: 115.9; level: 133; level2: 133.9; status: Default; sf: typeinf_local(interp::Core.Compiler.NativeInterpreter, frame::Core.Compiler.InferenceState) at abstractinterpretation.jl:1918\" role=\"graphics-symbol\" aria-roledescription=\"rect mark\" d=\"M262.85714285714283,65.24999999999999h2.057142857142935v2.25h-2.057142857142935Z\" fill=\"#4c78a8\" fill-opacity=\"1\" stroke=\"#505050\" stroke-width=\"0\"/><path aria-label=\"x1: 115; x2: 115.9; level: 134; level2: 134.9; status: Default; sf: abstract_eval_statement(interp::Core.Compiler.NativeInterpreter, e::Any, vtypes::Vector{Any}, sv::Core.Compiler.InferenceState) at abstractinterpretation.jl:1534\" role=\"graphics-symbol\" aria-roledescription=\"rect mark\" d=\"M262.85714285714283,62.74999999999999h2.057142857142935v2.249999999999993h-2.057142857142935Z\" fill=\"#4c78a8\" fill-opacity=\"1\" stroke=\"#505050\" stroke-width=\"0\"/><path aria-label=\"x1: 115; x2: 115.9; level: 135; level2: 135.9; status: Default; sf: abstract_call(interp::Core.Compiler.NativeInterpreter, fargs::Vector{Any}, argtypes::Vector{Any}, sv::Core.Compiler.InferenceState) at abstractinterpretation.jl:1382\" role=\"graphics-symbol\" aria-roledescription=\"rect mark\" d=\"M262.85714285714283,60.25h2.057142857142935v2.25h-2.057142857142935Z\" fill=\"#4c78a8\" fill-opacity=\"1\" stroke=\"#505050\" stroke-width=\"0\"/><path aria-label=\"x1: 115; x2: 115.9; level: 136; level2: 136.9; status: Default; sf: abstract_call(interp::Core.Compiler.NativeInterpreter, fargs::Vector{Any}, argtypes::Vector{Any}, sv::Core.Compiler.InferenceState, max_methods::Int64) at abstractinterpretation.jl:1397\" role=\"graphics-symbol\" aria-roledescription=\"rect mark\" d=\"M262.85714285714283,57.74999999999997h2.057142857142935v2.2500000000000355h-2.057142857142935Z\" fill=\"#4c78a8\" fill-opacity=\"1\" stroke=\"#505050\" stroke-width=\"0\"/><path aria-label=\"x1: 115; x2: 115.9; level: 137; level2: 137.9; status: Default; sf: abstract_call_known(interp::Core.Compiler.NativeInterpreter, f::Any, fargs::Vector{Any}, argtypes::Vector{Any}, sv::Core.Compiler.InferenceState, max_methods::Int64) at abstractinterpretation.jl:1342\" role=\"graphics-symbol\" aria-roledescription=\"rect mark\" d=\"M262.85714285714283,55.24999999999998h2.057142857142935v2.2500000000000355h-2.057142857142935Z\" fill=\"#4c78a8\" fill-opacity=\"1\" stroke=\"#505050\" stroke-width=\"0\"/><path aria-label=\"x1: 115; x2: 115.9; level: 138; level2: 138.9; status: Default; sf: abstract_call_gf_by_type(interp::Core.Compiler.NativeInterpreter, f::Any, fargs::Vector{Any}, argtypes::Vector{Any}, atype::Any, sv::Core.Compiler.InferenceState, max_methods::Int64) at abstractinterpretation.jl:113\" role=\"graphics-symbol\" aria-roledescription=\"rect mark\" d=\"M262.85714285714283,52.749999999999986h2.057142857142935v2.25h-2.057142857142935Z\" fill=\"#4c78a8\" fill-opacity=\"1\" stroke=\"#505050\" stroke-width=\"0\"/><path aria-label=\"x1: 115; x2: 115.9; level: 139; level2: 139.9; status: Default; sf: abstract_call_method_with_const_args(interp::Core.Compiler.NativeInterpreter, result::Core.Compiler.MethodCallResult, f::Any, argtypes::Vector{Any}, match::Core.MethodMatch, sv::Core.Compiler.InferenceState, va_override::Bool) at abstractinterpretation.jl:557\" role=\"graphics-symbol\" aria-roledescription=\"rect mark\" d=\"M262.85714285714283,50.24999999999999h2.057142857142935v2.25h-2.057142857142935Z\" fill=\"#4c78a8\" fill-opacity=\"1\" stroke=\"#505050\" stroke-width=\"0\"/><path aria-label=\"x1: 115; x2: 115.9; level: 140; level2: 140.9; status: Default; sf: typeinf(interp::Core.Compiler.NativeInterpreter, frame::Core.Compiler.InferenceState) at typeinfer.jl:209\" role=\"graphics-symbol\" aria-roledescription=\"rect mark\" d=\"M262.85714285714283,47.75h2.057142857142935v2.25h-2.057142857142935Z\" fill=\"#4c78a8\" fill-opacity=\"1\" stroke=\"#505050\" stroke-width=\"0\"/><path aria-label=\"x1: 115; x2: 115.9; level: 141; level2: 141.9; status: Default; sf: _typeinf(interp::Core.Compiler.NativeInterpreter, frame::Core.Compiler.InferenceState) at typeinfer.jl:255\" role=\"graphics-symbol\" aria-roledescription=\"rect mark\" d=\"M262.85714285714283,45.24999999999997h2.057142857142935v2.2500000000000355h-2.057142857142935Z\" fill=\"#4c78a8\" fill-opacity=\"1\" stroke=\"#505050\" stroke-width=\"0\"/><path aria-label=\"x1: 115; x2: 115.9; level: 142; level2: 142.9; status: Default; sf: optimize at optimize.jl:296 [inlined]\" role=\"graphics-symbol\" aria-roledescription=\"rect mark\" d=\"M262.85714285714283,42.74999999999998h2.057142857142935v2.2500000000000355h-2.057142857142935Z\" fill=\"#4c78a8\" fill-opacity=\"1\" stroke=\"#505050\" stroke-width=\"0\"/><path aria-label=\"x1: 115; x2: 115.9; level: 143; level2: 143.9; status: Default; sf: run_passes(ci::Core.CodeInfo, nargs::Int64, sv::Core.Compiler.OptimizationState) at optimize.jl:303\" role=\"graphics-symbol\" aria-roledescription=\"rect mark\" d=\"M262.85714285714283,40.249999999999986h2.057142857142935v2.25h-2.057142857142935Z\" fill=\"#4c78a8\" fill-opacity=\"1\" stroke=\"#505050\" stroke-width=\"0\"/><path aria-label=\"x1: 115; x2: 115.9; level: 144; level2: 144.9; status: Default; sf: slot2reg at optimize.jl:419 [inlined]\" role=\"graphics-symbol\" aria-roledescription=\"rect mark\" d=\"M262.85714285714283,37.74999999999999h2.057142857142935v2.25h-2.057142857142935Z\" fill=\"#4c78a8\" fill-opacity=\"1\" stroke=\"#505050\" stroke-width=\"0\"/><path aria-label=\"x1: 115; x2: 115.9; level: 145; level2: 145.9; status: Default; sf: construct_ssa!(ci::Core.CodeInfo, ir::Core.Compiler.IRCode, domtree::Core.Compiler.DomTree, defuses::Vector{Core.Compiler.SlotInfo}, nargs::Int64, slottypes::Vector{Any}) at slot2ssa.jl:633\" role=\"graphics-symbol\" aria-roledescription=\"rect mark\" d=\"M262.85714285714283,35.25h2.057142857142935v2.25h-2.057142857142935Z\" fill=\"#4c78a8\" fill-opacity=\"1\" stroke=\"#505050\" stroke-width=\"0\"/><path aria-label=\"x1: 115; x2: 115.9; level: 146; level2: 146.9; status: Default; sf: compute_live_ins(cfg::Core.Compiler.CFG, defuse::Core.Compiler.SlotInfo) at slot2ssa.jl:539\" role=\"graphics-symbol\" aria-roledescription=\"rect mark\" d=\"M262.85714285714283,32.74999999999997h2.057142857142935v2.2500000000000355h-2.057142857142935Z\" fill=\"#4c78a8\" fill-opacity=\"1\" stroke=\"#505050\" stroke-width=\"0\"/><path aria-label=\"x1: 115; x2: 115.9; level: 147; level2: 147.9; status: Default; sf: BitSet at bitset.jl:18 [inlined]\" role=\"graphics-symbol\" aria-roledescription=\"rect mark\" d=\"M262.85714285714283,30.24999999999998h2.057142857142935v2.2500000000000355h-2.057142857142935Z\" fill=\"#4c78a8\" fill-opacity=\"1\" stroke=\"#505050\" stroke-width=\"0\"/><path aria-label=\"x1: 115; x2: 115.9; level: 148; level2: 148.9; status: Default; sf: zeros at array.jl:521 [inlined]\" role=\"graphics-symbol\" aria-roledescription=\"rect mark\" d=\"M262.85714285714283,27.749999999999986h2.057142857142935v2.2499999999999964h-2.057142857142935Z\" fill=\"#4c78a8\" fill-opacity=\"1\" stroke=\"#505050\" stroke-width=\"0\"/><path aria-label=\"x1: 115; x2: 115.9; level: 149; level2: 149.9; status: Default; sf: zeros at array.jl:525 [inlined]\" role=\"graphics-symbol\" aria-roledescription=\"rect mark\" d=\"M262.85714285714283,25.249999999999993h2.057142857142935v2.25h-2.057142857142935Z\" fill=\"#4c78a8\" fill-opacity=\"1\" stroke=\"#505050\" stroke-width=\"0\"/><path aria-label=\"x1: 115; x2: 115.9; level: 150; level2: 150.9; status: Default; sf: Array at boot.jl:466 [inlined]\" role=\"graphics-symbol\" aria-roledescription=\"rect mark\" d=\"M262.85714285714283,22.750000000000004h2.057142857142935v2.2499999999999964h-2.057142857142935Z\" fill=\"#4c78a8\" fill-opacity=\"1\" stroke=\"#505050\" stroke-width=\"0\"/><path aria-label=\"x1: 115; x2: 115.9; level: 151; level2: 151.9; status: Garbage collection; sf: Array at boot.jl:457 [inlined]\" role=\"graphics-symbol\" aria-roledescription=\"rect mark\" d=\"M262.85714285714283,20.249999999999968h2.057142857142935v2.250000000000039h-2.057142857142935Z\" fill=\"#f58518\" fill-opacity=\"1\" stroke=\"#505050\" stroke-width=\"0\"/><path aria-label=\"x1: 116; x2: 116.9; level: 131; level2: 131.9; status: Default; sf: _typeinf(interp::Core.Compiler.NativeInterpreter, frame::Core.Compiler.InferenceState) at typeinfer.jl:255\" role=\"graphics-symbol\" aria-roledescription=\"rect mark\" d=\"M265.1428571428571,70.24999999999997h2.0571428571428783v2.2500000000000426h-2.0571428571428783Z\" fill=\"#4c78a8\" fill-opacity=\"1\" stroke=\"#505050\" stroke-width=\"0\"/><path aria-label=\"x1: 116; x2: 116.9; level: 132; level2: 132.9; status: Default; sf: optimize at optimize.jl:296 [inlined]\" role=\"graphics-symbol\" aria-roledescription=\"rect mark\" d=\"M265.1428571428571,67.74999999999997h2.0571428571428783v2.2500000000000426h-2.0571428571428783Z\" fill=\"#4c78a8\" fill-opacity=\"1\" stroke=\"#505050\" stroke-width=\"0\"/><path aria-label=\"x1: 116; x2: 116.9; level: 133; level2: 133.9; status: Runtime dispatch; sf: run_passes(ci::Core.CodeInfo, nargs::Int64, sv::Core.Compiler.OptimizationState) at optimize.jl:307\" role=\"graphics-symbol\" aria-roledescription=\"rect mark\" d=\"M265.1428571428571,65.24999999999999h2.0571428571428783v2.25h-2.0571428571428783Z\" fill=\"#e45756\" fill-opacity=\"1\" stroke=\"#505050\" stroke-width=\"0\"/><path aria-label=\"x1: 116; x2: 116.9; level: 134; level2: 134.9; status: Default; sf: ssa_inlining_pass!(ir::Core.Compiler.IRCode, linetable::Vector{Core.LineInfoNode}, state::Core.Compiler.InliningState{Core.Compiler.EdgeTracker, Core.Compiler.WorldView{Core.Compiler.InternalCodeCache}, typeof(Core.Compiler.default_inlining_policy)}, propagate_inbounds::Bool) at inlining.jl:80\" role=\"graphics-symbol\" aria-roledescription=\"rect mark\" d=\"M265.1428571428571,62.74999999999999h2.0571428571428783v2.249999999999993h-2.0571428571428783Z\" fill=\"#4c78a8\" fill-opacity=\"1\" stroke=\"#505050\" stroke-width=\"0\"/><path aria-label=\"x1: 116; x2: 116.9; level: 135; level2: 135.9; status: Default; sf: assemble_inline_todo!(ir::Core.Compiler.IRCode, state::Core.Compiler.InliningState{Core.Compiler.EdgeTracker, Core.Compiler.WorldView{Core.Compiler.InternalCodeCache}, typeof(Core.Compiler.default_inlining_policy)}) at inlining.jl:1358\" role=\"graphics-symbol\" aria-roledescription=\"rect mark\" d=\"M265.1428571428571,60.25h2.0571428571428783v2.25h-2.0571428571428783Z\" fill=\"#4c78a8\" fill-opacity=\"1\" stroke=\"#505050\" stroke-width=\"0\"/><path aria-label=\"x1: 116; x2: 116.9; level: 136; level2: 136.9; status: Default; sf: process_simple!(ir::Core.Compiler.IRCode, todo::Vector{Pair{Int64, Any}}, idx::Int64, state::Core.Compiler.InliningState{Core.Compiler.EdgeTracker, Core.Compiler.WorldView{Core.Compiler.InternalCodeCache}, typeof(Core.Compiler.default_inlining_policy)}) at inlining.jl:1185\" role=\"graphics-symbol\" aria-roledescription=\"rect mark\" d=\"M265.1428571428571,57.74999999999997h2.0571428571428783v2.2500000000000355h-2.0571428571428783Z\" fill=\"#4c78a8\" fill-opacity=\"1\" stroke=\"#505050\" stroke-width=\"0\"/><path aria-label=\"x1: 116; x2: 116.9; level: 137; level2: 137.9; status: Default; sf: check_effect_free! at inlining.jl:1128 [inlined]\" role=\"graphics-symbol\" aria-roledescription=\"rect mark\" d=\"M265.1428571428571,55.24999999999998h2.0571428571428783v2.2500000000000355h-2.0571428571428783Z\" fill=\"#4c78a8\" fill-opacity=\"1\" stroke=\"#505050\" stroke-width=\"0\"/><path aria-label=\"x1: 116; x2: 116.9; level: 138; level2: 138.9; status: Default; sf: stmt_effect_free(stmt::Any, rt::Any, src::Core.Compiler.IRCode, sptypes::Vector{Any}) at queries.jl:24\" role=\"graphics-symbol\" aria-roledescription=\"rect mark\" d=\"M265.1428571428571,52.749999999999986h2.0571428571428783v2.25h-2.0571428571428783Z\" fill=\"#4c78a8\" fill-opacity=\"1\" stroke=\"#505050\" stroke-width=\"0\"/><path aria-label=\"x1: 116; x2: 116.9; level: 139; level2: 139.9; status: Default; sf: argextype at utilities.jl:229 [inlined]\" role=\"graphics-symbol\" aria-roledescription=\"rect mark\" d=\"M265.1428571428571,50.24999999999999h2.0571428571428783v2.25h-2.0571428571428783Z\" fill=\"#4c78a8\" fill-opacity=\"1\" stroke=\"#505050\" stroke-width=\"0\"/><path aria-label=\"x1: 116; x2: 116.9; level: 140; level2: 140.9; status: Default; sf: argextype(x::Any, src::Core.Compiler.IRCode, sptypes::Vector{Any}, slottypes::Vector{Any}) at utilities.jl:251\" role=\"graphics-symbol\" aria-roledescription=\"rect mark\" d=\"M265.1428571428571,47.75h2.0571428571428783v2.25h-2.0571428571428783Z\" fill=\"#4c78a8\" fill-opacity=\"1\" stroke=\"#505050\" stroke-width=\"0\"/><path aria-label=\"x1: 116; x2: 116.9; level: 141; level2: 141.9; status: Default; sf: abstract_eval_global at abstractinterpretation.jl:1676 [inlined]\" role=\"graphics-symbol\" aria-roledescription=\"rect mark\" d=\"M265.1428571428571,45.24999999999997h2.0571428571428783v2.2500000000000355h-2.0571428571428783Z\" fill=\"#4c78a8\" fill-opacity=\"1\" stroke=\"#505050\" stroke-width=\"0\"/><path aria-label=\"x1: 117; x2: 118.9; level: 101; level2: 101.9; status: Default; sf: _typeinf(interp::Core.Compiler.NativeInterpreter, frame::Core.Compiler.InferenceState) at typeinfer.jl:255\" role=\"graphics-symbol\" aria-roledescription=\"rect mark\" d=\"M267.42857142857144,145.24999999999997h4.342857142857156v2.2500000000000284h-4.342857142857156Z\" fill=\"#4c78a8\" fill-opacity=\"1\" stroke=\"#505050\" stroke-width=\"0\"/><path aria-label=\"x1: 117; x2: 118.9; level: 102; level2: 102.9; status: Default; sf: optimize at optimize.jl:296 [inlined]\" role=\"graphics-symbol\" aria-roledescription=\"rect mark\" d=\"M267.42857142857144,142.74999999999997h4.342857142857156v2.250000000000057h-4.342857142857156Z\" fill=\"#4c78a8\" fill-opacity=\"1\" stroke=\"#505050\" stroke-width=\"0\"/><path aria-label=\"x1: 117; x2: 117.9; level: 103; level2: 103.9; status: Default; sf: run_passes(ci::Core.CodeInfo, nargs::Int64, sv::Core.Compiler.OptimizationState) at optimize.jl:306\" role=\"graphics-symbol\" aria-roledescription=\"rect mark\" d=\"M267.42857142857144,140.25h2.0571428571428214v2.2499999999999716h-2.0571428571428214Z\" fill=\"#4c78a8\" fill-opacity=\"1\" stroke=\"#505050\" stroke-width=\"0\"/><path aria-label=\"x1: 117; x2: 117.9; level: 104; level2: 104.9; status: Default; sf: compact! at ir.jl:1441 [inlined]\" role=\"graphics-symbol\" aria-roledescription=\"rect mark\" d=\"M267.42857142857144,137.75h2.0571428571428214v2.25h-2.0571428571428214Z\" fill=\"#4c78a8\" fill-opacity=\"1\" stroke=\"#505050\" stroke-width=\"0\"/><path aria-label=\"x1: 117; x2: 117.9; level: 105; level2: 105.9; status: Default; sf: compact!(code::Core.Compiler.IRCode, allow_cfg_transforms::Bool) at ir.jl:1441\" role=\"graphics-symbol\" aria-roledescription=\"rect mark\" d=\"M267.42857142857144,135.25h2.0571428571428214v2.25h-2.0571428571428214Z\" fill=\"#4c78a8\" fill-opacity=\"1\" stroke=\"#505050\" stroke-width=\"0\"/><path aria-label=\"x1: 117; x2: 117.9; level: 106; level2: 106.9; status: Default; sf: Core.Compiler.IncrementalCompact(code::Core.Compiler.IRCode, allow_cfg_transforms::Bool) at ir.jl:575\" role=\"graphics-symbol\" aria-roledescription=\"rect mark\" d=\"M267.42857142857144,132.74999999999997h2.0571428571428214v2.2500000000000284h-2.0571428571428214Z\" fill=\"#4c78a8\" fill-opacity=\"1\" stroke=\"#505050\" stroke-width=\"0\"/><path aria-label=\"x1: 117; x2: 117.9; level: 107; level2: 107.9; status: Default; sf: _array_for at array.jl:616 [inlined]\" role=\"graphics-symbol\" aria-roledescription=\"rect mark\" d=\"M267.42857142857144,130.24999999999997h2.0571428571428214v2.250000000000057h-2.0571428571428214Z\" fill=\"#4c78a8\" fill-opacity=\"1\" stroke=\"#505050\" stroke-width=\"0\"/><path aria-label=\"x1: 117; x2: 117.9; level: 108; level2: 108.9; status: Default; sf: _array_for at array.jl:613 [inlined]\" role=\"graphics-symbol\" aria-roledescription=\"rect mark\" d=\"M267.42857142857144,127.74999999999999h2.0571428571428214v2.249999999999986h-2.0571428571428214Z\" fill=\"#4c78a8\" fill-opacity=\"1\" stroke=\"#505050\" stroke-width=\"0\"/><path aria-label=\"x1: 117; x2: 117.9; level: 109; level2: 109.9; status: Default; sf: similar at abstractarray.jl:828 [inlined]\" role=\"graphics-symbol\" aria-roledescription=\"rect mark\" d=\"M267.42857142857144,125.25h2.0571428571428214v2.249999999999986h-2.0571428571428214Z\" fill=\"#4c78a8\" fill-opacity=\"1\" stroke=\"#505050\" stroke-width=\"0\"/><path aria-label=\"x1: 117; x2: 117.9; level: 110; level2: 110.9; status: Default; sf: similar at abstractarray.jl:829 [inlined]\" role=\"graphics-symbol\" aria-roledescription=\"rect mark\" d=\"M267.42857142857144,122.75h2.0571428571428214v2.25h-2.0571428571428214Z\" fill=\"#4c78a8\" fill-opacity=\"1\" stroke=\"#505050\" stroke-width=\"0\"/><path aria-label=\"x1: 117; x2: 117.9; level: 111; level2: 111.9; status: Default; sf: Array at boot.jl:466 [inlined]\" role=\"graphics-symbol\" aria-roledescription=\"rect mark\" d=\"M267.42857142857144,120.24999999999997h2.0571428571428214v2.2500000000000426h-2.0571428571428214Z\" fill=\"#4c78a8\" fill-opacity=\"1\" stroke=\"#505050\" stroke-width=\"0\"/><path aria-label=\"x1: 117; x2: 117.9; level: 112; level2: 112.9; status: Garbage collection; sf: Array at boot.jl:457 [inlined]\" role=\"graphics-symbol\" aria-roledescription=\"rect mark\" d=\"M267.42857142857144,117.74999999999997h2.0571428571428214v2.2500000000000426h-2.0571428571428214Z\" fill=\"#f58518\" fill-opacity=\"1\" stroke=\"#505050\" stroke-width=\"0\"/><path aria-label=\"x1: 118; x2: 118.9; level: 103; level2: 103.9; status: Runtime dispatch; sf: run_passes(ci::Core.CodeInfo, nargs::Int64, sv::Core.Compiler.OptimizationState) at optimize.jl:307\" role=\"graphics-symbol\" aria-roledescription=\"rect mark\" d=\"M269.7142857142857,140.25h2.0571428571428783v2.2499999999999716h-2.0571428571428783Z\" fill=\"#e45756\" fill-opacity=\"1\" stroke=\"#505050\" stroke-width=\"0\"/><path aria-label=\"x1: 118; x2: 118.9; level: 104; level2: 104.9; status: Default; sf: ssa_inlining_pass!(ir::Core.Compiler.IRCode, linetable::Vector{Core.LineInfoNode}, state::Core.Compiler.InliningState{Core.Compiler.EdgeTracker, Core.Compiler.WorldView{Core.Compiler.InternalCodeCache}, typeof(Core.Compiler.default_inlining_policy)}, propagate_inbounds::Bool) at inlining.jl:80\" role=\"graphics-symbol\" aria-roledescription=\"rect mark\" d=\"M269.7142857142857,137.75h2.0571428571428783v2.25h-2.0571428571428783Z\" fill=\"#4c78a8\" fill-opacity=\"1\" stroke=\"#505050\" stroke-width=\"0\"/><path aria-label=\"x1: 118; x2: 118.9; level: 105; level2: 105.9; status: Default; sf: assemble_inline_todo!(ir::Core.Compiler.IRCode, state::Core.Compiler.InliningState{Core.Compiler.EdgeTracker, Core.Compiler.WorldView{Core.Compiler.InternalCodeCache}, typeof(Core.Compiler.default_inlining_policy)}) at inlining.jl:1358\" role=\"graphics-symbol\" aria-roledescription=\"rect mark\" d=\"M269.7142857142857,135.25h2.0571428571428783v2.25h-2.0571428571428783Z\" fill=\"#4c78a8\" fill-opacity=\"1\" stroke=\"#505050\" stroke-width=\"0\"/><path aria-label=\"x1: 118; x2: 118.9; level: 106; level2: 106.9; status: Default; sf: process_simple!(ir::Core.Compiler.IRCode, todo::Vector{Pair{Int64, Any}}, idx::Int64, state::Core.Compiler.InliningState{Core.Compiler.EdgeTracker, Core.Compiler.WorldView{Core.Compiler.InternalCodeCache}, typeof(Core.Compiler.default_inlining_policy)}) at inlining.jl:1163\" role=\"graphics-symbol\" aria-roledescription=\"rect mark\" d=\"M269.7142857142857,132.74999999999997h2.0571428571428783v2.2500000000000284h-2.0571428571428783Z\" fill=\"#4c78a8\" fill-opacity=\"1\" stroke=\"#505050\" stroke-width=\"0\"/><path aria-label=\"x1: 118; x2: 118.9; level: 107; level2: 107.9; status: Default; sf: early_inline_special_case(ir::Core.Compiler.IRCode, s::Core.Compiler.Signature, e::Expr, params::Core.Compiler.OptimizationParams, etype::Any) at inlining.jl:1468\" role=\"graphics-symbol\" aria-roledescription=\"rect mark\" d=\"M269.7142857142857,130.24999999999997h2.0571428571428783v2.250000000000057h-2.0571428571428783Z\" fill=\"#4c78a8\" fill-opacity=\"1\" stroke=\"#505050\" stroke-width=\"0\"/><path aria-label=\"x1: 118; x2: 118.9; level: 108; level2: 108.9; status: Default; sf: ispuretopfunction(f::Any) at inlining.jl:1439\" role=\"graphics-symbol\" aria-roledescription=\"rect mark\" d=\"M269.7142857142857,127.74999999999999h2.0571428571428783v2.249999999999986h-2.0571428571428783Z\" fill=\"#4c78a8\" fill-opacity=\"1\" stroke=\"#505050\" stroke-width=\"0\"/><path aria-label=\"x1: 119; x2: 120.9; level: 91; level2: 91.9; status: Default; sf: _typeinf(interp::Core.Compiler.NativeInterpreter, frame::Core.Compiler.InferenceState) at typeinfer.jl:255\" role=\"graphics-symbol\" aria-roledescription=\"rect mark\" d=\"M272,170.24999999999997h4.342857142857156v2.2500000000000284h-4.342857142857156Z\" fill=\"#4c78a8\" fill-opacity=\"1\" stroke=\"#505050\" stroke-width=\"0\"/><path aria-label=\"x1: 119; x2: 120.9; level: 92; level2: 92.9; status: Default; sf: optimize at optimize.jl:296 [inlined]\" role=\"graphics-symbol\" aria-roledescription=\"rect mark\" d=\"M272,167.74999999999997h4.342857142857156v2.250000000000057h-4.342857142857156Z\" fill=\"#4c78a8\" fill-opacity=\"1\" stroke=\"#505050\" stroke-width=\"0\"/><path aria-label=\"x1: 119; x2: 119.9; level: 93; level2: 93.9; status: Default; sf: run_passes(ci::Core.CodeInfo, nargs::Int64, sv::Core.Compiler.OptimizationState) at optimize.jl:303\" role=\"graphics-symbol\" aria-roledescription=\"rect mark\" d=\"M272,165.25h2.0571428571428783v2.2499999999999716h-2.0571428571428783Z\" fill=\"#4c78a8\" fill-opacity=\"1\" stroke=\"#505050\" stroke-width=\"0\"/><path aria-label=\"x1: 119; x2: 119.9; level: 94; level2: 94.9; status: Default; sf: slot2reg at optimize.jl:417 [inlined]\" role=\"graphics-symbol\" aria-roledescription=\"rect mark\" d=\"M272,162.75h2.0571428571428783v2.25h-2.0571428571428783Z\" fill=\"#4c78a8\" fill-opacity=\"1\" stroke=\"#505050\" stroke-width=\"0\"/><path aria-label=\"x1: 119; x2: 119.9; level: 95; level2: 95.9; status: Default; sf: construct_domtree(blocks::Vector{Core.Compiler.BasicBlock}) at domtree.jl:204\" role=\"graphics-symbol\" aria-roledescription=\"rect mark\" d=\"M272,160.25h2.0571428571428783v2.25h-2.0571428571428783Z\" fill=\"#4c78a8\" fill-opacity=\"1\" stroke=\"#505050\" stroke-width=\"0\"/><path aria-label=\"x1: 119; x2: 119.9; level: 96; level2: 96.9; status: Default; sf: DomTree at domtree.jl:200 [inlined]\" role=\"graphics-symbol\" aria-roledescription=\"rect mark\" d=\"M272,157.74999999999997h2.0571428571428783v2.2500000000000284h-2.0571428571428783Z\" fill=\"#4c78a8\" fill-opacity=\"1\" stroke=\"#505050\" stroke-width=\"0\"/><path aria-label=\"x1: 119; x2: 119.9; level: 97; level2: 97.9; status: Default; sf: getindex at array.jl:411 [inlined]\" role=\"graphics-symbol\" aria-roledescription=\"rect mark\" d=\"M272,155.24999999999997h2.0571428571428783v2.250000000000057h-2.0571428571428783Z\" fill=\"#4c78a8\" fill-opacity=\"1\" stroke=\"#505050\" stroke-width=\"0\"/><path aria-label=\"x1: 119; x2: 119.9; level: 98; level2: 98.9; status: Default; sf: Array at boot.jl:476 [inlined]\" role=\"graphics-symbol\" aria-roledescription=\"rect mark\" d=\"M272,152.75h2.0571428571428783v2.2499999999999716h-2.0571428571428783Z\" fill=\"#4c78a8\" fill-opacity=\"1\" stroke=\"#505050\" stroke-width=\"0\"/><path aria-label=\"x1: 119; x2: 119.9; level: 99; level2: 99.9; status: Garbage collection; sf: Array at boot.jl:457 [inlined]\" role=\"graphics-symbol\" aria-roledescription=\"rect mark\" d=\"M272,150.25h2.0571428571428783v2.25h-2.0571428571428783Z\" fill=\"#f58518\" fill-opacity=\"1\" stroke=\"#505050\" stroke-width=\"0\"/><path aria-label=\"x1: 120; x2: 120.9; level: 93; level2: 93.9; status: Default; sf: run_passes(ci::Core.CodeInfo, nargs::Int64, sv::Core.Compiler.OptimizationState) at optimize.jl:311\" role=\"graphics-symbol\" aria-roledescription=\"rect mark\" d=\"M274.2857142857143,165.25h2.0571428571428783v2.2499999999999716h-2.0571428571428783Z\" fill=\"#4c78a8\" fill-opacity=\"1\" stroke=\"#505050\" stroke-width=\"0\"/><path aria-label=\"x1: 120; x2: 120.9; level: 94; level2: 94.9; status: Default; sf: getfield_elim_pass!(ir::Core.Compiler.IRCode) at passes.jl:709\" role=\"graphics-symbol\" aria-roledescription=\"rect mark\" d=\"M274.2857142857143,162.75h2.0571428571428783v2.25h-2.0571428571428783Z\" fill=\"#4c78a8\" fill-opacity=\"1\" stroke=\"#505050\" stroke-width=\"0\"/><path aria-label=\"x1: 120; x2: 120.9; level: 95; level2: 95.9; status: Default; sf: perform_lifting!(compact::Core.Compiler.IncrementalCompact, visited_phinodes::Vector{Any}, cache_key::Any, lifting_cache::Core.Compiler.IdDict{Pair{Union{Core.Compiler.NewSSAValue, Core.Compiler.OldSSAValue, Core.SSAValue}, Any}, Union{Core.Compiler.NewSSAValue, Core.Compiler.OldSSAValue, Core.SSAValue}}, result_t::Any, lifted_leaves::Core.Compiler.IdDict{Any, Any}, stmt_val::Any) at passes.jl:515\" role=\"graphics-symbol\" aria-roledescription=\"rect mark\" d=\"M274.2857142857143,160.25h2.0571428571428783v2.25h-2.0571428571428783Z\" fill=\"#4c78a8\" fill-opacity=\"1\" stroke=\"#505050\" stroke-width=\"0\"/><path aria-label=\"x1: 120; x2: 120.9; level: 96; level2: 96.9; status: Default; sf: in at iddict.jl:189 [inlined]\" role=\"graphics-symbol\" aria-roledescription=\"rect mark\" d=\"M274.2857142857143,157.74999999999997h2.0571428571428783v2.2500000000000284h-2.0571428571428783Z\" fill=\"#4c78a8\" fill-opacity=\"1\" stroke=\"#505050\" stroke-width=\"0\"/><path aria-label=\"x1: 120; x2: 120.9; level: 97; level2: 97.9; status: Default; sf: get at iddict.jl:102 [inlined]\" role=\"graphics-symbol\" aria-roledescription=\"rect mark\" d=\"M274.2857142857143,155.24999999999997h2.0571428571428783v2.250000000000057h-2.0571428571428783Z\" fill=\"#4c78a8\" fill-opacity=\"1\" stroke=\"#505050\" stroke-width=\"0\"/><path aria-label=\"x1: 121; x2: 121.9; level: 81; level2: 81.9; status: Default; sf: _typeinf(interp::Core.Compiler.NativeInterpreter, frame::Core.Compiler.InferenceState) at typeinfer.jl:255\" role=\"graphics-symbol\" aria-roledescription=\"rect mark\" d=\"M276.57142857142856,195.24999999999997h2.0571428571428783v2.2500000000000284h-2.0571428571428783Z\" fill=\"#4c78a8\" fill-opacity=\"1\" stroke=\"#505050\" stroke-width=\"0\"/><path aria-label=\"x1: 121; x2: 121.9; level: 82; level2: 82.9; status: Default; sf: optimize at optimize.jl:296 [inlined]\" role=\"graphics-symbol\" aria-roledescription=\"rect mark\" d=\"M276.57142857142856,192.74999999999997h2.0571428571428783v2.250000000000057h-2.0571428571428783Z\" fill=\"#4c78a8\" fill-opacity=\"1\" stroke=\"#505050\" stroke-width=\"0\"/><path aria-label=\"x1: 121; x2: 121.9; level: 83; level2: 83.9; status: Runtime dispatch; sf: run_passes(ci::Core.CodeInfo, nargs::Int64, sv::Core.Compiler.OptimizationState) at optimize.jl:307\" role=\"graphics-symbol\" aria-roledescription=\"rect mark\" d=\"M276.57142857142856,190.25h2.0571428571428783v2.2499999999999716h-2.0571428571428783Z\" fill=\"#e45756\" fill-opacity=\"1\" stroke=\"#505050\" stroke-width=\"0\"/><path aria-label=\"x1: 121; x2: 121.9; level: 84; level2: 84.9; status: Default; sf: ssa_inlining_pass!(ir::Core.Compiler.IRCode, linetable::Vector{Core.LineInfoNode}, state::Core.Compiler.InliningState{Core.Compiler.EdgeTracker, Core.Compiler.WorldView{Core.Compiler.InternalCodeCache}, typeof(Core.Compiler.default_inlining_policy)}, propagate_inbounds::Bool) at inlining.jl:83\" role=\"graphics-symbol\" aria-roledescription=\"rect mark\" d=\"M276.57142857142856,187.75h2.0571428571428783v2.25h-2.0571428571428783Z\" fill=\"#4c78a8\" fill-opacity=\"1\" stroke=\"#505050\" stroke-width=\"0\"/><path aria-label=\"x1: 121; x2: 121.9; level: 85; level2: 85.9; status: Default; sf: batch_inline!(todo::Vector{Pair{Int64, Any}}, ir::Core.Compiler.IRCode, linetable::Vector{Core.LineInfoNode}, propagate_inbounds::Bool) at inlining.jl:598\" role=\"graphics-symbol\" aria-roledescription=\"rect mark\" d=\"M276.57142857142856,185.25h2.0571428571428783v2.25h-2.0571428571428783Z\" fill=\"#4c78a8\" fill-opacity=\"1\" stroke=\"#505050\" stroke-width=\"0\"/><path aria-label=\"x1: 121; x2: 121.9; level: 86; level2: 86.9; status: Default; sf: setindex! at ir.jl:814 [inlined]\" role=\"graphics-symbol\" aria-roledescription=\"rect mark\" d=\"M276.57142857142856,182.74999999999997h2.0571428571428783v2.2500000000000284h-2.0571428571428783Z\" fill=\"#4c78a8\" fill-opacity=\"1\" stroke=\"#505050\" stroke-width=\"0\"/><path aria-label=\"x1: 121; x2: 121.9; level: 87; level2: 87.9; status: Default; sf: setindex!(compact::Core.Compiler.IncrementalCompact, v::Any, idx::Core.SSAValue) at ir.jl:801\" role=\"graphics-symbol\" aria-roledescription=\"rect mark\" d=\"M276.57142857142856,180.24999999999997h2.0571428571428783v2.250000000000057h-2.0571428571428783Z\" fill=\"#4c78a8\" fill-opacity=\"1\" stroke=\"#505050\" stroke-width=\"0\"/><path aria-label=\"x1: 121; x2: 121.9; level: 88; level2: 88.9; status: Default; sf: iterate(it::Core.Compiler.UseRefIterator, #unused#::Nothing) at ir.jl:470\" role=\"graphics-symbol\" aria-roledescription=\"rect mark\" d=\"M276.57142857142856,177.75h2.0571428571428783v2.2499999999999716h-2.0571428571428783Z\" fill=\"#4c78a8\" fill-opacity=\"1\" stroke=\"#505050\" stroke-width=\"0\"/><path aria-label=\"x1: 121; x2: 121.9; level: 89; level2: 89.9; status: Default; sf: getindex(x::Core.Compiler.UseRef) at ir.jl:362\" role=\"graphics-symbol\" aria-roledescription=\"rect mark\" d=\"M276.57142857142856,175.25h2.0571428571428783v2.25h-2.0571428571428783Z\" fill=\"#4c78a8\" fill-opacity=\"1\" stroke=\"#505050\" stroke-width=\"0\"/><path aria-label=\"x1: 122; x2: 124.9; level: 71; level2: 71.9; status: Default; sf: _typeinf(interp::Core.Compiler.NativeInterpreter, frame::Core.Compiler.InferenceState) at typeinfer.jl:255\" role=\"graphics-symbol\" aria-roledescription=\"rect mark\" d=\"M278.8571428571429,220.24999999999997h6.628571428571433v2.2500000000000284h-6.628571428571433Z\" fill=\"#4c78a8\" fill-opacity=\"1\" stroke=\"#505050\" stroke-width=\"0\"/><path aria-label=\"x1: 122; x2: 124.9; level: 72; level2: 72.9; status: Default; sf: optimize at optimize.jl:296 [inlined]\" role=\"graphics-symbol\" aria-roledescription=\"rect mark\" d=\"M278.8571428571429,217.74999999999997h6.628571428571433v2.250000000000057h-6.628571428571433Z\" fill=\"#4c78a8\" fill-opacity=\"1\" stroke=\"#505050\" stroke-width=\"0\"/><path aria-label=\"x1: 122; x2: 122.9; level: 73; level2: 73.9; status: Default; sf: run_passes(ci::Core.CodeInfo, nargs::Int64, sv::Core.Compiler.OptimizationState) at optimize.jl:303\" role=\"graphics-symbol\" aria-roledescription=\"rect mark\" d=\"M278.8571428571429,215.25h2.0571428571428214v2.2499999999999716h-2.0571428571428214Z\" fill=\"#4c78a8\" fill-opacity=\"1\" stroke=\"#505050\" stroke-width=\"0\"/><path aria-label=\"x1: 122; x2: 122.9; level: 74; level2: 74.9; status: Default; sf: slot2reg at optimize.jl:419 [inlined]\" role=\"graphics-symbol\" aria-roledescription=\"rect mark\" d=\"M278.8571428571429,212.75h2.0571428571428214v2.25h-2.0571428571428214Z\" fill=\"#4c78a8\" fill-opacity=\"1\" stroke=\"#505050\" stroke-width=\"0\"/><path aria-label=\"x1: 122; x2: 122.9; level: 75; level2: 75.9; status: Default; sf: construct_ssa!(ci::Core.CodeInfo, ir::Core.Compiler.IRCode, domtree::Core.Compiler.DomTree, defuses::Vector{Core.Compiler.SlotInfo}, nargs::Int64, slottypes::Vector{Any}) at slot2ssa.jl:751\" role=\"graphics-symbol\" aria-roledescription=\"rect mark\" d=\"M278.8571428571429,210.25h2.0571428571428214v2.25h-2.0571428571428214Z\" fill=\"#4c78a8\" fill-opacity=\"1\" stroke=\"#505050\" stroke-width=\"0\"/><path aria-label=\"x1: 122; x2: 122.9; level: 76; level2: 76.9; status: Default; sf: rename_uses! at slot2ssa.jl:173 [inlined]\" role=\"graphics-symbol\" aria-roledescription=\"rect mark\" d=\"M278.8571428571429,207.74999999999997h2.0571428571428214v2.2500000000000284h-2.0571428571428214Z\" fill=\"#4c78a8\" fill-opacity=\"1\" stroke=\"#505050\" stroke-width=\"0\"/><path aria-label=\"x1: 122; x2: 122.9; level: 77; level2: 77.9; status: Default; sf: fixemup!(cond::Core.Compiler.var&quot;#345#347&quot;, rename::Core.Compiler.var&quot;#346#348&quot;{Vector{Any}}, ir::Core.Compiler.IRCode, ci::Core.CodeInfo, idx::Int64, stmt::Any) at slot2ssa.jl:159\" role=\"graphics-symbol\" aria-roledescription=\"rect mark\" d=\"M278.8571428571429,205.24999999999997h2.0571428571428214v2.250000000000057h-2.0571428571428214Z\" fill=\"#4c78a8\" fill-opacity=\"1\" stroke=\"#505050\" stroke-width=\"0\"/><path aria-label=\"x1: 123; x2: 123.9; level: 73; level2: 73.9; status: Runtime dispatch; sf: run_passes(ci::Core.CodeInfo, nargs::Int64, sv::Core.Compiler.OptimizationState) at optimize.jl:307\" role=\"graphics-symbol\" aria-roledescription=\"rect mark\" d=\"M281.1428571428571,215.25h2.057142857142935v2.2499999999999716h-2.057142857142935Z\" fill=\"#e45756\" fill-opacity=\"1\" stroke=\"#505050\" stroke-width=\"0\"/><path aria-label=\"x1: 123; x2: 123.9; level: 74; level2: 74.9; status: Default; sf: ssa_inlining_pass!(ir::Core.Compiler.IRCode, linetable::Vector{Core.LineInfoNode}, state::Core.Compiler.InliningState{Core.Compiler.EdgeTracker, Core.Compiler.WorldView{Core.Compiler.InternalCodeCache}, typeof(Core.Compiler.default_inlining_policy)}, propagate_inbounds::Bool) at inlining.jl:80\" role=\"graphics-symbol\" aria-roledescription=\"rect mark\" d=\"M281.1428571428571,212.75h2.057142857142935v2.25h-2.057142857142935Z\" fill=\"#4c78a8\" fill-opacity=\"1\" stroke=\"#505050\" stroke-width=\"0\"/><path aria-label=\"x1: 123; x2: 123.9; level: 75; level2: 75.9; status: Default; sf: assemble_inline_todo!(ir::Core.Compiler.IRCode, state::Core.Compiler.InliningState{Core.Compiler.EdgeTracker, Core.Compiler.WorldView{Core.Compiler.InternalCodeCache}, typeof(Core.Compiler.default_inlining_policy)}) at inlining.jl:1358\" role=\"graphics-symbol\" aria-roledescription=\"rect mark\" d=\"M281.1428571428571,210.25h2.057142857142935v2.25h-2.057142857142935Z\" fill=\"#4c78a8\" fill-opacity=\"1\" stroke=\"#505050\" stroke-width=\"0\"/><path aria-label=\"x1: 123; x2: 123.9; level: 76; level2: 76.9; status: Default; sf: process_simple!(ir::Core.Compiler.IRCode, todo::Vector{Pair{Int64, Any}}, idx::Int64, state::Core.Compiler.InliningState{Core.Compiler.EdgeTracker, Core.Compiler.WorldView{Core.Compiler.InternalCodeCache}, typeof(Core.Compiler.default_inlining_policy)}) at inlining.jl:1192\" role=\"graphics-symbol\" aria-roledescription=\"rect mark\" d=\"M281.1428571428571,207.74999999999997h2.057142857142935v2.2500000000000284h-2.057142857142935Z\" fill=\"#4c78a8\" fill-opacity=\"1\" stroke=\"#505050\" stroke-width=\"0\"/><path aria-label=\"x1: 123; x2: 123.9; level: 77; level2: 77.9; status: Default; sf: with_atype at inlining.jl:20 [inlined]\" role=\"graphics-symbol\" aria-roledescription=\"rect mark\" d=\"M281.1428571428571,205.24999999999997h2.057142857142935v2.250000000000057h-2.057142857142935Z\" fill=\"#4c78a8\" fill-opacity=\"1\" stroke=\"#505050\" stroke-width=\"0\"/><path aria-label=\"x1: 123; x2: 123.9; level: 78; level2: 78.9; status: Default; sf: argtypes_to_type at typeutils.jl:53 [inlined]\" role=\"graphics-symbol\" aria-roledescription=\"rect mark\" d=\"M281.1428571428571,202.75h2.057142857142935v2.2499999999999716h-2.057142857142935Z\" fill=\"#4c78a8\" fill-opacity=\"1\" stroke=\"#505050\" stroke-width=\"0\"/><path aria-label=\"x1: 123; x2: 123.9; level: 79; level2: 79.9; status: Default; sf: anymap(f::Core.Compiler.var&quot;#251#252&quot;, a::Vector{Any}) at utilities.jl:39\" role=\"graphics-symbol\" aria-roledescription=\"rect mark\" d=\"M281.1428571428571,200.25h2.057142857142935v2.25h-2.057142857142935Z\" fill=\"#4c78a8\" fill-opacity=\"1\" stroke=\"#505050\" stroke-width=\"0\"/><path aria-label=\"x1: 123; x2: 123.9; level: 80; level2: 80.9; status: Runtime dispatch; sf: (::Core.Compiler.var&quot;#251#252&quot;)(a::Any) at typeutils.jl:53\" role=\"graphics-symbol\" aria-roledescription=\"rect mark\" d=\"M281.1428571428571,197.75h2.057142857142935v2.25h-2.057142857142935Z\" fill=\"#e45756\" fill-opacity=\"1\" stroke=\"#505050\" stroke-width=\"0\"/><path aria-label=\"x1: 123; x2: 123.9; level: 81; level2: 81.9; status: Default; sf: widenconst(c::Core.Const) at typelattice.jl:286\" role=\"graphics-symbol\" aria-roledescription=\"rect mark\" d=\"M281.1428571428571,195.24999999999997h2.057142857142935v2.2500000000000284h-2.057142857142935Z\" fill=\"#4c78a8\" fill-opacity=\"1\" stroke=\"#505050\" stroke-width=\"0\"/><path aria-label=\"x1: 124; x2: 124.9; level: 73; level2: 73.9; status: Default; sf: run_passes(ci::Core.CodeInfo, nargs::Int64, sv::Core.Compiler.OptimizationState) at optimize.jl:311\" role=\"graphics-symbol\" aria-roledescription=\"rect mark\" d=\"M283.4285714285714,215.25h2.057142857142935v2.2499999999999716h-2.057142857142935Z\" fill=\"#4c78a8\" fill-opacity=\"1\" stroke=\"#505050\" stroke-width=\"0\"/><path aria-label=\"x1: 124; x2: 124.9; level: 74; level2: 74.9; status: Default; sf: getfield_elim_pass!(ir::Core.Compiler.IRCode) at passes.jl:743\" role=\"graphics-symbol\" aria-roledescription=\"rect mark\" d=\"M283.4285714285714,212.75h2.057142857142935v2.25h-2.057142857142935Z\" fill=\"#4c78a8\" fill-opacity=\"1\" stroke=\"#505050\" stroke-width=\"0\"/><path aria-label=\"x1: 124; x2: 124.9; level: 75; level2: 75.9; status: Default; sf: construct_domtree(blocks::Vector{Core.Compiler.BasicBlock}) at domtree.jl:204\" role=\"graphics-symbol\" aria-roledescription=\"rect mark\" d=\"M283.4285714285714,210.25h2.057142857142935v2.25h-2.057142857142935Z\" fill=\"#4c78a8\" fill-opacity=\"1\" stroke=\"#505050\" stroke-width=\"0\"/><path aria-label=\"x1: 124; x2: 124.9; level: 76; level2: 76.9; status: Default; sf: DomTree at domtree.jl:200 [inlined]\" role=\"graphics-symbol\" aria-roledescription=\"rect mark\" d=\"M283.4285714285714,207.74999999999997h2.057142857142935v2.2500000000000284h-2.057142857142935Z\" fill=\"#4c78a8\" fill-opacity=\"1\" stroke=\"#505050\" stroke-width=\"0\"/><path aria-label=\"x1: 124; x2: 124.9; level: 77; level2: 77.9; status: Default; sf: Core.Compiler.DFSTree(n_blocks::Int64) at array.jl:0\" role=\"graphics-symbol\" aria-roledescription=\"rect mark\" d=\"M283.4285714285714,205.24999999999997h2.057142857142935v2.250000000000057h-2.057142857142935Z\" fill=\"#4c78a8\" fill-opacity=\"1\" stroke=\"#505050\" stroke-width=\"0\"/><path aria-label=\"x1: 125; x2: 125.9; level: 68; level2: 68.9; status: Default; sf: abstract_call_gf_by_type(interp::Core.Compiler.NativeInterpreter, f::Any, fargs::Vector{Any}, argtypes::Vector{Any}, atype::Any, sv::Core.Compiler.InferenceState, max_methods::Int64) at abstractinterpretation.jl:142\" role=\"graphics-symbol\" aria-roledescription=\"rect mark\" d=\"M285.7142857142857,227.75h2.0571428571428214v2.2499999999999716h-2.0571428571428214Z\" fill=\"#4c78a8\" fill-opacity=\"1\" stroke=\"#505050\" stroke-width=\"0\"/><path aria-label=\"x1: 125; x2: 125.9; level: 69; level2: 69.9; status: Default; sf: tmeet(v::Any, t::Any) at typelimits.jl:610\" role=\"graphics-symbol\" aria-roledescription=\"rect mark\" d=\"M285.7142857142857,225.25h2.0571428571428214v2.25h-2.0571428571428214Z\" fill=\"#4c78a8\" fill-opacity=\"1\" stroke=\"#505050\" stroke-width=\"0\"/><path aria-label=\"x1: 126; x2: 126.9; level: 63; level2: 63.9; status: Default; sf: typeinf_local(interp::Core.Compiler.NativeInterpreter, frame::Core.Compiler.InferenceState) at abstractinterpretation.jl:1956\" role=\"graphics-symbol\" aria-roledescription=\"rect mark\" d=\"M288,240.25h2.0571428571428783v2.2499999999999716h-2.0571428571428783Z\" fill=\"#4c78a8\" fill-opacity=\"1\" stroke=\"#505050\" stroke-width=\"0\"/><path aria-label=\"x1: 126; x2: 126.9; level: 64; level2: 64.9; status: Default; sf: stupdate! at typelattice.jl:393 [inlined]\" role=\"graphics-symbol\" aria-roledescription=\"rect mark\" d=\"M288,237.75h2.0571428571428783v2.25h-2.0571428571428783Z\" fill=\"#4c78a8\" fill-opacity=\"1\" stroke=\"#505050\" stroke-width=\"0\"/><path aria-label=\"x1: 126; x2: 126.9; level: 65; level2: 65.9; status: Default; sf: copy at array.jl:369 [inlined]\" role=\"graphics-symbol\" aria-roledescription=\"rect mark\" d=\"M288,235.25h2.0571428571428783v2.25h-2.0571428571428783Z\" fill=\"#4c78a8\" fill-opacity=\"1\" stroke=\"#505050\" stroke-width=\"0\"/><path aria-label=\"x1: 127; x2: 136.9; level: 61; level2: 61.9; status: Default; sf: _typeinf(interp::Core.Compiler.NativeInterpreter, frame::Core.Compiler.InferenceState) at typeinfer.jl:255\" role=\"graphics-symbol\" aria-roledescription=\"rect mark\" d=\"M290.2857142857143,245.25h22.62857142857149v2.25h-22.62857142857149Z\" fill=\"#4c78a8\" fill-opacity=\"1\" stroke=\"#505050\" stroke-width=\"0\"/><path aria-label=\"x1: 127; x2: 136.9; level: 62; level2: 62.9; status: Default; sf: optimize at optimize.jl:296 [inlined]\" role=\"graphics-symbol\" aria-roledescription=\"rect mark\" d=\"M290.2857142857143,242.75000000000003h22.62857142857149v2.25h-22.62857142857149Z\" fill=\"#4c78a8\" fill-opacity=\"1\" stroke=\"#505050\" stroke-width=\"0\"/><path aria-label=\"x1: 127; x2: 127.9; level: 63; level2: 63.9; status: Default; sf: run_passes(ci::Core.CodeInfo, nargs::Int64, sv::Core.Compiler.OptimizationState) at optimize.jl:303\" role=\"graphics-symbol\" aria-roledescription=\"rect mark\" d=\"M290.2857142857143,240.25h2.0571428571428783v2.2499999999999716h-2.0571428571428783Z\" fill=\"#4c78a8\" fill-opacity=\"1\" stroke=\"#505050\" stroke-width=\"0\"/><path aria-label=\"x1: 127; x2: 127.9; level: 64; level2: 64.9; status: Default; sf: slot2reg at optimize.jl:419 [inlined]\" role=\"graphics-symbol\" aria-roledescription=\"rect mark\" d=\"M290.2857142857143,237.75h2.0571428571428783v2.25h-2.0571428571428783Z\" fill=\"#4c78a8\" fill-opacity=\"1\" stroke=\"#505050\" stroke-width=\"0\"/><path aria-label=\"x1: 127; x2: 127.9; level: 65; level2: 65.9; status: Default; sf: construct_ssa!(ci::Core.CodeInfo, ir::Core.Compiler.IRCode, domtree::Core.Compiler.DomTree, defuses::Vector{Core.Compiler.SlotInfo}, nargs::Int64, slottypes::Vector{Any}) at slot2ssa.jl:896\" role=\"graphics-symbol\" aria-roledescription=\"rect mark\" d=\"M290.2857142857143,235.25h2.0571428571428783v2.25h-2.0571428571428783Z\" fill=\"#4c78a8\" fill-opacity=\"1\" stroke=\"#505050\" stroke-width=\"0\"/><path aria-label=\"x1: 127; x2: 127.9; level: 66; level2: 66.9; status: Default; sf: domsort_ssa!(ir::Core.Compiler.IRCode, domtree::Core.Compiler.DomTree) at slot2ssa.jl:496\" role=\"graphics-symbol\" aria-roledescription=\"rect mark\" d=\"M290.2857142857143,232.74999999999997h2.0571428571428783v2.2500000000000284h-2.0571428571428783Z\" fill=\"#4c78a8\" fill-opacity=\"1\" stroke=\"#505050\" stroke-width=\"0\"/><path aria-label=\"x1: 127; x2: 127.9; level: 67; level2: 67.9; status: Default; sf: renumber_ssa! at slot2ssa.jl:62 [inlined]\" role=\"graphics-symbol\" aria-roledescription=\"rect mark\" d=\"M290.2857142857143,230.24999999999997h2.0571428571428783v2.250000000000057h-2.0571428571428783Z\" fill=\"#4c78a8\" fill-opacity=\"1\" stroke=\"#505050\" stroke-width=\"0\"/><path aria-label=\"x1: 127; x2: 127.9; level: 68; level2: 68.9; status: Default; sf: ssamap(f::Core.Compiler.var&quot;#339#340&quot;{Vector{Core.SSAValue}, Bool}, stmt::Any) at ir.jl:508\" role=\"graphics-symbol\" aria-roledescription=\"rect mark\" d=\"M290.2857142857143,227.75h2.0571428571428783v2.2499999999999716h-2.0571428571428783Z\" fill=\"#4c78a8\" fill-opacity=\"1\" stroke=\"#505050\" stroke-width=\"0\"/><path aria-label=\"x1: 127; x2: 127.9; level: 69; level2: 69.9; status: Default; sf: iterate(it::Core.Compiler.UseRefIterator, #unused#::Nothing) at ir.jl:472\" role=\"graphics-symbol\" aria-roledescription=\"rect mark\" d=\"M290.2857142857143,225.25h2.0571428571428783v2.25h-2.0571428571428783Z\" fill=\"#4c78a8\" fill-opacity=\"1\" stroke=\"#505050\" stroke-width=\"0\"/><path aria-label=\"x1: 128; x2: 128.9; level: 63; level2: 63.9; status: Default; sf: run_passes(ci::Core.CodeInfo, nargs::Int64, sv::Core.Compiler.OptimizationState) at optimize.jl:306\" role=\"graphics-symbol\" aria-roledescription=\"rect mark\" d=\"M292.57142857142856,240.25h2.057142857142935v2.2499999999999716h-2.057142857142935Z\" fill=\"#4c78a8\" fill-opacity=\"1\" stroke=\"#505050\" stroke-width=\"0\"/><path aria-label=\"x1: 128; x2: 128.9; level: 64; level2: 64.9; status: Default; sf: compact! at ir.jl:1441 [inlined]\" role=\"graphics-symbol\" aria-roledescription=\"rect mark\" d=\"M292.57142857142856,237.75h2.057142857142935v2.25h-2.057142857142935Z\" fill=\"#4c78a8\" fill-opacity=\"1\" stroke=\"#505050\" stroke-width=\"0\"/><path aria-label=\"x1: 128; x2: 128.9; level: 65; level2: 65.9; status: Default; sf: compact!(code::Core.Compiler.IRCode, allow_cfg_transforms::Bool) at ir.jl:1443\" role=\"graphics-symbol\" aria-roledescription=\"rect mark\" d=\"M292.57142857142856,235.25h2.057142857142935v2.25h-2.057142857142935Z\" fill=\"#4c78a8\" fill-opacity=\"1\" stroke=\"#505050\" stroke-width=\"0\"/><path aria-label=\"x1: 128; x2: 128.9; level: 66; level2: 66.9; status: Default; sf: iterate at ir.jl:1237 [inlined]\" role=\"graphics-symbol\" aria-roledescription=\"rect mark\" d=\"M292.57142857142856,232.74999999999997h2.057142857142935v2.2500000000000284h-2.057142857142935Z\" fill=\"#4c78a8\" fill-opacity=\"1\" stroke=\"#505050\" stroke-width=\"0\"/><path aria-label=\"x1: 128; x2: 128.9; level: 67; level2: 67.9; status: Default; sf: iterate(compact::Core.Compiler.IncrementalCompact, ::Tuple{Int64, Int64}) at ir.jl:1243\" role=\"graphics-symbol\" aria-roledescription=\"rect mark\" d=\"M292.57142857142856,230.24999999999997h2.057142857142935v2.250000000000057h-2.057142857142935Z\" fill=\"#4c78a8\" fill-opacity=\"1\" stroke=\"#505050\" stroke-width=\"0\"/><path aria-label=\"x1: 128; x2: 128.9; level: 68; level2: 68.9; status: Default; sf: &lt; at int.jl:83 [inlined]\" role=\"graphics-symbol\" aria-roledescription=\"rect mark\" d=\"M292.57142857142856,227.75h2.057142857142935v2.2499999999999716h-2.057142857142935Z\" fill=\"#4c78a8\" fill-opacity=\"1\" stroke=\"#505050\" stroke-width=\"0\"/><path aria-label=\"x1: 129; x2: 133.9; level: 63; level2: 63.9; status: Runtime dispatch; sf: run_passes(ci::Core.CodeInfo, nargs::Int64, sv::Core.Compiler.OptimizationState) at optimize.jl:307\" role=\"graphics-symbol\" aria-roledescription=\"rect mark\" d=\"M294.85714285714283,240.25h11.199999999999989v2.2499999999999716h-11.199999999999989Z\" fill=\"#e45756\" fill-opacity=\"1\" stroke=\"#505050\" stroke-width=\"0\"/><path aria-label=\"x1: 129; x2: 131.9; level: 64; level2: 64.9; status: Default; sf: ssa_inlining_pass!(ir::Core.Compiler.IRCode, linetable::Vector{Core.LineInfoNode}, state::Core.Compiler.InliningState{Core.Compiler.EdgeTracker, Core.Compiler.WorldView{Core.Compiler.InternalCodeCache}, typeof(Core.Compiler.default_inlining_policy)}, propagate_inbounds::Bool) at inlining.jl:80\" role=\"graphics-symbol\" aria-roledescription=\"rect mark\" d=\"M294.85714285714283,237.75h6.62857142857149v2.25h-6.62857142857149Z\" fill=\"#4c78a8\" fill-opacity=\"1\" stroke=\"#505050\" stroke-width=\"0\"/><path aria-label=\"x1: 129; x2: 129.9; level: 65; level2: 65.9; status: Default; sf: assemble_inline_todo!(ir::Core.Compiler.IRCode, state::Core.Compiler.InliningState{Core.Compiler.EdgeTracker, Core.Compiler.WorldView{Core.Compiler.InternalCodeCache}, typeof(Core.Compiler.default_inlining_policy)}) at inlining.jl:1358\" role=\"graphics-symbol\" aria-roledescription=\"rect mark\" d=\"M294.85714285714283,235.25h2.0571428571428783v2.25h-2.0571428571428783Z\" fill=\"#4c78a8\" fill-opacity=\"1\" stroke=\"#505050\" stroke-width=\"0\"/><path aria-label=\"x1: 129; x2: 129.9; level: 66; level2: 66.9; status: Default; sf: process_simple!(ir::Core.Compiler.IRCode, todo::Vector{Pair{Int64, Any}}, idx::Int64, state::Core.Compiler.InliningState{Core.Compiler.EdgeTracker, Core.Compiler.WorldView{Core.Compiler.InternalCodeCache}, typeof(Core.Compiler.default_inlining_policy)}) at inlining.jl:1192\" role=\"graphics-symbol\" aria-roledescription=\"rect mark\" d=\"M294.85714285714283,232.74999999999997h2.0571428571428783v2.2500000000000284h-2.0571428571428783Z\" fill=\"#4c78a8\" fill-opacity=\"1\" stroke=\"#505050\" stroke-width=\"0\"/><path aria-label=\"x1: 129; x2: 129.9; level: 67; level2: 67.9; status: Default; sf: with_atype at inlining.jl:20 [inlined]\" role=\"graphics-symbol\" aria-roledescription=\"rect mark\" d=\"M294.85714285714283,230.24999999999997h2.0571428571428783v2.250000000000057h-2.0571428571428783Z\" fill=\"#4c78a8\" fill-opacity=\"1\" stroke=\"#505050\" stroke-width=\"0\"/><path aria-label=\"x1: 129; x2: 129.9; level: 68; level2: 68.9; status: Runtime dispatch; sf: argtypes_to_type at typeutils.jl:53 [inlined]\" role=\"graphics-symbol\" aria-roledescription=\"rect mark\" d=\"M294.85714285714283,227.75h2.0571428571428783v2.2499999999999716h-2.0571428571428783Z\" fill=\"#e45756\" fill-opacity=\"1\" stroke=\"#505050\" stroke-width=\"0\"/><path aria-label=\"x1: 130; x2: 130.9; level: 65; level2: 65.9; status: Default; sf: assemble_inline_todo!(ir::Core.Compiler.IRCode, state::Core.Compiler.InliningState{Core.Compiler.EdgeTracker, Core.Compiler.WorldView{Core.Compiler.InternalCodeCache}, typeof(Core.Compiler.default_inlining_policy)}) at inlining.jl:1389\" role=\"graphics-symbol\" aria-roledescription=\"rect mark\" d=\"M297.14285714285717,235.25h2.0571428571428214v2.25h-2.0571428571428214Z\" fill=\"#4c78a8\" fill-opacity=\"1\" stroke=\"#505050\" stroke-width=\"0\"/><path aria-label=\"x1: 130; x2: 130.9; level: 66; level2: 66.9; status: Default; sf: maybe_handle_const_call!(ir::Core.Compiler.IRCode, idx::Int64, stmt::Expr, ::Core.Compiler.ConstCallInfo, ::Core.Compiler.Signature, state::Core.Compiler.InliningState{Core.Compiler.EdgeTracker, Core.Compiler.WorldView{Core.Compiler.InternalCodeCache}, typeof(Core.Compiler.default_inlining_policy)}, isinvoke::Bool, todo::Vector{Pair{Int64, Any}}) at inlining.jl:1305\" role=\"graphics-symbol\" aria-roledescription=\"rect mark\" d=\"M297.14285714285717,232.74999999999997h2.0571428571428214v2.2500000000000284h-2.0571428571428214Z\" fill=\"#4c78a8\" fill-opacity=\"1\" stroke=\"#505050\" stroke-width=\"0\"/><path aria-label=\"x1: 130; x2: 130.9; level: 67; level2: 67.9; status: Runtime dispatch; sf: resolve_todo(todo::Core.Compiler.InliningTodo, state::Core.Compiler.InliningState{Core.Compiler.EdgeTracker, Core.Compiler.WorldView{Core.Compiler.InternalCodeCache}, typeof(Core.Compiler.default_inlining_policy)}) at inlining.jl:795\" role=\"graphics-symbol\" aria-roledescription=\"rect mark\" d=\"M297.14285714285717,230.24999999999997h2.0571428571428214v2.250000000000057h-2.0571428571428214Z\" fill=\"#e45756\" fill-opacity=\"1\" stroke=\"#505050\" stroke-width=\"0\"/><path aria-label=\"x1: 130; x2: 130.9; level: 68; level2: 68.9; status: Default; sf: Core.Compiler.InliningTodo(mi::Core.MethodInstance, src::Core.CodeInfo) at inlining.jl:864\" role=\"graphics-symbol\" aria-roledescription=\"rect mark\" d=\"M297.14285714285717,227.75h2.0571428571428214v2.2499999999999716h-2.0571428571428214Z\" fill=\"#4c78a8\" fill-opacity=\"1\" stroke=\"#505050\" stroke-width=\"0\"/><path aria-label=\"x1: 130; x2: 130.9; level: 69; level2: 69.9; status: Default; sf: inflate_ir(ci::Core.CodeInfo, linfo::Core.MethodInstance) at legacy.jl:10\" role=\"graphics-symbol\" aria-roledescription=\"rect mark\" d=\"M297.14285714285717,225.25h2.0571428571428214v2.25h-2.0571428571428214Z\" fill=\"#4c78a8\" fill-opacity=\"1\" stroke=\"#505050\" stroke-width=\"0\"/><path aria-label=\"x1: 130; x2: 130.9; level: 70; level2: 70.9; status: Default; sf: inflate_ir(ci::Core.CodeInfo, sptypes::Vector{Any}, argtypes::Vector{Any}) at legacy.jl:14\" role=\"graphics-symbol\" aria-roledescription=\"rect mark\" d=\"M297.14285714285717,222.75h2.0571428571428214v2.25h-2.0571428571428214Z\" fill=\"#4c78a8\" fill-opacity=\"1\" stroke=\"#505050\" stroke-width=\"0\"/><path aria-label=\"x1: 130; x2: 130.9; level: 71; level2: 71.9; status: Default; sf: copy_exprargs(x::Vector{Any}) at expr.jl:64\" role=\"graphics-symbol\" aria-roledescription=\"rect mark\" d=\"M297.14285714285717,220.24999999999997h2.0571428571428214v2.2500000000000284h-2.0571428571428214Z\" fill=\"#4c78a8\" fill-opacity=\"1\" stroke=\"#505050\" stroke-width=\"0\"/><path aria-label=\"x1: 130; x2: 130.9; level: 72; level2: 72.9; status: Default; sf: copy_exprs(x::Any) at expr.jl:42\" role=\"graphics-symbol\" aria-roledescription=\"rect mark\" d=\"M297.14285714285717,217.74999999999997h2.0571428571428214v2.250000000000057h-2.0571428571428214Z\" fill=\"#4c78a8\" fill-opacity=\"1\" stroke=\"#505050\" stroke-width=\"0\"/><path aria-label=\"x1: 130; x2: 130.9; level: 73; level2: 73.9; status: Default; sf: copy(e::Expr) at expr.jl:37\" role=\"graphics-symbol\" aria-roledescription=\"rect mark\" d=\"M297.14285714285717,215.25h2.0571428571428214v2.2499999999999716h-2.0571428571428214Z\" fill=\"#4c78a8\" fill-opacity=\"1\" stroke=\"#505050\" stroke-width=\"0\"/><path aria-label=\"x1: 130; x2: 130.9; level: 74; level2: 74.9; status: Default; sf: copy_exprargs(x::Vector{Any}) at expr.jl:64\" role=\"graphics-symbol\" aria-roledescription=\"rect mark\" d=\"M297.14285714285717,212.75h2.0571428571428214v2.25h-2.0571428571428214Z\" fill=\"#4c78a8\" fill-opacity=\"1\" stroke=\"#505050\" stroke-width=\"0\"/><path aria-label=\"x1: 130; x2: 130.9; level: 75; level2: 75.9; status: Default; sf: getindex at array.jl:861 [inlined]\" role=\"graphics-symbol\" aria-roledescription=\"rect mark\" d=\"M297.14285714285717,210.25h2.0571428571428214v2.25h-2.0571428571428214Z\" fill=\"#4c78a8\" fill-opacity=\"1\" stroke=\"#505050\" stroke-width=\"0\"/><path aria-label=\"x1: 131; x2: 131.9; level: 65; level2: 65.9; status: Default; sf: assemble_inline_todo!(ir::Core.Compiler.IRCode, state::Core.Compiler.InliningState{Core.Compiler.EdgeTracker, Core.Compiler.WorldView{Core.Compiler.InternalCodeCache}, typeof(Core.Compiler.default_inlining_policy)}) at inlining.jl:1419\" role=\"graphics-symbol\" aria-roledescription=\"rect mark\" d=\"M299.42857142857144,235.25h2.0571428571428783v2.25h-2.0571428571428783Z\" fill=\"#4c78a8\" fill-opacity=\"1\" stroke=\"#505050\" stroke-width=\"0\"/><path aria-label=\"x1: 131; x2: 131.9; level: 66; level2: 66.9; status: Default; sf: analyze_single_call!(ir::Core.Compiler.IRCode, todo::Vector{Pair{Int64, Any}}, idx::Int64, stmt::Any, ::Core.Compiler.Signature, infos::Vector{Core.Compiler.MethodMatchInfo}, state::Core.Compiler.InliningState{Core.Compiler.EdgeTracker, Core.Compiler.WorldView{Core.Compiler.InternalCodeCache}, typeof(Core.Compiler.default_inlining_policy)}) at inlining.jl:1238\" role=\"graphics-symbol\" aria-roledescription=\"rect mark\" d=\"M299.42857142857144,232.74999999999997h2.0571428571428783v2.2500000000000284h-2.0571428571428783Z\" fill=\"#4c78a8\" fill-opacity=\"1\" stroke=\"#505050\" stroke-width=\"0\"/><path aria-label=\"x1: 131; x2: 131.9; level: 67; level2: 67.9; status: Default; sf: analyze_method!(match::Core.MethodMatch, atypes::Vector{Any}, state::Core.Compiler.InliningState{Core.Compiler.EdgeTracker, Core.Compiler.WorldView{Core.Compiler.InternalCodeCache}, typeof(Core.Compiler.default_inlining_policy)}) at inlining.jl:851\" role=\"graphics-symbol\" aria-roledescription=\"rect mark\" d=\"M299.42857142857144,230.24999999999997h2.0571428571428783v2.250000000000057h-2.0571428571428783Z\" fill=\"#4c78a8\" fill-opacity=\"1\" stroke=\"#505050\" stroke-width=\"0\"/><path aria-label=\"x1: 131; x2: 131.9; level: 68; level2: 68.9; status: Runtime dispatch; sf: resolve_todo(todo::Core.Compiler.InliningTodo, state::Core.Compiler.InliningState{Core.Compiler.EdgeTracker, Core.Compiler.WorldView{Core.Compiler.InternalCodeCache}, typeof(Core.Compiler.default_inlining_policy)}) at inlining.jl:795\" role=\"graphics-symbol\" aria-roledescription=\"rect mark\" d=\"M299.42857142857144,227.75h2.0571428571428783v2.2499999999999716h-2.0571428571428783Z\" fill=\"#e45756\" fill-opacity=\"1\" stroke=\"#505050\" stroke-width=\"0\"/><path aria-label=\"x1: 131; x2: 131.9; level: 69; level2: 69.9; status: Default; sf: Core.Compiler.InliningTodo(mi::Core.MethodInstance, src::Vector{UInt8}) at inlining.jl:860\" role=\"graphics-symbol\" aria-roledescription=\"rect mark\" d=\"M299.42857142857144,225.25h2.0571428571428783v2.25h-2.0571428571428783Z\" fill=\"#4c78a8\" fill-opacity=\"1\" stroke=\"#505050\" stroke-width=\"0\"/><path aria-label=\"x1: 132; x2: 133.9; level: 64; level2: 64.9; status: Default; sf: ssa_inlining_pass!(ir::Core.Compiler.IRCode, linetable::Vector{Core.LineInfoNode}, state::Core.Compiler.InliningState{Core.Compiler.EdgeTracker, Core.Compiler.WorldView{Core.Compiler.InternalCodeCache}, typeof(Core.Compiler.default_inlining_policy)}, propagate_inbounds::Bool) at inlining.jl:83\" role=\"graphics-symbol\" aria-roledescription=\"rect mark\" d=\"M301.7142857142857,237.75h4.342857142857099v2.25h-4.342857142857099Z\" fill=\"#4c78a8\" fill-opacity=\"1\" stroke=\"#505050\" stroke-width=\"0\"/><path aria-label=\"x1: 132; x2: 133.9; level: 65; level2: 65.9; status: Default; sf: batch_inline!(todo::Vector{Pair{Int64, Any}}, ir::Core.Compiler.IRCode, linetable::Vector{Core.LineInfoNode}, propagate_inbounds::Bool) at inlining.jl:594\" role=\"graphics-symbol\" aria-roledescription=\"rect mark\" d=\"M301.7142857142857,235.25h4.342857142857099v2.25h-4.342857142857099Z\" fill=\"#4c78a8\" fill-opacity=\"1\" stroke=\"#505050\" stroke-width=\"0\"/><path aria-label=\"x1: 132; x2: 132.9; level: 66; level2: 66.9; status: Default; sf: ir_inline_item!(compact::Core.Compiler.IncrementalCompact, idx::Int64, argexprs::Vector{Any}, linetable::Vector{Core.LineInfoNode}, item::Core.Compiler.InliningTodo, boundscheck::Symbol, todo_bbs::Vector{Tuple{Int64, Int64}}) at inlining.jl:325\" role=\"graphics-symbol\" aria-roledescription=\"rect mark\" d=\"M301.7142857142857,232.74999999999997h2.0571428571428783v2.2500000000000284h-2.0571428571428783Z\" fill=\"#4c78a8\" fill-opacity=\"1\" stroke=\"#505050\" stroke-width=\"0\"/><path aria-label=\"x1: 132; x2: 132.9; level: 67; level2: 67.9; status: Default; sf: getindex at array.jl:861 [inlined]\" role=\"graphics-symbol\" aria-roledescription=\"rect mark\" d=\"M301.7142857142857,230.24999999999997h2.0571428571428783v2.250000000000057h-2.0571428571428783Z\" fill=\"#4c78a8\" fill-opacity=\"1\" stroke=\"#505050\" stroke-width=\"0\"/><path aria-label=\"x1: 133; x2: 133.9; level: 66; level2: 66.9; status: Default; sf: ir_inline_item!(compact::Core.Compiler.IncrementalCompact, idx::Int64, argexprs::Vector{Any}, linetable::Vector{Core.LineInfoNode}, item::Core.Compiler.InliningTodo, boundscheck::Symbol, todo_bbs::Vector{Tuple{Int64, Int64}}) at inlining.jl:431\" role=\"graphics-symbol\" aria-roledescription=\"rect mark\" d=\"M304,232.74999999999997h2.0571428571428214v2.2500000000000284h-2.0571428571428214Z\" fill=\"#4c78a8\" fill-opacity=\"1\" stroke=\"#505050\" stroke-width=\"0\"/><path aria-label=\"x1: 133; x2: 133.9; level: 67; level2: 67.9; status: Default; sf: iterate(compact::Core.Compiler.IncrementalCompact, ::Tuple{Int64, Int64}) at ir.jl:1294\" role=\"graphics-symbol\" aria-roledescription=\"rect mark\" d=\"M304,230.24999999999997h2.0571428571428214v2.250000000000057h-2.0571428571428214Z\" fill=\"#4c78a8\" fill-opacity=\"1\" stroke=\"#505050\" stroke-width=\"0\"/><path aria-label=\"x1: 133; x2: 133.9; level: 68; level2: 68.9; status: Default; sf: process_node!(compact::Core.Compiler.IncrementalCompact, result_idx::Int64, inst::Core.Compiler.Instruction, idx::Int64, processed_idx::Int64, active_bb::Int64, do_rename_ssa::Bool) at ir.jl:996\" role=\"graphics-symbol\" aria-roledescription=\"rect mark\" d=\"M304,227.75h2.0571428571428214v2.2499999999999716h-2.0571428571428214Z\" fill=\"#4c78a8\" fill-opacity=\"1\" stroke=\"#505050\" stroke-width=\"0\"/><path aria-label=\"x1: 134; x2: 134.9; level: 63; level2: 63.9; status: Default; sf: run_passes(ci::Core.CodeInfo, nargs::Int64, sv::Core.Compiler.OptimizationState) at optimize.jl:311\" role=\"graphics-symbol\" aria-roledescription=\"rect mark\" d=\"M306.2857142857143,240.25h2.0571428571428783v2.2499999999999716h-2.0571428571428783Z\" fill=\"#4c78a8\" fill-opacity=\"1\" stroke=\"#505050\" stroke-width=\"0\"/><path aria-label=\"x1: 134; x2: 134.9; level: 64; level2: 64.9; status: Default; sf: getfield_elim_pass!(ir::Core.Compiler.IRCode) at passes.jl:682\" role=\"graphics-symbol\" aria-roledescription=\"rect mark\" d=\"M306.2857142857143,237.75h2.0571428571428783v2.25h-2.0571428571428783Z\" fill=\"#4c78a8\" fill-opacity=\"1\" stroke=\"#505050\" stroke-width=\"0\"/><path aria-label=\"x1: 134; x2: 134.9; level: 65; level2: 65.9; status: Default; sf: getindex at array.jl:423 [inlined]\" role=\"graphics-symbol\" aria-roledescription=\"rect mark\" d=\"M306.2857142857143,235.25h2.0571428571428783v2.25h-2.0571428571428783Z\" fill=\"#4c78a8\" fill-opacity=\"1\" stroke=\"#505050\" stroke-width=\"0\"/><path aria-label=\"x1: 134; x2: 134.9; level: 66; level2: 66.9; status: Default; sf: Array at boot.jl:476 [inlined]\" role=\"graphics-symbol\" aria-roledescription=\"rect mark\" d=\"M306.2857142857143,232.74999999999997h2.0571428571428783v2.2500000000000284h-2.0571428571428783Z\" fill=\"#4c78a8\" fill-opacity=\"1\" stroke=\"#505050\" stroke-width=\"0\"/><path aria-label=\"x1: 134; x2: 134.9; level: 67; level2: 67.9; status: Default; sf: Array at boot.jl:457 [inlined]\" role=\"graphics-symbol\" aria-roledescription=\"rect mark\" d=\"M306.2857142857143,230.24999999999997h2.0571428571428783v2.250000000000057h-2.0571428571428783Z\" fill=\"#4c78a8\" fill-opacity=\"1\" stroke=\"#505050\" stroke-width=\"0\"/><path aria-label=\"x1: 135; x2: 135.9; level: 63; level2: 63.9; status: Default; sf: run_passes(ci::Core.CodeInfo, nargs::Int64, sv::Core.Compiler.OptimizationState) at optimize.jl:314\" role=\"graphics-symbol\" aria-roledescription=\"rect mark\" d=\"M308.5714285714286,240.25h2.0571428571428214v2.2499999999999716h-2.0571428571428214Z\" fill=\"#4c78a8\" fill-opacity=\"1\" stroke=\"#505050\" stroke-width=\"0\"/><path aria-label=\"x1: 135; x2: 135.9; level: 64; level2: 64.9; status: Default; sf: adce_pass!(ir::Core.Compiler.IRCode) at passes.jl:896\" role=\"graphics-symbol\" aria-roledescription=\"rect mark\" d=\"M308.5714285714286,237.75h2.0571428571428214v2.25h-2.0571428571428214Z\" fill=\"#4c78a8\" fill-opacity=\"1\" stroke=\"#505050\" stroke-width=\"0\"/><path aria-label=\"x1: 135; x2: 135.9; level: 65; level2: 65.9; status: Default; sf: fill at array.jl:471 [inlined]\" role=\"graphics-symbol\" aria-roledescription=\"rect mark\" d=\"M308.5714285714286,235.25h2.0571428571428214v2.25h-2.0571428571428214Z\" fill=\"#4c78a8\" fill-opacity=\"1\" stroke=\"#505050\" stroke-width=\"0\"/><path aria-label=\"x1: 135; x2: 135.9; level: 66; level2: 66.9; status: Default; sf: fill at array.jl:473 [inlined]\" role=\"graphics-symbol\" aria-roledescription=\"rect mark\" d=\"M308.5714285714286,232.74999999999997h2.0571428571428214v2.2500000000000284h-2.0571428571428214Z\" fill=\"#4c78a8\" fill-opacity=\"1\" stroke=\"#505050\" stroke-width=\"0\"/><path aria-label=\"x1: 135; x2: 135.9; level: 67; level2: 67.9; status: Default; sf: Array at boot.jl:466 [inlined]\" role=\"graphics-symbol\" aria-roledescription=\"rect mark\" d=\"M308.5714285714286,230.24999999999997h2.0571428571428214v2.250000000000057h-2.0571428571428214Z\" fill=\"#4c78a8\" fill-opacity=\"1\" stroke=\"#505050\" stroke-width=\"0\"/><path aria-label=\"x1: 135; x2: 135.9; level: 68; level2: 68.9; status: Garbage collection; sf: Array at boot.jl:457 [inlined]\" role=\"graphics-symbol\" aria-roledescription=\"rect mark\" d=\"M308.5714285714286,227.75h2.0571428571428214v2.2499999999999716h-2.0571428571428214Z\" fill=\"#f58518\" fill-opacity=\"1\" stroke=\"#505050\" stroke-width=\"0\"/><path aria-label=\"x1: 136; x2: 136.9; level: 63; level2: 63.9; status: Default; sf: run_passes(ci::Core.CodeInfo, nargs::Int64, sv::Core.Compiler.OptimizationState) at optimize.jl:317\" role=\"graphics-symbol\" aria-roledescription=\"rect mark\" d=\"M310.85714285714283,240.25h2.057142857142935v2.2499999999999716h-2.057142857142935Z\" fill=\"#4c78a8\" fill-opacity=\"1\" stroke=\"#505050\" stroke-width=\"0\"/><path aria-label=\"x1: 136; x2: 136.9; level: 64; level2: 64.9; status: Default; sf: compact! at ir.jl:1441 [inlined]\" role=\"graphics-symbol\" aria-roledescription=\"rect mark\" d=\"M310.85714285714283,237.75h2.057142857142935v2.25h-2.057142857142935Z\" fill=\"#4c78a8\" fill-opacity=\"1\" stroke=\"#505050\" stroke-width=\"0\"/><path aria-label=\"x1: 136; x2: 136.9; level: 65; level2: 65.9; status: Default; sf: compact!(code::Core.Compiler.IRCode, allow_cfg_transforms::Bool) at ir.jl:1441\" role=\"graphics-symbol\" aria-roledescription=\"rect mark\" d=\"M310.85714285714283,235.25h2.057142857142935v2.25h-2.057142857142935Z\" fill=\"#4c78a8\" fill-opacity=\"1\" stroke=\"#505050\" stroke-width=\"0\"/><path aria-label=\"x1: 136; x2: 136.9; level: 66; level2: 66.9; status: Default; sf: Core.Compiler.IncrementalCompact(code::Core.Compiler.IRCode, allow_cfg_transforms::Bool) at ir.jl:620\" role=\"graphics-symbol\" aria-roledescription=\"rect mark\" d=\"M310.85714285714283,232.74999999999997h2.057142857142935v2.2500000000000284h-2.057142857142935Z\" fill=\"#4c78a8\" fill-opacity=\"1\" stroke=\"#505050\" stroke-width=\"0\"/><path aria-label=\"x1: 136; x2: 136.9; level: 67; level2: 67.9; status: Default; sf: NewNodeStream at ir.jl:269 [inlined]\" role=\"graphics-symbol\" aria-roledescription=\"rect mark\" d=\"M310.85714285714283,230.24999999999997h2.057142857142935v2.250000000000057h-2.057142857142935Z\" fill=\"#4c78a8\" fill-opacity=\"1\" stroke=\"#505050\" stroke-width=\"0\"/><path aria-label=\"x1: 136; x2: 136.9; level: 68; level2: 68.9; status: Default; sf: NewNodeStream at ir.jl:269 [inlined]\" role=\"graphics-symbol\" aria-roledescription=\"rect mark\" d=\"M310.85714285714283,227.75h2.057142857142935v2.2499999999999716h-2.057142857142935Z\" fill=\"#4c78a8\" fill-opacity=\"1\" stroke=\"#505050\" stroke-width=\"0\"/><path aria-label=\"x1: 136; x2: 136.9; level: 69; level2: 69.9; status: Default; sf: Core.Compiler.InstructionStream(len::Int64) at ir.jl:195\" role=\"graphics-symbol\" aria-roledescription=\"rect mark\" d=\"M310.85714285714283,225.25h2.057142857142935v2.25h-2.057142857142935Z\" fill=\"#4c78a8\" fill-opacity=\"1\" stroke=\"#505050\" stroke-width=\"0\"/><path aria-label=\"x1: 136; x2: 136.9; level: 70; level2: 70.9; status: Default; sf: fill at array.jl:471 [inlined]\" role=\"graphics-symbol\" aria-roledescription=\"rect mark\" d=\"M310.85714285714283,222.75h2.057142857142935v2.25h-2.057142857142935Z\" fill=\"#4c78a8\" fill-opacity=\"1\" stroke=\"#505050\" stroke-width=\"0\"/><path aria-label=\"x1: 136; x2: 136.9; level: 71; level2: 71.9; status: Default; sf: fill at array.jl:473 [inlined]\" role=\"graphics-symbol\" aria-roledescription=\"rect mark\" d=\"M310.85714285714283,220.24999999999997h2.057142857142935v2.2500000000000284h-2.057142857142935Z\" fill=\"#4c78a8\" fill-opacity=\"1\" stroke=\"#505050\" stroke-width=\"0\"/><path aria-label=\"x1: 136; x2: 136.9; level: 72; level2: 72.9; status: Default; sf: Array at boot.jl:466 [inlined]\" role=\"graphics-symbol\" aria-roledescription=\"rect mark\" d=\"M310.85714285714283,217.74999999999997h2.057142857142935v2.250000000000057h-2.057142857142935Z\" fill=\"#4c78a8\" fill-opacity=\"1\" stroke=\"#505050\" stroke-width=\"0\"/><path aria-label=\"x1: 136; x2: 136.9; level: 73; level2: 73.9; status: Garbage collection; sf: Array at boot.jl:457 [inlined]\" role=\"graphics-symbol\" aria-roledescription=\"rect mark\" d=\"M310.85714285714283,215.25h2.057142857142935v2.2499999999999716h-2.057142857142935Z\" fill=\"#f58518\" fill-opacity=\"1\" stroke=\"#505050\" stroke-width=\"0\"/><path aria-label=\"x1: 137; x2: 138.9; level: 51; level2: 51.9; status: Default; sf: _typeinf(interp::Core.Compiler.NativeInterpreter, frame::Core.Compiler.InferenceState) at typeinfer.jl:255\" role=\"graphics-symbol\" aria-roledescription=\"rect mark\" d=\"M313.1428571428571,270.25h4.342857142857156v2.25h-4.342857142857156Z\" fill=\"#4c78a8\" fill-opacity=\"1\" stroke=\"#505050\" stroke-width=\"0\"/><path aria-label=\"x1: 137; x2: 138.9; level: 52; level2: 52.9; status: Default; sf: optimize at optimize.jl:296 [inlined]\" role=\"graphics-symbol\" aria-roledescription=\"rect mark\" d=\"M313.1428571428571,267.75h4.342857142857156v2.25h-4.342857142857156Z\" fill=\"#4c78a8\" fill-opacity=\"1\" stroke=\"#505050\" stroke-width=\"0\"/><path aria-label=\"x1: 137; x2: 137.9; level: 53; level2: 53.9; status: Default; sf: run_passes(ci::Core.CodeInfo, nargs::Int64, sv::Core.Compiler.OptimizationState) at optimize.jl:303\" role=\"graphics-symbol\" aria-roledescription=\"rect mark\" d=\"M313.1428571428571,265.25h2.0571428571428783v2.25h-2.0571428571428783Z\" fill=\"#4c78a8\" fill-opacity=\"1\" stroke=\"#505050\" stroke-width=\"0\"/><path aria-label=\"x1: 137; x2: 137.9; level: 54; level2: 54.9; status: Default; sf: slot2reg at optimize.jl:419 [inlined]\" role=\"graphics-symbol\" aria-roledescription=\"rect mark\" d=\"M313.1428571428571,262.75h2.0571428571428783v2.25h-2.0571428571428783Z\" fill=\"#4c78a8\" fill-opacity=\"1\" stroke=\"#505050\" stroke-width=\"0\"/><path aria-label=\"x1: 137; x2: 137.9; level: 55; level2: 55.9; status: Default; sf: construct_ssa!(ci::Core.CodeInfo, ir::Core.Compiler.IRCode, domtree::Core.Compiler.DomTree, defuses::Vector{Core.Compiler.SlotInfo}, nargs::Int64, slottypes::Vector{Any}) at slot2ssa.jl:0\" role=\"graphics-symbol\" aria-roledescription=\"rect mark\" d=\"M313.1428571428571,260.25h2.0571428571428783v2.25h-2.0571428571428783Z\" fill=\"#4c78a8\" fill-opacity=\"1\" stroke=\"#505050\" stroke-width=\"0\"/><path aria-label=\"x1: 138; x2: 138.9; level: 53; level2: 53.9; status: Default; sf: run_passes(ci::Core.CodeInfo, nargs::Int64, sv::Core.Compiler.OptimizationState) at optimize.jl:311\" role=\"graphics-symbol\" aria-roledescription=\"rect mark\" d=\"M315.42857142857144,265.25h2.0571428571428214v2.25h-2.0571428571428214Z\" fill=\"#4c78a8\" fill-opacity=\"1\" stroke=\"#505050\" stroke-width=\"0\"/><path aria-label=\"x1: 138; x2: 138.9; level: 54; level2: 54.9; status: Default; sf: getfield_elim_pass!(ir::Core.Compiler.IRCode) at passes.jl:556\" role=\"graphics-symbol\" aria-roledescription=\"rect mark\" d=\"M315.42857142857144,262.75h2.0571428571428214v2.25h-2.0571428571428214Z\" fill=\"#4c78a8\" fill-opacity=\"1\" stroke=\"#505050\" stroke-width=\"0\"/><path aria-label=\"x1: 138; x2: 138.9; level: 55; level2: 55.9; status: Default; sf: is_known_call(e::Expr, func::Any, src::Core.Compiler.IncrementalCompact) at queries.jl:101\" role=\"graphics-symbol\" aria-roledescription=\"rect mark\" d=\"M315.42857142857144,260.25h2.0571428571428214v2.25h-2.0571428571428214Z\" fill=\"#4c78a8\" fill-opacity=\"1\" stroke=\"#505050\" stroke-width=\"0\"/><path aria-label=\"x1: 138; x2: 138.9; level: 56; level2: 56.9; status: Default; sf: compact_exprtype at queries.jl:91 [inlined]\" role=\"graphics-symbol\" aria-roledescription=\"rect mark\" d=\"M315.42857142857144,257.75h2.0571428571428214v2.25h-2.0571428571428214Z\" fill=\"#4c78a8\" fill-opacity=\"1\" stroke=\"#505050\" stroke-width=\"0\"/><path aria-label=\"x1: 138; x2: 138.9; level: 57; level2: 57.9; status: Default; sf: argextype at utilities.jl:229 [inlined]\" role=\"graphics-symbol\" aria-roledescription=\"rect mark\" d=\"M315.42857142857144,255.25000000000003h2.0571428571428214v2.2499999999999716h-2.0571428571428214Z\" fill=\"#4c78a8\" fill-opacity=\"1\" stroke=\"#505050\" stroke-width=\"0\"/><path aria-label=\"x1: 138; x2: 138.9; level: 58; level2: 58.9; status: Default; sf: argextype(x::Any, src::Core.Compiler.IRCode, sptypes::Vector{Any}, slottypes::Vector{Any}) at utilities.jl:251\" role=\"graphics-symbol\" aria-roledescription=\"rect mark\" d=\"M315.42857142857144,252.75h2.0571428571428214v2.2499999999999716h-2.0571428571428214Z\" fill=\"#4c78a8\" fill-opacity=\"1\" stroke=\"#505050\" stroke-width=\"0\"/><path aria-label=\"x1: 138; x2: 138.9; level: 59; level2: 59.9; status: Default; sf: abstract_eval_global at abstractinterpretation.jl:1676 [inlined]\" role=\"graphics-symbol\" aria-roledescription=\"rect mark\" d=\"M315.42857142857144,250.25h2.0571428571428214v2.25h-2.0571428571428214Z\" fill=\"#4c78a8\" fill-opacity=\"1\" stroke=\"#505050\" stroke-width=\"0\"/><path aria-label=\"x1: 138; x2: 138.9; level: 60; level2: 60.9; status: Default; sf: isconst at reflection.jl:253 [inlined]\" role=\"graphics-symbol\" aria-roledescription=\"rect mark\" d=\"M315.42857142857144,247.75h2.0571428571428214v2.25h-2.0571428571428214Z\" fill=\"#4c78a8\" fill-opacity=\"1\" stroke=\"#505050\" stroke-width=\"0\"/><path aria-label=\"x1: 139; x2: 139.9; level: 48; level2: 48.9; status: Default; sf: abstract_call_gf_by_type(interp::Core.Compiler.NativeInterpreter, f::Any, fargs::Vector{Any}, argtypes::Vector{Any}, atype::Any, sv::Core.Compiler.InferenceState, max_methods::Int64) at abstractinterpretation.jl:116\" role=\"graphics-symbol\" aria-roledescription=\"rect mark\" d=\"M317.7142857142857,277.75h2.0571428571428783v2.25h-2.0571428571428783Z\" fill=\"#4c78a8\" fill-opacity=\"1\" stroke=\"#505050\" stroke-width=\"0\"/><path aria-label=\"x1: 139; x2: 139.9; level: 49; level2: 49.9; status: Default; sf: ⊑(a::Any, b::Any) at typelattice.jl:195\" role=\"graphics-symbol\" aria-roledescription=\"rect mark\" d=\"M317.7142857142857,275.25h2.0571428571428783v2.25h-2.0571428571428783Z\" fill=\"#4c78a8\" fill-opacity=\"1\" stroke=\"#505050\" stroke-width=\"0\"/><path aria-label=\"x1: 140; x2: 141.9; level: 41; level2: 41.9; status: Default; sf: _typeinf(interp::Core.Compiler.NativeInterpreter, frame::Core.Compiler.InferenceState) at typeinfer.jl:255\" role=\"graphics-symbol\" aria-roledescription=\"rect mark\" d=\"M320,295.25h4.342857142857156v2.25h-4.342857142857156Z\" fill=\"#4c78a8\" fill-opacity=\"1\" stroke=\"#505050\" stroke-width=\"0\"/><path aria-label=\"x1: 140; x2: 141.9; level: 42; level2: 42.9; status: Default; sf: optimize at optimize.jl:296 [inlined]\" role=\"graphics-symbol\" aria-roledescription=\"rect mark\" d=\"M320,292.75h4.342857142857156v2.25h-4.342857142857156Z\" fill=\"#4c78a8\" fill-opacity=\"1\" stroke=\"#505050\" stroke-width=\"0\"/><path aria-label=\"x1: 140; x2: 140.9; level: 43; level2: 43.9; status: Runtime dispatch; sf: run_passes(ci::Core.CodeInfo, nargs::Int64, sv::Core.Compiler.OptimizationState) at optimize.jl:307\" role=\"graphics-symbol\" aria-roledescription=\"rect mark\" d=\"M320,290.25h2.0571428571428783v2.25h-2.0571428571428783Z\" fill=\"#e45756\" fill-opacity=\"1\" stroke=\"#505050\" stroke-width=\"0\"/><path aria-label=\"x1: 140; x2: 140.9; level: 44; level2: 44.9; status: Default; sf: ssa_inlining_pass!(ir::Core.Compiler.IRCode, linetable::Vector{Core.LineInfoNode}, state::Core.Compiler.InliningState{Core.Compiler.EdgeTracker, Core.Compiler.WorldView{Core.Compiler.InternalCodeCache}, typeof(Core.Compiler.default_inlining_policy)}, propagate_inbounds::Bool) at inlining.jl:80\" role=\"graphics-symbol\" aria-roledescription=\"rect mark\" d=\"M320,287.75h2.0571428571428783v2.25h-2.0571428571428783Z\" fill=\"#4c78a8\" fill-opacity=\"1\" stroke=\"#505050\" stroke-width=\"0\"/><path aria-label=\"x1: 140; x2: 140.9; level: 45; level2: 45.9; status: Default; sf: assemble_inline_todo!(ir::Core.Compiler.IRCode, state::Core.Compiler.InliningState{Core.Compiler.EdgeTracker, Core.Compiler.WorldView{Core.Compiler.InternalCodeCache}, typeof(Core.Compiler.default_inlining_policy)}) at inlining.jl:1358\" role=\"graphics-symbol\" aria-roledescription=\"rect mark\" d=\"M320,285.25h2.0571428571428783v2.25h-2.0571428571428783Z\" fill=\"#4c78a8\" fill-opacity=\"1\" stroke=\"#505050\" stroke-width=\"0\"/><path aria-label=\"x1: 140; x2: 140.9; level: 46; level2: 46.9; status: Default; sf: process_simple!(ir::Core.Compiler.IRCode, todo::Vector{Pair{Int64, Any}}, idx::Int64, state::Core.Compiler.InliningState{Core.Compiler.EdgeTracker, Core.Compiler.WorldView{Core.Compiler.InternalCodeCache}, typeof(Core.Compiler.default_inlining_policy)}) at inlining.jl:1192\" role=\"graphics-symbol\" aria-roledescription=\"rect mark\" d=\"M320,282.75h2.0571428571428783v2.25h-2.0571428571428783Z\" fill=\"#4c78a8\" fill-opacity=\"1\" stroke=\"#505050\" stroke-width=\"0\"/><path aria-label=\"x1: 140; x2: 140.9; level: 47; level2: 47.9; status: Default; sf: with_atype at inlining.jl:20 [inlined]\" role=\"graphics-symbol\" aria-roledescription=\"rect mark\" d=\"M320,280.25h2.0571428571428783v2.25h-2.0571428571428783Z\" fill=\"#4c78a8\" fill-opacity=\"1\" stroke=\"#505050\" stroke-width=\"0\"/><path aria-label=\"x1: 140; x2: 140.9; level: 48; level2: 48.9; status: Default; sf: argtypes_to_type at typeutils.jl:53 [inlined]\" role=\"graphics-symbol\" aria-roledescription=\"rect mark\" d=\"M320,277.75h2.0571428571428783v2.25h-2.0571428571428783Z\" fill=\"#4c78a8\" fill-opacity=\"1\" stroke=\"#505050\" stroke-width=\"0\"/><path aria-label=\"x1: 140; x2: 140.9; level: 49; level2: 49.9; status: Default; sf: anymap(f::Core.Compiler.var&quot;#251#252&quot;, a::Vector{Any}) at utilities.jl:39\" role=\"graphics-symbol\" aria-roledescription=\"rect mark\" d=\"M320,275.25h2.0571428571428783v2.25h-2.0571428571428783Z\" fill=\"#4c78a8\" fill-opacity=\"1\" stroke=\"#505050\" stroke-width=\"0\"/><path aria-label=\"x1: 140; x2: 140.9; level: 50; level2: 50.9; status: Runtime dispatch; sf: (::Core.Compiler.var&quot;#251#252&quot;)(a::Any) at typeutils.jl:53\" role=\"graphics-symbol\" aria-roledescription=\"rect mark\" d=\"M320,272.75h2.0571428571428783v2.25h-2.0571428571428783Z\" fill=\"#e45756\" fill-opacity=\"1\" stroke=\"#505050\" stroke-width=\"0\"/><path aria-label=\"x1: 140; x2: 140.9; level: 51; level2: 51.9; status: Default; sf: widenconst(c::Core.Const) at typelattice.jl:286\" role=\"graphics-symbol\" aria-roledescription=\"rect mark\" d=\"M320,270.25h2.0571428571428783v2.25h-2.0571428571428783Z\" fill=\"#4c78a8\" fill-opacity=\"1\" stroke=\"#505050\" stroke-width=\"0\"/><path aria-label=\"x1: 141; x2: 141.9; level: 43; level2: 43.9; status: Default; sf: run_passes(ci::Core.CodeInfo, nargs::Int64, sv::Core.Compiler.OptimizationState) at optimize.jl:311\" role=\"graphics-symbol\" aria-roledescription=\"rect mark\" d=\"M322.2857142857143,290.25h2.0571428571428783v2.25h-2.0571428571428783Z\" fill=\"#4c78a8\" fill-opacity=\"1\" stroke=\"#505050\" stroke-width=\"0\"/><path aria-label=\"x1: 141; x2: 141.9; level: 44; level2: 44.9; status: Default; sf: getfield_elim_pass!(ir::Core.Compiler.IRCode) at passes.jl:526\" role=\"graphics-symbol\" aria-roledescription=\"rect mark\" d=\"M322.2857142857143,287.75h2.0571428571428783v2.25h-2.0571428571428783Z\" fill=\"#4c78a8\" fill-opacity=\"1\" stroke=\"#505050\" stroke-width=\"0\"/><path aria-label=\"x1: 141; x2: 141.9; level: 45; level2: 45.9; status: Default; sf: IncrementalCompact at ir.jl:575 [inlined]\" role=\"graphics-symbol\" aria-roledescription=\"rect mark\" d=\"M322.2857142857143,285.25h2.0571428571428783v2.25h-2.0571428571428783Z\" fill=\"#4c78a8\" fill-opacity=\"1\" stroke=\"#505050\" stroke-width=\"0\"/><path aria-label=\"x1: 141; x2: 141.9; level: 46; level2: 46.9; status: Default; sf: Core.Compiler.IncrementalCompact(code::Core.Compiler.IRCode, allow_cfg_transforms::Bool) at ir.jl:580\" role=\"graphics-symbol\" aria-roledescription=\"rect mark\" d=\"M322.2857142857143,282.75h2.0571428571428783v2.25h-2.0571428571428783Z\" fill=\"#4c78a8\" fill-opacity=\"1\" stroke=\"#505050\" stroke-width=\"0\"/><path aria-label=\"x1: 141; x2: 141.9; level: 47; level2: 47.9; status: Default; sf: fill at array.jl:471 [inlined]\" role=\"graphics-symbol\" aria-roledescription=\"rect mark\" d=\"M322.2857142857143,280.25h2.0571428571428783v2.25h-2.0571428571428783Z\" fill=\"#4c78a8\" fill-opacity=\"1\" stroke=\"#505050\" stroke-width=\"0\"/><path aria-label=\"x1: 141; x2: 141.9; level: 48; level2: 48.9; status: Default; sf: fill at array.jl:473 [inlined]\" role=\"graphics-symbol\" aria-roledescription=\"rect mark\" d=\"M322.2857142857143,277.75h2.0571428571428783v2.25h-2.0571428571428783Z\" fill=\"#4c78a8\" fill-opacity=\"1\" stroke=\"#505050\" stroke-width=\"0\"/><path aria-label=\"x1: 141; x2: 141.9; level: 49; level2: 49.9; status: Default; sf: fill! at array.jl:353 [inlined]\" role=\"graphics-symbol\" aria-roledescription=\"rect mark\" d=\"M322.2857142857143,275.25h2.0571428571428783v2.25h-2.0571428571428783Z\" fill=\"#4c78a8\" fill-opacity=\"1\" stroke=\"#505050\" stroke-width=\"0\"/><path aria-label=\"x1: 141; x2: 141.9; level: 50; level2: 50.9; status: Default; sf: setindex! at array.jl:903 [inlined]\" role=\"graphics-symbol\" aria-roledescription=\"rect mark\" d=\"M322.2857142857143,272.75h2.0571428571428783v2.25h-2.0571428571428783Z\" fill=\"#4c78a8\" fill-opacity=\"1\" stroke=\"#505050\" stroke-width=\"0\"/><path aria-label=\"x1: 142; x2: 146.9; level: 31; level2: 31.9; status: Default; sf: _typeinf(interp::Core.Compiler.NativeInterpreter, frame::Core.Compiler.InferenceState) at typeinfer.jl:255\" role=\"graphics-symbol\" aria-roledescription=\"rect mark\" d=\"M324.57142857142856,320.25h11.199999999999989v2.25h-11.199999999999989Z\" fill=\"#4c78a8\" fill-opacity=\"1\" stroke=\"#505050\" stroke-width=\"0\"/><path aria-label=\"x1: 142; x2: 146.9; level: 32; level2: 32.9; status: Default; sf: optimize at optimize.jl:296 [inlined]\" role=\"graphics-symbol\" aria-roledescription=\"rect mark\" d=\"M324.57142857142856,317.75h11.199999999999989v2.25h-11.199999999999989Z\" fill=\"#4c78a8\" fill-opacity=\"1\" stroke=\"#505050\" stroke-width=\"0\"/><path aria-label=\"x1: 142; x2: 144.9; level: 33; level2: 33.9; status: Runtime dispatch; sf: run_passes(ci::Core.CodeInfo, nargs::Int64, sv::Core.Compiler.OptimizationState) at optimize.jl:307\" role=\"graphics-symbol\" aria-roledescription=\"rect mark\" d=\"M324.57142857142856,315.25h6.62857142857149v2.25h-6.62857142857149Z\" fill=\"#e45756\" fill-opacity=\"1\" stroke=\"#505050\" stroke-width=\"0\"/><path aria-label=\"x1: 142; x2: 143.9; level: 34; level2: 34.9; status: Default; sf: ssa_inlining_pass!(ir::Core.Compiler.IRCode, linetable::Vector{Core.LineInfoNode}, state::Core.Compiler.InliningState{Core.Compiler.EdgeTracker, Core.Compiler.WorldView{Core.Compiler.InternalCodeCache}, typeof(Core.Compiler.default_inlining_policy)}, propagate_inbounds::Bool) at inlining.jl:80\" role=\"graphics-symbol\" aria-roledescription=\"rect mark\" d=\"M324.57142857142856,312.75h4.342857142857156v2.25h-4.342857142857156Z\" fill=\"#4c78a8\" fill-opacity=\"1\" stroke=\"#505050\" stroke-width=\"0\"/><path aria-label=\"x1: 142; x2: 142.9; level: 35; level2: 35.9; status: Default; sf: assemble_inline_todo!(ir::Core.Compiler.IRCode, state::Core.Compiler.InliningState{Core.Compiler.EdgeTracker, Core.Compiler.WorldView{Core.Compiler.InternalCodeCache}, typeof(Core.Compiler.default_inlining_policy)}) at inlining.jl:1358\" role=\"graphics-symbol\" aria-roledescription=\"rect mark\" d=\"M324.57142857142856,310.25h2.0571428571428783v2.25h-2.0571428571428783Z\" fill=\"#4c78a8\" fill-opacity=\"1\" stroke=\"#505050\" stroke-width=\"0\"/><path aria-label=\"x1: 142; x2: 142.9; level: 36; level2: 36.9; status: Default; sf: process_simple!(ir::Core.Compiler.IRCode, todo::Vector{Pair{Int64, Any}}, idx::Int64, state::Core.Compiler.InliningState{Core.Compiler.EdgeTracker, Core.Compiler.WorldView{Core.Compiler.InternalCodeCache}, typeof(Core.Compiler.default_inlining_policy)}) at inlining.jl:1192\" role=\"graphics-symbol\" aria-roledescription=\"rect mark\" d=\"M324.57142857142856,307.75h2.0571428571428783v2.25h-2.0571428571428783Z\" fill=\"#4c78a8\" fill-opacity=\"1\" stroke=\"#505050\" stroke-width=\"0\"/><path aria-label=\"x1: 142; x2: 142.9; level: 37; level2: 37.9; status: Default; sf: with_atype at inlining.jl:20 [inlined]\" role=\"graphics-symbol\" aria-roledescription=\"rect mark\" d=\"M324.57142857142856,305.25h2.0571428571428783v2.25h-2.0571428571428783Z\" fill=\"#4c78a8\" fill-opacity=\"1\" stroke=\"#505050\" stroke-width=\"0\"/><path aria-label=\"x1: 142; x2: 142.9; level: 38; level2: 38.9; status: Default; sf: argtypes_to_type at typeutils.jl:53 [inlined]\" role=\"graphics-symbol\" aria-roledescription=\"rect mark\" d=\"M324.57142857142856,302.75h2.0571428571428783v2.25h-2.0571428571428783Z\" fill=\"#4c78a8\" fill-opacity=\"1\" stroke=\"#505050\" stroke-width=\"0\"/><path aria-label=\"x1: 142; x2: 142.9; level: 39; level2: 39.9; status: Default; sf: anymap(f::Core.Compiler.var&quot;#251#252&quot;, a::Vector{Any}) at utilities.jl:39\" role=\"graphics-symbol\" aria-roledescription=\"rect mark\" d=\"M324.57142857142856,300.25h2.0571428571428783v2.25h-2.0571428571428783Z\" fill=\"#4c78a8\" fill-opacity=\"1\" stroke=\"#505050\" stroke-width=\"0\"/><path aria-label=\"x1: 142; x2: 142.9; level: 40; level2: 40.9; status: Runtime dispatch; sf: (::Core.Compiler.var&quot;#251#252&quot;)(a::Any) at typeutils.jl:53\" role=\"graphics-symbol\" aria-roledescription=\"rect mark\" d=\"M324.57142857142856,297.75h2.0571428571428783v2.25h-2.0571428571428783Z\" fill=\"#e45756\" fill-opacity=\"1\" stroke=\"#505050\" stroke-width=\"0\"/><path aria-label=\"x1: 142; x2: 142.9; level: 41; level2: 41.9; status: Default; sf: widenconst(c::Core.Const) at typelattice.jl:286\" role=\"graphics-symbol\" aria-roledescription=\"rect mark\" d=\"M324.57142857142856,295.25h2.0571428571428783v2.25h-2.0571428571428783Z\" fill=\"#4c78a8\" fill-opacity=\"1\" stroke=\"#505050\" stroke-width=\"0\"/><path aria-label=\"x1: 143; x2: 143.9; level: 35; level2: 35.9; status: Default; sf: assemble_inline_todo!(ir::Core.Compiler.IRCode, state::Core.Compiler.InliningState{Core.Compiler.EdgeTracker, Core.Compiler.WorldView{Core.Compiler.InternalCodeCache}, typeof(Core.Compiler.default_inlining_policy)}) at inlining.jl:1389\" role=\"graphics-symbol\" aria-roledescription=\"rect mark\" d=\"M326.8571428571429,310.25h2.0571428571428214v2.25h-2.0571428571428214Z\" fill=\"#4c78a8\" fill-opacity=\"1\" stroke=\"#505050\" stroke-width=\"0\"/><path aria-label=\"x1: 143; x2: 143.9; level: 36; level2: 36.9; status: Default; sf: maybe_handle_const_call!(ir::Core.Compiler.IRCode, idx::Int64, stmt::Expr, ::Core.Compiler.ConstCallInfo, ::Core.Compiler.Signature, state::Core.Compiler.InliningState{Core.Compiler.EdgeTracker, Core.Compiler.WorldView{Core.Compiler.InternalCodeCache}, typeof(Core.Compiler.default_inlining_policy)}, isinvoke::Bool, todo::Vector{Pair{Int64, Any}}) at inlining.jl:1305\" role=\"graphics-symbol\" aria-roledescription=\"rect mark\" d=\"M326.8571428571429,307.75h2.0571428571428214v2.25h-2.0571428571428214Z\" fill=\"#4c78a8\" fill-opacity=\"1\" stroke=\"#505050\" stroke-width=\"0\"/><path aria-label=\"x1: 143; x2: 143.9; level: 37; level2: 37.9; status: Runtime dispatch; sf: resolve_todo(todo::Core.Compiler.InliningTodo, state::Core.Compiler.InliningState{Core.Compiler.EdgeTracker, Core.Compiler.WorldView{Core.Compiler.InternalCodeCache}, typeof(Core.Compiler.default_inlining_policy)}) at inlining.jl:795\" role=\"graphics-symbol\" aria-roledescription=\"rect mark\" d=\"M326.8571428571429,305.25h2.0571428571428214v2.25h-2.0571428571428214Z\" fill=\"#e45756\" fill-opacity=\"1\" stroke=\"#505050\" stroke-width=\"0\"/><path aria-label=\"x1: 143; x2: 143.9; level: 38; level2: 38.9; status: Default; sf: Core.Compiler.InliningTodo(mi::Core.MethodInstance, src::Core.CodeInfo) at inlining.jl:864\" role=\"graphics-symbol\" aria-roledescription=\"rect mark\" d=\"M326.8571428571429,302.75h2.0571428571428214v2.25h-2.0571428571428214Z\" fill=\"#4c78a8\" fill-opacity=\"1\" stroke=\"#505050\" stroke-width=\"0\"/><path aria-label=\"x1: 143; x2: 143.9; level: 39; level2: 39.9; status: Default; sf: inflate_ir(ci::Core.CodeInfo, linfo::Core.MethodInstance) at legacy.jl:6\" role=\"graphics-symbol\" aria-roledescription=\"rect mark\" d=\"M326.8571428571429,300.25h2.0571428571428214v2.25h-2.0571428571428214Z\" fill=\"#4c78a8\" fill-opacity=\"1\" stroke=\"#505050\" stroke-width=\"0\"/><path aria-label=\"x1: 143; x2: 143.9; level: 40; level2: 40.9; status: Runtime dispatch; sf: matching_cache_argtypes(linfo::Core.MethodInstance, #unused#::Nothing, va_override::Bool) at inferenceresult.jl:152\" role=\"graphics-symbol\" aria-roledescription=\"rect mark\" d=\"M326.8571428571429,297.75h2.0571428571428214v2.25h-2.0571428571428214Z\" fill=\"#e45756\" fill-opacity=\"1\" stroke=\"#505050\" stroke-width=\"0\"/><path aria-label=\"x1: 143; x2: 143.9; level: 41; level2: 41.9; status: Default; sf: most_general_argtypes(method::Method, specTypes::Any, isva::Bool) at inferenceresult.jl:52\" role=\"graphics-symbol\" aria-roledescription=\"rect mark\" d=\"M326.8571428571429,295.25h2.0571428571428214v2.25h-2.0571428571428214Z\" fill=\"#4c78a8\" fill-opacity=\"1\" stroke=\"#505050\" stroke-width=\"0\"/><path aria-label=\"x1: 143; x2: 143.9; level: 42; level2: 42.9; status: Default; sf: most_general_argtypes(method::Method, specTypes::Any, isva::Bool, withfirst::Bool) at inferenceresult.jl:123\" role=\"graphics-symbol\" aria-roledescription=\"rect mark\" d=\"M326.8571428571429,292.75h2.0571428571428214v2.25h-2.0571428571428214Z\" fill=\"#4c78a8\" fill-opacity=\"1\" stroke=\"#505050\" stroke-width=\"0\"/><path aria-label=\"x1: 143; x2: 143.9; level: 43; level2: 43.9; status: Default; sf: rewrap(t::Any, u::Any) at typeutils.jl:8\" role=\"graphics-symbol\" aria-roledescription=\"rect mark\" d=\"M326.8571428571429,290.25h2.0571428571428214v2.25h-2.0571428571428214Z\" fill=\"#4c78a8\" fill-opacity=\"1\" stroke=\"#505050\" stroke-width=\"0\"/><path aria-label=\"x1: 144; x2: 144.9; level: 34; level2: 34.9; status: Default; sf: ssa_inlining_pass!(ir::Core.Compiler.IRCode, linetable::Vector{Core.LineInfoNode}, state::Core.Compiler.InliningState{Core.Compiler.EdgeTracker, Core.Compiler.WorldView{Core.Compiler.InternalCodeCache}, typeof(Core.Compiler.default_inlining_policy)}, propagate_inbounds::Bool) at inlining.jl:83\" role=\"graphics-symbol\" aria-roledescription=\"rect mark\" d=\"M329.1428571428571,312.75h2.057142857142935v2.25h-2.057142857142935Z\" fill=\"#4c78a8\" fill-opacity=\"1\" stroke=\"#505050\" stroke-width=\"0\"/><path aria-label=\"x1: 144; x2: 144.9; level: 35; level2: 35.9; status: Default; sf: batch_inline!(todo::Vector{Pair{Int64, Any}}, ir::Core.Compiler.IRCode, linetable::Vector{Core.LineInfoNode}, propagate_inbounds::Bool) at inlining.jl:589\" role=\"graphics-symbol\" aria-roledescription=\"rect mark\" d=\"M329.1428571428571,310.25h2.057142857142935v2.25h-2.057142857142935Z\" fill=\"#4c78a8\" fill-opacity=\"1\" stroke=\"#505050\" stroke-width=\"0\"/><path aria-label=\"x1: 144; x2: 144.9; level: 36; level2: 36.9; status: Runtime dispatch; sf: effect_free(inst::Core.Compiler.NewInstruction) at ir.jl:177\" role=\"graphics-symbol\" aria-roledescription=\"rect mark\" d=\"M329.1428571428571,307.75h2.057142857142935v2.25h-2.057142857142935Z\" fill=\"#e45756\" fill-opacity=\"1\" stroke=\"#505050\" stroke-width=\"0\"/><path aria-label=\"x1: 145; x2: 145.9; level: 33; level2: 33.9; status: Default; sf: run_passes(ci::Core.CodeInfo, nargs::Int64, sv::Core.Compiler.OptimizationState) at optimize.jl:311\" role=\"graphics-symbol\" aria-roledescription=\"rect mark\" d=\"M331.42857142857144,315.25h2.0571428571428783v2.25h-2.0571428571428783Z\" fill=\"#4c78a8\" fill-opacity=\"1\" stroke=\"#505050\" stroke-width=\"0\"/><path aria-label=\"x1: 145; x2: 145.9; level: 34; level2: 34.9; status: Default; sf: getfield_elim_pass!(ir::Core.Compiler.IRCode) at passes.jl:709\" role=\"graphics-symbol\" aria-roledescription=\"rect mark\" d=\"M331.42857142857144,312.75h2.0571428571428783v2.25h-2.0571428571428783Z\" fill=\"#4c78a8\" fill-opacity=\"1\" stroke=\"#505050\" stroke-width=\"0\"/><path aria-label=\"x1: 145; x2: 145.9; level: 35; level2: 35.9; status: Default; sf: perform_lifting!(compact::Core.Compiler.IncrementalCompact, visited_phinodes::Vector{Any}, cache_key::Any, lifting_cache::Core.Compiler.IdDict{Pair{Union{Core.Compiler.NewSSAValue, Core.Compiler.OldSSAValue, Core.SSAValue}, Any}, Union{Core.Compiler.NewSSAValue, Core.Compiler.OldSSAValue, Core.SSAValue}}, result_t::Any, lifted_leaves::Core.Compiler.IdDict{Any, Any}, stmt_val::Any) at passes.jl:512\" role=\"graphics-symbol\" aria-roledescription=\"rect mark\" d=\"M331.42857142857144,310.25h2.0571428571428783v2.25h-2.0571428571428783Z\" fill=\"#4c78a8\" fill-opacity=\"1\" stroke=\"#505050\" stroke-width=\"0\"/><path aria-label=\"x1: 145; x2: 145.9; level: 36; level2: 36.9; status: Default; sf: simple_walk(compact::Core.Compiler.IncrementalCompact, defssa::Any) at passes.jl:95\" role=\"graphics-symbol\" aria-roledescription=\"rect mark\" d=\"M331.42857142857144,307.75h2.0571428571428783v2.25h-2.0571428571428783Z\" fill=\"#4c78a8\" fill-opacity=\"1\" stroke=\"#505050\" stroke-width=\"0\"/><path aria-label=\"x1: 145; x2: 145.9; level: 37; level2: 37.9; status: Runtime dispatch; sf: simple_walk(compact::Core.Compiler.IncrementalCompact, defssa::Any, pi_callback::Core.Compiler.var&quot;#381#382&quot;) at passes.jl:106\" role=\"graphics-symbol\" aria-roledescription=\"rect mark\" d=\"M331.42857142857144,305.25h2.0571428571428783v2.25h-2.0571428571428783Z\" fill=\"#e45756\" fill-opacity=\"1\" stroke=\"#505050\" stroke-width=\"0\"/><path aria-label=\"x1: 146; x2: 146.9; level: 33; level2: 33.9; status: Default; sf: run_passes(ci::Core.CodeInfo, nargs::Int64, sv::Core.Compiler.OptimizationState) at optimize.jl:314\" role=\"graphics-symbol\" aria-roledescription=\"rect mark\" d=\"M333.7142857142857,315.25h2.0571428571428214v2.25h-2.0571428571428214Z\" fill=\"#4c78a8\" fill-opacity=\"1\" stroke=\"#505050\" stroke-width=\"0\"/><path aria-label=\"x1: 146; x2: 146.9; level: 34; level2: 34.9; status: Default; sf: adce_pass!(ir::Core.Compiler.IRCode) at passes.jl:899\" role=\"graphics-symbol\" aria-roledescription=\"rect mark\" d=\"M333.7142857142857,312.75h2.0571428571428214v2.25h-2.0571428571428214Z\" fill=\"#4c78a8\" fill-opacity=\"1\" stroke=\"#505050\" stroke-width=\"0\"/><path aria-label=\"x1: 146; x2: 146.9; level: 35; level2: 35.9; status: Default; sf: iterate at ir.jl:1237 [inlined]\" role=\"graphics-symbol\" aria-roledescription=\"rect mark\" d=\"M333.7142857142857,310.25h2.0571428571428214v2.25h-2.0571428571428214Z\" fill=\"#4c78a8\" fill-opacity=\"1\" stroke=\"#505050\" stroke-width=\"0\"/><path aria-label=\"x1: 146; x2: 146.9; level: 36; level2: 36.9; status: Default; sf: iterate(compact::Core.Compiler.IncrementalCompact, ::Tuple{Int64, Int64}) at ir.jl:1294\" role=\"graphics-symbol\" aria-roledescription=\"rect mark\" d=\"M333.7142857142857,307.75h2.0571428571428214v2.25h-2.0571428571428214Z\" fill=\"#4c78a8\" fill-opacity=\"1\" stroke=\"#505050\" stroke-width=\"0\"/><path aria-label=\"x1: 146; x2: 146.9; level: 37; level2: 37.9; status: Default; sf: process_node!(compact::Core.Compiler.IncrementalCompact, result_idx::Int64, inst::Core.Compiler.Instruction, idx::Int64, processed_idx::Int64, active_bb::Int64, do_rename_ssa::Bool) at ir.jl:1021\" role=\"graphics-symbol\" aria-roledescription=\"rect mark\" d=\"M333.7142857142857,305.25h2.0571428571428214v2.25h-2.0571428571428214Z\" fill=\"#4c78a8\" fill-opacity=\"1\" stroke=\"#505050\" stroke-width=\"0\"/><path aria-label=\"x1: 146; x2: 146.9; level: 38; level2: 38.9; status: Default; sf: renumber_ssa2!(stmt::Any, ssanums::Vector{Any}, used_ssas::Vector{Int64}, late_fixup::Vector{Int64}, result_idx::Int64, do_rename_ssa::Bool) at ir.jl:912\" role=\"graphics-symbol\" aria-roledescription=\"rect mark\" d=\"M333.7142857142857,302.75h2.0571428571428214v2.25h-2.0571428571428214Z\" fill=\"#4c78a8\" fill-opacity=\"1\" stroke=\"#505050\" stroke-width=\"0\"/><path aria-label=\"x1: 146; x2: 146.9; level: 39; level2: 39.9; status: Default; sf: iterate(it::Core.Compiler.UseRefIterator, #unused#::Nothing) at ir.jl:472\" role=\"graphics-symbol\" aria-roledescription=\"rect mark\" d=\"M333.7142857142857,300.25h2.0571428571428214v2.25h-2.0571428571428214Z\" fill=\"#4c78a8\" fill-opacity=\"1\" stroke=\"#505050\" stroke-width=\"0\"/><path aria-label=\"x1: 147; x2: 158.9; level: 23; level2: 23.9; status: Default; sf: typeinf_local(interp::Core.Compiler.NativeInterpreter, frame::Core.Compiler.InferenceState) at abstractinterpretation.jl:1918\" role=\"graphics-symbol\" aria-roledescription=\"rect mark\" d=\"M336,340.25h27.19999999999999v2.25h-27.19999999999999Z\" fill=\"#4c78a8\" fill-opacity=\"1\" stroke=\"#505050\" stroke-width=\"0\"/><path aria-label=\"x1: 147; x2: 158.9; level: 24; level2: 24.9; status: Default; sf: abstract_eval_statement(interp::Core.Compiler.NativeInterpreter, e::Any, vtypes::Vector{Any}, sv::Core.Compiler.InferenceState) at abstractinterpretation.jl:1534\" role=\"graphics-symbol\" aria-roledescription=\"rect mark\" d=\"M336,337.75h27.19999999999999v2.25h-27.19999999999999Z\" fill=\"#4c78a8\" fill-opacity=\"1\" stroke=\"#505050\" stroke-width=\"0\"/><path aria-label=\"x1: 147; x2: 158.9; level: 25; level2: 25.9; status: Default; sf: abstract_call(interp::Core.Compiler.NativeInterpreter, fargs::Vector{Any}, argtypes::Vector{Any}, sv::Core.Compiler.InferenceState) at abstractinterpretation.jl:1382\" role=\"graphics-symbol\" aria-roledescription=\"rect mark\" d=\"M336,335.25h27.19999999999999v2.25h-27.19999999999999Z\" fill=\"#4c78a8\" fill-opacity=\"1\" stroke=\"#505050\" stroke-width=\"0\"/><path aria-label=\"x1: 147; x2: 147.9; level: 26; level2: 26.9; status: Runtime dispatch; sf: abstract_call(interp::Core.Compiler.NativeInterpreter, fargs::Vector{Any}, argtypes::Vector{Any}, sv::Core.Compiler.InferenceState, max_methods::Int64) at abstractinterpretation.jl:1386\" role=\"graphics-symbol\" aria-roledescription=\"rect mark\" d=\"M336,332.75h2.0571428571428783v2.25h-2.0571428571428783Z\" fill=\"#e45756\" fill-opacity=\"1\" stroke=\"#505050\" stroke-width=\"0\"/><path aria-label=\"x1: 147; x2: 147.9; level: 27; level2: 27.9; status: Default; sf: widenconst(c::Core.Const) at typelattice.jl:286\" role=\"graphics-symbol\" aria-roledescription=\"rect mark\" d=\"M336,330.25h2.0571428571428783v2.25h-2.0571428571428783Z\" fill=\"#4c78a8\" fill-opacity=\"1\" stroke=\"#505050\" stroke-width=\"0\"/><path aria-label=\"x1: 148; x2: 158.9; level: 26; level2: 26.9; status: Default; sf: abstract_call(interp::Core.Compiler.NativeInterpreter, fargs::Vector{Any}, argtypes::Vector{Any}, sv::Core.Compiler.InferenceState, max_methods::Int64) at abstractinterpretation.jl:1397\" role=\"graphics-symbol\" aria-roledescription=\"rect mark\" d=\"M338.2857142857143,332.75h24.91428571428571v2.25h-24.91428571428571Z\" fill=\"#4c78a8\" fill-opacity=\"1\" stroke=\"#505050\" stroke-width=\"0\"/><path aria-label=\"x1: 148; x2: 148.9; level: 27; level2: 27.9; status: Default; sf: abstract_call_known(interp::Core.Compiler.NativeInterpreter, f::Any, fargs::Vector{Any}, argtypes::Vector{Any}, sv::Core.Compiler.InferenceState, max_methods::Int64) at abstractinterpretation.jl:1341\" role=\"graphics-symbol\" aria-roledescription=\"rect mark\" d=\"M338.2857142857143,330.25h2.0571428571428783v2.25h-2.0571428571428783Z\" fill=\"#4c78a8\" fill-opacity=\"1\" stroke=\"#505050\" stroke-width=\"0\"/><path aria-label=\"x1: 148; x2: 148.9; level: 28; level2: 28.9; status: Default; sf: argtypes_to_type at typeutils.jl:53 [inlined]\" role=\"graphics-symbol\" aria-roledescription=\"rect mark\" d=\"M338.2857142857143,327.75h2.0571428571428783v2.25h-2.0571428571428783Z\" fill=\"#4c78a8\" fill-opacity=\"1\" stroke=\"#505050\" stroke-width=\"0\"/><path aria-label=\"x1: 148; x2: 148.9; level: 29; level2: 29.9; status: Default; sf: anymap(f::Core.Compiler.var&quot;#251#252&quot;, a::Vector{Any}) at utilities.jl:39\" role=\"graphics-symbol\" aria-roledescription=\"rect mark\" d=\"M338.2857142857143,325.25h2.0571428571428783v2.25h-2.0571428571428783Z\" fill=\"#4c78a8\" fill-opacity=\"1\" stroke=\"#505050\" stroke-width=\"0\"/><path aria-label=\"x1: 148; x2: 148.9; level: 30; level2: 30.9; status: Runtime dispatch; sf: (::Core.Compiler.var&quot;#251#252&quot;)(a::Any) at typeutils.jl:53\" role=\"graphics-symbol\" aria-roledescription=\"rect mark\" d=\"M338.2857142857143,322.75h2.0571428571428783v2.25h-2.0571428571428783Z\" fill=\"#e45756\" fill-opacity=\"1\" stroke=\"#505050\" stroke-width=\"0\"/><path aria-label=\"x1: 148; x2: 148.9; level: 31; level2: 31.9; status: Default; sf: widenconst(c::Core.Const) at typelattice.jl:286\" role=\"graphics-symbol\" aria-roledescription=\"rect mark\" d=\"M338.2857142857143,320.25h2.0571428571428783v2.25h-2.0571428571428783Z\" fill=\"#4c78a8\" fill-opacity=\"1\" stroke=\"#505050\" stroke-width=\"0\"/><path aria-label=\"x1: 149; x2: 158.9; level: 27; level2: 27.9; status: Default; sf: abstract_call_known(interp::Core.Compiler.NativeInterpreter, f::Any, fargs::Vector{Any}, argtypes::Vector{Any}, sv::Core.Compiler.InferenceState, max_methods::Int64) at abstractinterpretation.jl:1342\" role=\"graphics-symbol\" aria-roledescription=\"rect mark\" d=\"M340.57142857142856,330.25h22.628571428571433v2.25h-22.628571428571433Z\" fill=\"#4c78a8\" fill-opacity=\"1\" stroke=\"#505050\" stroke-width=\"0\"/><path aria-label=\"x1: 149; x2: 149.9; level: 28; level2: 28.9; status: Default; sf: abstract_call_gf_by_type(interp::Core.Compiler.NativeInterpreter, f::Any, fargs::Vector{Any}, argtypes::Vector{Any}, atype::Any, sv::Core.Compiler.InferenceState, max_methods::Int64) at abstractinterpretation.jl:39\" role=\"graphics-symbol\" aria-roledescription=\"rect mark\" d=\"M340.57142857142856,327.75h2.0571428571428783v2.25h-2.0571428571428783Z\" fill=\"#4c78a8\" fill-opacity=\"1\" stroke=\"#505050\" stroke-width=\"0\"/><path aria-label=\"x1: 149; x2: 149.9; level: 29; level2: 29.9; status: Runtime dispatch; sf: find_matching_methods(argtypes::Vector{Any}, atype::Any, method_table::Core.Compiler.CachedMethodTable{Core.Compiler.InternalMethodTable}, union_split::Int64, max_methods::Int64) at abstractinterpretation.jl:308\" role=\"graphics-symbol\" aria-roledescription=\"rect mark\" d=\"M340.57142857142856,325.25h2.0571428571428783v2.25h-2.0571428571428783Z\" fill=\"#e45756\" fill-opacity=\"1\" stroke=\"#505050\" stroke-width=\"0\"/><path aria-label=\"x1: 149; x2: 149.9; level: 30; level2: 30.9; status: Default; sf: (::Core.Compiler.var&quot;#findall##kw&quot;)(::NamedTuple{(:limit,), Tuple{Int64}}, ::typeof(Core.Compiler.findall), sig::Type, table::Core.Compiler.CachedMethodTable{Core.Compiler.InternalMethodTable}) at methodtable.jl:95\" role=\"graphics-symbol\" aria-roledescription=\"rect mark\" d=\"M340.57142857142856,322.75h2.0571428571428783v2.25h-2.0571428571428783Z\" fill=\"#4c78a8\" fill-opacity=\"1\" stroke=\"#505050\" stroke-width=\"0\"/><path aria-label=\"x1: 149; x2: 149.9; level: 31; level2: 31.9; status: Default; sf: #findall#248 at methodtable.jl:96 [inlined]\" role=\"graphics-symbol\" aria-roledescription=\"rect mark\" d=\"M340.57142857142856,320.25h2.0571428571428783v2.25h-2.0571428571428783Z\" fill=\"#4c78a8\" fill-opacity=\"1\" stroke=\"#505050\" stroke-width=\"0\"/><path aria-label=\"x1: 149; x2: 149.9; level: 32; level2: 32.9; status: Default; sf: get! at iddict.jl:176 [inlined]\" role=\"graphics-symbol\" aria-roledescription=\"rect mark\" d=\"M340.57142857142856,317.75h2.0571428571428783v2.25h-2.0571428571428783Z\" fill=\"#4c78a8\" fill-opacity=\"1\" stroke=\"#505050\" stroke-width=\"0\"/><path aria-label=\"x1: 150; x2: 158.9; level: 28; level2: 28.9; status: Default; sf: abstract_call_gf_by_type(interp::Core.Compiler.NativeInterpreter, f::Any, fargs::Vector{Any}, argtypes::Vector{Any}, atype::Any, sv::Core.Compiler.InferenceState, max_methods::Int64) at abstractinterpretation.jl:113\" role=\"graphics-symbol\" aria-roledescription=\"rect mark\" d=\"M342.85714285714283,327.75h20.342857142857156v2.25h-20.342857142857156Z\" fill=\"#4c78a8\" fill-opacity=\"1\" stroke=\"#505050\" stroke-width=\"0\"/><path aria-label=\"x1: 150; x2: 150.9; level: 29; level2: 29.9; status: Default; sf: abstract_call_method_with_const_args(interp::Core.Compiler.NativeInterpreter, result::Core.Compiler.MethodCallResult, f::Any, argtypes::Vector{Any}, match::Core.MethodMatch, sv::Core.Compiler.InferenceState, va_override::Bool) at abstractinterpretation.jl:528\" role=\"graphics-symbol\" aria-roledescription=\"rect mark\" d=\"M342.85714285714283,325.25h2.0571428571428783v2.25h-2.0571428571428783Z\" fill=\"#4c78a8\" fill-opacity=\"1\" stroke=\"#505050\" stroke-width=\"0\"/><path aria-label=\"x1: 150; x2: 150.9; level: 30; level2: 30.9; status: Default; sf: maybe_get_const_prop_profitable(interp::Core.Compiler.NativeInterpreter, result::Core.Compiler.MethodCallResult, f::Any, argtypes::Vector{Any}, match::Core.MethodMatch, sv::Core.Compiler.InferenceState) at abstractinterpretation.jl:593\" role=\"graphics-symbol\" aria-roledescription=\"rect mark\" d=\"M342.85714285714283,322.75h2.0571428571428783v2.25h-2.0571428571428783Z\" fill=\"#4c78a8\" fill-opacity=\"1\" stroke=\"#505050\" stroke-width=\"0\"/><path aria-label=\"x1: 150; x2: 150.9; level: 31; level2: 31.9; status: Default; sf: specialize_method at utilities.jl:204 [inlined]\" role=\"graphics-symbol\" aria-roledescription=\"rect mark\" d=\"M342.85714285714283,320.25h2.0571428571428783v2.25h-2.0571428571428783Z\" fill=\"#4c78a8\" fill-opacity=\"1\" stroke=\"#505050\" stroke-width=\"0\"/><path aria-label=\"x1: 150; x2: 150.9; level: 32; level2: 32.9; status: Default; sf: specialize_method at utilities.jl:204 [inlined]\" role=\"graphics-symbol\" aria-roledescription=\"rect mark\" d=\"M342.85714285714283,317.75h2.0571428571428783v2.25h-2.0571428571428783Z\" fill=\"#4c78a8\" fill-opacity=\"1\" stroke=\"#505050\" stroke-width=\"0\"/><path aria-label=\"x1: 150; x2: 150.9; level: 33; level2: 33.9; status: Default; sf: specialize_method(method::Method, atypes::Any, sparams::Core.SimpleVector, preexisting::Bool, compilesig::Bool) at utilities.jl:200\" role=\"graphics-symbol\" aria-roledescription=\"rect mark\" d=\"M342.85714285714283,315.25h2.0571428571428783v2.25h-2.0571428571428783Z\" fill=\"#4c78a8\" fill-opacity=\"1\" stroke=\"#505050\" stroke-width=\"0\"/><path aria-label=\"x1: 151; x2: 158.9; level: 29; level2: 29.9; status: Default; sf: abstract_call_method_with_const_args(interp::Core.Compiler.NativeInterpreter, result::Core.Compiler.MethodCallResult, f::Any, argtypes::Vector{Any}, match::Core.MethodMatch, sv::Core.Compiler.InferenceState, va_override::Bool) at abstractinterpretation.jl:557\" role=\"graphics-symbol\" aria-roledescription=\"rect mark\" d=\"M345.14285714285717,325.25h18.05714285714282v2.25h-18.05714285714282Z\" fill=\"#4c78a8\" fill-opacity=\"1\" stroke=\"#505050\" stroke-width=\"0\"/><path aria-label=\"x1: 151; x2: 158.9; level: 30; level2: 30.9; status: Default; sf: typeinf(interp::Core.Compiler.NativeInterpreter, frame::Core.Compiler.InferenceState) at typeinfer.jl:209\" role=\"graphics-symbol\" aria-roledescription=\"rect mark\" d=\"M345.14285714285717,322.75h18.05714285714282v2.25h-18.05714285714282Z\" fill=\"#4c78a8\" fill-opacity=\"1\" stroke=\"#505050\" stroke-width=\"0\"/><path aria-label=\"x1: 151; x2: 154.9; level: 31; level2: 31.9; status: Default; sf: _typeinf(interp::Core.Compiler.NativeInterpreter, frame::Core.Compiler.InferenceState) at typeinfer.jl:226\" role=\"graphics-symbol\" aria-roledescription=\"rect mark\" d=\"M345.14285714285717,320.25h8.914285714285654v2.25h-8.914285714285654Z\" fill=\"#4c78a8\" fill-opacity=\"1\" stroke=\"#505050\" stroke-width=\"0\"/><path aria-label=\"x1: 151; x2: 154.9; level: 32; level2: 32.9; status: Default; sf: typeinf_nocycle(interp::Core.Compiler.NativeInterpreter, frame::Core.Compiler.InferenceState) at abstractinterpretation.jl:2014\" role=\"graphics-symbol\" aria-roledescription=\"rect mark\" d=\"M345.14285714285717,317.75h8.914285714285654v2.25h-8.914285714285654Z\" fill=\"#4c78a8\" fill-opacity=\"1\" stroke=\"#505050\" stroke-width=\"0\"/><path aria-label=\"x1: 151; x2: 154.9; level: 33; level2: 33.9; status: Default; sf: typeinf_local(interp::Core.Compiler.NativeInterpreter, frame::Core.Compiler.InferenceState) at abstractinterpretation.jl:1918\" role=\"graphics-symbol\" aria-roledescription=\"rect mark\" d=\"M345.14285714285717,315.25h8.914285714285654v2.25h-8.914285714285654Z\" fill=\"#4c78a8\" fill-opacity=\"1\" stroke=\"#505050\" stroke-width=\"0\"/><path aria-label=\"x1: 151; x2: 154.9; level: 34; level2: 34.9; status: Default; sf: abstract_eval_statement(interp::Core.Compiler.NativeInterpreter, e::Any, vtypes::Vector{Any}, sv::Core.Compiler.InferenceState) at abstractinterpretation.jl:1534\" role=\"graphics-symbol\" aria-roledescription=\"rect mark\" d=\"M345.14285714285717,312.75h8.914285714285654v2.25h-8.914285714285654Z\" fill=\"#4c78a8\" fill-opacity=\"1\" stroke=\"#505050\" stroke-width=\"0\"/><path aria-label=\"x1: 151; x2: 154.9; level: 35; level2: 35.9; status: Default; sf: abstract_call(interp::Core.Compiler.NativeInterpreter, fargs::Vector{Any}, argtypes::Vector{Any}, sv::Core.Compiler.InferenceState) at abstractinterpretation.jl:1382\" role=\"graphics-symbol\" aria-roledescription=\"rect mark\" d=\"M345.14285714285717,310.25h8.914285714285654v2.25h-8.914285714285654Z\" fill=\"#4c78a8\" fill-opacity=\"1\" stroke=\"#505050\" stroke-width=\"0\"/><path aria-label=\"x1: 151; x2: 154.9; level: 36; level2: 36.9; status: Default; sf: abstract_call(interp::Core.Compiler.NativeInterpreter, fargs::Vector{Any}, argtypes::Vector{Any}, sv::Core.Compiler.InferenceState, max_methods::Int64) at abstractinterpretation.jl:1397\" role=\"graphics-symbol\" aria-roledescription=\"rect mark\" d=\"M345.14285714285717,307.75h8.914285714285654v2.25h-8.914285714285654Z\" fill=\"#4c78a8\" fill-opacity=\"1\" stroke=\"#505050\" stroke-width=\"0\"/><path aria-label=\"x1: 151; x2: 154.9; level: 37; level2: 37.9; status: Default; sf: abstract_call_known(interp::Core.Compiler.NativeInterpreter, f::Any, fargs::Vector{Any}, argtypes::Vector{Any}, sv::Core.Compiler.InferenceState, max_methods::Int64) at abstractinterpretation.jl:1249\" role=\"graphics-symbol\" aria-roledescription=\"rect mark\" d=\"M345.14285714285717,305.25h8.914285714285654v2.25h-8.914285714285654Z\" fill=\"#4c78a8\" fill-opacity=\"1\" stroke=\"#505050\" stroke-width=\"0\"/><path aria-label=\"x1: 151; x2: 154.9; level: 38; level2: 38.9; status: Default; sf: abstract_apply(interp::Core.Compiler.NativeInterpreter, argtypes::Vector{Any}, sv::Core.Compiler.InferenceState, max_methods::Int64) at abstractinterpretation.jl:987\" role=\"graphics-symbol\" aria-roledescription=\"rect mark\" d=\"M345.14285714285717,302.75h8.914285714285654v2.25h-8.914285714285654Z\" fill=\"#4c78a8\" fill-opacity=\"1\" stroke=\"#505050\" stroke-width=\"0\"/><path aria-label=\"x1: 151; x2: 154.9; level: 39; level2: 39.9; status: Default; sf: abstract_call(interp::Core.Compiler.NativeInterpreter, fargs::Nothing, argtypes::Vector{Any}, sv::Core.Compiler.InferenceState, max_methods::Int64) at abstractinterpretation.jl:1397\" role=\"graphics-symbol\" aria-roledescription=\"rect mark\" d=\"M345.14285714285717,300.25h8.914285714285654v2.25h-8.914285714285654Z\" fill=\"#4c78a8\" fill-opacity=\"1\" stroke=\"#505050\" stroke-width=\"0\"/><path aria-label=\"x1: 151; x2: 154.9; level: 40; level2: 40.9; status: Default; sf: abstract_call_known(interp::Core.Compiler.NativeInterpreter, f::Any, fargs::Nothing, argtypes::Vector{Any}, sv::Core.Compiler.InferenceState, max_methods::Int64) at abstractinterpretation.jl:1342\" role=\"graphics-symbol\" aria-roledescription=\"rect mark\" d=\"M345.14285714285717,297.75h8.914285714285654v2.25h-8.914285714285654Z\" fill=\"#4c78a8\" fill-opacity=\"1\" stroke=\"#505050\" stroke-width=\"0\"/><path aria-label=\"x1: 151; x2: 154.9; level: 41; level2: 41.9; status: Default; sf: abstract_call_gf_by_type(interp::Core.Compiler.NativeInterpreter, f::Any, fargs::Nothing, argtypes::Vector{Any}, atype::Any, sv::Core.Compiler.InferenceState, max_methods::Int64) at abstractinterpretation.jl:113\" role=\"graphics-symbol\" aria-roledescription=\"rect mark\" d=\"M345.14285714285717,295.25h8.914285714285654v2.25h-8.914285714285654Z\" fill=\"#4c78a8\" fill-opacity=\"1\" stroke=\"#505050\" stroke-width=\"0\"/><path aria-label=\"x1: 151; x2: 154.9; level: 42; level2: 42.9; status: Default; sf: abstract_call_method_with_const_args(interp::Core.Compiler.NativeInterpreter, result::Core.Compiler.MethodCallResult, f::Any, argtypes::Vector{Any}, match::Core.MethodMatch, sv::Core.Compiler.InferenceState, va_override::Bool) at abstractinterpretation.jl:557\" role=\"graphics-symbol\" aria-roledescription=\"rect mark\" d=\"M345.14285714285717,292.75h8.914285714285654v2.25h-8.914285714285654Z\" fill=\"#4c78a8\" fill-opacity=\"1\" stroke=\"#505050\" stroke-width=\"0\"/><path aria-label=\"x1: 151; x2: 154.9; level: 43; level2: 43.9; status: Default; sf: typeinf(interp::Core.Compiler.NativeInterpreter, frame::Core.Compiler.InferenceState) at typeinfer.jl:209\" role=\"graphics-symbol\" aria-roledescription=\"rect mark\" d=\"M345.14285714285717,290.25h8.914285714285654v2.25h-8.914285714285654Z\" fill=\"#4c78a8\" fill-opacity=\"1\" stroke=\"#505050\" stroke-width=\"0\"/><path aria-label=\"x1: 151; x2: 154.9; level: 44; level2: 44.9; status: Default; sf: _typeinf(interp::Core.Compiler.NativeInterpreter, frame::Core.Compiler.InferenceState) at typeinfer.jl:226\" role=\"graphics-symbol\" aria-roledescription=\"rect mark\" d=\"M345.14285714285717,287.75h8.914285714285654v2.25h-8.914285714285654Z\" fill=\"#4c78a8\" fill-opacity=\"1\" stroke=\"#505050\" stroke-width=\"0\"/><path aria-label=\"x1: 151; x2: 154.9; level: 45; level2: 45.9; status: Default; sf: typeinf_nocycle(interp::Core.Compiler.NativeInterpreter, frame::Core.Compiler.InferenceState) at abstractinterpretation.jl:2014\" role=\"graphics-symbol\" aria-roledescription=\"rect mark\" d=\"M345.14285714285717,285.25h8.914285714285654v2.25h-8.914285714285654Z\" fill=\"#4c78a8\" fill-opacity=\"1\" stroke=\"#505050\" stroke-width=\"0\"/><path aria-label=\"x1: 151; x2: 154.9; level: 46; level2: 46.9; status: Default; sf: typeinf_local(interp::Core.Compiler.NativeInterpreter, frame::Core.Compiler.InferenceState) at abstractinterpretation.jl:1918\" role=\"graphics-symbol\" aria-roledescription=\"rect mark\" d=\"M345.14285714285717,282.75h8.914285714285654v2.25h-8.914285714285654Z\" fill=\"#4c78a8\" fill-opacity=\"1\" stroke=\"#505050\" stroke-width=\"0\"/><path aria-label=\"x1: 151; x2: 154.9; level: 47; level2: 47.9; status: Default; sf: abstract_eval_statement(interp::Core.Compiler.NativeInterpreter, e::Any, vtypes::Vector{Any}, sv::Core.Compiler.InferenceState) at abstractinterpretation.jl:1534\" role=\"graphics-symbol\" aria-roledescription=\"rect mark\" d=\"M345.14285714285717,280.25h8.914285714285654v2.25h-8.914285714285654Z\" fill=\"#4c78a8\" fill-opacity=\"1\" stroke=\"#505050\" stroke-width=\"0\"/><path aria-label=\"x1: 151; x2: 154.9; level: 48; level2: 48.9; status: Default; sf: abstract_call(interp::Core.Compiler.NativeInterpreter, fargs::Vector{Any}, argtypes::Vector{Any}, sv::Core.Compiler.InferenceState) at abstractinterpretation.jl:1382\" role=\"graphics-symbol\" aria-roledescription=\"rect mark\" d=\"M345.14285714285717,277.75h8.914285714285654v2.25h-8.914285714285654Z\" fill=\"#4c78a8\" fill-opacity=\"1\" stroke=\"#505050\" stroke-width=\"0\"/><path aria-label=\"x1: 151; x2: 154.9; level: 49; level2: 49.9; status: Default; sf: abstract_call(interp::Core.Compiler.NativeInterpreter, fargs::Vector{Any}, argtypes::Vector{Any}, sv::Core.Compiler.InferenceState, max_methods::Int64) at abstractinterpretation.jl:1397\" role=\"graphics-symbol\" aria-roledescription=\"rect mark\" d=\"M345.14285714285717,275.25h8.914285714285654v2.25h-8.914285714285654Z\" fill=\"#4c78a8\" fill-opacity=\"1\" stroke=\"#505050\" stroke-width=\"0\"/><path aria-label=\"x1: 151; x2: 151.9; level: 50; level2: 50.9; status: Default; sf: abstract_call_known(interp::Core.Compiler.NativeInterpreter, f::Any, fargs::Vector{Any}, argtypes::Vector{Any}, sv::Core.Compiler.InferenceState, max_methods::Int64) at abstractinterpretation.jl:1341\" role=\"graphics-symbol\" aria-roledescription=\"rect mark\" d=\"M345.14285714285717,272.75h2.0571428571428214v2.25h-2.0571428571428214Z\" fill=\"#4c78a8\" fill-opacity=\"1\" stroke=\"#505050\" stroke-width=\"0\"/><path aria-label=\"x1: 151; x2: 151.9; level: 51; level2: 51.9; status: Default; sf: argtypes_to_type at typeutils.jl:53 [inlined]\" role=\"graphics-symbol\" aria-roledescription=\"rect mark\" d=\"M345.14285714285717,270.25h2.0571428571428214v2.25h-2.0571428571428214Z\" fill=\"#4c78a8\" fill-opacity=\"1\" stroke=\"#505050\" stroke-width=\"0\"/><path aria-label=\"x1: 151; x2: 151.9; level: 52; level2: 52.9; status: Default; sf: anymap(f::Core.Compiler.var&quot;#251#252&quot;, a::Vector{Any}) at utilities.jl:39\" role=\"graphics-symbol\" aria-roledescription=\"rect mark\" d=\"M345.14285714285717,267.75h2.0571428571428214v2.25h-2.0571428571428214Z\" fill=\"#4c78a8\" fill-opacity=\"1\" stroke=\"#505050\" stroke-width=\"0\"/><path aria-label=\"x1: 151; x2: 151.9; level: 53; level2: 53.9; status: Runtime dispatch; sf: (::Core.Compiler.var&quot;#251#252&quot;)(a::Any) at typeutils.jl:53\" role=\"graphics-symbol\" aria-roledescription=\"rect mark\" d=\"M345.14285714285717,265.25h2.0571428571428214v2.25h-2.0571428571428214Z\" fill=\"#e45756\" fill-opacity=\"1\" stroke=\"#505050\" stroke-width=\"0\"/><path aria-label=\"x1: 151; x2: 151.9; level: 54; level2: 54.9; status: Default; sf: widenconst(c::Core.Const) at typelattice.jl:286\" role=\"graphics-symbol\" aria-roledescription=\"rect mark\" d=\"M345.14285714285717,262.75h2.0571428571428214v2.25h-2.0571428571428214Z\" fill=\"#4c78a8\" fill-opacity=\"1\" stroke=\"#505050\" stroke-width=\"0\"/><path aria-label=\"x1: 152; x2: 154.9; level: 50; level2: 50.9; status: Default; sf: abstract_call_known(interp::Core.Compiler.NativeInterpreter, f::Any, fargs::Vector{Any}, argtypes::Vector{Any}, sv::Core.Compiler.InferenceState, max_methods::Int64) at abstractinterpretation.jl:1342\" role=\"graphics-symbol\" aria-roledescription=\"rect mark\" d=\"M347.42857142857144,272.75h6.628571428571377v2.25h-6.628571428571377Z\" fill=\"#4c78a8\" fill-opacity=\"1\" stroke=\"#505050\" stroke-width=\"0\"/><path aria-label=\"x1: 152; x2: 154.9; level: 51; level2: 51.9; status: Default; sf: abstract_call_gf_by_type(interp::Core.Compiler.NativeInterpreter, f::Any, fargs::Vector{Any}, argtypes::Vector{Any}, atype::Any, sv::Core.Compiler.InferenceState, max_methods::Int64) at abstractinterpretation.jl:113\" role=\"graphics-symbol\" aria-roledescription=\"rect mark\" d=\"M347.42857142857144,270.25h6.628571428571377v2.25h-6.628571428571377Z\" fill=\"#4c78a8\" fill-opacity=\"1\" stroke=\"#505050\" stroke-width=\"0\"/><path aria-label=\"x1: 152; x2: 154.9; level: 52; level2: 52.9; status: Default; sf: abstract_call_method_with_const_args(interp::Core.Compiler.NativeInterpreter, result::Core.Compiler.MethodCallResult, f::Any, argtypes::Vector{Any}, match::Core.MethodMatch, sv::Core.Compiler.InferenceState, va_override::Bool) at abstractinterpretation.jl:557\" role=\"graphics-symbol\" aria-roledescription=\"rect mark\" d=\"M347.42857142857144,267.75h6.628571428571377v2.25h-6.628571428571377Z\" fill=\"#4c78a8\" fill-opacity=\"1\" stroke=\"#505050\" stroke-width=\"0\"/><path aria-label=\"x1: 152; x2: 154.9; level: 53; level2: 53.9; status: Default; sf: typeinf(interp::Core.Compiler.NativeInterpreter, frame::Core.Compiler.InferenceState) at typeinfer.jl:209\" role=\"graphics-symbol\" aria-roledescription=\"rect mark\" d=\"M347.42857142857144,265.25h6.628571428571377v2.25h-6.628571428571377Z\" fill=\"#4c78a8\" fill-opacity=\"1\" stroke=\"#505050\" stroke-width=\"0\"/><path aria-label=\"x1: 152; x2: 152.9; level: 54; level2: 54.9; status: Default; sf: _typeinf(interp::Core.Compiler.NativeInterpreter, frame::Core.Compiler.InferenceState) at typeinfer.jl:226\" role=\"graphics-symbol\" aria-roledescription=\"rect mark\" d=\"M347.42857142857144,262.75h2.0571428571428783v2.25h-2.0571428571428783Z\" fill=\"#4c78a8\" fill-opacity=\"1\" stroke=\"#505050\" stroke-width=\"0\"/><path aria-label=\"x1: 152; x2: 152.9; level: 55; level2: 55.9; status: Default; sf: typeinf_nocycle(interp::Core.Compiler.NativeInterpreter, frame::Core.Compiler.InferenceState) at abstractinterpretation.jl:2014\" role=\"graphics-symbol\" aria-roledescription=\"rect mark\" d=\"M347.42857142857144,260.25h2.0571428571428783v2.25h-2.0571428571428783Z\" fill=\"#4c78a8\" fill-opacity=\"1\" stroke=\"#505050\" stroke-width=\"0\"/><path aria-label=\"x1: 152; x2: 152.9; level: 56; level2: 56.9; status: Default; sf: typeinf_local(interp::Core.Compiler.NativeInterpreter, frame::Core.Compiler.InferenceState) at abstractinterpretation.jl:1918\" role=\"graphics-symbol\" aria-roledescription=\"rect mark\" d=\"M347.42857142857144,257.75h2.0571428571428783v2.25h-2.0571428571428783Z\" fill=\"#4c78a8\" fill-opacity=\"1\" stroke=\"#505050\" stroke-width=\"0\"/><path aria-label=\"x1: 152; x2: 152.9; level: 57; level2: 57.9; status: Default; sf: abstract_eval_statement(interp::Core.Compiler.NativeInterpreter, e::Any, vtypes::Vector{Any}, sv::Core.Compiler.InferenceState) at abstractinterpretation.jl:1534\" role=\"graphics-symbol\" aria-roledescription=\"rect mark\" d=\"M347.42857142857144,255.25000000000003h2.0571428571428783v2.2499999999999716h-2.0571428571428783Z\" fill=\"#4c78a8\" fill-opacity=\"1\" stroke=\"#505050\" stroke-width=\"0\"/><path aria-label=\"x1: 152; x2: 152.9; level: 58; level2: 58.9; status: Default; sf: abstract_call(interp::Core.Compiler.NativeInterpreter, fargs::Vector{Any}, argtypes::Vector{Any}, sv::Core.Compiler.InferenceState) at abstractinterpretation.jl:1382\" role=\"graphics-symbol\" aria-roledescription=\"rect mark\" d=\"M347.42857142857144,252.75h2.0571428571428783v2.2499999999999716h-2.0571428571428783Z\" fill=\"#4c78a8\" fill-opacity=\"1\" stroke=\"#505050\" stroke-width=\"0\"/><path aria-label=\"x1: 152; x2: 152.9; level: 59; level2: 59.9; status: Runtime dispatch; sf: abstract_call(interp::Core.Compiler.NativeInterpreter, fargs::Vector{Any}, argtypes::Vector{Any}, sv::Core.Compiler.InferenceState, max_methods::Int64) at abstractinterpretation.jl:1386\" role=\"graphics-symbol\" aria-roledescription=\"rect mark\" d=\"M347.42857142857144,250.25h2.0571428571428783v2.25h-2.0571428571428783Z\" fill=\"#e45756\" fill-opacity=\"1\" stroke=\"#505050\" stroke-width=\"0\"/><path aria-label=\"x1: 152; x2: 152.9; level: 60; level2: 60.9; status: Default; sf: widenconst(c::Core.Const) at typelattice.jl:286\" role=\"graphics-symbol\" aria-roledescription=\"rect mark\" d=\"M347.42857142857144,247.75h2.0571428571428783v2.25h-2.0571428571428783Z\" fill=\"#4c78a8\" fill-opacity=\"1\" stroke=\"#505050\" stroke-width=\"0\"/><path aria-label=\"x1: 153; x2: 154.9; level: 54; level2: 54.9; status: Default; sf: _typeinf(interp::Core.Compiler.NativeInterpreter, frame::Core.Compiler.InferenceState) at typeinfer.jl:255\" role=\"graphics-symbol\" aria-roledescription=\"rect mark\" d=\"M349.7142857142857,262.75h4.342857142857099v2.25h-4.342857142857099Z\" fill=\"#4c78a8\" fill-opacity=\"1\" stroke=\"#505050\" stroke-width=\"0\"/><path aria-label=\"x1: 153; x2: 154.9; level: 55; level2: 55.9; status: Default; sf: optimize at optimize.jl:296 [inlined]\" role=\"graphics-symbol\" aria-roledescription=\"rect mark\" d=\"M349.7142857142857,260.25h4.342857142857099v2.25h-4.342857142857099Z\" fill=\"#4c78a8\" fill-opacity=\"1\" stroke=\"#505050\" stroke-width=\"0\"/><path aria-label=\"x1: 153; x2: 154.9; level: 56; level2: 56.9; status: Runtime dispatch; sf: run_passes(ci::Core.CodeInfo, nargs::Int64, sv::Core.Compiler.OptimizationState) at optimize.jl:307\" role=\"graphics-symbol\" aria-roledescription=\"rect mark\" d=\"M349.7142857142857,257.75h4.342857142857099v2.25h-4.342857142857099Z\" fill=\"#e45756\" fill-opacity=\"1\" stroke=\"#505050\" stroke-width=\"0\"/><path aria-label=\"x1: 153; x2: 154.9; level: 57; level2: 57.9; status: Default; sf: ssa_inlining_pass!(ir::Core.Compiler.IRCode, linetable::Vector{Core.LineInfoNode}, state::Core.Compiler.InliningState{Core.Compiler.EdgeTracker, Core.Compiler.WorldView{Core.Compiler.InternalCodeCache}, typeof(Core.Compiler.default_inlining_policy)}, propagate_inbounds::Bool) at inlining.jl:80\" role=\"graphics-symbol\" aria-roledescription=\"rect mark\" d=\"M349.7142857142857,255.25000000000003h4.342857142857099v2.2499999999999716h-4.342857142857099Z\" fill=\"#4c78a8\" fill-opacity=\"1\" stroke=\"#505050\" stroke-width=\"0\"/><path aria-label=\"x1: 153; x2: 154.9; level: 58; level2: 58.9; status: Default; sf: assemble_inline_todo!(ir::Core.Compiler.IRCode, state::Core.Compiler.InliningState{Core.Compiler.EdgeTracker, Core.Compiler.WorldView{Core.Compiler.InternalCodeCache}, typeof(Core.Compiler.default_inlining_policy)}) at inlining.jl:1358\" role=\"graphics-symbol\" aria-roledescription=\"rect mark\" d=\"M349.7142857142857,252.75h4.342857142857099v2.2499999999999716h-4.342857142857099Z\" fill=\"#4c78a8\" fill-opacity=\"1\" stroke=\"#505050\" stroke-width=\"0\"/><path aria-label=\"x1: 153; x2: 154.9; level: 59; level2: 59.9; status: Default; sf: process_simple!(ir::Core.Compiler.IRCode, todo::Vector{Pair{Int64, Any}}, idx::Int64, state::Core.Compiler.InliningState{Core.Compiler.EdgeTracker, Core.Compiler.WorldView{Core.Compiler.InternalCodeCache}, typeof(Core.Compiler.default_inlining_policy)}) at inlining.jl:1192\" role=\"graphics-symbol\" aria-roledescription=\"rect mark\" d=\"M349.7142857142857,250.25h4.342857142857099v2.25h-4.342857142857099Z\" fill=\"#4c78a8\" fill-opacity=\"1\" stroke=\"#505050\" stroke-width=\"0\"/><path aria-label=\"x1: 153; x2: 154.9; level: 60; level2: 60.9; status: Default; sf: with_atype at inlining.jl:20 [inlined]\" role=\"graphics-symbol\" aria-roledescription=\"rect mark\" d=\"M349.7142857142857,247.75h4.342857142857099v2.25h-4.342857142857099Z\" fill=\"#4c78a8\" fill-opacity=\"1\" stroke=\"#505050\" stroke-width=\"0\"/><path aria-label=\"x1: 153; x2: 154.9; level: 61; level2: 61.9; status: Default; sf: argtypes_to_type at typeutils.jl:53 [inlined]\" role=\"graphics-symbol\" aria-roledescription=\"rect mark\" d=\"M349.7142857142857,245.25h4.342857142857099v2.25h-4.342857142857099Z\" fill=\"#4c78a8\" fill-opacity=\"1\" stroke=\"#505050\" stroke-width=\"0\"/><path aria-label=\"x1: 153; x2: 154.9; level: 62; level2: 62.9; status: Default; sf: anymap(f::Core.Compiler.var&quot;#251#252&quot;, a::Vector{Any}) at utilities.jl:39\" role=\"graphics-symbol\" aria-roledescription=\"rect mark\" d=\"M349.7142857142857,242.75000000000003h4.342857142857099v2.25h-4.342857142857099Z\" fill=\"#4c78a8\" fill-opacity=\"1\" stroke=\"#505050\" stroke-width=\"0\"/><path aria-label=\"x1: 153; x2: 154.9; level: 63; level2: 63.9; status: Runtime dispatch; sf: (::Core.Compiler.var&quot;#251#252&quot;)(a::Any) at typeutils.jl:53\" role=\"graphics-symbol\" aria-roledescription=\"rect mark\" d=\"M349.7142857142857,240.25h4.342857142857099v2.2499999999999716h-4.342857142857099Z\" fill=\"#e45756\" fill-opacity=\"1\" stroke=\"#505050\" stroke-width=\"0\"/><path aria-label=\"x1: 153; x2: 154.9; level: 64; level2: 64.9; status: Default; sf: widenconst(c::Core.Const) at typelattice.jl:286\" role=\"graphics-symbol\" aria-roledescription=\"rect mark\" d=\"M349.7142857142857,237.75h4.342857142857099v2.25h-4.342857142857099Z\" fill=\"#4c78a8\" fill-opacity=\"1\" stroke=\"#505050\" stroke-width=\"0\"/><path aria-label=\"x1: 155; x2: 157.9; level: 31; level2: 31.9; status: Default; sf: _typeinf(interp::Core.Compiler.NativeInterpreter, frame::Core.Compiler.InferenceState) at typeinfer.jl:255\" role=\"graphics-symbol\" aria-roledescription=\"rect mark\" d=\"M354.2857142857143,320.25h6.62857142857149v2.25h-6.62857142857149Z\" fill=\"#4c78a8\" fill-opacity=\"1\" stroke=\"#505050\" stroke-width=\"0\"/><path aria-label=\"x1: 155; x2: 157.9; level: 32; level2: 32.9; status: Default; sf: optimize at optimize.jl:296 [inlined]\" role=\"graphics-symbol\" aria-roledescription=\"rect mark\" d=\"M354.2857142857143,317.75h6.62857142857149v2.25h-6.62857142857149Z\" fill=\"#4c78a8\" fill-opacity=\"1\" stroke=\"#505050\" stroke-width=\"0\"/><path aria-label=\"x1: 155; x2: 156.9; level: 33; level2: 33.9; status: Default; sf: run_passes(ci::Core.CodeInfo, nargs::Int64, sv::Core.Compiler.OptimizationState) at optimize.jl:303\" role=\"graphics-symbol\" aria-roledescription=\"rect mark\" d=\"M354.2857142857143,315.25h4.342857142857156v2.25h-4.342857142857156Z\" fill=\"#4c78a8\" fill-opacity=\"1\" stroke=\"#505050\" stroke-width=\"0\"/><path aria-label=\"x1: 155; x2: 156.9; level: 34; level2: 34.9; status: Default; sf: slot2reg at optimize.jl:419 [inlined]\" role=\"graphics-symbol\" aria-roledescription=\"rect mark\" d=\"M354.2857142857143,312.75h4.342857142857156v2.25h-4.342857142857156Z\" fill=\"#4c78a8\" fill-opacity=\"1\" stroke=\"#505050\" stroke-width=\"0\"/><path aria-label=\"x1: 155; x2: 156.9; level: 35; level2: 35.9; status: Default; sf: construct_ssa!(ci::Core.CodeInfo, ir::Core.Compiler.IRCode, domtree::Core.Compiler.DomTree, defuses::Vector{Core.Compiler.SlotInfo}, nargs::Int64, slottypes::Vector{Any}) at slot2ssa.jl:896\" role=\"graphics-symbol\" aria-roledescription=\"rect mark\" d=\"M354.2857142857143,310.25h4.342857142857156v2.25h-4.342857142857156Z\" fill=\"#4c78a8\" fill-opacity=\"1\" stroke=\"#505050\" stroke-width=\"0\"/><path aria-label=\"x1: 155; x2: 155.9; level: 36; level2: 36.9; status: Default; sf: domsort_ssa!(ir::Core.Compiler.IRCode, domtree::Core.Compiler.DomTree) at slot2ssa.jl:422\" role=\"graphics-symbol\" aria-roledescription=\"rect mark\" d=\"M354.2857142857143,307.75h2.0571428571428783v2.25h-2.0571428571428783Z\" fill=\"#4c78a8\" fill-opacity=\"1\" stroke=\"#505050\" stroke-width=\"0\"/><path aria-label=\"x1: 155; x2: 155.9; level: 37; level2: 37.9; status: Default; sf: Core.Compiler.InstructionStream(len::Int64) at ir.jl:193\" role=\"graphics-symbol\" aria-roledescription=\"rect mark\" d=\"M354.2857142857143,305.25h2.0571428571428783v2.25h-2.0571428571428783Z\" fill=\"#4c78a8\" fill-opacity=\"1\" stroke=\"#505050\" stroke-width=\"0\"/><path aria-label=\"x1: 155; x2: 155.9; level: 38; level2: 38.9; status: Default; sf: Array at boot.jl:471 [inlined]\" role=\"graphics-symbol\" aria-roledescription=\"rect mark\" d=\"M354.2857142857143,302.75h2.0571428571428783v2.25h-2.0571428571428783Z\" fill=\"#4c78a8\" fill-opacity=\"1\" stroke=\"#505050\" stroke-width=\"0\"/><path aria-label=\"x1: 155; x2: 155.9; level: 39; level2: 39.9; status: Default; sf: Array at boot.jl:457 [inlined]\" role=\"graphics-symbol\" aria-roledescription=\"rect mark\" d=\"M354.2857142857143,300.25h2.0571428571428783v2.25h-2.0571428571428783Z\" fill=\"#4c78a8\" fill-opacity=\"1\" stroke=\"#505050\" stroke-width=\"0\"/><path aria-label=\"x1: 156; x2: 156.9; level: 36; level2: 36.9; status: Default; sf: domsort_ssa!(ir::Core.Compiler.IRCode, domtree::Core.Compiler.DomTree) at slot2ssa.jl:496\" role=\"graphics-symbol\" aria-roledescription=\"rect mark\" d=\"M356.57142857142856,307.75h2.0571428571428783v2.25h-2.0571428571428783Z\" fill=\"#4c78a8\" fill-opacity=\"1\" stroke=\"#505050\" stroke-width=\"0\"/><path aria-label=\"x1: 156; x2: 156.9; level: 37; level2: 37.9; status: Default; sf: renumber_ssa! at slot2ssa.jl:62 [inlined]\" role=\"graphics-symbol\" aria-roledescription=\"rect mark\" d=\"M356.57142857142856,305.25h2.0571428571428783v2.25h-2.0571428571428783Z\" fill=\"#4c78a8\" fill-opacity=\"1\" stroke=\"#505050\" stroke-width=\"0\"/><path aria-label=\"x1: 156; x2: 156.9; level: 38; level2: 38.9; status: Default; sf: ssamap(f::Core.Compiler.var&quot;#339#340&quot;{Vector{Core.SSAValue}, Bool}, stmt::Any) at ir.jl:508\" role=\"graphics-symbol\" aria-roledescription=\"rect mark\" d=\"M356.57142857142856,302.75h2.0571428571428783v2.25h-2.0571428571428783Z\" fill=\"#4c78a8\" fill-opacity=\"1\" stroke=\"#505050\" stroke-width=\"0\"/><path aria-label=\"x1: 156; x2: 156.9; level: 39; level2: 39.9; status: Default; sf: setindex!(x::Core.Compiler.UseRef, v::Any) at ir.jl:416\" role=\"graphics-symbol\" aria-roledescription=\"rect mark\" d=\"M356.57142857142856,300.25h2.0571428571428783v2.25h-2.0571428571428783Z\" fill=\"#4c78a8\" fill-opacity=\"1\" stroke=\"#505050\" stroke-width=\"0\"/><path aria-label=\"x1: 157; x2: 157.9; level: 33; level2: 33.9; status: Runtime dispatch; sf: run_passes(ci::Core.CodeInfo, nargs::Int64, sv::Core.Compiler.OptimizationState) at optimize.jl:307\" role=\"graphics-symbol\" aria-roledescription=\"rect mark\" d=\"M358.85714285714283,315.25h2.057142857142935v2.25h-2.057142857142935Z\" fill=\"#e45756\" fill-opacity=\"1\" stroke=\"#505050\" stroke-width=\"0\"/><path aria-label=\"x1: 157; x2: 157.9; level: 34; level2: 34.9; status: Default; sf: ssa_inlining_pass!(ir::Core.Compiler.IRCode, linetable::Vector{Core.LineInfoNode}, state::Core.Compiler.InliningState{Core.Compiler.EdgeTracker, Core.Compiler.WorldView{Core.Compiler.InternalCodeCache}, typeof(Core.Compiler.default_inlining_policy)}, propagate_inbounds::Bool) at inlining.jl:80\" role=\"graphics-symbol\" aria-roledescription=\"rect mark\" d=\"M358.85714285714283,312.75h2.057142857142935v2.25h-2.057142857142935Z\" fill=\"#4c78a8\" fill-opacity=\"1\" stroke=\"#505050\" stroke-width=\"0\"/><path aria-label=\"x1: 157; x2: 157.9; level: 35; level2: 35.9; status: Default; sf: assemble_inline_todo!(ir::Core.Compiler.IRCode, state::Core.Compiler.InliningState{Core.Compiler.EdgeTracker, Core.Compiler.WorldView{Core.Compiler.InternalCodeCache}, typeof(Core.Compiler.default_inlining_policy)}) at inlining.jl:1358\" role=\"graphics-symbol\" aria-roledescription=\"rect mark\" d=\"M358.85714285714283,310.25h2.057142857142935v2.25h-2.057142857142935Z\" fill=\"#4c78a8\" fill-opacity=\"1\" stroke=\"#505050\" stroke-width=\"0\"/><path aria-label=\"x1: 157; x2: 157.9; level: 36; level2: 36.9; status: Default; sf: process_simple!(ir::Core.Compiler.IRCode, todo::Vector{Pair{Int64, Any}}, idx::Int64, state::Core.Compiler.InliningState{Core.Compiler.EdgeTracker, Core.Compiler.WorldView{Core.Compiler.InternalCodeCache}, typeof(Core.Compiler.default_inlining_policy)}) at inlining.jl:1192\" role=\"graphics-symbol\" aria-roledescription=\"rect mark\" d=\"M358.85714285714283,307.75h2.057142857142935v2.25h-2.057142857142935Z\" fill=\"#4c78a8\" fill-opacity=\"1\" stroke=\"#505050\" stroke-width=\"0\"/><path aria-label=\"x1: 157; x2: 157.9; level: 37; level2: 37.9; status: Default; sf: with_atype at inlining.jl:20 [inlined]\" role=\"graphics-symbol\" aria-roledescription=\"rect mark\" d=\"M358.85714285714283,305.25h2.057142857142935v2.25h-2.057142857142935Z\" fill=\"#4c78a8\" fill-opacity=\"1\" stroke=\"#505050\" stroke-width=\"0\"/><path aria-label=\"x1: 157; x2: 157.9; level: 38; level2: 38.9; status: Default; sf: argtypes_to_type at typeutils.jl:53 [inlined]\" role=\"graphics-symbol\" aria-roledescription=\"rect mark\" d=\"M358.85714285714283,302.75h2.057142857142935v2.25h-2.057142857142935Z\" fill=\"#4c78a8\" fill-opacity=\"1\" stroke=\"#505050\" stroke-width=\"0\"/><path aria-label=\"x1: 157; x2: 157.9; level: 39; level2: 39.9; status: Default; sf: anymap(f::Core.Compiler.var&quot;#251#252&quot;, a::Vector{Any}) at utilities.jl:39\" role=\"graphics-symbol\" aria-roledescription=\"rect mark\" d=\"M358.85714285714283,300.25h2.057142857142935v2.25h-2.057142857142935Z\" fill=\"#4c78a8\" fill-opacity=\"1\" stroke=\"#505050\" stroke-width=\"0\"/><path aria-label=\"x1: 157; x2: 157.9; level: 40; level2: 40.9; status: Runtime dispatch; sf: (::Core.Compiler.var&quot;#251#252&quot;)(a::Any) at typeutils.jl:53\" role=\"graphics-symbol\" aria-roledescription=\"rect mark\" d=\"M358.85714285714283,297.75h2.057142857142935v2.25h-2.057142857142935Z\" fill=\"#e45756\" fill-opacity=\"1\" stroke=\"#505050\" stroke-width=\"0\"/><path aria-label=\"x1: 157; x2: 157.9; level: 41; level2: 41.9; status: Default; sf: widenconst(c::Core.Const) at typelattice.jl:286\" role=\"graphics-symbol\" aria-roledescription=\"rect mark\" d=\"M358.85714285714283,295.25h2.057142857142935v2.25h-2.057142857142935Z\" fill=\"#4c78a8\" fill-opacity=\"1\" stroke=\"#505050\" stroke-width=\"0\"/><path aria-label=\"x1: 158; x2: 158.9; level: 31; level2: 31.9; status: Default; sf: _typeinf(interp::Core.Compiler.NativeInterpreter, frame::Core.Compiler.InferenceState) at typeinfer.jl:277\" role=\"graphics-symbol\" aria-roledescription=\"rect mark\" d=\"M361.1428571428571,320.25h2.0571428571428783v2.25h-2.0571428571428783Z\" fill=\"#4c78a8\" fill-opacity=\"1\" stroke=\"#505050\" stroke-width=\"0\"/><path aria-label=\"x1: 158; x2: 158.9; level: 32; level2: 32.9; status: Default; sf: store_backedges at typeinfer.jl:491 [inlined]\" role=\"graphics-symbol\" aria-roledescription=\"rect mark\" d=\"M361.1428571428571,317.75h2.0571428571428783v2.25h-2.0571428571428783Z\" fill=\"#4c78a8\" fill-opacity=\"1\" stroke=\"#505050\" stroke-width=\"0\"/><path aria-label=\"x1: 158; x2: 158.9; level: 33; level2: 33.9; status: Default; sf: store_backedges at typeinfer.jl:501 [inlined]\" role=\"graphics-symbol\" aria-roledescription=\"rect mark\" d=\"M361.1428571428571,315.25h2.0571428571428783v2.25h-2.0571428571428783Z\" fill=\"#4c78a8\" fill-opacity=\"1\" stroke=\"#505050\" stroke-width=\"0\"/><path aria-label=\"x1: 159; x2: 159.9; level: 23; level2: 23.9; status: Default; sf: typeinf_local(interp::Core.Compiler.NativeInterpreter, frame::Core.Compiler.InferenceState) at abstractinterpretation.jl:1956\" role=\"graphics-symbol\" aria-roledescription=\"rect mark\" d=\"M363.42857142857144,340.25h2.0571428571428214v2.25h-2.0571428571428214Z\" fill=\"#4c78a8\" fill-opacity=\"1\" stroke=\"#505050\" stroke-width=\"0\"/><path aria-label=\"x1: 159; x2: 159.9; level: 24; level2: 24.9; status: Runtime dispatch; sf: stupdate!(state::Nothing, changes::Core.Compiler.StateUpdate) at typelattice.jl:342\" role=\"graphics-symbol\" aria-roledescription=\"rect mark\" d=\"M363.42857142857144,337.75h2.0571428571428214v2.25h-2.0571428571428214Z\" fill=\"#e45756\" fill-opacity=\"1\" stroke=\"#505050\" stroke-width=\"0\"/><path aria-label=\"x1: 160; x2: 166.9; level: 21; level2: 21.9; status: Default; sf: _typeinf(interp::Core.Compiler.NativeInterpreter, frame::Core.Compiler.InferenceState) at typeinfer.jl:255\" role=\"graphics-symbol\" aria-roledescription=\"rect mark\" d=\"M365.7142857142857,345.25h15.771428571428544v2.25h-15.771428571428544Z\" fill=\"#4c78a8\" fill-opacity=\"1\" stroke=\"#505050\" stroke-width=\"0\"/><path aria-label=\"x1: 160; x2: 166.9; level: 22; level2: 22.9; status: Default; sf: optimize at optimize.jl:296 [inlined]\" role=\"graphics-symbol\" aria-roledescription=\"rect mark\" d=\"M365.7142857142857,342.75h15.771428571428544v2.25h-15.771428571428544Z\" fill=\"#4c78a8\" fill-opacity=\"1\" stroke=\"#505050\" stroke-width=\"0\"/><path aria-label=\"x1: 160; x2: 163.9; level: 23; level2: 23.9; status: Runtime dispatch; sf: run_passes(ci::Core.CodeInfo, nargs::Int64, sv::Core.Compiler.OptimizationState) at optimize.jl:307\" role=\"graphics-symbol\" aria-roledescription=\"rect mark\" d=\"M365.7142857142857,340.25h8.914285714285711v2.25h-8.914285714285711Z\" fill=\"#e45756\" fill-opacity=\"1\" stroke=\"#505050\" stroke-width=\"0\"/><path aria-label=\"x1: 160; x2: 161.9; level: 24; level2: 24.9; status: Default; sf: ssa_inlining_pass!(ir::Core.Compiler.IRCode, linetable::Vector{Core.LineInfoNode}, state::Core.Compiler.InliningState{Core.Compiler.EdgeTracker, Core.Compiler.WorldView{Core.Compiler.InternalCodeCache}, typeof(Core.Compiler.default_inlining_policy)}, propagate_inbounds::Bool) at inlining.jl:80\" role=\"graphics-symbol\" aria-roledescription=\"rect mark\" d=\"M365.7142857142857,337.75h4.342857142857156v2.25h-4.342857142857156Z\" fill=\"#4c78a8\" fill-opacity=\"1\" stroke=\"#505050\" stroke-width=\"0\"/><path aria-label=\"x1: 160; x2: 160.9; level: 25; level2: 25.9; status: Default; sf: assemble_inline_todo!(ir::Core.Compiler.IRCode, state::Core.Compiler.InliningState{Core.Compiler.EdgeTracker, Core.Compiler.WorldView{Core.Compiler.InternalCodeCache}, typeof(Core.Compiler.default_inlining_policy)}) at inlining.jl:1358\" role=\"graphics-symbol\" aria-roledescription=\"rect mark\" d=\"M365.7142857142857,335.25h2.0571428571428783v2.25h-2.0571428571428783Z\" fill=\"#4c78a8\" fill-opacity=\"1\" stroke=\"#505050\" stroke-width=\"0\"/><path aria-label=\"x1: 160; x2: 160.9; level: 26; level2: 26.9; status: Default; sf: process_simple!(ir::Core.Compiler.IRCode, todo::Vector{Pair{Int64, Any}}, idx::Int64, state::Core.Compiler.InliningState{Core.Compiler.EdgeTracker, Core.Compiler.WorldView{Core.Compiler.InternalCodeCache}, typeof(Core.Compiler.default_inlining_policy)}) at inlining.jl:1192\" role=\"graphics-symbol\" aria-roledescription=\"rect mark\" d=\"M365.7142857142857,332.75h2.0571428571428783v2.25h-2.0571428571428783Z\" fill=\"#4c78a8\" fill-opacity=\"1\" stroke=\"#505050\" stroke-width=\"0\"/><path aria-label=\"x1: 160; x2: 160.9; level: 27; level2: 27.9; status: Default; sf: with_atype at inlining.jl:20 [inlined]\" role=\"graphics-symbol\" aria-roledescription=\"rect mark\" d=\"M365.7142857142857,330.25h2.0571428571428783v2.25h-2.0571428571428783Z\" fill=\"#4c78a8\" fill-opacity=\"1\" stroke=\"#505050\" stroke-width=\"0\"/><path aria-label=\"x1: 160; x2: 160.9; level: 28; level2: 28.9; status: Default; sf: argtypes_to_type at typeutils.jl:53 [inlined]\" role=\"graphics-symbol\" aria-roledescription=\"rect mark\" d=\"M365.7142857142857,327.75h2.0571428571428783v2.25h-2.0571428571428783Z\" fill=\"#4c78a8\" fill-opacity=\"1\" stroke=\"#505050\" stroke-width=\"0\"/><path aria-label=\"x1: 160; x2: 160.9; level: 29; level2: 29.9; status: Default; sf: anymap(f::Core.Compiler.var&quot;#251#252&quot;, a::Vector{Any}) at utilities.jl:39\" role=\"graphics-symbol\" aria-roledescription=\"rect mark\" d=\"M365.7142857142857,325.25h2.0571428571428783v2.25h-2.0571428571428783Z\" fill=\"#4c78a8\" fill-opacity=\"1\" stroke=\"#505050\" stroke-width=\"0\"/><path aria-label=\"x1: 160; x2: 160.9; level: 30; level2: 30.9; status: Runtime dispatch; sf: (::Core.Compiler.var&quot;#251#252&quot;)(a::Any) at typeutils.jl:53\" role=\"graphics-symbol\" aria-roledescription=\"rect mark\" d=\"M365.7142857142857,322.75h2.0571428571428783v2.25h-2.0571428571428783Z\" fill=\"#e45756\" fill-opacity=\"1\" stroke=\"#505050\" stroke-width=\"0\"/><path aria-label=\"x1: 160; x2: 160.9; level: 31; level2: 31.9; status: Default; sf: widenconst(c::Core.Const) at typelattice.jl:286\" role=\"graphics-symbol\" aria-roledescription=\"rect mark\" d=\"M365.7142857142857,320.25h2.0571428571428783v2.25h-2.0571428571428783Z\" fill=\"#4c78a8\" fill-opacity=\"1\" stroke=\"#505050\" stroke-width=\"0\"/><path aria-label=\"x1: 161; x2: 161.9; level: 25; level2: 25.9; status: Default; sf: assemble_inline_todo!(ir::Core.Compiler.IRCode, state::Core.Compiler.InliningState{Core.Compiler.EdgeTracker, Core.Compiler.WorldView{Core.Compiler.InternalCodeCache}, typeof(Core.Compiler.default_inlining_policy)}) at inlining.jl:1419\" role=\"graphics-symbol\" aria-roledescription=\"rect mark\" d=\"M368,335.25h2.0571428571428783v2.25h-2.0571428571428783Z\" fill=\"#4c78a8\" fill-opacity=\"1\" stroke=\"#505050\" stroke-width=\"0\"/><path aria-label=\"x1: 161; x2: 161.9; level: 26; level2: 26.9; status: Default; sf: analyze_single_call!(ir::Core.Compiler.IRCode, todo::Vector{Pair{Int64, Any}}, idx::Int64, stmt::Any, ::Core.Compiler.Signature, infos::Vector{Core.Compiler.MethodMatchInfo}, state::Core.Compiler.InliningState{Core.Compiler.EdgeTracker, Core.Compiler.WorldView{Core.Compiler.InternalCodeCache}, typeof(Core.Compiler.default_inlining_policy)}) at inlining.jl:1238\" role=\"graphics-symbol\" aria-roledescription=\"rect mark\" d=\"M368,332.75h2.0571428571428783v2.25h-2.0571428571428783Z\" fill=\"#4c78a8\" fill-opacity=\"1\" stroke=\"#505050\" stroke-width=\"0\"/><path aria-label=\"x1: 161; x2: 161.9; level: 27; level2: 27.9; status: Default; sf: analyze_method!(match::Core.MethodMatch, atypes::Vector{Any}, state::Core.Compiler.InliningState{Core.Compiler.EdgeTracker, Core.Compiler.WorldView{Core.Compiler.InternalCodeCache}, typeof(Core.Compiler.default_inlining_policy)}) at inlining.jl:851\" role=\"graphics-symbol\" aria-roledescription=\"rect mark\" d=\"M368,330.25h2.0571428571428783v2.25h-2.0571428571428783Z\" fill=\"#4c78a8\" fill-opacity=\"1\" stroke=\"#505050\" stroke-width=\"0\"/><path aria-label=\"x1: 161; x2: 161.9; level: 28; level2: 28.9; status: Runtime dispatch; sf: resolve_todo(todo::Core.Compiler.InliningTodo, state::Core.Compiler.InliningState{Core.Compiler.EdgeTracker, Core.Compiler.WorldView{Core.Compiler.InternalCodeCache}, typeof(Core.Compiler.default_inlining_policy)}) at inlining.jl:795\" role=\"graphics-symbol\" aria-roledescription=\"rect mark\" d=\"M368,327.75h2.0571428571428783v2.25h-2.0571428571428783Z\" fill=\"#e45756\" fill-opacity=\"1\" stroke=\"#505050\" stroke-width=\"0\"/><path aria-label=\"x1: 161; x2: 161.9; level: 29; level2: 29.9; status: Garbage collection; sf: Core.Compiler.InliningTodo(mi::Core.MethodInstance, src::Vector{UInt8}) at inlining.jl:860\" role=\"graphics-symbol\" aria-roledescription=\"rect mark\" d=\"M368,325.25h2.0571428571428783v2.25h-2.0571428571428783Z\" fill=\"#f58518\" fill-opacity=\"1\" stroke=\"#505050\" stroke-width=\"0\"/><path aria-label=\"x1: 162; x2: 163.9; level: 24; level2: 24.9; status: Default; sf: ssa_inlining_pass!(ir::Core.Compiler.IRCode, linetable::Vector{Core.LineInfoNode}, state::Core.Compiler.InliningState{Core.Compiler.EdgeTracker, Core.Compiler.WorldView{Core.Compiler.InternalCodeCache}, typeof(Core.Compiler.default_inlining_policy)}, propagate_inbounds::Bool) at inlining.jl:83\" role=\"graphics-symbol\" aria-roledescription=\"rect mark\" d=\"M370.2857142857143,337.75h4.342857142857156v2.25h-4.342857142857156Z\" fill=\"#4c78a8\" fill-opacity=\"1\" stroke=\"#505050\" stroke-width=\"0\"/><path aria-label=\"x1: 162; x2: 163.9; level: 25; level2: 25.9; status: Default; sf: batch_inline!(todo::Vector{Pair{Int64, Any}}, ir::Core.Compiler.IRCode, linetable::Vector{Core.LineInfoNode}, propagate_inbounds::Bool) at inlining.jl:594\" role=\"graphics-symbol\" aria-roledescription=\"rect mark\" d=\"M370.2857142857143,335.25h4.342857142857156v2.25h-4.342857142857156Z\" fill=\"#4c78a8\" fill-opacity=\"1\" stroke=\"#505050\" stroke-width=\"0\"/><path aria-label=\"x1: 162; x2: 162.9; level: 26; level2: 26.9; status: Default; sf: ir_inline_item!(compact::Core.Compiler.IncrementalCompact, idx::Int64, argexprs::Vector{Any}, linetable::Vector{Core.LineInfoNode}, item::Core.Compiler.InliningTodo, boundscheck::Symbol, todo_bbs::Vector{Tuple{Int64, Int64}}) at inlining.jl:400\" role=\"graphics-symbol\" aria-roledescription=\"rect mark\" d=\"M370.2857142857143,332.75h2.0571428571428783v2.25h-2.0571428571428783Z\" fill=\"#4c78a8\" fill-opacity=\"1\" stroke=\"#505050\" stroke-width=\"0\"/><path aria-label=\"x1: 162; x2: 162.9; level: 27; level2: 27.9; status: Default; sf: ssa_substitute! at inlining.jl:1528 [inlined]\" role=\"graphics-symbol\" aria-roledescription=\"rect mark\" d=\"M370.2857142857143,330.25h2.0571428571428783v2.25h-2.0571428571428783Z\" fill=\"#4c78a8\" fill-opacity=\"1\" stroke=\"#505050\" stroke-width=\"0\"/><path aria-label=\"x1: 162; x2: 162.9; level: 28; level2: 28.9; status: Runtime dispatch; sf: ssa_substitute_op!(val::Any, arg_replacements::Vector{Any}, spsig::Any, spvals::Core.SimpleVector, boundscheck::Symbol) at inlining.jl:1554\" role=\"graphics-symbol\" aria-roledescription=\"rect mark\" d=\"M370.2857142857143,327.75h2.0571428571428783v2.25h-2.0571428571428783Z\" fill=\"#e45756\" fill-opacity=\"1\" stroke=\"#505050\" stroke-width=\"0\"/><path aria-label=\"x1: 163; x2: 163.9; level: 26; level2: 26.9; status: Default; sf: ir_inline_item!(compact::Core.Compiler.IncrementalCompact, idx::Int64, argexprs::Vector{Any}, linetable::Vector{Core.LineInfoNode}, item::Core.Compiler.InliningTodo, boundscheck::Symbol, todo_bbs::Vector{Tuple{Int64, Int64}}) at inlining.jl:431\" role=\"graphics-symbol\" aria-roledescription=\"rect mark\" d=\"M372.57142857142856,332.75h2.0571428571428783v2.25h-2.0571428571428783Z\" fill=\"#4c78a8\" fill-opacity=\"1\" stroke=\"#505050\" stroke-width=\"0\"/><path aria-label=\"x1: 163; x2: 163.9; level: 27; level2: 27.9; status: Default; sf: iterate(compact::Core.Compiler.IncrementalCompact, ::Tuple{Int64, Int64}) at ir.jl:1294\" role=\"graphics-symbol\" aria-roledescription=\"rect mark\" d=\"M372.57142857142856,330.25h2.0571428571428783v2.25h-2.0571428571428783Z\" fill=\"#4c78a8\" fill-opacity=\"1\" stroke=\"#505050\" stroke-width=\"0\"/><path aria-label=\"x1: 163; x2: 163.9; level: 28; level2: 28.9; status: Default; sf: process_node!(compact::Core.Compiler.IncrementalCompact, result_idx::Int64, inst::Core.Compiler.Instruction, idx::Int64, processed_idx::Int64, active_bb::Int64, do_rename_ssa::Bool) at ir.jl:1122\" role=\"graphics-symbol\" aria-roledescription=\"rect mark\" d=\"M372.57142857142856,327.75h2.0571428571428783v2.25h-2.0571428571428783Z\" fill=\"#4c78a8\" fill-opacity=\"1\" stroke=\"#505050\" stroke-width=\"0\"/><path aria-label=\"x1: 164; x2: 164.9; level: 23; level2: 23.9; status: Default; sf: run_passes(ci::Core.CodeInfo, nargs::Int64, sv::Core.Compiler.OptimizationState) at optimize.jl:309\" role=\"graphics-symbol\" aria-roledescription=\"rect mark\" d=\"M374.8571428571429,340.25h2.0571428571428214v2.25h-2.0571428571428214Z\" fill=\"#4c78a8\" fill-opacity=\"1\" stroke=\"#505050\" stroke-width=\"0\"/><path aria-label=\"x1: 164; x2: 164.9; level: 24; level2: 24.9; status: Default; sf: compact! at ir.jl:1441 [inlined]\" role=\"graphics-symbol\" aria-roledescription=\"rect mark\" d=\"M374.8571428571429,337.75h2.0571428571428214v2.25h-2.0571428571428214Z\" fill=\"#4c78a8\" fill-opacity=\"1\" stroke=\"#505050\" stroke-width=\"0\"/><path aria-label=\"x1: 164; x2: 164.9; level: 25; level2: 25.9; status: Default; sf: compact!(code::Core.Compiler.IRCode, allow_cfg_transforms::Bool) at ir.jl:1441\" role=\"graphics-symbol\" aria-roledescription=\"rect mark\" d=\"M374.8571428571429,335.25h2.0571428571428214v2.25h-2.0571428571428214Z\" fill=\"#4c78a8\" fill-opacity=\"1\" stroke=\"#505050\" stroke-width=\"0\"/><path aria-label=\"x1: 164; x2: 164.9; level: 26; level2: 26.9; status: Garbage collection; sf: Core.Compiler.IncrementalCompact(code::Core.Compiler.IRCode, allow_cfg_transforms::Bool) at ir.jl:622\" role=\"graphics-symbol\" aria-roledescription=\"rect mark\" d=\"M374.8571428571429,332.75h2.0571428571428214v2.25h-2.0571428571428214Z\" fill=\"#f58518\" fill-opacity=\"1\" stroke=\"#505050\" stroke-width=\"0\"/><path aria-label=\"x1: 165; x2: 165.9; level: 23; level2: 23.9; status: Default; sf: run_passes(ci::Core.CodeInfo, nargs::Int64, sv::Core.Compiler.OptimizationState) at optimize.jl:311\" role=\"graphics-symbol\" aria-roledescription=\"rect mark\" d=\"M377.1428571428571,340.25h2.057142857142935v2.25h-2.057142857142935Z\" fill=\"#4c78a8\" fill-opacity=\"1\" stroke=\"#505050\" stroke-width=\"0\"/><path aria-label=\"x1: 165; x2: 165.9; level: 24; level2: 24.9; status: Default; sf: getfield_elim_pass!(ir::Core.Compiler.IRCode) at passes.jl:687\" role=\"graphics-symbol\" aria-roledescription=\"rect mark\" d=\"M377.1428571428571,337.75h2.057142857142935v2.25h-2.057142857142935Z\" fill=\"#4c78a8\" fill-opacity=\"1\" stroke=\"#505050\" stroke-width=\"0\"/><path aria-label=\"x1: 165; x2: 165.9; level: 25; level2: 25.9; status: Default; sf: try_compute_fieldidx(typ::DataType, field::Any) at tfuncs.jl:693\" role=\"graphics-symbol\" aria-roledescription=\"rect mark\" d=\"M377.1428571428571,335.25h2.057142857142935v2.25h-2.057142857142935Z\" fill=\"#4c78a8\" fill-opacity=\"1\" stroke=\"#505050\" stroke-width=\"0\"/><path aria-label=\"x1: 165; x2: 165.9; level: 26; level2: 26.9; status: Default; sf: fieldindex at reflection.jl:719 [inlined]\" role=\"graphics-symbol\" aria-roledescription=\"rect mark\" d=\"M377.1428571428571,332.75h2.057142857142935v2.25h-2.057142857142935Z\" fill=\"#4c78a8\" fill-opacity=\"1\" stroke=\"#505050\" stroke-width=\"0\"/><path aria-label=\"x1: 166; x2: 166.9; level: 23; level2: 23.9; status: Default; sf: run_passes(ci::Core.CodeInfo, nargs::Int64, sv::Core.Compiler.OptimizationState) at optimize.jl:317\" role=\"graphics-symbol\" aria-roledescription=\"rect mark\" d=\"M379.42857142857144,340.25h2.0571428571428214v2.25h-2.0571428571428214Z\" fill=\"#4c78a8\" fill-opacity=\"1\" stroke=\"#505050\" stroke-width=\"0\"/><path aria-label=\"x1: 166; x2: 166.9; level: 24; level2: 24.9; status: Default; sf: compact! at ir.jl:1441 [inlined]\" role=\"graphics-symbol\" aria-roledescription=\"rect mark\" d=\"M379.42857142857144,337.75h2.0571428571428214v2.25h-2.0571428571428214Z\" fill=\"#4c78a8\" fill-opacity=\"1\" stroke=\"#505050\" stroke-width=\"0\"/><path aria-label=\"x1: 166; x2: 166.9; level: 25; level2: 25.9; status: Default; sf: compact!(code::Core.Compiler.IRCode, allow_cfg_transforms::Bool) at ir.jl:1443\" role=\"graphics-symbol\" aria-roledescription=\"rect mark\" d=\"M379.42857142857144,335.25h2.0571428571428214v2.25h-2.0571428571428214Z\" fill=\"#4c78a8\" fill-opacity=\"1\" stroke=\"#505050\" stroke-width=\"0\"/><path aria-label=\"x1: 166; x2: 166.9; level: 26; level2: 26.9; status: Default; sf: iterate(compact::Core.Compiler.IncrementalCompact, ::Tuple{Int64, Int64}) at ir.jl:1294\" role=\"graphics-symbol\" aria-roledescription=\"rect mark\" d=\"M379.42857142857144,332.75h2.0571428571428214v2.25h-2.0571428571428214Z\" fill=\"#4c78a8\" fill-opacity=\"1\" stroke=\"#505050\" stroke-width=\"0\"/><path aria-label=\"x1: 166; x2: 166.9; level: 27; level2: 27.9; status: Default; sf: process_node!(compact::Core.Compiler.IncrementalCompact, result_idx::Int64, inst::Core.Compiler.Instruction, idx::Int64, processed_idx::Int64, active_bb::Int64, do_rename_ssa::Bool) at ir.jl:1080\" role=\"graphics-symbol\" aria-roledescription=\"rect mark\" d=\"M379.42857142857144,330.25h2.0571428571428214v2.25h-2.0571428571428214Z\" fill=\"#4c78a8\" fill-opacity=\"1\" stroke=\"#505050\" stroke-width=\"0\"/><path aria-label=\"x1: 166; x2: 166.9; level: 28; level2: 28.9; status: Default; sf: iterate at range.jl:837 [inlined]\" role=\"graphics-symbol\" aria-roledescription=\"rect mark\" d=\"M379.42857142857144,327.75h2.0571428571428214v2.25h-2.0571428571428214Z\" fill=\"#4c78a8\" fill-opacity=\"1\" stroke=\"#505050\" stroke-width=\"0\"/><path aria-label=\"x1: 167; x2: 168.9; level: 21; level2: 21.9; status: Default; sf: _typeinf(interp::Core.Compiler.NativeInterpreter, frame::Core.Compiler.InferenceState) at typeinfer.jl:280\" role=\"graphics-symbol\" aria-roledescription=\"rect mark\" d=\"M381.7142857142857,345.25h4.342857142857156v2.25h-4.342857142857156Z\" fill=\"#4c78a8\" fill-opacity=\"1\" stroke=\"#505050\" stroke-width=\"0\"/><path aria-label=\"x1: 167; x2: 168.9; level: 22; level2: 22.9; status: Default; sf: cache_result!(interp::Core.Compiler.NativeInterpreter, result::Core.Compiler.InferenceResult) at typeinfer.jl:397\" role=\"graphics-symbol\" aria-roledescription=\"rect mark\" d=\"M381.7142857142857,342.75h4.342857142857156v2.25h-4.342857142857156Z\" fill=\"#4c78a8\" fill-opacity=\"1\" stroke=\"#505050\" stroke-width=\"0\"/><path aria-label=\"x1: 167; x2: 168.9; level: 23; level2: 23.9; status: Default; sf: transform_result_for_cache at typeinfer.jl:371 [inlined]\" role=\"graphics-symbol\" aria-roledescription=\"rect mark\" d=\"M381.7142857142857,340.25h4.342857142857156v2.25h-4.342857142857156Z\" fill=\"#4c78a8\" fill-opacity=\"1\" stroke=\"#505050\" stroke-width=\"0\"/><path aria-label=\"x1: 167; x2: 168.9; level: 24; level2: 24.9; status: Default; sf: maybe_compress_codeinfo(interp::Core.Compiler.NativeInterpreter, linfo::Core.MethodInstance, ci::Core.CodeInfo) at typeinfer.jl:346\" role=\"graphics-symbol\" aria-roledescription=\"rect mark\" d=\"M381.7142857142857,337.75h4.342857142857156v2.25h-4.342857142857156Z\" fill=\"#4c78a8\" fill-opacity=\"1\" stroke=\"#505050\" stroke-width=\"0\"/><path aria-label=\"x1: 169; x2: 201.9; level: 17; level2: 17.9; status: Default; sf: single_timestep(ny::Int64, nx::Int64) at Chapter11-I2VIS.ipynb:27\" role=\"graphics-symbol\" aria-roledescription=\"rect mark\" d=\"M386.2857142857143,355.25h75.19999999999999v2.25h-75.19999999999999Z\" fill=\"#4c78a8\" fill-opacity=\"1\" stroke=\"#505050\" stroke-width=\"0\"/><path aria-label=\"x1: 169; x2: 169.9; level: 18; level2: 18.9; status: Default; sf: marker_to_basic_node(m::Markers, grid::CartesianGrid, fieldnames::Vector{String}) at Markers.jl:0\" role=\"graphics-symbol\" aria-roledescription=\"rect mark\" d=\"M386.2857142857143,352.75h2.0571428571428783v2.25h-2.0571428571428783Z\" fill=\"#4c78a8\" fill-opacity=\"1\" stroke=\"#505050\" stroke-width=\"0\"/><path aria-label=\"x1: 170; x2: 172.9; level: 18; level2: 18.9; status: Garbage collection; sf: marker_to_basic_node(m::Markers, grid::CartesianGrid, fieldnames::Vector{String}) at Markers.jl:238\" role=\"graphics-symbol\" aria-roledescription=\"rect mark\" d=\"M388.57142857142856,352.75h6.628571428571433v2.25h-6.628571428571433Z\" fill=\"#f58518\" fill-opacity=\"1\" stroke=\"#505050\" stroke-width=\"0\"/><path aria-label=\"x1: 173; x2: 173.9; level: 18; level2: 18.9; status: Runtime dispatch; sf: marker_to_basic_node(m::Markers, grid::CartesianGrid, fieldnames::Vector{String}) at Markers.jl:240\" role=\"graphics-symbol\" aria-roledescription=\"rect mark\" d=\"M395.42857142857144,352.75h2.0571428571428783v2.25h-2.0571428571428783Z\" fill=\"#e45756\" fill-opacity=\"1\" stroke=\"#505050\" stroke-width=\"0\"/><path aria-label=\"x1: 174; x2: 174.9; level: 18; level2: 18.9; status: Garbage collection; sf: marker_to_basic_node(m::Markers, grid::CartesianGrid, fieldnames::Vector{String}) at Markers.jl:242\" role=\"graphics-symbol\" aria-roledescription=\"rect mark\" d=\"M397.7142857142857,352.75h2.0571428571428783v2.25h-2.0571428571428783Z\" fill=\"#f58518\" fill-opacity=\"1\" stroke=\"#505050\" stroke-width=\"0\"/><path aria-label=\"x1: 175; x2: 175.9; level: 18; level2: 18.9; status: Runtime dispatch; sf: marker_to_basic_node(m::Markers, grid::CartesianGrid, fieldnames::Vector{String}) at Markers.jl:244\" role=\"graphics-symbol\" aria-roledescription=\"rect mark\" d=\"M400,352.75h2.0571428571428214v2.25h-2.0571428571428214Z\" fill=\"#e45756\" fill-opacity=\"1\" stroke=\"#505050\" stroke-width=\"0\"/><path aria-label=\"x1: 176; x2: 177.9; level: 18; level2: 18.9; status: Garbage collection; sf: marker_to_basic_node(m::Markers, grid::CartesianGrid, fieldnames::Vector{String}) at Markers.jl:246\" role=\"graphics-symbol\" aria-roledescription=\"rect mark\" d=\"M402.28571428571433,352.75h4.342857142857156v2.25h-4.342857142857156Z\" fill=\"#f58518\" fill-opacity=\"1\" stroke=\"#505050\" stroke-width=\"0\"/><path aria-label=\"x1: 178; x2: 178.9; level: 18; level2: 18.9; status: Default; sf: marker_to_basic_node(m::Markers, grid::CartesianGrid, fieldnames::Vector{String}) at Markers.jl:249\" role=\"graphics-symbol\" aria-roledescription=\"rect mark\" d=\"M406.85714285714283,352.75h2.0571428571428783v2.25h-2.0571428571428783Z\" fill=\"#4c78a8\" fill-opacity=\"1\" stroke=\"#505050\" stroke-width=\"0\"/><path aria-label=\"x1: 179; x2: 182.9; level: 18; level2: 18.9; status: Garbage collection; sf: marker_to_basic_node(m::Markers, grid::CartesianGrid, fieldnames::Vector{String}) at Markers.jl:250\" role=\"graphics-symbol\" aria-roledescription=\"rect mark\" d=\"M409.14285714285717,352.75h8.914285714285711v2.25h-8.914285714285711Z\" fill=\"#f58518\" fill-opacity=\"1\" stroke=\"#505050\" stroke-width=\"0\"/><path aria-label=\"x1: 179; x2: 179.9; level: 19; level2: 19.9; status: Runtime dispatch; sf: setindex! at array.jl:905 [inlined]\" role=\"graphics-symbol\" aria-roledescription=\"rect mark\" d=\"M409.14285714285717,350.25h2.0571428571428214v2.25h-2.0571428571428214Z\" fill=\"#e45756\" fill-opacity=\"1\" stroke=\"#505050\" stroke-width=\"0\"/><path aria-label=\"x1: 183; x2: 187.9; level: 18; level2: 18.9; status: Garbage collection; sf: marker_to_basic_node(m::Markers, grid::CartesianGrid, fieldnames::Vector{String}) at Markers.jl:251\" role=\"graphics-symbol\" aria-roledescription=\"rect mark\" d=\"M418.28571428571433,352.75h11.199999999999989v2.25h-11.199999999999989Z\" fill=\"#f58518\" fill-opacity=\"1\" stroke=\"#505050\" stroke-width=\"0\"/><path aria-label=\"x1: 183; x2: 184.9; level: 19; level2: 19.9; status: Runtime dispatch; sf: setindex! at array.jl:905 [inlined]\" role=\"graphics-symbol\" aria-roledescription=\"rect mark\" d=\"M418.28571428571433,350.25h4.342857142857042v2.25h-4.342857142857042Z\" fill=\"#e45756\" fill-opacity=\"1\" stroke=\"#505050\" stroke-width=\"0\"/><path aria-label=\"x1: 188; x2: 189.9; level: 18; level2: 18.9; status: Runtime dispatch; sf: marker_to_basic_node(m::Markers, grid::CartesianGrid, fieldnames::Vector{String}) at Markers.jl:252\" role=\"graphics-symbol\" aria-roledescription=\"rect mark\" d=\"M429.7142857142857,352.75h4.342857142857156v2.25h-4.342857142857156Z\" fill=\"#e45756\" fill-opacity=\"1\" stroke=\"#505050\" stroke-width=\"0\"/><path aria-label=\"x1: 190; x2: 195.9; level: 18; level2: 18.9; status: Runtime dispatch; sf: marker_to_basic_node(m::Markers, grid::CartesianGrid, fieldnames::Vector{String}) at Markers.jl:253\" role=\"graphics-symbol\" aria-roledescription=\"rect mark\" d=\"M434.2857142857143,352.75h13.485714285714323v2.25h-13.485714285714323Z\" fill=\"#e45756\" fill-opacity=\"1\" stroke=\"#505050\" stroke-width=\"0\"/><path aria-label=\"x1: 190; x2: 191.9; level: 19; level2: 19.9; status: Runtime dispatch; sf: setindex! at array.jl:905 [inlined]\" role=\"graphics-symbol\" aria-roledescription=\"rect mark\" d=\"M434.2857142857143,350.25h4.342857142857156v2.25h-4.342857142857156Z\" fill=\"#e45756\" fill-opacity=\"1\" stroke=\"#505050\" stroke-width=\"0\"/><path aria-label=\"x1: 196; x2: 197.9; level: 18; level2: 18.9; status: Default; sf: marker_to_basic_node(m::Markers, grid::CartesianGrid, fieldnames::Vector{String}) at Markers.jl:255\" role=\"graphics-symbol\" aria-roledescription=\"rect mark\" d=\"M448.00000000000006,352.75h4.342857142857042v2.25h-4.342857142857042Z\" fill=\"#4c78a8\" fill-opacity=\"1\" stroke=\"#505050\" stroke-width=\"0\"/><path aria-label=\"x1: 196; x2: 197.9; level: 19; level2: 19.9; status: Runtime dispatch; sf: setindex! at array.jl:905 [inlined]\" role=\"graphics-symbol\" aria-roledescription=\"rect mark\" d=\"M448.00000000000006,350.25h4.342857142857042v2.25h-4.342857142857042Z\" fill=\"#e45756\" fill-opacity=\"1\" stroke=\"#505050\" stroke-width=\"0\"/><path aria-label=\"x1: 198; x2: 199.9; level: 18; level2: 18.9; status: Garbage collection; sf: marker_to_basic_node(m::Markers, grid::CartesianGrid, fieldnames::Vector{String}) at Markers.jl:256\" role=\"graphics-symbol\" aria-roledescription=\"rect mark\" d=\"M452.57142857142856,352.75h4.342857142857156v2.25h-4.342857142857156Z\" fill=\"#f58518\" fill-opacity=\"1\" stroke=\"#505050\" stroke-width=\"0\"/><path aria-label=\"x1: 198; x2: 198.9; level: 19; level2: 19.9; status: Runtime dispatch; sf: setindex! at array.jl:905 [inlined]\" role=\"graphics-symbol\" aria-roledescription=\"rect mark\" d=\"M452.57142857142856,350.25h2.0571428571428783v2.25h-2.0571428571428783Z\" fill=\"#e45756\" fill-opacity=\"1\" stroke=\"#505050\" stroke-width=\"0\"/><path aria-label=\"x1: 200; x2: 200.9; level: 18; level2: 18.9; status: Default; sf: marker_to_basic_node(m::Markers, grid::CartesianGrid, fieldnames::Vector{String}) at Markers.jl:257\" role=\"graphics-symbol\" aria-roledescription=\"rect mark\" d=\"M457.1428571428571,352.75h2.057142857142935v2.25h-2.057142857142935Z\" fill=\"#4c78a8\" fill-opacity=\"1\" stroke=\"#505050\" stroke-width=\"0\"/><path aria-label=\"x1: 201; x2: 201.9; level: 18; level2: 18.9; status: Default; sf: marker_to_basic_node(m::Markers, grid::CartesianGrid, fieldnames::Vector{String}) at Markers.jl:258\" role=\"graphics-symbol\" aria-roledescription=\"rect mark\" d=\"M459.42857142857144,352.75h2.0571428571428214v2.25h-2.0571428571428214Z\" fill=\"#4c78a8\" fill-opacity=\"1\" stroke=\"#505050\" stroke-width=\"0\"/><path aria-label=\"x1: 201; x2: 201.9; level: 19; level2: 19.9; status: Runtime dispatch; sf: setindex! at array.jl:905 [inlined]\" role=\"graphics-symbol\" aria-roledescription=\"rect mark\" d=\"M459.42857142857144,350.25h2.0571428571428214v2.25h-2.0571428571428214Z\" fill=\"#e45756\" fill-opacity=\"1\" stroke=\"#505050\" stroke-width=\"0\"/><path aria-label=\"x1: 202; x2: 203.9; level: 17; level2: 17.9; status: Default; sf: single_timestep(ny::Int64, nx::Int64) at Chapter11-I2VIS.ipynb:43\" role=\"graphics-symbol\" aria-roledescription=\"rect mark\" d=\"M461.7142857142857,355.25h4.342857142857156v2.25h-4.342857142857156Z\" fill=\"#4c78a8\" fill-opacity=\"1\" stroke=\"#505050\" stroke-width=\"0\"/><path aria-label=\"x1: 202; x2: 202.9; level: 18; level2: 18.9; status: Runtime dispatch; sf: form_stokes(grid::CartesianGrid, eta_s::Matrix{Float64}, eta_n::Matrix{Float64}, rho::Matrix{Float64}, bc::BoundaryConditions, gx::Float64, gy::Float64) at Stokes.jl:178\" role=\"graphics-symbol\" aria-roledescription=\"rect mark\" d=\"M461.7142857142857,352.75h2.0571428571428783v2.25h-2.0571428571428783Z\" fill=\"#e45756\" fill-opacity=\"1\" stroke=\"#505050\" stroke-width=\"0\"/><path aria-label=\"x1: 203; x2: 203.9; level: 18; level2: 18.9; status: Runtime dispatch; sf: form_stokes(grid::CartesianGrid, eta_s::Matrix{Float64}, eta_n::Matrix{Float64}, rho::Matrix{Float64}, bc::BoundaryConditions, gx::Float64, gy::Float64) at Stokes.jl:200\" role=\"graphics-symbol\" aria-roledescription=\"rect mark\" d=\"M463.99999999999994,352.75h2.057142857142935v2.25h-2.057142857142935Z\" fill=\"#e45756\" fill-opacity=\"1\" stroke=\"#505050\" stroke-width=\"0\"/><path aria-label=\"x1: 204; x2: 207.9; level: 17; level2: 17.9; status: Default; sf: single_timestep(ny::Int64, nx::Int64) at Chapter11-I2VIS.ipynb:44\" role=\"graphics-symbol\" aria-roledescription=\"rect mark\" d=\"M466.2857142857143,355.25h8.914285714285711v2.25h-8.914285714285711Z\" fill=\"#4c78a8\" fill-opacity=\"1\" stroke=\"#505050\" stroke-width=\"0\"/><path aria-label=\"x1: 204; x2: 207.9; level: 18; level2: 18.9; status: Default; sf: \\(A::SparseMatrixCSC{Float64, Int64}, B::Matrix{Float64}) at linalg.jl:1554\" role=\"graphics-symbol\" aria-roledescription=\"rect mark\" d=\"M466.2857142857143,352.75h8.914285714285711v2.25h-8.914285714285711Z\" fill=\"#4c78a8\" fill-opacity=\"1\" stroke=\"#505050\" stroke-width=\"0\"/><path aria-label=\"x1: 204; x2: 207.9; level: 19; level2: 19.9; status: Default; sf: lu at umfpack.jl:196 [inlined]\" role=\"graphics-symbol\" aria-roledescription=\"rect mark\" d=\"M466.2857142857143,350.25h8.914285714285711v2.25h-8.914285714285711Z\" fill=\"#4c78a8\" fill-opacity=\"1\" stroke=\"#505050\" stroke-width=\"0\"/><path aria-label=\"x1: 204; x2: 207.9; level: 20; level2: 20.9; status: Default; sf: lu(S::SparseMatrixCSC{Float64, Int64}; check::Bool) at umfpack.jl:202\" role=\"graphics-symbol\" aria-roledescription=\"rect mark\" d=\"M466.2857142857143,347.75h8.914285714285711v2.25h-8.914285714285711Z\" fill=\"#4c78a8\" fill-opacity=\"1\" stroke=\"#505050\" stroke-width=\"0\"/><path aria-label=\"x1: 204; x2: 207.9; level: 21; level2: 21.9; status: Default; sf: umfpack_numeric! at umfpack.jl:385 [inlined]\" role=\"graphics-symbol\" aria-roledescription=\"rect mark\" d=\"M466.2857142857143,345.25h8.914285714285711v2.25h-8.914285714285711Z\" fill=\"#4c78a8\" fill-opacity=\"1\" stroke=\"#505050\" stroke-width=\"0\"/><path aria-label=\"x1: 204; x2: 204.9; level: 22; level2: 22.9; status: Default; sf: umfpack_numeric!(U::SuiteSparse.UMFPACK.UmfpackLU{Float64, Int64}; reuse_numeric::Bool) at umfpack.jl:386\" role=\"graphics-symbol\" aria-roledescription=\"rect mark\" d=\"M466.2857142857143,342.75h2.0571428571428783v2.25h-2.0571428571428783Z\" fill=\"#4c78a8\" fill-opacity=\"1\" stroke=\"#505050\" stroke-width=\"0\"/><path aria-label=\"x1: 204; x2: 204.9; level: 23; level2: 23.9; status: Default; sf: umfpack_symbolic!(U::SuiteSparse.UMFPACK.UmfpackLU{Float64, Int64}) at umfpack.jl:365\" role=\"graphics-symbol\" aria-roledescription=\"rect mark\" d=\"M466.2857142857143,340.25h2.0571428571428783v2.25h-2.0571428571428783Z\" fill=\"#4c78a8\" fill-opacity=\"1\" stroke=\"#505050\" stroke-width=\"0\"/><path aria-label=\"x1: 205; x2: 207.9; level: 22; level2: 22.9; status: Default; sf: umfpack_numeric!(U::SuiteSparse.UMFPACK.UmfpackLU{Float64, Int64}; reuse_numeric::Bool) at umfpack.jl:388\" role=\"graphics-symbol\" aria-roledescription=\"rect mark\" d=\"M468.5714285714286,342.75h6.628571428571377v2.25h-6.628571428571377Z\" fill=\"#4c78a8\" fill-opacity=\"1\" stroke=\"#505050\" stroke-width=\"0\"/><path aria-label=\"x1: 208; x2: 230.9; level: 17; level2: 17.9; status: Default; sf: single_timestep(ny::Int64, nx::Int64) at Chapter11-I2VIS.ipynb:50\" role=\"graphics-symbol\" aria-roledescription=\"rect mark\" d=\"M475.42857142857144,355.25h52.342857142857156v2.25h-52.342857142857156Z\" fill=\"#4c78a8\" fill-opacity=\"1\" stroke=\"#505050\" stroke-width=\"0\"/><path aria-label=\"x1: 208; x2: 209.9; level: 18; level2: 18.9; status: Runtime dispatch; sf: marker_to_cell_center(m::Markers, grid::CartesianGrid, fieldnames::Vector{String}) at Markers.jl:155\" role=\"graphics-symbol\" aria-roledescription=\"rect mark\" d=\"M475.42857142857144,352.75h4.342857142857156v2.25h-4.342857142857156Z\" fill=\"#e45756\" fill-opacity=\"1\" stroke=\"#505050\" stroke-width=\"0\"/><path aria-label=\"x1: 210; x2: 214.9; level: 18; level2: 18.9; status: Garbage collection; sf: marker_to_cell_center(m::Markers, grid::CartesianGrid, fieldnames::Vector{String}) at Markers.jl:156\" role=\"graphics-symbol\" aria-roledescription=\"rect mark\" d=\"M480,352.75h11.199999999999989v2.25h-11.199999999999989Z\" fill=\"#f58518\" fill-opacity=\"1\" stroke=\"#505050\" stroke-width=\"0\"/><path aria-label=\"x1: 215; x2: 216.9; level: 18; level2: 18.9; status: Garbage collection; sf: marker_to_cell_center(m::Markers, grid::CartesianGrid, fieldnames::Vector{String}) at Markers.jl:158\" role=\"graphics-symbol\" aria-roledescription=\"rect mark\" d=\"M491.42857142857144,352.75h4.342857142857156v2.25h-4.342857142857156Z\" fill=\"#f58518\" fill-opacity=\"1\" stroke=\"#505050\" stroke-width=\"0\"/><path aria-label=\"x1: 217; x2: 221.9; level: 18; level2: 18.9; status: Runtime dispatch; sf: marker_to_cell_center(m::Markers, grid::CartesianGrid, fieldnames::Vector{String}) at Markers.jl:168\" role=\"graphics-symbol\" aria-roledescription=\"rect mark\" d=\"M496,352.75h11.199999999999989v2.25h-11.199999999999989Z\" fill=\"#e45756\" fill-opacity=\"1\" stroke=\"#505050\" stroke-width=\"0\"/><path aria-label=\"x1: 217; x2: 219.9; level: 19; level2: 19.9; status: Runtime dispatch; sf: setindex! at array.jl:905 [inlined]\" role=\"graphics-symbol\" aria-roledescription=\"rect mark\" d=\"M496,350.25h6.62857142857149v2.25h-6.62857142857149Z\" fill=\"#e45756\" fill-opacity=\"1\" stroke=\"#505050\" stroke-width=\"0\"/><path aria-label=\"x1: 222; x2: 223.9; level: 18; level2: 18.9; status: Garbage collection; sf: marker_to_cell_center(m::Markers, grid::CartesianGrid, fieldnames::Vector{String}) at Markers.jl:169\" role=\"graphics-symbol\" aria-roledescription=\"rect mark\" d=\"M507.4285714285714,352.75h4.342857142857156v2.25h-4.342857142857156Z\" fill=\"#f58518\" fill-opacity=\"1\" stroke=\"#505050\" stroke-width=\"0\"/><path aria-label=\"x1: 224; x2: 225.9; level: 18; level2: 18.9; status: Default; sf: marker_to_cell_center(m::Markers, grid::CartesianGrid, fieldnames::Vector{String}) at Markers.jl:170\" role=\"graphics-symbol\" aria-roledescription=\"rect mark\" d=\"M512,352.75h4.342857142857156v2.25h-4.342857142857156Z\" fill=\"#4c78a8\" fill-opacity=\"1\" stroke=\"#505050\" stroke-width=\"0\"/><path aria-label=\"x1: 224; x2: 224.9; level: 19; level2: 19.9; status: Default; sf: getindex at array.jl:862 [inlined]\" role=\"graphics-symbol\" aria-roledescription=\"rect mark\" d=\"M512,350.25h2.0571428571428214v2.25h-2.0571428571428214Z\" fill=\"#4c78a8\" fill-opacity=\"1\" stroke=\"#505050\" stroke-width=\"0\"/><path aria-label=\"x1: 225; x2: 225.9; level: 19; level2: 19.9; status: Runtime dispatch; sf: setindex! at array.jl:905 [inlined]\" role=\"graphics-symbol\" aria-roledescription=\"rect mark\" d=\"M514.2857142857143,350.25h2.0571428571428214v2.25h-2.0571428571428214Z\" fill=\"#e45756\" fill-opacity=\"1\" stroke=\"#505050\" stroke-width=\"0\"/><path aria-label=\"x1: 226; x2: 227.9; level: 18; level2: 18.9; status: Garbage collection; sf: marker_to_cell_center(m::Markers, grid::CartesianGrid, fieldnames::Vector{String}) at Markers.jl:171\" role=\"graphics-symbol\" aria-roledescription=\"rect mark\" d=\"M516.5714285714286,352.75h4.342857142857156v2.25h-4.342857142857156Z\" fill=\"#f58518\" fill-opacity=\"1\" stroke=\"#505050\" stroke-width=\"0\"/><path aria-label=\"x1: 228; x2: 229.9; level: 18; level2: 18.9; status: Default; sf: marker_to_cell_center(m::Markers, grid::CartesianGrid, fieldnames::Vector{String}) at Markers.jl:173\" role=\"graphics-symbol\" aria-roledescription=\"rect mark\" d=\"M521.1428571428572,352.75h4.342857142857156v2.25h-4.342857142857156Z\" fill=\"#4c78a8\" fill-opacity=\"1\" stroke=\"#505050\" stroke-width=\"0\"/><path aria-label=\"x1: 228; x2: 229.9; level: 19; level2: 19.9; status: Runtime dispatch; sf: setindex! at array.jl:905 [inlined]\" role=\"graphics-symbol\" aria-roledescription=\"rect mark\" d=\"M521.1428571428572,350.25h4.342857142857156v2.25h-4.342857142857156Z\" fill=\"#e45756\" fill-opacity=\"1\" stroke=\"#505050\" stroke-width=\"0\"/><path aria-label=\"x1: 230; x2: 230.9; level: 18; level2: 18.9; status: Default; sf: marker_to_cell_center(m::Markers, grid::CartesianGrid, fieldnames::Vector{String}) at Markers.jl:175\" role=\"graphics-symbol\" aria-roledescription=\"rect mark\" d=\"M525.7142857142857,352.75h2.057142857142935v2.25h-2.057142857142935Z\" fill=\"#4c78a8\" fill-opacity=\"1\" stroke=\"#505050\" stroke-width=\"0\"/><path aria-label=\"x1: 230; x2: 230.9; level: 19; level2: 19.9; status: Runtime dispatch; sf: setindex! at array.jl:905 [inlined]\" role=\"graphics-symbol\" aria-roledescription=\"rect mark\" d=\"M525.7142857142857,350.25h2.057142857142935v2.25h-2.057142857142935Z\" fill=\"#e45756\" fill-opacity=\"1\" stroke=\"#505050\" stroke-width=\"0\"/><path aria-label=\"x1: 231; x2: 231.9; level: 17; level2: 17.9; status: Runtime dispatch; sf: single_timestep(ny::Int64, nx::Int64) at Chapter11-I2VIS.ipynb:55\" role=\"graphics-symbol\" aria-roledescription=\"rect mark\" d=\"M528,355.25h2.0571428571428214v2.25h-2.0571428571428214Z\" fill=\"#e45756\" fill-opacity=\"1\" stroke=\"#505050\" stroke-width=\"0\"/><path aria-label=\"x1: 231; x2: 231.9; level: 18; level2: 18.9; status: Runtime dispatch; sf: assemble_energy_equation_center(grid::CartesianGrid, rho::Matrix{Float64}, Cp::Matrix{Float64}, kThermal::Matrix{Float64}, H::Matrix{Float64}, Tlast::Matrix{Float64}, dt::Float64) at Chapter11-I2VIS.ipynb:93\" role=\"graphics-symbol\" aria-roledescription=\"rect mark\" d=\"M528,352.75h2.0571428571428214v2.25h-2.0571428571428214Z\" fill=\"#e45756\" fill-opacity=\"1\" stroke=\"#505050\" stroke-width=\"0\"/><path aria-label=\"x1: 232; x2: 232.9; level: 17; level2: 17.9; status: Default; sf: single_timestep(ny::Int64, nx::Int64) at Chapter11-I2VIS.ipynb:56\" role=\"graphics-symbol\" aria-roledescription=\"rect mark\" d=\"M530.2857142857142,355.25h2.057142857142935v2.25h-2.057142857142935Z\" fill=\"#4c78a8\" fill-opacity=\"1\" stroke=\"#505050\" stroke-width=\"0\"/><path aria-label=\"x1: 232; x2: 232.9; level: 18; level2: 18.9; status: Default; sf: \\(A::SparseMatrixCSC{Float64, Int64}, B::Matrix{Float64}) at linalg.jl:1554\" role=\"graphics-symbol\" aria-roledescription=\"rect mark\" d=\"M530.2857142857142,352.75h2.057142857142935v2.25h-2.057142857142935Z\" fill=\"#4c78a8\" fill-opacity=\"1\" stroke=\"#505050\" stroke-width=\"0\"/><path aria-label=\"x1: 232; x2: 232.9; level: 19; level2: 19.9; status: Default; sf: lu at umfpack.jl:196 [inlined]\" role=\"graphics-symbol\" aria-roledescription=\"rect mark\" d=\"M530.2857142857142,350.25h2.057142857142935v2.25h-2.057142857142935Z\" fill=\"#4c78a8\" fill-opacity=\"1\" stroke=\"#505050\" stroke-width=\"0\"/><path aria-label=\"x1: 232; x2: 232.9; level: 20; level2: 20.9; status: Default; sf: lu(S::SparseMatrixCSC{Float64, Int64}; check::Bool) at umfpack.jl:202\" role=\"graphics-symbol\" aria-roledescription=\"rect mark\" d=\"M530.2857142857142,347.75h2.057142857142935v2.25h-2.057142857142935Z\" fill=\"#4c78a8\" fill-opacity=\"1\" stroke=\"#505050\" stroke-width=\"0\"/><path aria-label=\"x1: 232; x2: 232.9; level: 21; level2: 21.9; status: Default; sf: umfpack_numeric! at umfpack.jl:385 [inlined]\" role=\"graphics-symbol\" aria-roledescription=\"rect mark\" d=\"M530.2857142857142,345.25h2.057142857142935v2.25h-2.057142857142935Z\" fill=\"#4c78a8\" fill-opacity=\"1\" stroke=\"#505050\" stroke-width=\"0\"/><path aria-label=\"x1: 232; x2: 232.9; level: 22; level2: 22.9; status: Default; sf: umfpack_numeric!(U::SuiteSparse.UMFPACK.UmfpackLU{Float64, Int64}; reuse_numeric::Bool) at umfpack.jl:388\" role=\"graphics-symbol\" aria-roledescription=\"rect mark\" d=\"M530.2857142857142,342.75h2.057142857142935v2.25h-2.057142857142935Z\" fill=\"#4c78a8\" fill-opacity=\"1\" stroke=\"#505050\" stroke-width=\"0\"/><path aria-label=\"x1: 233; x2: 255.9; level: 17; level2: 17.9; status: Default; sf: single_timestep(ny::Int64, nx::Int64) at Chapter11-I2VIS.ipynb:61\" role=\"graphics-symbol\" aria-roledescription=\"rect mark\" d=\"M532.5714285714286,355.25h52.342857142857156v2.25h-52.342857142857156Z\" fill=\"#4c78a8\" fill-opacity=\"1\" stroke=\"#505050\" stroke-width=\"0\"/><path aria-label=\"x1: 233; x2: 255.9; level: 18; level2: 18.9; status: Default; sf: subgrid_temperature_relaxation!(markers::Markers, grid::CartesianGrid, Tlast::Matrix{Float64}, Cp::Float64, kThermal::Float64, dt::Float64) at Chapter11-I2VIS.ipynb:165\" role=\"graphics-symbol\" aria-roledescription=\"rect mark\" d=\"M532.5714285714286,352.75h52.342857142857156v2.25h-52.342857142857156Z\" fill=\"#4c78a8\" fill-opacity=\"1\" stroke=\"#505050\" stroke-width=\"0\"/><path aria-label=\"x1: 233; x2: 233.9; level: 19; level2: 19.9; status: Runtime dispatch; sf: marker_to_cell_center(m::Markers, grid::CartesianGrid, markerfield::Vector{Float64}) at Markers.jl:195\" role=\"graphics-symbol\" aria-roledescription=\"rect mark\" d=\"M532.5714285714286,350.25h2.0571428571428214v2.25h-2.0571428571428214Z\" fill=\"#e45756\" fill-opacity=\"1\" stroke=\"#505050\" stroke-width=\"0\"/><path aria-label=\"x1: 234; x2: 234.9; level: 19; level2: 19.9; status: Runtime dispatch; sf: marker_to_cell_center(m::Markers, grid::CartesianGrid, markerfield::Vector{Float64}) at Markers.jl:197\" role=\"graphics-symbol\" aria-roledescription=\"rect mark\" d=\"M534.8571428571429,350.25h2.0571428571428214v2.25h-2.0571428571428214Z\" fill=\"#e45756\" fill-opacity=\"1\" stroke=\"#505050\" stroke-width=\"0\"/><path aria-label=\"x1: 235; x2: 235.9; level: 19; level2: 19.9; status: Garbage collection; sf: marker_to_cell_center(m::Markers, grid::CartesianGrid, markerfield::Vector{Float64}) at Markers.jl:198\" role=\"graphics-symbol\" aria-roledescription=\"rect mark\" d=\"M537.1428571428571,350.25h2.057142857142935v2.25h-2.057142857142935Z\" fill=\"#f58518\" fill-opacity=\"1\" stroke=\"#505050\" stroke-width=\"0\"/><path aria-label=\"x1: 236; x2: 236.9; level: 19; level2: 19.9; status: Garbage collection; sf: marker_to_cell_center(m::Markers, grid::CartesianGrid, markerfield::Vector{Float64}) at Markers.jl:200\" role=\"graphics-symbol\" aria-roledescription=\"rect mark\" d=\"M539.4285714285714,350.25h2.0571428571428214v2.25h-2.0571428571428214Z\" fill=\"#f58518\" fill-opacity=\"1\" stroke=\"#505050\" stroke-width=\"0\"/><path aria-label=\"x1: 237; x2: 237.9; level: 19; level2: 19.9; status: Runtime dispatch; sf: marker_to_cell_center(m::Markers, grid::CartesianGrid, markerfield::Vector{Float64}) at Markers.jl:204\" role=\"graphics-symbol\" aria-roledescription=\"rect mark\" d=\"M541.7142857142858,350.25h2.0571428571428214v2.25h-2.0571428571428214Z\" fill=\"#e45756\" fill-opacity=\"1\" stroke=\"#505050\" stroke-width=\"0\"/><path aria-label=\"x1: 238; x2: 242.9; level: 19; level2: 19.9; status: Garbage collection; sf: marker_to_cell_center(m::Markers, grid::CartesianGrid, markerfield::Vector{Float64}) at Markers.jl:208\" role=\"graphics-symbol\" aria-roledescription=\"rect mark\" d=\"M544,350.25h11.200000000000045v2.25h-11.200000000000045Z\" fill=\"#f58518\" fill-opacity=\"1\" stroke=\"#505050\" stroke-width=\"0\"/><path aria-label=\"x1: 238; x2: 238.9; level: 20; level2: 20.9; status: Runtime dispatch; sf: setindex! at array.jl:905 [inlined]\" role=\"graphics-symbol\" aria-roledescription=\"rect mark\" d=\"M544,347.75h2.057142857142935v2.25h-2.057142857142935Z\" fill=\"#e45756\" fill-opacity=\"1\" stroke=\"#505050\" stroke-width=\"0\"/><path aria-label=\"x1: 243; x2: 243.9; level: 19; level2: 19.9; status: Default; sf: marker_to_cell_center(m::Markers, grid::CartesianGrid, markerfield::Vector{Float64}) at Markers.jl:209\" role=\"graphics-symbol\" aria-roledescription=\"rect mark\" d=\"M555.4285714285714,350.25h2.0571428571428214v2.25h-2.0571428571428214Z\" fill=\"#4c78a8\" fill-opacity=\"1\" stroke=\"#505050\" stroke-width=\"0\"/><path aria-label=\"x1: 243; x2: 243.9; level: 20; level2: 20.9; status: Runtime dispatch; sf: setindex! at array.jl:905 [inlined]\" role=\"graphics-symbol\" aria-roledescription=\"rect mark\" d=\"M555.4285714285714,347.75h2.0571428571428214v2.25h-2.0571428571428214Z\" fill=\"#e45756\" fill-opacity=\"1\" stroke=\"#505050\" stroke-width=\"0\"/><path aria-label=\"x1: 244; x2: 247.9; level: 19; level2: 19.9; status: Garbage collection; sf: marker_to_cell_center(m::Markers, grid::CartesianGrid, markerfield::Vector{Float64}) at Markers.jl:210\" role=\"graphics-symbol\" aria-roledescription=\"rect mark\" d=\"M557.7142857142858,350.25h8.914285714285711v2.25h-8.914285714285711Z\" fill=\"#f58518\" fill-opacity=\"1\" stroke=\"#505050\" stroke-width=\"0\"/><path aria-label=\"x1: 244; x2: 244.9; level: 20; level2: 20.9; status: Runtime dispatch; sf: setindex! at array.jl:905 [inlined]\" role=\"graphics-symbol\" aria-roledescription=\"rect mark\" d=\"M557.7142857142858,347.75h2.0571428571428214v2.25h-2.0571428571428214Z\" fill=\"#e45756\" fill-opacity=\"1\" stroke=\"#505050\" stroke-width=\"0\"/><path aria-label=\"x1: 248; x2: 249.9; level: 19; level2: 19.9; status: Garbage collection; sf: marker_to_cell_center(m::Markers, grid::CartesianGrid, markerfield::Vector{Float64}) at Markers.jl:211\" role=\"graphics-symbol\" aria-roledescription=\"rect mark\" d=\"M566.8571428571428,350.25h4.342857142857156v2.25h-4.342857142857156Z\" fill=\"#f58518\" fill-opacity=\"1\" stroke=\"#505050\" stroke-width=\"0\"/><path aria-label=\"x1: 250; x2: 252.9; level: 19; level2: 19.9; status: Runtime dispatch; sf: marker_to_cell_center(m::Markers, grid::CartesianGrid, markerfield::Vector{Float64}) at Markers.jl:213\" role=\"graphics-symbol\" aria-roledescription=\"rect mark\" d=\"M571.4285714285714,350.25h6.62857142857149v2.25h-6.62857142857149Z\" fill=\"#e45756\" fill-opacity=\"1\" stroke=\"#505050\" stroke-width=\"0\"/><path aria-label=\"x1: 250; x2: 251.9; level: 20; level2: 20.9; status: Runtime dispatch; sf: setindex! at array.jl:905 [inlined]\" role=\"graphics-symbol\" aria-roledescription=\"rect mark\" d=\"M571.4285714285714,347.75h4.342857142857156v2.25h-4.342857142857156Z\" fill=\"#e45756\" fill-opacity=\"1\" stroke=\"#505050\" stroke-width=\"0\"/><path aria-label=\"x1: 253; x2: 253.9; level: 19; level2: 19.9; status: Default; sf: marker_to_cell_center(m::Markers, grid::CartesianGrid, markerfield::Vector{Float64}) at Markers.jl:214\" role=\"graphics-symbol\" aria-roledescription=\"rect mark\" d=\"M578.2857142857143,350.25h2.0571428571428214v2.25h-2.0571428571428214Z\" fill=\"#4c78a8\" fill-opacity=\"1\" stroke=\"#505050\" stroke-width=\"0\"/><path aria-label=\"x1: 253; x2: 253.9; level: 20; level2: 20.9; status: Runtime dispatch; sf: setindex! at array.jl:905 [inlined]\" role=\"graphics-symbol\" aria-roledescription=\"rect mark\" d=\"M578.2857142857143,347.75h2.0571428571428214v2.25h-2.0571428571428214Z\" fill=\"#e45756\" fill-opacity=\"1\" stroke=\"#505050\" stroke-width=\"0\"/><path aria-label=\"x1: 254; x2: 254.9; level: 19; level2: 19.9; status: Default; sf: marker_to_cell_center(m::Markers, grid::CartesianGrid, markerfield::Vector{Float64}) at Markers.jl:215\" role=\"graphics-symbol\" aria-roledescription=\"rect mark\" d=\"M580.5714285714286,350.25h2.057142857142935v2.25h-2.057142857142935Z\" fill=\"#4c78a8\" fill-opacity=\"1\" stroke=\"#505050\" stroke-width=\"0\"/><path aria-label=\"x1: 254; x2: 254.9; level: 20; level2: 20.9; status: Runtime dispatch; sf: setindex! at array.jl:905 [inlined]\" role=\"graphics-symbol\" aria-roledescription=\"rect mark\" d=\"M580.5714285714286,347.75h2.057142857142935v2.25h-2.057142857142935Z\" fill=\"#e45756\" fill-opacity=\"1\" stroke=\"#505050\" stroke-width=\"0\"/><path aria-label=\"x1: 255; x2: 255.9; level: 19; level2: 19.9; status: Default; sf: marker_to_cell_center(m::Markers, grid::CartesianGrid, markerfield::Vector{Float64}) at Markers.jl:216\" role=\"graphics-symbol\" aria-roledescription=\"rect mark\" d=\"M582.8571428571428,350.25h2.057142857142935v2.25h-2.057142857142935Z\" fill=\"#4c78a8\" fill-opacity=\"1\" stroke=\"#505050\" stroke-width=\"0\"/><path aria-label=\"x1: 256; x2: 263.9; level: 1; level2: 1.9; status: Default; sf: (::var&quot;#226#threadsfor_fun#36&quot;{Markers, CartesianGrid, Matrix{Float64}, Vector{Float64}, UnitRange{Int64}})() at threadingconstructs.jl:52\" role=\"graphics-symbol\" aria-roledescription=\"rect mark\" d=\"M585.1428571428571,395.25h18.05714285714282v2.25h-18.05714285714282Z\" fill=\"#4c78a8\" fill-opacity=\"1\" stroke=\"#505050\" stroke-width=\"0\"/><path aria-label=\"x1: 256; x2: 263.9; level: 2; level2: 2.9; status: Default; sf: (::var&quot;#226#threadsfor_fun#36&quot;{Markers, CartesianGrid, Matrix{Float64}, Vector{Float64}, UnitRange{Int64}})(onethread::Bool) at threadingconstructs.jl:85\" role=\"graphics-symbol\" aria-roledescription=\"rect mark\" d=\"M585.1428571428571,392.75h18.05714285714282v2.25h-18.05714285714282Z\" fill=\"#4c78a8\" fill-opacity=\"1\" stroke=\"#505050\" stroke-width=\"0\"/><path aria-label=\"x1: 256; x2: 256.9; level: 3; level2: 3.9; status: Runtime dispatch; sf: macro expansion at Markers.jl:316 [inlined]\" role=\"graphics-symbol\" aria-roledescription=\"rect mark\" d=\"M585.1428571428571,390.25h2.057142857142935v2.25h-2.057142857142935Z\" fill=\"#e45756\" fill-opacity=\"1\" stroke=\"#505050\" stroke-width=\"0\"/><path aria-label=\"x1: 257; x2: 262.9; level: 3; level2: 3.9; status: Garbage collection; sf: macro expansion at Markers.jl:318 [inlined]\" role=\"graphics-symbol\" aria-roledescription=\"rect mark\" d=\"M587.4285714285714,390.25h13.485714285714266v2.25h-13.485714285714266Z\" fill=\"#f58518\" fill-opacity=\"1\" stroke=\"#505050\" stroke-width=\"0\"/><path aria-label=\"x1: 263; x2: 263.9; level: 3; level2: 3.9; status: Runtime dispatch; sf: macro expansion at Markers.jl:319 [inlined]\" role=\"graphics-symbol\" aria-roledescription=\"rect mark\" d=\"M601.1428571428571,390.25h2.0571428571428214v2.25h-2.0571428571428214Z\" fill=\"#e45756\" fill-opacity=\"1\" stroke=\"#505050\" stroke-width=\"0\"/><path aria-label=\"x1: 264; x2: 270.9; level: 1; level2: 1.9; status: Default; sf: (::var&quot;#243#threadsfor_fun#37&quot;{Markers, CartesianGrid, Matrix{Float64}, Int64, UnitRange{Int64}})() at threadingconstructs.jl:52\" role=\"graphics-symbol\" aria-roledescription=\"rect mark\" d=\"M603.4285714285714,395.25h15.771428571428487v2.25h-15.771428571428487Z\" fill=\"#4c78a8\" fill-opacity=\"1\" stroke=\"#505050\" stroke-width=\"0\"/><path aria-label=\"x1: 264; x2: 270.9; level: 2; level2: 2.9; status: Default; sf: (::var&quot;#243#threadsfor_fun#37&quot;{Markers, CartesianGrid, Matrix{Float64}, Int64, UnitRange{Int64}})(onethread::Bool) at threadingconstructs.jl:85\" role=\"graphics-symbol\" aria-roledescription=\"rect mark\" d=\"M603.4285714285714,392.75h15.771428571428487v2.25h-15.771428571428487Z\" fill=\"#4c78a8\" fill-opacity=\"1\" stroke=\"#505050\" stroke-width=\"0\"/><path aria-label=\"x1: 264; x2: 265.9; level: 3; level2: 3.9; status: Runtime dispatch; sf: macro expansion at Markers.jl:344 [inlined]\" role=\"graphics-symbol\" aria-roledescription=\"rect mark\" d=\"M603.4285714285714,390.25h4.342857142857042v2.25h-4.342857142857042Z\" fill=\"#e45756\" fill-opacity=\"1\" stroke=\"#505050\" stroke-width=\"0\"/><path aria-label=\"x1: 266; x2: 266.9; level: 3; level2: 3.9; status: Runtime dispatch; sf: macro expansion at Markers.jl:346 [inlined]\" role=\"graphics-symbol\" aria-roledescription=\"rect mark\" d=\"M608,390.25h2.0571428571427077v2.25h-2.0571428571427077Z\" fill=\"#e45756\" fill-opacity=\"1\" stroke=\"#505050\" stroke-width=\"0\"/><path aria-label=\"x1: 267; x2: 268.9; level: 3; level2: 3.9; status: Runtime dispatch; sf: macro expansion at Markers.jl:348 [inlined]\" role=\"graphics-symbol\" aria-roledescription=\"rect mark\" d=\"M610.2857142857143,390.25h4.342857142857042v2.25h-4.342857142857042Z\" fill=\"#e45756\" fill-opacity=\"1\" stroke=\"#505050\" stroke-width=\"0\"/><path aria-label=\"x1: 269; x2: 270.9; level: 3; level2: 3.9; status: Garbage collection; sf: macro expansion at Markers.jl:349 [inlined]\" role=\"graphics-symbol\" aria-roledescription=\"rect mark\" d=\"M614.8571428571429,390.25h4.342857142857042v2.25h-4.342857142857042Z\" fill=\"#f58518\" fill-opacity=\"1\" stroke=\"#505050\" stroke-width=\"0\"/><path aria-label=\"x1: 271; x2: 281.9; level: 1; level2: 1.9; status: Default; sf: (::var&quot;#275#threadsfor_fun#40&quot;{Matrix{Float64}, Matrix{Int64}, CartesianGrid, Matrix{Float64}, Matrix{Float64}, Vector{Float64}, Vector{Float64}, UnitRange{Int64}})() at threadingconstructs.jl:52\" role=\"graphics-symbol\" aria-roledescription=\"rect mark\" d=\"M619.4285714285714,395.25h24.91428571428571v2.25h-24.91428571428571Z\" fill=\"#4c78a8\" fill-opacity=\"1\" stroke=\"#505050\" stroke-width=\"0\"/><path aria-label=\"x1: 271; x2: 281.9; level: 2; level2: 2.9; status: Default; sf: (::var&quot;#275#threadsfor_fun#40&quot;{Matrix{Float64}, Matrix{Int64}, CartesianGrid, Matrix{Float64}, Matrix{Float64}, Vector{Float64}, Vector{Float64}, UnitRange{Int64}})(onethread::Bool) at threadingconstructs.jl:85\" role=\"graphics-symbol\" aria-roledescription=\"rect mark\" d=\"M619.4285714285714,392.75h24.91428571428571v2.25h-24.91428571428571Z\" fill=\"#4c78a8\" fill-opacity=\"1\" stroke=\"#505050\" stroke-width=\"0\"/><path aria-label=\"x1: 271; x2: 271.9; level: 3; level2: 3.9; status: Default; sf: macro expansion at Markers.jl:463 [inlined]\" role=\"graphics-symbol\" aria-roledescription=\"rect mark\" d=\"M619.4285714285714,390.25h2.0571428571428214v2.25h-2.0571428571428214Z\" fill=\"#4c78a8\" fill-opacity=\"1\" stroke=\"#505050\" stroke-width=\"0\"/><path aria-label=\"x1: 272; x2: 277.9; level: 3; level2: 3.9; status: Garbage collection; sf: macro expansion at Markers.jl:465 [inlined]\" role=\"graphics-symbol\" aria-roledescription=\"rect mark\" d=\"M621.7142857142857,390.25h13.485714285714266v2.25h-13.485714285714266Z\" fill=\"#f58518\" fill-opacity=\"1\" stroke=\"#505050\" stroke-width=\"0\"/><path aria-label=\"x1: 278; x2: 281.9; level: 3; level2: 3.9; status: Runtime dispatch; sf: macro expansion at Markers.jl:466 [inlined]\" role=\"graphics-symbol\" aria-roledescription=\"rect mark\" d=\"M635.4285714285714,390.25h8.914285714285711v2.25h-8.914285714285711Z\" fill=\"#e45756\" fill-opacity=\"1\" stroke=\"#505050\" stroke-width=\"0\"/><path aria-label=\"x1: 282; x2: 289.9; level: 1; level2: 1.9; status: Default; sf: (::var&quot;#306#threadsfor_fun#42&quot;{Markers, Float64, Matrix{Float64}, UnitRange{Int64}})() at threadingconstructs.jl:52\" role=\"graphics-symbol\" aria-roledescription=\"rect mark\" d=\"M644.5714285714286,395.25h18.05714285714282v2.25h-18.05714285714282Z\" fill=\"#4c78a8\" fill-opacity=\"1\" stroke=\"#505050\" stroke-width=\"0\"/><path aria-label=\"x1: 282; x2: 289.9; level: 2; level2: 2.9; status: Default; sf: (::var&quot;#306#threadsfor_fun#42&quot;{Markers, Float64, Matrix{Float64}, UnitRange{Int64}})(onethread::Bool) at threadingconstructs.jl:85\" role=\"graphics-symbol\" aria-roledescription=\"rect mark\" d=\"M644.5714285714286,392.75h18.05714285714282v2.25h-18.05714285714282Z\" fill=\"#4c78a8\" fill-opacity=\"1\" stroke=\"#505050\" stroke-width=\"0\"/><path aria-label=\"x1: 282; x2: 284.9; level: 3; level2: 3.9; status: Garbage collection; sf: macro expansion at Markers.jl:508 [inlined]\" role=\"graphics-symbol\" aria-roledescription=\"rect mark\" d=\"M644.5714285714286,390.25h6.628571428571377v2.25h-6.628571428571377Z\" fill=\"#f58518\" fill-opacity=\"1\" stroke=\"#505050\" stroke-width=\"0\"/><path aria-label=\"x1: 285; x2: 289.9; level: 3; level2: 3.9; status: Garbage collection; sf: macro expansion at Markers.jl:509 [inlined]\" role=\"graphics-symbol\" aria-roledescription=\"rect mark\" d=\"M651.4285714285714,390.25h11.199999999999932v2.25h-11.199999999999932Z\" fill=\"#f58518\" fill-opacity=\"1\" stroke=\"#505050\" stroke-width=\"0\"/><path aria-label=\"x1: 285; x2: 286.9; level: 4; level2: 4.9; status: Runtime dispatch; sf: setindex! at array.jl:905 [inlined]\" role=\"graphics-symbol\" aria-roledescription=\"rect mark\" d=\"M651.4285714285714,387.75h4.342857142857042v2.25h-4.342857142857042Z\" fill=\"#e45756\" fill-opacity=\"1\" stroke=\"#505050\" stroke-width=\"0\"/><path aria-label=\"x1: 290; x2: 296.9; level: 1; level2: 1.9; status: Default; sf: (::var&quot;#336#threadsfor_fun#44&quot;{Markers, Float64, UnitRange{Int64}})() at threadingconstructs.jl:52\" role=\"graphics-symbol\" aria-roledescription=\"rect mark\" d=\"M662.8571428571429,395.25h15.771428571428487v2.25h-15.771428571428487Z\" fill=\"#4c78a8\" fill-opacity=\"1\" stroke=\"#505050\" stroke-width=\"0\"/><path aria-label=\"x1: 290; x2: 296.9; level: 2; level2: 2.9; status: Default; sf: (::var&quot;#336#threadsfor_fun#44&quot;{Markers, Float64, UnitRange{Int64}})(onethread::Bool) at threadingconstructs.jl:85\" role=\"graphics-symbol\" aria-roledescription=\"rect mark\" d=\"M662.8571428571429,392.75h15.771428571428487v2.25h-15.771428571428487Z\" fill=\"#4c78a8\" fill-opacity=\"1\" stroke=\"#505050\" stroke-width=\"0\"/><path aria-label=\"x1: 290; x2: 294.9; level: 3; level2: 3.9; status: Runtime dispatch; sf: macro expansion at Markers.jl:521 [inlined]\" role=\"graphics-symbol\" aria-roledescription=\"rect mark\" d=\"M662.8571428571429,390.25h11.199999999999932v2.25h-11.199999999999932Z\" fill=\"#e45756\" fill-opacity=\"1\" stroke=\"#505050\" stroke-width=\"0\"/><path aria-label=\"x1: 290; x2: 291.9; level: 4; level2: 4.9; status: Runtime dispatch; sf: setindex! at array.jl:905 [inlined]\" role=\"graphics-symbol\" aria-roledescription=\"rect mark\" d=\"M662.8571428571429,387.75h4.342857142857042v2.25h-4.342857142857042Z\" fill=\"#e45756\" fill-opacity=\"1\" stroke=\"#505050\" stroke-width=\"0\"/><path aria-label=\"x1: 295; x2: 296.9; level: 3; level2: 3.9; status: Runtime dispatch; sf: macro expansion at Markers.jl:522 [inlined]\" role=\"graphics-symbol\" aria-roledescription=\"rect mark\" d=\"M674.2857142857143,390.25h4.342857142857042v2.25h-4.342857142857042Z\" fill=\"#e45756\" fill-opacity=\"1\" stroke=\"#505050\" stroke-width=\"0\"/><path aria-label=\"x1: 295; x2: 295.9; level: 4; level2: 4.9; status: Runtime dispatch; sf: setindex! at array.jl:905 [inlined]\" role=\"graphics-symbol\" aria-roledescription=\"rect mark\" d=\"M674.2857142857143,387.75h2.0571428571428214v2.25h-2.0571428571428214Z\" fill=\"#e45756\" fill-opacity=\"1\" stroke=\"#505050\" stroke-width=\"0\"/><path aria-label=\"x1: 297; x2: 303.9; level: 1; level2: 1.9; status: Default; sf: (::var&quot;#363#threadsfor_fun#47&quot;{Markers, CartesianGrid, Float64, Float64, Float64, Int64, Int64, Vector{Float64}, Float64, UnitRange{Int64}})() at threadingconstructs.jl:52\" role=\"graphics-symbol\" aria-roledescription=\"rect mark\" d=\"M678.8571428571428,395.25h15.7714285714286v2.25h-15.7714285714286Z\" fill=\"#4c78a8\" fill-opacity=\"1\" stroke=\"#505050\" stroke-width=\"0\"/><path aria-label=\"x1: 297; x2: 303.9; level: 2; level2: 2.9; status: Default; sf: (::var&quot;#363#threadsfor_fun#47&quot;{Markers, CartesianGrid, Float64, Float64, Float64, Int64, Int64, Vector{Float64}, Float64, UnitRange{Int64}})(onethread::Bool) at threadingconstructs.jl:85\" role=\"graphics-symbol\" aria-roledescription=\"rect mark\" d=\"M678.8571428571428,392.75h15.7714285714286v2.25h-15.7714285714286Z\" fill=\"#4c78a8\" fill-opacity=\"1\" stroke=\"#505050\" stroke-width=\"0\"/><path aria-label=\"x1: 297; x2: 297.9; level: 3; level2: 3.9; status: Runtime dispatch; sf: macro expansion at Chapter11-I2VIS.ipynb:157 [inlined]\" role=\"graphics-symbol\" aria-roledescription=\"rect mark\" d=\"M678.8571428571428,390.25h2.057142857142935v2.25h-2.057142857142935Z\" fill=\"#e45756\" fill-opacity=\"1\" stroke=\"#505050\" stroke-width=\"0\"/><path aria-label=\"x1: 298; x2: 298.9; level: 3; level2: 3.9; status: Runtime dispatch; sf: macro expansion at Chapter11-I2VIS.ipynb:158 [inlined]\" role=\"graphics-symbol\" aria-roledescription=\"rect mark\" d=\"M681.1428571428571,390.25h2.0571428571428214v2.25h-2.0571428571428214Z\" fill=\"#e45756\" fill-opacity=\"1\" stroke=\"#505050\" stroke-width=\"0\"/><path aria-label=\"x1: 299; x2: 299.9; level: 3; level2: 3.9; status: Runtime dispatch; sf: macro expansion at Chapter11-I2VIS.ipynb:159 [inlined]\" role=\"graphics-symbol\" aria-roledescription=\"rect mark\" d=\"M683.4285714285714,390.25h2.0571428571428214v2.25h-2.0571428571428214Z\" fill=\"#e45756\" fill-opacity=\"1\" stroke=\"#505050\" stroke-width=\"0\"/><path aria-label=\"x1: 300; x2: 303.9; level: 3; level2: 3.9; status: Garbage collection; sf: macro expansion at Chapter11-I2VIS.ipynb:160 [inlined]\" role=\"graphics-symbol\" aria-roledescription=\"rect mark\" d=\"M685.7142857142857,390.25h8.914285714285711v2.25h-8.914285714285711Z\" fill=\"#f58518\" fill-opacity=\"1\" stroke=\"#505050\" stroke-width=\"0\"/><path aria-label=\"x1: 301; x2: 301.9; level: 4; level2: 4.9; status: Default; sf: /(x::Float64, y::Float64) at float.jl:408\" role=\"graphics-symbol\" aria-roledescription=\"rect mark\" d=\"M688,387.75h2.0571428571428214v2.25h-2.0571428571428214Z\" fill=\"#4c78a8\" fill-opacity=\"1\" stroke=\"#505050\" stroke-width=\"0\"/></g><g class=\"mark-group role-legend\" role=\"graphics-symbol\" aria-roledescription=\"legend\" aria-label=\"Symbol legend for fill color with 3 values: Default, Garbage collection, Runtime dispatch\"><g transform=\"translate(0,418)\"><path class=\"background\" aria-hidden=\"true\" d=\"M0,0h270v13h-270Z\" pointer-events=\"none\"/><g><g class=\"mark-group role-legend-entry\"><g transform=\"translate(0,0)\"><path class=\"background\" aria-hidden=\"true\" d=\"M0,0h0v0h0Z\" pointer-events=\"none\"/><g><g class=\"mark-group role-scope\" role=\"graphics-object\" aria-roledescription=\"group mark container\"><g transform=\"translate(0,0.25)\"><path class=\"background\" aria-hidden=\"true\" d=\"M0,0h49v12.5h-49Z\" pointer-events=\"none\" opacity=\"1\"/><g><g class=\"mark-symbol role-legend-symbol\" pointer-events=\"none\"><path transform=\"translate(6,6)\" d=\"M-5,-5h10v10h-10Z\" fill=\"#4c78a8\" stroke=\"#505050\" stroke-width=\"1.5\" opacity=\"1\"/></g><g class=\"mark-text role-legend-label\" pointer-events=\"none\"><text text-anchor=\"start\" transform=\"translate(16,9)\" font-family=\"sans-serif\" font-size=\"10px\" fill=\"#000\" opacity=\"1\">Default</text></g></g><path class=\"foreground\" aria-hidden=\"true\" d=\"\" pointer-events=\"none\" display=\"none\"/></g><g transform=\"translate(60,0.25)\"><path class=\"background\" aria-hidden=\"true\" d=\"M0,0h103v12.5h-103Z\" pointer-events=\"none\" opacity=\"1\"/><g><g class=\"mark-symbol role-legend-symbol\" pointer-events=\"none\"><path transform=\"translate(6,6)\" d=\"M-5,-5h10v10h-10Z\" fill=\"#f58518\" stroke=\"#505050\" stroke-width=\"1.5\" opacity=\"1\"/></g><g class=\"mark-text role-legend-label\" pointer-events=\"none\"><text text-anchor=\"start\" transform=\"translate(16,9)\" font-family=\"sans-serif\" font-size=\"10px\" fill=\"#000\" opacity=\"1\">Garbage collection</text></g></g><path class=\"foreground\" aria-hidden=\"true\" d=\"\" pointer-events=\"none\" display=\"none\"/></g><g transform=\"translate(174,0.25)\"><path class=\"background\" aria-hidden=\"true\" d=\"M0,0h96v12.5h-96Z\" pointer-events=\"none\" opacity=\"1\"/><g><g class=\"mark-symbol role-legend-symbol\" pointer-events=\"none\"><path transform=\"translate(6,6)\" d=\"M-5,-5h10v10h-10Z\" fill=\"#e45756\" stroke=\"#505050\" stroke-width=\"1.5\" opacity=\"1\"/></g><g class=\"mark-text role-legend-label\" pointer-events=\"none\"><text text-anchor=\"start\" transform=\"translate(16,9)\" font-family=\"sans-serif\" font-size=\"10px\" fill=\"#000\" opacity=\"1\">Runtime dispatch</text></g></g><path class=\"foreground\" aria-hidden=\"true\" d=\"\" pointer-events=\"none\" display=\"none\"/></g></g></g><path class=\"foreground\" aria-hidden=\"true\" d=\"\" pointer-events=\"none\" display=\"none\"/></g></g></g><path class=\"foreground\" aria-hidden=\"true\" d=\"\" pointer-events=\"none\" display=\"none\"/></g></g><g class=\"mark-group role-title\"><g transform=\"translate(400,-17)\"><path class=\"background\" aria-hidden=\"true\" d=\"M0,0h0v0h0Z\" pointer-events=\"none\"/><g><g class=\"mark-text role-title-text\" role=\"graphics-symbol\" aria-roledescription=\"title\" aria-label=\"Title text 'Profile Results'\" pointer-events=\"none\"><text text-anchor=\"middle\" transform=\"translate(0,10)\" font-family=\"sans-serif\" font-size=\"13px\" font-weight=\"bold\" fill=\"#000\" opacity=\"1\">Profile Results</text></g></g><path class=\"foreground\" aria-hidden=\"true\" d=\"\" pointer-events=\"none\" display=\"none\"/></g></g></g><path class=\"foreground\" aria-hidden=\"true\" d=\"\" display=\"none\"/></g></g></g><defs><clipPath id=\"clip1\"><rect x=\"0\" y=\"0\" width=\"800\" height=\"400\"/></clipPath></defs></svg>\n"
      ],
      "text/plain": [
       "@vlplot(\n",
       "    mark={\n",
       "        type=\"rect\",\n",
       "        stroke=\"#505050\"\n",
       "    },\n",
       "    transform=[\n",
       "        {\n",
       "            calculate=\"datum.level+0.9\",\n",
       "            as=\"level2\"\n",
       "        }\n",
       "    ],\n",
       "    selection={\n",
       "        grid={\n",
       "            type=\"interval\",\n",
       "            bind=\"scales\"\n",
       "        },\n",
       "        highlight={\n",
       "            type=\"single\",\n",
       "            on=\"mouseover\",\n",
       "            empty=\"none\"\n",
       "        },\n",
       "        select={\n",
       "            type=\"multi\",\n",
       "            empty=\"none\"\n",
       "        }\n",
       "    },\n",
       "    width=800,\n",
       "    height=400,\n",
       "    title=\"Profile Results\",\n",
       "    encoding={\n",
       "        x={\n",
       "            axis=nothing,\n",
       "            field=\"x1\"\n",
       "        },\n",
       "        x2={\n",
       "            field=\"x2\"\n",
       "        },\n",
       "        y={\n",
       "            axis=nothing,\n",
       "            field=\"level\",\n",
       "            type=\"quantitative\"\n",
       "        },\n",
       "        y2={\n",
       "            field=\"level2\",\n",
       "            type=\"quantitative\"\n",
       "        },\n",
       "        fillOpacity={\n",
       "            condition=[\n",
       "                {\n",
       "                    selection=\"highlight\",\n",
       "                    value=0.6\n",
       "                },\n",
       "                {\n",
       "                    selection=\"select\",\n",
       "                    value=0.5\n",
       "                }\n",
       "            ],\n",
       "            value=1\n",
       "        },\n",
       "        strokeWidth={\n",
       "            condition=[\n",
       "                {\n",
       "                    selection=\"highlight\",\n",
       "                    value=0.5\n",
       "                },\n",
       "                {\n",
       "                    selection=\"select\",\n",
       "                    value=0.5\n",
       "                }\n",
       "            ],\n",
       "            value=0\n",
       "        },\n",
       "        color={\n",
       "            legend={\n",
       "                title=nothing,\n",
       "                orient=\"bottom\"\n",
       "            },\n",
       "            field=\"status\",\n",
       "            type=\"nominal\"\n",
       "        },\n",
       "        tooltip={\n",
       "            field=\"sf\"\n",
       "        }\n",
       "    },\n",
       "    data={\n",
       "        values=...\n",
       "    }\n",
       ")"
      ]
     },
     "metadata": {},
     "output_type": "display_data"
    }
   ],
   "source": [
    "function single_timestep(ny,nx)\n",
    "    W = 5e5\n",
    "    H = 5e5\n",
    "    gx = 0.0\n",
    "    gy = 10.0\n",
    "    bc = BoundaryConditions(0,0,0,0) # currently does nothing but is required argument to stokes solver.\n",
    "    markx = 5\n",
    "    marky = 5\n",
    "    seconds_in_year = 3.15e7\n",
    "    plot_interval = 1e5*seconds_in_year # plot interval in seconds\n",
    "    end_time = 3e7*seconds_in_year\n",
    "    dtmax = plot_interval\n",
    "    grid = CartesianGrid(W,H,nx,ny)\n",
    "    println(\"Creating Markers...\")\n",
    "    markers = Markers(grid,[\"T\",\"rho\",\"eta\"],[\"material\"] ; nmx=markx,nmy=marky,random=false)\n",
    "    println(\"Initial condition...\")\n",
    "    @time initial_conditions!(markers)\n",
    "\n",
    "    # define arrays for k, rho, cp, H at the basic nodes. Fill them with constant values for now.\n",
    "    kThermal = 3.0 .*ones(grid.ny,grid.nx);\n",
    "    Cp = 1250. .* ones(grid.ny,grid.nx);\n",
    "    H = zeros(grid.ny,grid.nx);\n",
    "\n",
    "    time = 0.0\n",
    "    iout=0\n",
    "    # Get density and viscosity from the markers.\n",
    "    tmp = marker_to_basic_node(markers,grid,[\"rho\",\"eta\"]);\n",
    "    rho_new = tmp[1,:,:];\n",
    "    eta_s_new = tmp[2,:,:];\n",
    "    \n",
    "    if time > 0.0\n",
    "        nanind = findall(isnan.(rho_new))\n",
    "        rho_new[nanind] = rho[nanind]\n",
    "        eta_s_new[nanind] = eta_s[nanind]     \n",
    "    end\n",
    "    \n",
    "    global rho   = copy(rho_new)\n",
    "    global eta_s = copy(eta_s_new) \n",
    "    \n",
    "    eta_n = viscosity_to_cell_centers(grid,eta_s_new)\n",
    "\n",
    "    # assemble and solve the stokes equations\n",
    "    L,R = form_stokes(grid,eta_s_new,eta_n,rho_new,bc,gx,gy)\n",
    "    solution = L\\R\n",
    "    vx,vy,P = unpack(solution,grid;ghost=true)\n",
    "    vxc,vyc = velocity_to_centers(grid,vx,vy)\n",
    "    dt = compute_timestep(grid,vxc,vyc;dtmax=dtmax)\n",
    "    \n",
    "    # get temperature at cell centers\n",
    "    tmp = marker_to_cell_center(markers,grid,[\"T\",])\n",
    "    Tlast = tmp[1,:,:]\n",
    "    Tlast = ghost_temperature(grid,Tlast);\n",
    "\n",
    "    # assemble and solve the energy equation\n",
    "    L,R = assemble_energy_equation_center(grid,rho,Cp,kThermal,H,Tlast,dt);\n",
    "    Tnew = L\\R;\n",
    "    Tnew = reshape(Tnew,grid.ny,grid.nx);\n",
    "    Tnew = ghost_temperature(grid,Tnew);\n",
    "    \n",
    "    dTemp = Tnew-Tlast\n",
    "    dT_subgrid_node = subgrid_temperature_relaxation!(markers,grid,Tlast,Cp[1,1],kThermal[1,1],dt)\n",
    "    dT_remaining = dTemp - dT_subgrid_node\n",
    "    cell_center_change_to_markers!(markers,grid,dT_remaining,\"T\")\n",
    "    \n",
    "    # if time == 0.0 || time - last_plot >= plot_interval\n",
    "    #     last_plot = time \n",
    "    #     name = @sprintf(\"output_chapter11/viz.%04d.vtr\",iout)\n",
    "    #     eta_s = zeros(grid.ny,grid.nx)\n",
    "    #     vn = velocity_to_basic_nodes(grid,vxc,vyc)\n",
    "\n",
    "    #     visualization(grid,rho,eta_s,vn,P,Tnew,time/seconds_in_year;filename=name)\n",
    "    #     name = @sprintf(\"output_chapter11/markers.%04d.vtp\",iout)\n",
    "    #     visualization(markers,time/seconds_in_year;filename=name)\n",
    "    #     iout += 1\n",
    "    # end\n",
    "    print(markers.nmark)\n",
    "    move_markers_rk2!(markers,grid,vxc,vyc,dt)\n",
    "    time += dt\n",
    "end\n",
    "\n",
    "using ProfileVega\n",
    "ProfileVega.@profview single_timestep(21,21)"
   ]
  },
  {
   "cell_type": "code",
   "execution_count": null,
   "id": "db73c54e",
   "metadata": {},
   "outputs": [],
   "source": []
  }
 ],
 "metadata": {
  "kernelspec": {
   "display_name": "Julia 20 Threads 1.7.1",
   "language": "julia",
   "name": "julia-20-threads-1.7"
  },
  "language_info": {
   "file_extension": ".jl",
   "mimetype": "application/julia",
   "name": "julia",
   "version": "1.7.1"
  }
 },
 "nbformat": 4,
 "nbformat_minor": 5
}
