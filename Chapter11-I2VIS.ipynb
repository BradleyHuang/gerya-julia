{
 "cells": [
  {
   "cell_type": "markdown",
   "id": "45531233",
   "metadata": {},
   "source": [
    "# Chapter 11 - I2VIS\n",
    "\n",
    "This is an implementation of a 2D viscous flow code. The energy equation (for temperature) is solved at the cell centers (unlike the example in the chapter 10 notebook, which is solved at the basic nodes."
   ]
  },
  {
   "cell_type": "code",
   "execution_count": 18,
   "id": "60568e1e",
   "metadata": {},
   "outputs": [
    {
     "data": {
      "text/plain": [
       "compute_timestep (generic function with 1 method)"
      ]
     },
     "execution_count": 18,
     "metadata": {},
     "output_type": "execute_result"
    }
   ],
   "source": [
    "# Import necessary packages\n",
    "using SparseArrays\n",
    "using LinearAlgebra\n",
    "using IterativeSolvers\n",
    "using WriteVTK\n",
    "using Printf\n",
    "\n",
    "include(\"Grid.jl\")\n",
    "include(\"Markers.jl\")\n",
    "include(\"Stokes.jl\")"
   ]
  },
  {
   "cell_type": "code",
   "execution_count": 90,
   "id": "c07b0433",
   "metadata": {},
   "outputs": [
    {
     "data": {
      "text/plain": [
       "initial_conditions! (generic function with 1 method)"
      ]
     },
     "execution_count": 90,
     "metadata": {},
     "output_type": "execute_result"
    }
   ],
   "source": [
    "# Define a function to form the energy equation left hand side and right hand side\n",
    "function assemble_energy_equation_center(grid::CartesianGrid,rho,Cp,kThermal,H,Tlast,dt)\n",
    "    bcleft  = -1   # -1 = insulating, 1 = constant temp\n",
    "    bcright = -1   #\n",
    "    bctop   =  1\n",
    "    bcbottom  = 1\n",
    "    bcval = [0.0,0.0,0.0,0.0] # left,right,top,bottom\n",
    "    \n",
    "    N = grid.nx*grid.ny\n",
    "    row = zeros(Int64,5*N);\n",
    "    col = zeros(Int64,5*N);\n",
    "    val = zeros(Float64, 5*N);\n",
    "    R = zeros(Float64,N,1);\n",
    "    k = 1;\n",
    "    #        j-1   j     j   j+1   j+1\n",
    "    #   i-1   |----kC----|----vy----|\n",
    "    #         |          |          |\n",
    "    #   i     kA    T   kB    T     |\n",
    "    #         |          |          |\n",
    "    #   i     |----kD--(i,j)--vy----|\n",
    "    #         |          |          |\n",
    "    #   i+1   vx    c    vx   c     vx\n",
    "    #         |          |          |\n",
    "    #   i+1   |----vy----|----vy----|\n",
    "    \n",
    "    for j in 1:grid.nx\n",
    "        dxc = j>1 ? grid.x[j] - grid.x[j-1] : grid.x[j+1] - grid.x[j]\n",
    "        dxp = grid.xc[j+1] - grid.xc[j]\n",
    "        dxm = j>1 ? grid.xc[j]-grid.xc[j-1] : grid.xc[j+1] - grid.xc[j]\n",
    "        for i in 1:grid.ny\n",
    "            dyc = i>1 ? grid.y[i] - grid.y[i-1] : grid.y[i+1] - grid.y[i]\n",
    "            dyp = grid.yc[i+1] - grid.yc[i]\n",
    "            dym = i>1 ? grid.yc[i]-grid.yc[i-1] : grid.yc[i+1] - grid.yc[i]\n",
    "            \n",
    "            this_row = node_index(i,j,grid.ny);\n",
    "            if i==1 # ghost nodes along top.\n",
    "                row[k] = this_row\n",
    "                col[k] = this_row\n",
    "                val[k] = 1.0/2.0\n",
    "                k+=1\n",
    "                \n",
    "                row[k] = this_row\n",
    "                col[k] = node_index(i+1,j,grid.ny)\n",
    "                val[k] = bctop/2.0\n",
    "                k+=1\n",
    "                \n",
    "                R[this_row] = bcval[3]\n",
    "            elseif j==1 # ghost nodes along left side.\n",
    "                row[k] = this_row\n",
    "                col[k] = this_row\n",
    "                val[k] = 1.0/2.0\n",
    "                k+=1\n",
    "                \n",
    "                row[k] = this_row\n",
    "                col[k] = node_index(i,j+1,grid.ny)\n",
    "                val[k] = bcleft/2.0\n",
    "                k+=1\n",
    "                \n",
    "                R[this_row] = bcval[1]\n",
    "            else            \n",
    "                # kA, kB, kC, kD\n",
    "                kA = 0.5*(kThermal[i-1,j-1] + kThermal[i,j-1])\n",
    "                kB = 0.5*(kThermal[i,j]+kThermal[i-1,j])\n",
    "                kC = 0.5*(kThermal[i-1,j-1] + kThermal[i-1,j])\n",
    "                kD = 0.5*(kThermal[i,j-1] + kThermal[i,j])\n",
    "                rho_c = 0.25*(rho[i-1,j-1] + rho[i,j-1] + rho[i-1,j] + rho[i,j])\n",
    "                Cp_c = 0.25*(Cp[i-1,j-1] + Cp[i,j-1] + Cp[i-1,j] + Cp[i,j])\n",
    "\n",
    "                # diagonal entry\n",
    "                row[k] = this_row;\n",
    "                col[k] = this_row;\n",
    "                val[k] = (rho_c*Cp_c)/dt + kB/dxp/dxc + kA/dxm/dxc + kD/dyp/dyc + kC/dyp/dyc;\n",
    "                k+=1\n",
    "                # right\n",
    "                row[k] = this_row;\n",
    "                #col[k] = j==grid.nx ? node_index(i,2,grid.ny) : node_index(i,j+1,grid.ny);\n",
    "                col[k] = j==grid.nx ? node_index(i,j,grid.ny) : node_index(i,j+1,grid.ny);\n",
    "                val[k] = j==grid.nx ? bcright*kB/dxp/dxc : -kB/dxp/dxc;\n",
    "                k+=1\n",
    "                # left\n",
    "                row[k] = this_row;\n",
    "                col[k] = node_index(i,j-1,grid.ny);\n",
    "                val[k] = -kA/dxm/dxc;\n",
    "                k+=1\n",
    "                # down (+y)\n",
    "                row[k] = this_row;\n",
    "                col[k] = i==grid.ny ? node_index(i,j,grid.ny) : node_index(i+1,j,grid.ny);\n",
    "                val[k] = i==grid.ny ? bcbottom*kD/dyp/dyc : -kD/dyp/dyc;\n",
    "                k+=1\n",
    "                # up (-y)\n",
    "                row[k] = this_row;\n",
    "                col[k] = node_index(i-1,j,grid.ny);\n",
    "                val[k] = -kC/dyp/dyc;\n",
    "                k+=1\n",
    "                R[this_row] = Tlast[i,j]*rho_c*Cp_c/dt;\n",
    "                if j==grid.nx\n",
    "                    R[this_row] += -2*bcval[2]*bcright*kB/dxp/dxc\n",
    "                end\n",
    "                if i==grid.ny\n",
    "                    R[this_row] += -2*bcval[4]*bcbottom*kD/dyp/dyc\n",
    "                end\n",
    "            end\n",
    "        end\n",
    "    end\n",
    "    row = @views row[1:k-1]\n",
    "    col = @views col[1:k-1]\n",
    "    val = @views val[1:k-1]\n",
    "    L = sparse(row,col,val)\n",
    "    return L,R\n",
    "end\n",
    "\n",
    "function initial_conditions!(markers::Markers)\n",
    "    rho = markers.scalarFields[\"rho\"]\n",
    "    eta = markers.scalarFields[\"eta\"]\n",
    "    T = markers.scalarFields[\"T\"]\n",
    "    for i in 1:markers.nmark\n",
    "        mx = markers.x[1,i]\n",
    "        my = markers.x[2,i]\n",
    "        mr = ((mx-2.5e5)^2 + (my-2.5e5)^2)^0.5\n",
    "        # my initial misunderstanding of the problem setup:\n",
    "        # markers.rho[i] = mx >= 200e3 && mx <= 300e3 ? 3200. : 3300.\n",
    "        markers.scalars[rho,i] = mr < 1.0e5 ? 3200. : 3300.\n",
    "        markers.scalars[eta,i] = mr < 1.0e5 ? 1e20 : 1e21 \n",
    "        markers.scalars[T,i] = mr < 1.0e5 ? 1300. : 0.000\n",
    "    end\n",
    "end"
   ]
  },
  {
   "cell_type": "code",
   "execution_count": 91,
   "id": "5c1414a8",
   "metadata": {},
   "outputs": [
    {
     "name": "stdout",
     "output_type": "stream",
     "text": [
      "Creating Markers...\n",
      "  0.001830 seconds (21 allocations: 5.009 MiB)\n",
      "Initial condition...\n",
      "  0.002533 seconds\n"
     ]
    },
    {
     "data": {
      "text/plain": [
       "71×51 Matrix{Float64}:\n",
       " -1.66846  -1.66846  -1.67678  -1.69336  …  -1.69336  -1.67678  -1.66846\n",
       "  1.66846   1.66846   1.67678   1.69336      1.69336   1.67678   1.66846\n",
       "  5.00401   5.00401   5.02901   5.07884      5.07884   5.02901   5.00401\n",
       "  8.33546   8.33546   8.37727   8.46061      8.46061   8.37727   8.33546\n",
       " 11.66     11.66     11.7188   11.8361      11.8361   11.7188   11.66\n",
       " 14.9746   14.9746   15.0508   15.2026   …  15.2026   15.0508   14.9746\n",
       " 18.2763   18.2763   18.3701   18.5573      18.5573   18.3701   18.2763\n",
       " 21.5616   21.5616   21.6736   21.897       21.897    21.6736   21.5616\n",
       " 24.827    24.827    24.9577   25.2185      25.2185   24.9577   24.827\n",
       " 28.0686   28.0686   28.2186   28.5178      28.5178   28.2186   28.0686\n",
       " 31.2822   31.2822   31.4521   31.7911   …  31.7911   31.4521   31.2822\n",
       " 34.4632   34.4632   34.6537   35.0339      35.0339   34.6537   34.4632\n",
       " 37.6065   37.6065   37.8183   38.2411      38.2411   37.8183   37.6065\n",
       "  ⋮                                      ⋱                       ⋮\n",
       " 37.6065   37.6065   37.8183   38.2411      38.2411   37.8183   37.6065\n",
       " 34.4632   34.4632   34.6537   35.0339   …  35.0339   34.6537   34.4632\n",
       " 31.2822   31.2822   31.4521   31.7911      31.7911   31.4521   31.2822\n",
       " 28.0686   28.0686   28.2186   28.5178      28.5178   28.2186   28.0686\n",
       " 24.827    24.827    24.9577   25.2185      25.2185   24.9577   24.827\n",
       " 21.5616   21.5616   21.6736   21.897       21.897    21.6736   21.5616\n",
       " 18.2763   18.2763   18.3701   18.5573   …  18.5573   18.3701   18.2763\n",
       " 14.9746   14.9746   15.0508   15.2026      15.2026   15.0508   14.9746\n",
       " 11.66     11.66     11.7188   11.8361      11.8361   11.7188   11.66\n",
       "  8.33546   8.33546   8.37727   8.46061      8.46061   8.37727   8.33546\n",
       "  5.00401   5.00401   5.02901   5.07884      5.07884   5.02901   5.00401\n",
       "  1.66846   1.66846   1.67678   1.69336  …   1.69336   1.67678   1.66846"
      ]
     },
     "execution_count": 91,
     "metadata": {},
     "output_type": "execute_result"
    }
   ],
   "source": [
    "nx = 51\n",
    "ny = 71\n",
    "W = 5e5\n",
    "H = 5e5\n",
    "\n",
    "vx = 1e-9\n",
    "vy = 1e-9\n",
    "\n",
    "# plot_interval = W/vx/20.\n",
    "\n",
    "markx = 5\n",
    "marky = 5\n",
    "seconds_in_year = 3.15e7\n",
    "plot_interval = 1e5*seconds_in_year # plot interval in seconds\n",
    "end_time = W/vx # end time in seconds\n",
    "dtmax = plot_interval\n",
    "grid = CartesianGrid(W,H,nx,ny)\n",
    "println(\"Creating Markers...\")\n",
    "@time markers = Markers(grid,[\"T\",\"rho\",\"eta\"],[\"material\"] ; nmx=markx,nmy=marky,random=false)\n",
    "println(\"Initial condition...\")\n",
    "@time initial_conditions!(markers)\n",
    "\n",
    "# define arrays for k, rho, cp, H at the basic nodes. Fill them with constant values for now.\n",
    "rho = zeros(grid.ny,grid.nx);\n",
    "kThermal = zeros(grid.ny,grid.nx);\n",
    "Cp = zeros(grid.ny,grid.nx);\n",
    "H = zeros(grid.ny,grid.nx);\n",
    "fill!(rho,3200.);\n",
    "fill!(kThermal,3.0);\n",
    "fill!(Cp,1000.);\n",
    "\n",
    "dt = 1e9*seconds_in_year\n",
    "\n",
    "tmp = marker_to_cell_center(markers,grid,[\"T\",])\n",
    "Tlast = tmp[1,:,:]\n",
    "\n",
    "L,R = assemble_energy_equation_center(grid,rho,Cp,kThermal,H,Tlast,dt)\n",
    "Tnew = L\\R\n",
    "Tnew = reshape(Tnew,grid.ny,grid.nx)\n"
   ]
  },
  {
   "cell_type": "code",
   "execution_count": 92,
   "id": "a92597f1",
   "metadata": {},
   "outputs": [
    {
     "data": {
      "image/png": "[encoded data removed]",
      "text/plain": [
       "Figure(PyObject <Figure size 640x480 with 2 Axes>)"
      ]
     },
     "metadata": {},
     "output_type": "display_data"
    },
    {
     "data": {
      "image/png": "[encoded data removed]",
      "text/plain": [
       "Figure(PyObject <Figure size 640x480 with 2 Axes>)"
      ]
     },
     "metadata": {},
     "output_type": "display_data"
    }
   ],
   "source": [
    "using PyPlot\n",
    "figure()\n",
    "pcolormesh(Tlast)\n",
    "colorbar()\n",
    "show()\n",
    "\n",
    "\n",
    "figure()\n",
    "pcolormesh(Tnew)\n",
    "colorbar()\n",
    "show()"
   ]
  },
  {
   "cell_type": "code",
   "execution_count": 89,
   "id": "8f601377",
   "metadata": {},
   "outputs": [
    {
     "data": {
      "text/plain": [
       "51-element Vector{Float64}:\n",
       "  1.2434497875801753e-14\n",
       "  1.2434497875801753e-14\n",
       "  1.2434497875801753e-14\n",
       "  1.2878587085651816e-14\n",
       "  1.354472090042691e-14\n",
       "  1.3322676295501878e-14\n",
       "  1.3988810110276972e-14\n",
       "  1.4210854715202004e-14\n",
       "  1.4432899320127035e-14\n",
       "  1.509903313490213e-14\n",
       "  1.509903313490213e-14\n",
       "  1.4654943925052066e-14\n",
       "  1.4654943925052066e-14\n",
       "  ⋮\n",
       " -8.881784197001252e-16\n",
       " -6.661338147750939e-16\n",
       " -1.1102230246251565e-15\n",
       " -1.3322676295501878e-15\n",
       " -7.771561172376096e-16\n",
       " -6.661338147750939e-16\n",
       " -3.3306690738754696e-16\n",
       " -1.1102230246251565e-16\n",
       " -1.1102230246251565e-16\n",
       "  5.551115123125783e-17\n",
       "  5.551115123125783e-17\n",
       "  2.7755575615628914e-17"
      ]
     },
     "execution_count": 89,
     "metadata": {},
     "output_type": "execute_result"
    }
   ],
   "source": [
    "Tnew[2,:] - Tnew[end,:]"
   ]
  },
  {
   "cell_type": "code",
   "execution_count": null,
   "id": "c8168f55",
   "metadata": {},
   "outputs": [],
   "source": []
  }
 ],
 "metadata": {
  "kernelspec": {
   "display_name": "Julia 20 Threads 1.7.1",
   "language": "julia",
   "name": "julia-20-threads-1.7"
  },
  "language_info": {
   "file_extension": ".jl",
   "mimetype": "application/julia",
   "name": "julia",
   "version": "1.7.1"
  }
 },
 "nbformat": 4,
 "nbformat_minor": 5
}
