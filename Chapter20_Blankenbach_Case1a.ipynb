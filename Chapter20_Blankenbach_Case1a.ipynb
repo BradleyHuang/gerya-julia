{
 "cells": [
  {
   "cell_type": "markdown",
   "id": "8ea95bde",
   "metadata": {},
   "source": [
    "# Chapter 20 - Blankenbach - Case1a\n",
    "\n",
    "This notebook implements the Blankenbacch Case1a isoviscous thermal convection benchmark.\n",
    "\n",
    "This notebook puts all of the major function definitions into separate source files and contains only the high-level program code."
   ]
  },
  {
   "cell_type": "code",
   "execution_count": 2,
   "id": "adabca4a",
   "metadata": {},
   "outputs": [
    {
     "data": {
      "text/plain": [
       "plots (generic function with 1 method)"
      ]
     },
     "execution_count": 2,
     "metadata": {},
     "output_type": "execute_result"
    }
   ],
   "source": [
    "# Import necessary packages\n",
    "using SparseArrays\n",
    "using LinearAlgebra\n",
    "using IterativeSolvers\n",
    "using WriteVTK\n",
    "using Printf\n",
    "using Statistics \n",
    "include(\"Grid.jl\")\n",
    "include(\"Markers.jl\")\n",
    "include(\"Stokes.jl\")\n",
    "include(\"Temperature.jl\")\n",
    "\n",
    "# note that we import pyplot last to avoid a name conflict with grid.\n",
    "using PyPlot\n",
    "include(\"Visualization.jl\")"
   ]
  },
  {
   "cell_type": "code",
   "execution_count": 3,
   "id": "d1e54a62",
   "metadata": {},
   "outputs": [
    {
     "data": {
      "text/plain": [
       "initial_conditions! (generic function with 1 method)"
      ]
     },
     "execution_count": 3,
     "metadata": {},
     "output_type": "execute_result"
    }
   ],
   "source": [
    "function initial_conditions!(markers::Markers)\n",
    "    rho = markers.scalarFields[\"rho\"]\n",
    "    eta = markers.scalarFields[\"eta\"]\n",
    "    T = markers.scalarFields[\"T\"]\n",
    "    for i in 1:markers.nmark\n",
    "        mx = markers.x[1,i]\n",
    "        my = markers.x[2,i]\n",
    "        mr = ((mx-2.5e5)^2 + (my-2.5e5)^2)^0.5\n",
    "        # my initial misunderstanding of the problem setup:\n",
    "        # markers.rho[i] = mx >= 200e3 && mx <= 300e3 ? 3200. : 3300.\n",
    "        markers.scalars[rho,i] = mr < 1.0e5 ? 3200. : 3300.\n",
    "        markers.scalars[eta,i] = mr < 1.0e5 ? 1e20 : 1e21 \n",
    "        markers.scalars[T,i] = mr < 1.0e5 ? 1300. : 1000.\n",
    "    end\n",
    "end"
   ]
  },
  {
   "cell_type": "markdown",
   "id": "60ea66dc",
   "metadata": {},
   "source": [
    "## Model setup\n",
    "\n",
    "Boundary conditions are insulating on the sides, fixed temperature top and bottom.\n",
    "\n",
    "Initial condition is:\n",
    "$$\n",
    "T(x,y) = T_{surf} + \\frac{(T_{btm}-T_{surf})}{H} y + dT\\cos(\\frac{\\pi x}{W}) \\sin(\\frac{\\pi y}{H})\n",
    "$$\n",
    "\n",
    "Note that the origin of the coordinate system is in the upper right. $y$ increases downward, $x$ increases rightward."
   ]
  },
  {
   "cell_type": "code",
   "execution_count": 4,
   "id": "afccc752",
   "metadata": {},
   "outputs": [
    {
     "data": {
      "text/plain": [
       "run_blankenbach_case1a (generic function with 2 methods)"
      ]
     },
     "execution_count": 4,
     "metadata": {},
     "output_type": "execute_result"
    }
   ],
   "source": [
    "function blankenbach_initial_conditions!(markers::Markers,Ttop,Tbtm,W,H)\n",
    "    eta = markers.scalarFields[\"eta\"]\n",
    "    T = markers.scalarFields[\"T\"]\n",
    "    for i in 1:markers.nmark\n",
    "        mx = markers.x[1,i]\n",
    "        my = markers.x[2,i]\n",
    "        # T(x,y) = Tsurf + (Tbtm-Tsurf)/H * y + dT*cos(pi*x/W)\n",
    "        markers.scalars[eta,i] = 1e23\n",
    "        markers.scalars[T,i] = Ttop + (Tbtm-Ttop)/H*my + 100.0*cos(pi*mx/W)*sin(pi*my/H)\n",
    "    end\n",
    "end\n",
    "\n",
    "function compute_nusselt(grid::CartesianGrid,T,Tbcval,kThermal)\n",
    "    \n",
    "end\n",
    "\n",
    "function run_blankenbach_case1a(nstep=1)\n",
    "    nx = 257\n",
    "    ny = 257\n",
    "    W = 1e6\n",
    "    H = 1e6\n",
    "    \n",
    "    gx = 0.0\n",
    "    gy = 10.0\n",
    "    alpha = 2.5e-5; # thermal expansivity\n",
    "\n",
    "    bc = BoundaryConditions(0,0,0,0) # currently does nothing but is required argument to stokes solver.\n",
    "    Tbcval = [0.,0.,273.,1273.]   \n",
    "    \n",
    "    markx = 5\n",
    "    marky = 5\n",
    "    seconds_in_year = 3.15e7\n",
    "    plot_interval = 100e6*seconds_in_year # plot interval in seconds\n",
    "    end_time = 1e9*seconds_in_year\n",
    "    dtmax = plot_interval\n",
    "    \n",
    "    grid = CartesianGrid(W,H,nx,ny)\n",
    "    println(\"Creating Markers...\")\n",
    "    @time markers = Markers(grid,[\"T\",\"rho\",\"eta\"],[\"material\"] ; nmx=markx,nmy=marky,random=true)\n",
    "    println(\"Initial condition...\")\n",
    "    @time blankenbach_initial_conditions!(markers,Tbcval[3],Tbcval[4],W,H)\n",
    "\n",
    "    # define arrays for k, rho, cp, H at the basic nodes. Fill them with constant values for now.\n",
    "    kThermal = 5.0 .*ones(grid.ny,grid.nx);\n",
    "    Cp = 1250. .* ones(grid.ny,grid.nx);\n",
    "    H = zeros(grid.ny,grid.nx);\n",
    "\n",
    "    time = 0.0\n",
    "    iout=0\n",
    "    last_plot = 0.0\n",
    "\n",
    "    local rho\n",
    "    local eta_s\n",
    "    local T\n",
    "    local dt\n",
    "    local dTmax\n",
    "    local dTemp\n",
    "    local Tnew\n",
    "    local Tlast\n",
    "    \n",
    "    nu_values=zeros(0)\n",
    "    time_values=zeros(0)\n",
    "    \n",
    "    output_dir = \"case1a\"\n",
    "    for itime in 1:nstep\n",
    "        rho_var = markers.scalarFields[\"rho\"]\n",
    "        T_var = markers.scalarFields[\"T\"]\n",
    "        for i in 1:markers.nmark\n",
    "            markers.scalars[rho_var,i] = 4000.0*(1.0-alpha*(markers.scalars[T_var,i]-Tbcval[3]))\n",
    "        end\n",
    "        \n",
    "        # Get density and viscosity from the markers.\n",
    "        rho_new,eta_s_new = marker_to_basic_node(markers,grid,[\"rho\",\"eta\"]);\n",
    "\n",
    "        if time > 0.0\n",
    "            nanind = findall(isnan.(rho_new))\n",
    "            rho_new[nanind] = rho[nanind]\n",
    "            eta_s_new[nanind] = eta_s[nanind]     \n",
    "        end\n",
    "\n",
    "        rho   = copy(rho_new)\n",
    "        eta_s = copy(eta_s_new) \n",
    "\n",
    "        eta_n = viscosity_to_cell_centers(grid,eta_s_new)\n",
    "\n",
    "        # assemble and solve the stokes equations\n",
    "        L,R = form_stokes(grid,eta_s_new,eta_n,rho_new,bc,gx,gy)\n",
    "        solution = L\\R\n",
    "        vx,vy,P = unpack(solution,grid;ghost=true)\n",
    "        vxc,vyc = velocity_to_centers(grid,vx,vy)\n",
    "        dt = compute_timestep(grid,vxc,vyc;dtmax=dtmax)\n",
    "\n",
    "        # get temperature at cell centers\n",
    "        Tlast, = marker_to_cell_center(markers,grid,[\"T\",])\n",
    "        Tlast = ghost_temperature_center(grid,Tlast,Tbcval);\n",
    "        if time > 0.0\n",
    "            nanind = findall(isnan.(Tlast))\n",
    "            Tlast[nanind] = T[nanind]\n",
    "        end\n",
    "\n",
    "        dTmax = Inf\n",
    "        while dTmax >= 20.0 # limit maximum temperature change\n",
    "            # assemble and solve the energy equation\n",
    "            println(\"Trying with timestep \",dt)\n",
    "            L,R = assemble_energy_equation_center(grid,rho,Cp,kThermal,H,Tlast,dt,Tbcval);\n",
    "            Tnew = L\\R;\n",
    "            Tnew = reshape(Tnew,grid.ny,grid.nx);\n",
    "            Tnew = ghost_temperature_center(grid,Tnew,Tbcval);\n",
    "\n",
    "            T = copy(Tnew)\n",
    "\n",
    "            dTemp = Tnew-Tlast\n",
    "            # compute the maximum temperature change\n",
    "            dTmax = maximum(abs.(dTemp[2:end-1,2:end-1]))\n",
    "            println(\"dTmax=\",dTmax,\" dt=\",dt)\n",
    "            dt = min(dt,dTmax < 20.0 ? dt : dt/2)\n",
    "        end\n",
    "        # compute Nu\n",
    "        dTdy = (T[2,:]-T[1,:])/(grid.yc[2]-grid.yc[1])\n",
    "        kdTdy = kThermal[1,1]*dTdy\n",
    "        qcond = kThermal[1,1]*(Tbcval[4]-Tbcval[3])/grid.H\n",
    "        Nu = mean(kdTdy)/qcond;\n",
    "        \n",
    "        append!(nu_values,Nu)\n",
    "        append!(time_values,time)\n",
    "        \n",
    "        dT_subgrid_node = subgrid_temperature_relaxation_center!(markers,grid,Tlast,Cp[1,1],kThermal[1,1],dt)\n",
    "        dT_remaining = dTemp - dT_subgrid_node\n",
    "\n",
    "        cell_center_change_to_markers!(markers,grid,dT_remaining,\"T\")\n",
    "\n",
    "        if time == 0.0 || time - last_plot >= plot_interval\n",
    "            last_plot = time \n",
    "            name = @sprintf(\"%s/viz.%04d.vtr\",output_dir,iout)\n",
    "            vn = velocity_to_basic_nodes(grid,vxc,vyc)\n",
    "\n",
    "        visualization(grid,rho,eta_s,vn,P,Tnew[2:end-1,2:end-1],time/seconds_in_year;filename=name)\n",
    "            name = @sprintf(\"%s/markers.%04d.vtp\",output_dir,iout)\n",
    "            visualization(markers,time/seconds_in_year;filename=name)\n",
    "            iout += 1\n",
    "        end\n",
    "\n",
    "        move_markers_rk2!(markers,grid,vxc,vyc,dt)\n",
    "        time += dt\n",
    "        println(\"Finished Step \",itime,\" time=\",time/seconds_in_year/1e6,\" Myr Nu=\",Nu,\" \",extrema(Tnew[2:end-1,2:end-1]))\n",
    "    end\n",
    "    return nu_values, time_values\n",
    "end"
   ]
  },
  {
   "cell_type": "code",
   "execution_count": 8,
   "id": "0c65c0fa",
   "metadata": {},
   "outputs": [
    {
     "name": "stdout",
     "output_type": "stream",
     "text": [
      "Creating Markers...\n",
      "  0.026342 seconds (19 allocations: 91.336 MiB)\n",
      "Initial condition...\n",
      "  0.067381 seconds\n",
      "Trying with timestep 7.7113053819827e13\n",
      "dTmax=0.5393966648305195 dt=7.7113053819827e13\n",
      "Finished Step 1 time=2.4480334545976827 Myr Nu=1.0147007512907813 (274.35918328913516, 1271.6415672374187)\n",
      "Trying with timestep 7.575059280334462e13\n",
      "dTmax=0.34376650539684306 dt=7.575059280334462e13\n",
      "Finished Step 2 time=4.852814178513385 Myr Nu=0.9956338030650294 (274.3236911090975, 1271.6590058500835)\n",
      "Trying with timestep 7.44366527637738e13\n",
      "dTmax=0.2691965955493174 dt=7.44366527637738e13\n",
      "Finished Step 3 time=7.21588252022049 Myr Nu=0.9938678751860336 (274.31154657543595, 1271.6700517366503)\n",
      "Trying with timestep 7.316869497701084e13\n",
      "dTmax=0.303053795957112 dt=7.316869497701084e13\n",
      "Finished Step 4 time=9.538698233776389 Myr Nu=0.9948624882401681 (274.3030985206205, 1271.6788212517251)\n",
      "Trying with timestep 7.194439099638555e13\n",
      "dTmax=0.2940896587516022 dt=7.194439099638555e13\n",
      "Finished Step 5 time=11.822647154296567 Myr Nu=0.9963861282215097 (274.2952982166598, 1271.6866888255963)\n",
      " 29.250430 seconds (74.00 M allocations: 7.017 GiB, 1.55% gc time, 0.02% compilation time)\n"
     ]
    },
    {
     "data": {
      "text/plain": [
       "([1.0147007512907813, 0.9956338030650294, 0.9938678751860336, 0.9948624882401681, 0.9963861282215097], [0.0, 7.7113053819827e13, 1.5286364662317162e14, 2.2730029938694544e14, 3.0046899436395625e14])"
      ]
     },
     "execution_count": 8,
     "metadata": {},
     "output_type": "execute_result"
    }
   ],
   "source": [
    "@time nu,t = run_blankenbach_case1a(5)"
   ]
  },
  {
   "cell_type": "code",
   "execution_count": 6,
   "id": "e9188e2d",
   "metadata": {},
   "outputs": [
    {
     "data": {
      "image/png": "[encoded data removed]",
      "text/plain": [
       "Figure(PyObject <Figure size 640x480 with 1 Axes>)"
      ]
     },
     "metadata": {},
     "output_type": "display_data"
    }
   ],
   "source": [
    "figure()\n",
    "plot(t,nu)\n",
    "show()"
   ]
  },
  {
   "cell_type": "code",
   "execution_count": 7,
   "id": "35215835",
   "metadata": {},
   "outputs": [
    {
     "data": {
      "text/plain": [
       "4.720084308967778"
      ]
     },
     "execution_count": 7,
     "metadata": {},
     "output_type": "execute_result"
    }
   ],
   "source": [
    "nu[end]"
   ]
  },
  {
   "cell_type": "code",
   "execution_count": null,
   "id": "23d8fcd3",
   "metadata": {},
   "outputs": [],
   "source": []
  }
 ],
 "metadata": {
  "kernelspec": {
   "display_name": "Julia 20 Threads 1.7.1",
   "language": "julia",
   "name": "julia-20-threads-1.7"
  },
  "language_info": {
   "file_extension": ".jl",
   "mimetype": "application/julia",
   "name": "julia",
   "version": "1.7.1"
  }
 },
 "nbformat": 4,
 "nbformat_minor": 5
}
