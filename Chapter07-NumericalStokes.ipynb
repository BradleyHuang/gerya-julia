{
 "cells": [
  {
   "cell_type": "code",
   "execution_count": 1,
   "id": "0f82e058",
   "metadata": {},
   "outputs": [],
   "source": [
    "# Import necessary packages\n",
    "using PyPlot\n",
    "using SparseArrays\n",
    "using LinearAlgebra\n",
    "using IterativeSolvers\n",
    "using AlgebraicMultigrid"
   ]
  },
  {
   "cell_type": "code",
   "execution_count": 9,
   "id": "e25e4c4f",
   "metadata": {},
   "outputs": [
    {
     "data": {
      "text/plain": [
       "form_stokes (generic function with 1 method)"
      ]
     },
     "execution_count": 9,
     "metadata": {},
     "output_type": "execute_result"
    }
   ],
   "source": [
    "struct Grid\n",
    "    x::Vector\n",
    "    y::Vector\n",
    "    xc::Vector\n",
    "    yc::Vector\n",
    "    nx::Int\n",
    "    ny::Int\n",
    "    W::Float64\n",
    "    H::Float64\n",
    "    dx::Float64\n",
    "    dy::Float64\n",
    "    function Grid(W::Float64,H::Float64,nx::Int,ny::Int)\n",
    "        dx = W/(nx-1)\n",
    "        dy = H/(ny-1)\n",
    "        new(LinRange(0,W,nx),LinRange(0,H,ny),\n",
    "            LinRange(0-dx/2,W+dx/2,nx+1),LinRange(0-dy/2,H+dy/2,ny+1),\n",
    "            nx,ny,W,H,W/(nx-1),H/(ny-1))\n",
    "    end\n",
    "end\n",
    "\n",
    "struct BoundaryConditions\n",
    "    # The intent here is that each boundary gets a flag\n",
    "    # 0 = Free-slip\n",
    "    # 1 = No-slip\n",
    "    # other possibilities?\n",
    "    top::Int\n",
    "    bottom::Int\n",
    "    left::Int\n",
    "    right::Int\n",
    "end\n",
    "\n",
    "function initial_conditions(grid::Grid)\n",
    "    # Setup the initial density structure\n",
    "    rho = zeros(grid.ny,grid.nx)\n",
    "    etaS = ones(grid.ny,grid.nx)\n",
    "    etaN = ones(grid.ny,grid.nx)\n",
    "    for i in 1:grid.ny\n",
    "        for j in 1:grid.nx\n",
    "            if grid.x[j] < grid.W/2.\n",
    "                rho[i,j] = 3200.\n",
    "            else\n",
    "                rho[i,j] = 3300.\n",
    "            end\n",
    "        end\n",
    "    end\n",
    "    \n",
    "    return rho, etaS, etaN\n",
    "end\n",
    "\n",
    "node_index(i::Int,j::Int;ny::Int) = ny*(j-1)+i\n",
    "vxdof(i::Int,j::Int;ny::Int) = 3*(node_index(i,j,grid)-1)+1\n",
    "vydof(i::Int,j::Int;grid::Grid) = 3*(node_index(i,j,grid)-1)+2\n",
    "pdof( i::Int,j::Int;grid::Grid) = 3*(node_index(i,j,grid)-1)+3\n",
    "\n",
    "function form_stokes(grid::Grid,bc::BoundaryConditions)\n",
    "\n",
    "    k::Int = 1 # index into dof arrays\n",
    "    row_index = []\n",
    "    col_index = []\n",
    "    value = []\n",
    "    kcont = 1.# scaling factor for continuity equation\n",
    "    kbond = 1.# scaling factor for dirichlet bc equations.\n",
    "    # loop over j\n",
    "    for j in 1:grid.nx-1\n",
    "        # loop over i\n",
    "        for i in 1:grid.ny-1\n",
    "            # discretize the x-stokes - note that numbering in comments refers to Gerya Figure 7.18a\n",
    "            \n",
    "            \n",
    "            \n",
    "            # discretize the y-stokes\n",
    "            \n",
    "            # discretize the continuity equation\n",
    "            # dvx/dx + dvy/dy = 0\n",
    "            # (vx[i,j+1]-vx[i,j])/(x[j]-x[i]) + (vy[i+1,j]-vy[i,j])/(y[i+1]-y[i])\n",
    "            \n",
    "        end\n",
    "    end\n",
    "    \n",
    "end"
   ]
  },
  {
   "cell_type": "code",
   "execution_count": 4,
   "id": "97767382",
   "metadata": {},
   "outputs": [
    {
     "data": {
      "text/plain": [
       "Grid([0.0, 25000.0, 50000.0, 75000.0, 100000.0, 125000.0, 150000.0, 175000.0, 200000.0, 225000.0  …  775000.0, 800000.0, 825000.0, 850000.0, 875000.0, 900000.0, 925000.0, 950000.0, 975000.0, 1.0e6], [0.0, 30000.0, 60000.0, 90000.0, 120000.0, 150000.0, 180000.0, 210000.00000000003, 240000.0, 270000.0  …  1.23e6, 1.26e6, 1.29e6, 1.32e6, 1.35e6, 1.38e6, 1.41e6, 1.44e6, 1.47e6, 1.5e6], [-12500.0, 12500.000000000002, 37500.0, 62499.99999999999, 87500.0, 112500.0, 137499.99999999997, 162500.0, 187500.0, 212500.0  …  787500.0, 812500.0, 837499.9999999999, 862500.0, 887500.0, 912500.0, 937500.0, 962500.0, 987500.0, 1.0125e6], [-15000.0, 14999.999999999998, 45000.0, 75000.0, 105000.0, 135000.0, 165000.0, 195000.00000000003, 225000.0, 255000.0  …  1.245e6, 1.275e6, 1.305e6, 1.335e6, 1.365e6, 1.395e6, 1.425e6, 1.455e6, 1.485e6, 1.515e6], 41, 51, 1.0e6, 1.5e6, 25000.0, 30000.0)"
      ]
     },
     "execution_count": 4,
     "metadata": {},
     "output_type": "execute_result"
    }
   ],
   "source": [
    "# Set up the grid\n",
    "nx = 41\n",
    "ny = 51\n",
    "W = 1e6\n",
    "H = 1.5e6\n",
    "grid = Grid(W,H,nx,ny)\n"
   ]
  },
  {
   "cell_type": "code",
   "execution_count": 6,
   "id": "7e3032e2",
   "metadata": {},
   "outputs": [
    {
     "name": "stdout",
     "output_type": "stream",
     "text": [
      "25000.0\n",
      "25000.0\n"
     ]
    }
   ],
   "source": []
  },
  {
   "cell_type": "code",
   "execution_count": null,
   "id": "4b2abfeb",
   "metadata": {},
   "outputs": [],
   "source": []
  }
 ],
 "metadata": {
  "kernelspec": {
   "display_name": "Julia 1.7.1",
   "language": "julia",
   "name": "julia-1.7"
  },
  "language_info": {
   "file_extension": ".jl",
   "mimetype": "application/julia",
   "name": "julia",
   "version": "1.7.1"
  }
 },
 "nbformat": 4,
 "nbformat_minor": 5
}
