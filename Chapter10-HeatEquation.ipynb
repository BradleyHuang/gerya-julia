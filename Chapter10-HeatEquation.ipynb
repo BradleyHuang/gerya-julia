{
 "cells": [
  {
   "cell_type": "markdown",
   "id": "adc25a46",
   "metadata": {},
   "source": [
    "# Problem 10.4 - Heat Equation with Markers"
   ]
  },
  {
   "cell_type": "code",
   "execution_count": 127,
   "id": "2f27abba",
   "metadata": {},
   "outputs": [
    {
     "data": {
      "text/plain": [
       "compute_timestep (generic function with 1 method)"
      ]
     },
     "execution_count": 127,
     "metadata": {},
     "output_type": "execute_result"
    }
   ],
   "source": [
    "# Import necessary packages\n",
    "using SparseArrays\n",
    "using StaticArrays\n",
    "using LinearAlgebra\n",
    "using IterativeSolvers\n",
    "using WriteVTK\n",
    "using Printf\n",
    "\n",
    "include(\"Grid.jl\")\n",
    "include(\"Markers.jl\")\n",
    "include(\"Stokes.jl\")"
   ]
  },
  {
   "cell_type": "markdown",
   "id": "35dbc370",
   "metadata": {},
   "source": [
    "In this example, we prescribe the velocity field with a constant vx=vy=$10^{-9}$ m/s. When markers exit the domain, they should re-enter the other side.\n",
    "\n",
    "Energy Equation:\n",
    "$$\n",
    "\\rho C_p \\frac{\\partial T}{\\partial t} = \\nabla\\cdot(k \\nabla T) + H\n",
    "$$\n",
    "\n",
    "Implicit form:\n",
    "$$\n",
    "\\rho C_p \\frac{T^{n+1}-T^n}{\\Delta t} = \\nabla\\cdot(k \\nabla T^{n+1}) + H\n",
    "$$\n",
    "\n",
    "$$\n",
    "\\rho C_p \\frac{T^{n+1}}{\\Delta t} - \\nabla\\cdot(k \\nabla T^{n+1}) =  H + \\rho C_p \\frac{T^n}{\\Delta t} \n",
    "$$"
   ]
  },
  {
   "cell_type": "code",
   "execution_count": 140,
   "id": "2f989658",
   "metadata": {},
   "outputs": [
    {
     "data": {
      "text/plain": [
       "assemble_energy_equation (generic function with 1 method)"
      ]
     },
     "execution_count": 140,
     "metadata": {},
     "output_type": "execute_result"
    }
   ],
   "source": [
    "function move_markers_constant_velocity!(markers::Markers,grid::CartesianGrid,vx,vy,dt)\n",
    "    for i in 1:markers.nmark\n",
    "        markers.x[1,i] += dt*vx\n",
    "        markers.x[2,i] += dt*vy\n",
    "    end\n",
    "    replace_markers!(markers,grid)\n",
    "    find_cells!(markers,grid)\n",
    "end\n",
    "\n",
    "function replace_markers!(markers::Markers,grid::CartesianGrid)\n",
    "     for i in 1:markers.nmark\n",
    "        if markers.x[1,i] > grid.W\n",
    "            markers.x[1,i] -= grid.W\n",
    "        elseif markers.x[1,i] < 0.0\n",
    "            markers.x[1,i] += grid.W\n",
    "        end\n",
    "        if markers.x[2,i] > grid.H\n",
    "            markers.x[2,i] -= grid.H\n",
    "        elseif markers.x[2,i] < 0.0\n",
    "            markers.x[2,i] += grid.H\n",
    "        end\n",
    "    end\n",
    "end\n",
    "\n",
    "function subgrid_temperature_relaxation!(markers::Markers,grid::CartesianGrid,Tlast::Matrix,Cp,kThermal,dt::Float64)\n",
    "        dsubgrid = 1.0; # subgrid temperature diffusivity\n",
    "        dT_subgrid_m = Array{Float64,1}(undef,markers.nmark)\n",
    "        # compuate the nodal temperature on the markers.\n",
    "        basic_node_to_markers!(markers,grid,Tlast,dT_subgrid_m)\n",
    "        # compute the subgrid temperature changes on the markers\n",
    "        for i in 1:markers.nmark\n",
    "            dx2 = (grid.x[markers.cell[1,i]+1] - grid.x[markers.cell[1,i]])^2\n",
    "            dy2 = (grid.y[markers.cell[2,i]+1] - grid.y[markers.cell[2,i]])^2\n",
    "            tdiff = markers.rho[i]*Cp/kThermal / (2/dx2 + 2/dy2)\n",
    "            dT_subgrid_m[i] = (dT_subgrid_m[i]-markers.T[i])*( 1.0 - exp(-dsubgrid*dt/tdiff) )\n",
    "        end\n",
    "        # interpolate subgrid temperature changes back onto basic nodes.\n",
    "        markers.T[1:markers.nmark] += dT_subgrid_m\n",
    "    \n",
    "        dT_subgrid_node = marker_to_basic_node(markers,grid,dT_subgrid_m)\n",
    "        return dT_subgrid_node\n",
    "end\n",
    "\n",
    "\n",
    "# Define a function to form the energy equation left hand side and right hand side\n",
    "function assemble_energy_equation(grid::CartesianGrid,rho,Cp,kThermal,H,Tlast,dt)\n",
    "    N = grid.nx*grid.ny\n",
    "    row = zeros(Int64,5*N);\n",
    "    col = zeros(Int64,5*N);\n",
    "    val = zeros(Float64, 5*N);\n",
    "    R = zeros(Float64,N,1);\n",
    "    k = 1;\n",
    "    \n",
    "    for j in 1:grid.nx\n",
    "        dxc = grid.x[2] - grid.x[1] # uniform spacing for now...\n",
    "        dxp = dxc;\n",
    "        dxm = dxc;\n",
    "        for i in 1:grid.ny\n",
    "            dyc = grid.y[2] - grid.y[1] # uniform spacing for now...\n",
    "            dyp = dyc;\n",
    "            dym = dyc;\n",
    "            this_row = node_index(i,j,grid.ny);\n",
    "            # kA, kB, kC, kD\n",
    "            kA = j==1 ? kThermal[i,j] : 0.5*(kThermal[i,j-1] + kThermal[i,j])\n",
    "            kB = j==grid.nx ? kThermal[i,j] : 0.5*(kThermal[i,j] + kThermal[i,j+1])\n",
    "            kC = i==1 ? kThermal[i,j] : 0.5*(kThermal[i-1,j] + kThermal[i,j])\n",
    "            kD = i==grid.ny ? kThermal[i,j] : 0.5*(kThermal[i,j] + kThermal[i+1,j])\n",
    "            # diagonal entry\n",
    "            row[k] = this_row\n",
    "            col[k] = this_row\n",
    "            val[k] = (rho[i,j]*Cp[i,j])/dt + kB/dxp/dxc + kA/dxm/dxc + kD/dyp/dyc + kC/dyp/dyc;\n",
    "            k+=1\n",
    "            # right\n",
    "            row[k] = this_row\n",
    "            col[k] = j==grid.nx ? node_index(i,1,grid.ny) : node_index(i,j+1,grid.ny);\n",
    "            val[k] = -kB/dxp/dxc;\n",
    "            k+=1\n",
    "            # left\n",
    "            row[k] = this_row\n",
    "            col[k] = j==1 ? node_index(i,grid.nx,grid.ny) : node_index(i,j-1,grid.ny);\n",
    "            val[k] = -kA/dxm/dxc;\n",
    "            k+=1\n",
    "            # down (+y)\n",
    "            row[k] = this_row\n",
    "            col[k] = i==grid.ny ? node_index(1,grid.nx,grid.ny) : node_index(i+1,j,grid.ny);\n",
    "            val[k] = -kD/dyp/dyc;\n",
    "            k+=1\n",
    "            # up (-y)\n",
    "            row[k] = this_row\n",
    "            col[k] = i==1 ? node_index(grid.ny,j,grid.ny) : node_index(i-1,j,grid.ny);\n",
    "            val[k] = -kC/dyp/dyc;\n",
    "            k+=1\n",
    "            R[this_row] = Tlast[i,j]*rho[i,j]*Cp[i,j]/dt            \n",
    "        end\n",
    "    end\n",
    "    row = @views row[1:k-1]\n",
    "    col = @views col[1:k-1]\n",
    "    val = @views val[1:k-1]\n",
    "    L = sparse(row,col,val)\n",
    "    return L,R\n",
    "end"
   ]
  },
  {
   "cell_type": "code",
   "execution_count": 141,
   "id": "97513ac7",
   "metadata": {},
   "outputs": [
    {
     "data": {
      "text/plain": [
       "visualization (generic function with 2 methods)"
      ]
     },
     "execution_count": 141,
     "metadata": {},
     "output_type": "execute_result"
    }
   ],
   "source": [
    "# Initial conditions for this problem - assign marker density and transport properties.\n",
    "function initial_conditions!(grid::CartesianGrid,markers::Markers)\n",
    "    for i in 1:markers.nmark\n",
    "        if markers.x[1,i] > 4e5 && markers.x[1,i] < 6e5 && markers.x[2,i] > 6e5 && markers.x[2,i] < 9e5\n",
    "            markers.T[i] = 1300.\n",
    "            markers.rho[i] = 3200.\n",
    "        else\n",
    "            markers.T[i] = 1000.\n",
    "            markers.rho[i] = 3200.\n",
    "        end\n",
    "    end\n",
    "end\n",
    "\n",
    "function visualization(grid::CartesianGrid,rho::Matrix,eta::Matrix,vn::Array{Float64},pressure::Matrix,temperature::Matrix,time ; filename=\"test.vts\")\n",
    "    # write the visualization output from the regular grid as a .vts file.\n",
    "    vtk_grid(filename, grid.x, grid.y) do vtk\n",
    "        vtk[\"rho\"] = transpose(rho)\n",
    "        vtk[\"viscosity\"] = transpose(eta)\n",
    "        # add a fake third dimension to the velocity vectors\n",
    "        v3 = Array{Float64,3}(undef,3,grid.nx,grid.ny)\n",
    "        v3[1:2,:,:] = vn\n",
    "        v3[3,:,:] .= 0.0\n",
    "        vtk[\"Velocity\"] = v3\n",
    "        vtk[\"Temperature\"] = transpose(temperature)\n",
    "        vtk[\"pressure\"] = transpose(pressure[2:end,2:end])\n",
    "        vtk[\"TIME\"] = time\n",
    "    end\n",
    "end\n",
    "\n",
    "function visualization(markers::Markers,time; filename=\"markers.vtp\")  \n",
    "    p3 = Array{Float64,2}(undef,3,markers.nmark)\n",
    "    p3[1:2,:] = markers.x[1:2,1:markers.nmark]\n",
    "    p3[3,:] .= 0.0\n",
    "    \n",
    "    polys = [MeshCell(PolyData.Polys(),i:i) for i in 1:markers.nmark]\n",
    "    vtk_grid(filename,p3,polys) do vtk\n",
    "       vtk[\"density\"] = markers.rho[1:markers.nmark]\n",
    "       vtk[\"viscosity\"] = markers.eta[1:markers.nmark]\n",
    "       vtk[\"temperature\"] = markers.T[1:markers.nmark]\n",
    "       vtk[\"TIME\"] = time\n",
    "    end\n",
    "end"
   ]
  },
  {
   "cell_type": "code",
   "execution_count": null,
   "id": "7b44dfe0",
   "metadata": {},
   "outputs": [],
   "source": [
    "nx = 101\n",
    "ny = 151\n",
    "W = 1e6\n",
    "H = 1.5e6\n",
    "\n",
    "vx = 1e-9\n",
    "vy = 1e-9\n",
    "\n",
    "plot_interval = W/vx/20.\n",
    "\n",
    "markx = 5\n",
    "marky = 5\n",
    "seconds_in_year = 3.15e7\n",
    "plot_interval = 1e5*seconds_in_year # plot interval in seconds\n",
    "end_time = 30e6*seconds_in_year # end time in seconds\n",
    "dtmax = plot_interval\n",
    "grid = CartesianGrid(W,H,nx,ny)\n",
    "println(\"Creating Markers...\")\n",
    "@time markers = Markers(grid ; nmx=markx,nmy=marky,random=false)\n",
    "println(\"Initial condition...\")\n",
    "@time initial_conditions!(grid,markers)\n",
    "\n",
    "# define arrays for k, rho, cp, H at the basic nodes. Fill them with constant values for now.\n",
    "rho = zeros(grid.ny,grid.nx);\n",
    "kThermal = zeros(grid.ny,grid.nx);\n",
    "Cp = zeros(grid.ny,grid.nx);\n",
    "H = zeros(grid.ny,grid.nx); \n",
    "fill!(rho,3200.);\n",
    "fill!(kThermal,3.0);\n",
    "fill!(Cp,1000.);\n",
    "\n",
    "time = 0.\n",
    "last_plot=0.\n",
    "iout=0\n",
    "for itime in 1:100\n",
    "    # get temperature from last timestep\n",
    "    fields = marker_to_basic_node(markers,grid,(:T,:rho))\n",
    "    Told = fields[1,:,:]\n",
    "    rho = fields[2,:,:]\n",
    "    # determine timestep\n",
    "    dt = 0.5*min((grid.x[2]-grid.x[1])/vx,(grid.y[2]-grid.y[1])/vy)\n",
    "    \n",
    "    L,R = assemble_energy_equation(grid,rho,Cp,kThermal,H,Told,dt)\n",
    "    Tnew = L\\R;\n",
    "    Tnew = reshape(Tnew,grid.ny,grid.nx);\n",
    "    # compute the temperature change\n",
    "    dTemp = Tnew-Told\n",
    "    # calculate subgrid temperature change.\n",
    "    dT_subgrid_node = subgrid_temperature_relaxation!(markers,grid,Told,Cp[1,1],kThermal[1,1],dt)\n",
    "    dT_remaining = dTemp - dT_subgrid_node\n",
    "    \n",
    "    basic_node_change_to_markers!(markers,grid,dT_remaining,:T)\n",
    "    move_markers_constant_velocity!(markers,grid,vx,vy,dt)\n",
    "    time += dt\n",
    "    \n",
    "    if time == 0.0 || time - last_plot >= plot_interval\n",
    "        last_plot = time \n",
    "        name = @sprintf(\"output_chapter10_2/viz.%04d.vtr\",iout)\n",
    "        vn = zeros(2,grid.nx,grid.ny)\n",
    "        vn[1,:,:] .= vx\n",
    "        vn[2,:,:] .= vy\n",
    "        eta_s = zeros(grid.ny,grid.nx)\n",
    "        P = eta_s\n",
    "        visualization(grid,rho,eta_s,vn,P,Tnew,time/seconds_in_year;filename=name)\n",
    "        name = @sprintf(\"output_chapter10_2/markers.%04d.vtp\",iout)\n",
    "        visualization(markers,time/seconds_in_year;filename=name)\n",
    "        iout += 1\n",
    "    end\n",
    "end\n"
   ]
  },
  {
   "cell_type": "markdown",
   "id": "2713d350",
   "metadata": {},
   "source": []
  },
  {
   "cell_type": "code",
   "execution_count": null,
   "id": "5692ef95",
   "metadata": {},
   "outputs": [],
   "source": []
  },
  {
   "cell_type": "code",
   "execution_count": 91,
   "id": "e61a1ca8",
   "metadata": {},
   "outputs": [
    {
     "data": {
      "text/plain": [
       "999"
      ]
     },
     "execution_count": 91,
     "metadata": {},
     "output_type": "execute_result"
    }
   ],
   "source": []
  },
  {
   "cell_type": "code",
   "execution_count": 92,
   "id": "921489c8",
   "metadata": {},
   "outputs": [
    {
     "data": {
      "text/plain": [
       "16275-element Vector{Float64}:\n",
       "  999.0\n",
       " 1000.0\n",
       " 1000.0\n",
       " 1000.0\n",
       " 1000.0\n",
       " 1000.0\n",
       " 1000.0\n",
       " 1000.0\n",
       " 1000.0\n",
       " 1000.0\n",
       " 1000.0\n",
       " 1000.0\n",
       " 1000.0\n",
       "    ⋮\n",
       "    0.0\n",
       "    0.0\n",
       "    0.0\n",
       "    0.0\n",
       "    0.0\n",
       "    0.0\n",
       "    0.0\n",
       "    0.0\n",
       "    0.0\n",
       "    0.0\n",
       "    0.0\n",
       "    0.0"
      ]
     },
     "execution_count": 92,
     "metadata": {},
     "output_type": "execute_result"
    }
   ],
   "source": [
    "markers.T"
   ]
  },
  {
   "cell_type": "code",
   "execution_count": null,
   "id": "c54b4277",
   "metadata": {},
   "outputs": [],
   "source": []
  }
 ],
 "metadata": {
  "kernelspec": {
   "display_name": "Julia 20 Threads 1.7.1",
   "language": "julia",
   "name": "julia-20-threads-1.7"
  },
  "language_info": {
   "file_extension": ".jl",
   "mimetype": "application/julia",
   "name": "julia",
   "version": "1.7.1"
  }
 },
 "nbformat": 4,
 "nbformat_minor": 5
}
