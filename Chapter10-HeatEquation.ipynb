{
 "cells": [
  {
   "cell_type": "markdown",
   "id": "adc25a46",
   "metadata": {},
   "source": [
    "# Problem 10.4 - Heat Equation with Markers"
   ]
  },
  {
   "cell_type": "code",
   "execution_count": 35,
   "id": "2f27abba",
   "metadata": {},
   "outputs": [
    {
     "data": {
      "text/plain": [
       "compute_timestep (generic function with 1 method)"
      ]
     },
     "execution_count": 35,
     "metadata": {},
     "output_type": "execute_result"
    }
   ],
   "source": [
    "# Import necessary packages\n",
    "using SparseArrays\n",
    "using StaticArrays\n",
    "using LinearAlgebra\n",
    "using IterativeSolvers\n",
    "using WriteVTK\n",
    "using Printf\n",
    "\n",
    "include(\"Grid.jl\")\n",
    "include(\"Markers.jl\")\n",
    "include(\"Stokes.jl\")"
   ]
  },
  {
   "cell_type": "markdown",
   "id": "35dbc370",
   "metadata": {},
   "source": [
    "In this example, we prescribe the velocity field with a constant vx=vy=$10^{-9}$ m/s. When markers exit the domain, they should re-enter the other side."
   ]
  },
  {
   "cell_type": "code",
   "execution_count": 76,
   "id": "2f989658",
   "metadata": {},
   "outputs": [
    {
     "data": {
      "text/plain": [
       "assemble_energy_equation (generic function with 2 methods)"
      ]
     },
     "execution_count": 76,
     "metadata": {},
     "output_type": "execute_result"
    }
   ],
   "source": [
    "function move_markers_constant_velocity!(markers::Markers,grid::CartesianGrid,vx,vy,dt)\n",
    "    for i in 1:markers.nmark\n",
    "        markers.x[1,i] += dt*vx\n",
    "        markers.x[2,i] += dt*vy\n",
    "    end\n",
    "    replace_markers!(markers,grid)\n",
    "    find_cells!(markers.grid)\n",
    "end\n",
    "\n",
    "function replace_markers!(markers::Markers,grid::CartesianGrid)\n",
    "     for i in 1:markers.nmark\n",
    "        if markers.x[1,i] > grid.W\n",
    "            markers.x[1,i] -= grid.W\n",
    "        end\n",
    "        if markers.x[2,i] > grid.H\n",
    "            markers.x[2,i] -= grid.H\n",
    "        end\n",
    "    end\n",
    "end\n",
    "\n",
    "# Define a function to form the energy equation left hand side and right hand side\n",
    "function assemble_energy_equation(grid::CartesianGrid,rho,Cp,kThermal,H,Tlast,dt)\n",
    "    N = grid.nx*grid.ny\n",
    "    row = zeros(Int64,5*N);\n",
    "    col = zeros(Int64,5*N);\n",
    "    val = zeros(Float64, 5*N);\n",
    "    R = zeros(Float64,N,1);\n",
    "    k = 1;\n",
    "    \n",
    "    for j in 1:grid.nx\n",
    "        dxc = grid.x[2] - grid.x[1] # uniform spacing for now...\n",
    "        dxp = dxc;\n",
    "        dxm = dxc;\n",
    "        for i in 1:grid.ny\n",
    "            dyc = grid.y[2] - grid.y[1] # uniform spacing for now...\n",
    "            dyp = dyc;\n",
    "            dym = dyc;\n",
    "            this_row = node_index(i,j,grid.ny);\n",
    "            # kA, kB, kC, kD\n",
    "            kA = j==1 ? kThermal[i,j] : 0.5*(kThermal[i,j-1] + kThermal[i,j])\n",
    "            kB = j==grid.nx ? kThermal[i,j] : 0.5*(kThermal[i,j] + kThermal[i,j+1])\n",
    "            kC = i==1 ? kThermal[i,j] : 0.5*(kThermal[i-1,j] + kThermal[i,j])\n",
    "            kD = i==grid.ny ? kThermal[i,j] : 0.5*(kThermal[i,j] + kThermal[i+1,j])\n",
    "            # diagonal entry\n",
    "            row[k] = this_row\n",
    "            col[k] = this_row\n",
    "            val[k] = (rho[i,j]*Cp[i,j])/dt + kB/dxp/dxc + kA/dxm/dxc + kD/dyp/dyc + kC/dyp/dyc;\n",
    "            k+=1\n",
    "            # right\n",
    "            row[k] = this_row\n",
    "            col[k] = j==grid.nx ? node_index(i,1,grid.ny) : node_index(i,j+1,grid.ny);\n",
    "            val[k] = -kB/dxp/dxc;\n",
    "            k+=1\n",
    "            # left\n",
    "            row[k] = this_row\n",
    "            col[k] = j==1 ? node_index(i,grid.nx,grid.ny) : node_index(i,j-1,grid.ny);\n",
    "            val[k] = -kA/dxm/dxc;\n",
    "            k+=1\n",
    "            # down (+y)\n",
    "            row[k] = this_row\n",
    "            col[k] = i==grid.ny ? node_index(1,grid.nx,grid.ny) : node_index(i+1,j,grid.ny);\n",
    "            val[k] = -kD/dyp/dyc;\n",
    "            k+=1\n",
    "            # up (-y)\n",
    "            row[k] = this_row\n",
    "            col[k] = i==1 ? node_index(grid.ny,j,grid.ny) : node_index(i-1,j,grid.ny);\n",
    "            val[k] = -kC/dyp/dyc;\n",
    "            k+=1\n",
    "            R[this_row] = Tlast[i,j]*rho[i,j]*Cp[i,j]/dt            \n",
    "        end\n",
    "    end\n",
    "    row = @views row[1:k-1]\n",
    "    col = @views col[1:k-1]\n",
    "    val = @views val[1:k-1]\n",
    "    L = sparse(row,col,val)\n",
    "    return L,R\n",
    "end"
   ]
  },
  {
   "cell_type": "code",
   "execution_count": 77,
   "id": "7b44dfe0",
   "metadata": {},
   "outputs": [
    {
     "name": "stdout",
     "output_type": "stream",
     "text": [
      "Creating Markers...\n",
      "  0.000295 seconds (12 allocations: 763.312 KiB)\n"
     ]
    },
    {
     "data": {
      "text/plain": [
       "Markers([5000.0 15000.0 … 7.291118556459266e-304 7.291118556459266e-304; 5000.0 5000.0 … 7.291118556459266e-304 7.291118556459266e-304], [1 1 … 72057589759737855 72057589759737855; 1 1 … 72057589759737855 72057589759737855], [0.0, 0.0, 0.0, 0.0, 0.0, 0.0, 0.0, 0.0, 0.0, 0.0  …  7.291118556459266e-304, 7.291118556459266e-304, 7.291118556459266e-304, 7.291118556459266e-304, 7.291118556459266e-304, 7.291118556459266e-304, 7.291118556459266e-304, 7.291118556459266e-304, 7.291118556459266e-304, 7.291118556459266e-304], [7.291118556459266e-304, 2.853175e-318, 6.94953861141147e-310, 7.4294983e-316, 0.0, 0.0, 7.291118556459266e-304, 7.291118556459266e-304, 7.291118556459266e-304, 7.291118556459266e-304  …  7.291118556459266e-304, 7.291118556459266e-304, 7.291118556459266e-304, 7.291118556459266e-304, 7.291118556459266e-304, 7.291118556459266e-304, 7.291118556459266e-304, 7.291118556459266e-304, 7.291118556459266e-304, 7.291118556459266e-304], 15000)"
      ]
     },
     "execution_count": 77,
     "metadata": {},
     "output_type": "execute_result"
    }
   ],
   "source": [
    "nx = 21\n",
    "ny = 31\n",
    "W = 1e6\n",
    "H = 1.5e6\n",
    "markx = 5\n",
    "marky = 5\n",
    "seconds_in_year = 3.15e7\n",
    "plot_interval = 1e5*seconds_in_year # plot interval in seconds\n",
    "end_time = 30e6*seconds_in_year # end time in seconds\n",
    "dtmax = plot_interval\n",
    "grid = CartesianGrid(W,H,nx,ny)\n",
    "println(\"Creating Markers...\")\n",
    "@time markers = Markers(grid ; nmx=markx,nmy=marky,random=false)"
   ]
  },
  {
   "cell_type": "code",
   "execution_count": 78,
   "id": "68630c30",
   "metadata": {},
   "outputs": [],
   "source": [
    "# define arrays for k, rho, cp, H at the basic nodes. Fill them with constant values for now.\n",
    "rho = zeros(grid.ny,grid.nx);\n",
    "kThermal = zeros(grid.ny,grid.nx);\n",
    "Cp = zeros(grid.ny,grid.nx);\n",
    "H = zeros(grid.ny,grid.nx); \n",
    "fill!(rho,3200.);\n",
    "fill!(kThermal,3.0);\n",
    "fill!(Cp,1000.);"
   ]
  },
  {
   "cell_type": "markdown",
   "id": "2713d350",
   "metadata": {},
   "source": [
    "Energy Equation:\n",
    "$$\n",
    "\\rho C_p \\frac{\\partial T}{\\partial t} = \\nabla\\cdot(k \\nabla T) + H\n",
    "$$\n",
    "\n",
    "Implicit form:\n",
    "$$\n",
    "\\rho C_p \\frac{T^{n+1}-T^n}{\\Delta t} = \\nabla\\cdot(k \\nabla T^{n+1}) + H\n",
    "$$\n",
    "\n",
    "$$\n",
    "\\rho C_p \\frac{T^{n+1}}{\\Delta t} - \\nabla\\cdot(k \\nabla T^{n+1}) =  H + \\rho C_p \\frac{T^n}{\\Delta t} \n",
    "$$"
   ]
  },
  {
   "cell_type": "code",
   "execution_count": 79,
   "id": "a7b89d61",
   "metadata": {},
   "outputs": [],
   "source": [
    "# temperature initial condition\n",
    "T = zeros(grid.ny,grid.nx)\n",
    "for i in 1:grid.ny\n",
    "    for j in 1:grid.nx\n",
    "        if grid.x[j] > 4e5 && grid.x[j] < 6e5 && grid.y[i] > 6e5 && grid.y[i] < 9e5\n",
    "                T[i,j] = 1300.\n",
    "        else\n",
    "            T[i,j] = 1000.\n",
    "        end\n",
    "    end\n",
    "end"
   ]
  },
  {
   "cell_type": "code",
   "execution_count": 80,
   "id": "13d1933b",
   "metadata": {},
   "outputs": [
    {
     "data": {
      "image/png": "[encoded data removed]",
      "text/plain": [
       "Figure(PyObject <Figure size 640x480 with 2 Axes>)"
      ]
     },
     "metadata": {},
     "output_type": "display_data"
    }
   ],
   "source": [
    "using PyPlot\n",
    "figure()\n",
    "pcolor(grid.x,grid.y,T)\n",
    "colorbar()\n",
    "gca().set_aspect(\"equal\")\n",
    "show()"
   ]
  },
  {
   "cell_type": "code",
   "execution_count": 91,
   "id": "417afaa8",
   "metadata": {},
   "outputs": [
    {
     "data": {
      "image/png": "[encoded data removed]",
      "text/plain": [
       "Figure(PyObject <Figure size 640x480 with 2 Axes>)"
      ]
     },
     "metadata": {},
     "output_type": "display_data"
    }
   ],
   "source": [
    "dt = 1e8*3.15e7;\n",
    "L,R = assemble_energy_equation(grid,rho,Cp,kThermal,H,T,dt)\n",
    "Tnew = L\\R\n",
    "\n",
    "figure()\n",
    "pcolor(grid.x,grid.y,reshape(Tnew,grid.ny,grid.nx) )\n",
    "colorbar()\n",
    "gca().set_aspect(\"equal\")\n",
    "show()"
   ]
  },
  {
   "cell_type": "code",
   "execution_count": null,
   "id": "5692ef95",
   "metadata": {},
   "outputs": [],
   "source": []
  },
  {
   "cell_type": "code",
   "execution_count": null,
   "id": "e61a1ca8",
   "metadata": {},
   "outputs": [],
   "source": []
  }
 ],
 "metadata": {
  "kernelspec": {
   "display_name": "Julia 20 Threads 1.7.1",
   "language": "julia",
   "name": "julia-20-threads-1.7"
  },
  "language_info": {
   "file_extension": ".jl",
   "mimetype": "application/julia",
   "name": "julia",
   "version": "1.7.1"
  }
 },
 "nbformat": 4,
 "nbformat_minor": 5
}
