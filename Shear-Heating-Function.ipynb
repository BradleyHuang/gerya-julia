{
 "cells": [
  {
   "cell_type": "code",
   "execution_count": null,
   "id": "77826da4",
   "metadata": {},
   "outputs": [],
   "source": [
    "# Computing the stress and strain rate components \n",
    "# e = Eplison = Strain in per seconds \n",
    "# s = Sigma = Stress in Pascals \n",
    "\n",
    "function computeratecomponents(grid::CartesianGrid,eta_s::Matrix{Float64},eta_n::Matrix{Float64},vx::Matrix{Float64},vy::Matrix{Float64})\n",
    "    \n",
    "    e_xy = zeros(grid.ny,grid.nx)\n",
    "    s_xy = zeros(grid.ny,grid.nx)\n",
    "    for i in 1:1:grid.ny\n",
    "        for j in 1:1:grid.nx\n",
    "            e_xy[i,j] = (0.5)*((vx[i+1,j]-vx[i,j])/(grid.yc[i+1]-grid.yc[i])+(vy[i,j+1]-vy[i,j])/(grid.xc[j+1]-grid.xc[j]))\n",
    "            s_xy[i,j] = 2*eta_s[i,j]*e_xy[i,j]\n",
    "        end\n",
    "    end\n",
    "\n",
    "    e_xx = zeros(grid.ny+1,grid.nx+1)\n",
    "    s_xx = zeros(grid.ny+1,grid.nx+1)\n",
    "    for i in 2:1:grid.ny\n",
    "        for j in 2:1:grid.nx\n",
    "            e_xx[i,j] = (vx[i,j]-vx[i,j-1])/(grid.x[j] - grid.x[j-1])\n",
    "            s_xx[i,j] = 2*eta_n[i,j]*e_xx[i,j] \n",
    "        end\n",
    "    end\n",
    "\n",
    "    # Computing the shear heating components \n",
    "    # hs = Shear Heating in watts per cubic meters \n",
    "    h_s = zeros(grid.ny+1,grid.nx+1)\n",
    "    for i in 2:1:grid.ny\n",
    "        for j in 2:1:grid.nx\n",
    "            s_xye_xy = ((s_xy[i,j]*e_xy[i,j])+(s_xy[i-1,j]*e_xy[i-1,j])+(s_xy[i,j-1]*e_xy[i,j-1])+(s_xy[i-1,j-1]*e_xy[i-1,j-1]))/4\n",
    "            h_s[i,j] = (2*s_xx[i,j]*e_xx[i,j])+(2*s_xye_xy)\n",
    "        end\n",
    "    end\n",
    "    return e_xy,s_xy,e_xx,s_xx,h_s\n",
    "end \n",
    "\n",
    "# Displaying the matrices \n",
    "e_xy,s_xy,e_xx,s_xx,h_s = computeratecomponents(grid,eta_s,eta_n,vx,vy)\n",
    "print(\"Creating e_xx matrix...\")\n",
    "display(e_xx)\n",
    "print(\"Creating s_xx matrix...\")\n",
    "@time display(s_xx)\n",
    "print(\"Creating e_xy matrix...\")\n",
    "@time display(e_xy)\n",
    "print(\"Creating s_xy matrix...\")\n",
    "@time display(s_xy)\n",
    "print(\"Creating h_s matrix...\")\n",
    " "
   ]
  }
 ],
 "metadata": {
  "kernelspec": {
   "display_name": "Julia 1.8.2",
   "language": "julia",
   "name": "julia-1.8"
  },
  "language_info": {
   "file_extension": ".jl",
   "mimetype": "application/julia",
   "name": "julia",
   "version": "1.8.2"
  }
 },
 "nbformat": 4,
 "nbformat_minor": 5
}
