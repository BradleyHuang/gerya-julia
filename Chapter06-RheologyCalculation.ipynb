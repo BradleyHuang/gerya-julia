{
 "cells": [
  {
   "cell_type": "markdown",
   "id": "5cd3d803",
   "metadata": {},
   "source": [
    "Calculate and visualize a logarithmic viscosity profile across a 100 000 m (100 km) thick mantle lithosphere with a temperature that linearly increases from 400°C at the top, to 1200 °C at the bottom. Apply the conditions of constant strain rate $\\dot{ε}_{II}$ = 10$^{-14}$s$^{-1}$:\n",
    "\n",
    "Take the following mantle rheological parameters: \n",
    "- A$_D$ = 2.5 × 10$^{−17}$ 1/(Pa-s), \n",
    "- n = 3.5\n",
    "- Ea = 532,000 J/mol \n",
    "- m = 0 \n",
    "- V$_a$ = 0 \n",
    "\n",
    "(representative for dry olivine under upper mantle conditions). Take into account that all parameters are based on axial compression experiments (Fig. 6.1a). An example is in Viscosity_profile.m."
   ]
  },
  {
   "cell_type": "code",
   "execution_count": null,
   "id": "a5ae8af3",
   "metadata": {},
   "outputs": [],
   "source": []
  }
 ],
 "metadata": {
  "kernelspec": {
   "display_name": "Julia 1.7.1",
   "language": "julia",
   "name": "julia-1.7"
  },
  "language_info": {
   "file_extension": ".jl",
   "mimetype": "application/julia",
   "name": "julia",
   "version": "1.7.1"
  }
 },
 "nbformat": 4,
 "nbformat_minor": 5
}
