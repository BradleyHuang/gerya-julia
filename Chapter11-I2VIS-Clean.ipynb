{
 "cells": [
  {
   "cell_type": "markdown",
   "id": "8ea95bde",
   "metadata": {},
   "source": [
    "# Chapter 11 - I2VIS - Clean version\n",
    "\n",
    "This is an implementation of a 2D viscous flow code. The energy equation (for temperature) is solved at the cell centers (unlike the example in the chapter 10 notebook, which is solved at the basic nodes.\n",
    "\n",
    "This notebook puts all of the major function definitions into separate source files and contains only the high-level program code."
   ]
  },
  {
   "cell_type": "code",
   "execution_count": 1,
   "id": "adabca4a",
   "metadata": {},
   "outputs": [
    {
     "data": {
      "text/plain": [
       "plots (generic function with 1 method)"
      ]
     },
     "execution_count": 1,
     "metadata": {},
     "output_type": "execute_result"
    }
   ],
   "source": [
    "# Import necessary packages\n",
    "using SparseArrays\n",
    "using LinearAlgebra\n",
    "using IterativeSolvers\n",
    "using WriteVTK\n",
    "using Printf\n",
    "using Statistics \n",
    "include(\"Grid.jl\")\n",
    "include(\"GridOperations.jl\")\n",
    "include(\"Markers.jl\")\n",
    "include(\"Stokes.jl\")\n",
    "include(\"Temperature.jl\")\n",
    "\n",
    "# note that we import pyplot last to avoid a name conflict with grid.\n",
    "using PyPlot\n",
    "include(\"Visualization.jl\")"
   ]
  },
  {
   "cell_type": "markdown",
   "id": "a299a1d7",
   "metadata": {},
   "source": [
    "# Problem setup\n",
    "\n",
    "100 km sticky air layer, 500x500 km box\n",
    "We define the materials used in this computation here.\n",
    "We introduce functions that compute the density on the markers.\n",
    "We introduce a function that computes the initial conditions (on the markers)."
   ]
  },
  {
   "cell_type": "code",
   "execution_count": 2,
   "id": "d1e54a62",
   "metadata": {},
   "outputs": [
    {
     "data": {
      "text/plain": [
       "initial_conditions! (generic function with 1 method)"
      ]
     },
     "execution_count": 2,
     "metadata": {},
     "output_type": "execute_result"
    }
   ],
   "source": [
    "struct Materials\n",
    "    # 1 - mantle\n",
    "    # 2 - plume\n",
    "    # 3 - sticky air\n",
    "    alpha::Vector{Float64}\n",
    "    rho0::Vector{Float64}\n",
    "    Hr::Vector{Float64}\n",
    "    Cp::Vector{Float64}\n",
    "    kThermal::Vector{Float64}\n",
    "    eta::Vector{Float64}\n",
    "    function Materials()\n",
    "         # These are the values used in Gerya's problem 11.1\n",
    "         new([3e-5,2e-5,0.0],[3300.,3200.,1.0],[2e-8,3e-8,0.0],[1000.,1000.,3.3e6],[3.0,2.0,300.0],[1e21,1e20,1e17])\n",
    "    end\n",
    "end\n",
    "\n",
    "function update_marker_density!(markers::Markers,materials::Materials)\n",
    "    rho = markers.scalarFields[\"rho\"]\n",
    "    T = markers.scalarFields[\"T\"]\n",
    "    mmat = markers.integers[markers.integerFields[\"material\"],:]\n",
    "    \n",
    "    for i in 1:markers.nmark                \n",
    "        # receompute density using the current temperature value\n",
    "        # assume reference temperature is 273.0\n",
    "        markers.scalars[rho,i] = materials.rho0[mmat[i]] # don't update density - for comparison with gerya\n",
    "        # materials.rho0[mmat[i]]*(1.0-materials.alpha[mmat[i]]*(markers.scalars[T,i]-273.0)) \n",
    "    end\n",
    "end\n",
    "\n",
    "function initial_conditions!(markers::Markers,materials::Materials)\n",
    "    material = markers.integerFields[\"material\"]\n",
    "    T = markers.scalarFields[\"T\"]\n",
    "    eta = markers.scalarFields[\"eta\"]\n",
    "    alpha = markers.scalarFields[\"alpha\"]\n",
    "    cp = markers.scalarFields[\"Cp\"]\n",
    "    Hr = markers.scalarFields[\"Hr\"]\n",
    "    for i in 1:markers.nmark\n",
    "        mx = markers.x[1,i]\n",
    "        my = markers.x[2,i]\n",
    "        mr = ((mx-2.5e5)^2 + (my-2.5e5)^2)^0.5\n",
    "        if my < 1e5\n",
    "             # sticky air\n",
    "             markers.integers[material,i] = 3\n",
    "             markers.scalars[T,i] = 273.0\n",
    "             markers.scalars[eta,i] = materials.eta[3]\n",
    "             markers.scalars[alpha,i] = materials.alpha[3]  \n",
    "             markers.scalars[cp,i] = materials.Cp[3]  \n",
    "             markers.scalars[Hr,i] = materials.Hr[3]  \n",
    "         elseif mr < 1e5\n",
    "             # plume\n",
    "             markers.integers[material,i] = 2\n",
    "             markers.scalars[T,i] = 1800.0\n",
    "             markers.scalars[eta,i] = materials.eta[2]\n",
    "             markers.scalars[alpha,i] = materials.alpha[2]            \n",
    "             markers.scalars[cp,i] = materials.Cp[2]  \n",
    "             markers.scalars[Hr,i] = materials.Hr[2]  \n",
    "         else\n",
    "            # ambient mantle\n",
    "            markers.integers[material,i] = 1\n",
    "            markers.scalars[T,i] = 1500.0            \n",
    "            markers.scalars[eta,i] = materials.eta[1]\n",
    "            markers.scalars[alpha,i] = materials.alpha[1]            \n",
    "            markers.scalars[cp,i] = materials.Cp[1]\n",
    "            markers.scalars[Hr,i] = materials.Hr[1]  \n",
    "         end\n",
    "    end\n",
    "    update_marker_density!(markers,materials)\n",
    "end"
   ]
  },
  {
   "cell_type": "markdown",
   "id": "d0a1430a",
   "metadata": {},
   "source": [
    "# i2vis procedure\n",
    "\n",
    "0. Set up the Eulerian grid and Lagrangian markers. Distribute the markers within the domain and assign initial conditions.\n",
    "1. Compute density and viscosity at the basic nodes. Compute cell center viscosity via averaging.\n",
    "2. Assemble and solve the Stokes equations.\n",
    "3. Compute the maximum timestep from the velocity field and CFL number.\n",
    "3. Transfer temperature from markers to basic nodes.\n",
    "4. Compute the new temperature solution.\n",
    "5. If the maximum temperature change exceeds a specified value, reduce the timstep and repeat previous step.\n",
    "6. Compute the subgrid temperature changes and update the temperature on the markers.\n",
    "7. Move the markers using 4th order Runge-Kutta"
   ]
  },
  {
   "cell_type": "markdown",
   "id": "dcd9f777",
   "metadata": {},
   "source": [
    "TO DO:\n",
    "1. Calculate rhox (rho at vx points) -> (optionally) pass to Stokes.jl (Max)\n",
    "3. Add free-surface stabilization terms to Stokes.jl (Lucy)\n",
    "4. Add functionality for shear heating (Max)\n",
    "5. Add functionality for adiabatic heating (Uthkarsh)"
   ]
  },
  {
   "cell_type": "code",
   "execution_count": 3,
   "id": "7333fd83",
   "metadata": {},
   "outputs": [
    {
     "name": "stdout",
     "output_type": "stream",
     "text": [
      "Creating Markers...\n",
      "  0.009643 seconds (19 allocations: 33.784 MiB)\n",
      "Initial condition...\n",
      "  0.192048 seconds (1.14 M allocations: 20.655 MiB, 24.91% gc time, 32.03% compilation time: 28% of which was recompilation)\n",
      "Trying with timestep 0.0206914794988418 Myr\n",
      "dTmax=26.072848210267694 dt=0.0206914794988418\n",
      "Trying with timestep 0.007936025758280346 Myr\n",
      "dTmax=26.042541623239913 dt=0.007936025758280346\n",
      "Writing visualization fle test/viz.0000.vtr\n",
      "  0.002766 seconds (2 allocations: 5.493 MiB)\n",
      "Min/Max velocity: -3.835640625385043e-9 2.228255601831305e-9\n",
      "Finished Step 1 time=0.0030473315059227446 Myr\n",
      "  8.266555 seconds (4.89 M allocations: 621.187 MiB, 4.97% gc time, 65.89% compilation time: 2% of which was recompilation)\n"
     ]
    },
    {
     "data": {
      "text/plain": [
       "(CartesianGrid([0.0, 5000.0, 10000.0, 15000.0, 20000.0, 25000.0, 30000.0, 35000.0, 40000.0, 45000.0  …  455000.0, 460000.0, 465000.0, 470000.0, 475000.0, 480000.0, 485000.0, 490000.0, 495000.0, 500000.0], [0.0, 5000.0, 10000.0, 15000.0, 20000.0, 25000.0, 30000.0, 35000.0, 40000.0, 45000.0  …  455000.0, 460000.0, 465000.0, 470000.0, 475000.0, 480000.0, 485000.0, 490000.0, 495000.0, 500000.0], [-2500.0, 2500.0, 7500.0, 12500.0, 17500.0, 22500.0, 27500.0, 32500.000000000007, 37500.0, 42499.99999999999  …  457500.0, 462500.00000000006, 467500.0, 472500.0, 477500.0, 482499.99999999994, 487500.0, 492500.0, 497500.0, 502500.0], [-2500.0, 2500.0, 7500.0, 12500.0, 17500.0, 22500.0, 27500.0, 32500.000000000007, 37500.0, 42499.99999999999  …  457500.0, 462500.00000000006, 467500.0, 472500.0, 477500.0, 482499.99999999994, 487500.0, 492500.0, 497500.0, 502500.0], 101, 101, 500000.0, 500000.0, false, false), Markers([91.02537584833229 1031.5190798218468 … 0.0 0.0; 811.8602691487266 274.46258671018614 … 0.0 0.0], [1 1 … 0 0; 1 1 … 0 0], Dict{Any, Any}(\"T\" => 3, \"alpha\" => 1, \"Hr\" => 6, \"eta\" => 5, \"rho\" => 4, \"Cp\" => 2), [0.0 0.0 … 0.0 0.0; 3.3e6 3.3e6 … 0.0 0.0; … ; 1.0e17 1.0e17 … 0.0 0.0; 0.0 0.0 … 0.0 0.0], Dict{Any, Any}(\"material\" => 1), Int16[3 3 … 0 0], 360000, 432000), [4.315893315555312e-11 -4.315893315555312e-11 … 4.24391562531351e-11 -4.24391562531351e-11; 4.315893315555312e-11 -4.315893315555312e-11 … 4.24391562531351e-11 -4.24391562531351e-11; … ; -2.22243987871931e-11 2.22243987871931e-11 … -2.2110394419812795e-11 2.2110394419812795e-11; -2.22243987871931e-11 2.22243987871931e-11 … -2.2110394419812795e-11 2.2110394419812795e-11], [-4.3158933155550733e-11 -4.3158933155550733e-11 … -4.24391562531351e-11 -4.24391562531351e-11; 4.3158933155550733e-11 4.3158933155550733e-11 … 4.24391562531351e-11 4.24391562531351e-11; … ; 2.22243987871931e-11 2.22243987871931e-11 … 2.2110394419812795e-11 2.2110394419812795e-11; -2.22243987871931e-11 -2.22243987871931e-11 … -2.2110394419812795e-11 -2.2110394419812795e-11], [1.0 1.0 … 1.0 1.0; 1.0 1.0 … 1.0 1.0; … ; 3300.000000000001 3299.999999999997 … 3300.0 3300.0; 3300.0 3300.0 … 3299.9999999999995 3300.0000000000005], [9.999999999999998e16 1.0000000000000002e17 … 1.0000000000000002e17 1.0e17; 9.999999999999997e16 1.0000000000000002e17 … 1.0000000000000002e17 9.999999999999998e16; … ; 9.999999999999999e20 9.999999999999992e20 … 9.999999999999999e20 9.999999999999999e20; 1.0e21 1.0e21 … 9.999999999999999e20 1.0e21], [272.9999911297024 272.9999911297024 … 272.99999142309497 272.99999142309497; 273.0000088702976 273.0000088702976 … 273.00000857690503 273.00000857690503; … ; 1500.0275099173286 1500.0275099173286 … 1500.0272563918934 1500.0272563918934; 1499.9724900826714 1499.9724900826714 … 1499.9727436081066 1499.9727436081066], 9.599094243656647e10)"
      ]
     },
     "execution_count": 3,
     "metadata": {},
     "output_type": "execute_result"
    }
   ],
   "source": [
    "function run(nstep::Int64)\n",
    "    nx = 101\n",
    "    ny = 101\n",
    "    W = 5e5\n",
    "    H = 5e5\n",
    "    gx = 0.0\n",
    "    gy = 10.0\n",
    "\n",
    "    Tbctype = [-1,-1,1,1] #left, right, top, bottom\n",
    "    Tbcval = [0.0,0.0,273.0,1500.0]\n",
    "    \n",
    "    bc = BoundaryConditions(0,0,0,0) # currently does nothing but is required argument to stokes solver.\n",
    "    materials = Materials()\n",
    "    \n",
    "    markx = 6\n",
    "    marky = 6\n",
    "    seconds_in_year = 3.15e7\n",
    "    plot_interval = 1e6*seconds_in_year # plot interval in seconds\n",
    "    end_time = 3e7*seconds_in_year\n",
    "    dtmax = plot_interval\n",
    "    grid = CartesianGrid(W,H,nx,ny)\n",
    "    println(\"Creating Markers...\")\n",
    "    @time markers = Markers(grid,[\"alpha\",\"Cp\",\"T\",\"rho\",\"eta\",\"Hr\"],[\"material\"] ; nmx=markx,nmy=marky,random=true)\n",
    "    println(\"Initial condition...\")\n",
    "    @time initial_conditions!(markers, materials)\n",
    "\n",
    "    # define arrays for k, rho, cp, H at the basic nodes. Fill them with constant values for now.\n",
    "    kThermal = 3.0 .*ones(grid.ny,grid.nx);\n",
    "\n",
    "    time = 0.0\n",
    "    iout=0\n",
    "    last_plot = 0.0\n",
    "    rho_c = nothing\n",
    "    dt = 1e10\n",
    "\n",
    "      local rho_c\n",
    "      local rho_vx\n",
    "      local rho_vy\n",
    "      local alpha\n",
    "      local Hr\n",
    "      local Cp_c\n",
    "      local eta_s\n",
    "      local eta_n\n",
    "      local vxc\n",
    "      local vyc\n",
    "      local T\n",
    "      local dt\n",
    "      local dTmax\n",
    "      local dTemp\n",
    "      local Tnew\n",
    "      local Tlast\n",
    "\n",
    "    output_dir = \"test\"\n",
    "    for itime in 1:nstep\n",
    "        # 1. Transfer properties markers -> nodes\n",
    "        # 1a. Basic Nodes\n",
    "        eta_s_new, = marker_to_stag(markers,grid,[\"eta\",],\"basic\");\n",
    "        # 1b. Cell Centers\n",
    "        rho_c_new,Cp_c_new,alpha_new,eta_n_new,Tlast_new,Hr_new = marker_to_stag(markers,grid,[\"rho\",\"Cp\",\"alpha\",\"eta\",\"T\",\"Hr\"],\"center\")\n",
    "        # 1c. Vx and Vy nodes:\n",
    "        rho_vx_new, = marker_to_stag(markers,grid,[\"rho\",],\"vx\")\n",
    "        rho_vy_new, = marker_to_stag(markers,grid,[\"rho\",],\"vy\")\n",
    "        # Get material at basic nodes:\n",
    "        #mat_node = marker_to_stag(markers,grid,markers.integers[markers.integerFields[\"material\"],:],\"basic\");\n",
    "        \n",
    "        # deal with any NaN values from interpolation:\n",
    "        if itime > 1\n",
    "            if any(isnan.(eta_s_new))\n",
    "                println(\"found nan values\")\n",
    "            end\n",
    "            replace_nan!(eta_s,eta_s_new)\n",
    "            replace_nan!(rho_c,rho_c_new)\n",
    "            replace_nan!(Hr,Hr_new)\n",
    "            replace_nan!(Cp_c,Cp_c_new)\n",
    "            replace_nan!(alpha,alpha_new)\n",
    "            replace_nan!(eta_n,eta_n_new)\n",
    "            replace_nan!(Tlast,Tlast_new)\n",
    "            replace_nan!(rho_vx,rho_vx_new)\n",
    "            replace_nan!(rho_vy,rho_vy_new)\n",
    "        end\n",
    "        # Copy field data \n",
    "        rho_vx = copy(rho_vx_new)\n",
    "        rho_vy = copy(rho_vy_new)\n",
    "        rho_c = copy(rho_c_new)\n",
    "        Hr = copy(Hr_new)\n",
    "        Cp_c = copy(Cp_c_new)\n",
    "        alpha = copy(alpha_new)\n",
    "        eta_s = copy(eta_s_new)\n",
    "        eta_n = copy(eta_n_new)\n",
    "        Tlast = copy(Tlast_new)\n",
    "    \n",
    "        # 2. Assemble and solve the stokes equations\n",
    "        L,R = form_stokes(grid,eta_s,eta_n,rho_vx,rho_vy,bc,gx,gy;dt=dt)\n",
    "        stokes_solution = L\\R\n",
    "        vx,vy,P = unpack(stokes_solution,grid;ghost=true)\n",
    "    \n",
    "        # Get the velocity at the cell centers:\n",
    "        vxc,vyc = velocity_to_centers(grid,vx,vy)\n",
    "        adiabatic_heating = compute_adiabatic_heating(grid,rho_c,Tlast,alpha,gx,gy,vxc,vyc)\n",
    "        shear_heating = compute_shear_heating(grid,vx,vy,eta_n,eta_s)\n",
    "        H = (adiabatic_heating .+ shear_heating .+ Hr)\n",
    "    \n",
    "        # 3. Compute the advection timestep:\n",
    "        if itime > 1\n",
    "            this_dtmax = min(1.2*dt,dtmax)\n",
    "        else\n",
    "            this_dtmax = dtmax\n",
    "        end\n",
    "        dt = compute_timestep(grid,vxc,vyc ; dtmax=this_dtmax)\n",
    "        \n",
    "        dTmax = Inf\n",
    "        dTemp = nothing\n",
    "        Tnew = nothing\n",
    "        titer=1\n",
    "        for titer=1:2# limit maximum temperature change\n",
    "            # assemble and solve the energy equation\n",
    "            println(\"Trying with timestep \",dt/3.15e7/1e6,\" Myr\")\n",
    "            L,R = assemble_energy_equation_center(grid,rho_c,Cp_c,kThermal,H,Tlast,dt,Tbcval);\n",
    "            Tnew = L\\R;\n",
    "            Tnew = reshape(Tnew,grid.ny,grid.nx);\n",
    "            Tnew = ghost_temperature_center(grid,Tnew,Tbctype,Tbcval);\n",
    "\n",
    "            T = copy(Tnew)\n",
    "\n",
    "            dTemp = Tnew-Tlast\n",
    "            # compute the maximum temperature change\n",
    "            dTmax = maximum(abs.(dTemp))\n",
    "            println(\"dTmax=\",dTmax,\" dt=\",dt/3.15e7/1e6)\n",
    "            dt = min(dt,dTmax < 10.0 ? dt : dt*10.0/dTmax)\n",
    "            if dTmax < 10.0\n",
    "                break\n",
    "            end\n",
    "        end\n",
    "\n",
    "        dT_subgrid_node = subgrid_temperature_relaxation_center!(markers,grid,Tlast,Cp_c[1,1],kThermal[1,1],dt)\n",
    "        dT_remaining = dTemp - dT_subgrid_node\n",
    "\n",
    "        cell_center_change_to_markers!(markers,grid,dT_remaining,\"T\")\n",
    "\n",
    "        if time == 0.0 || time - last_plot >= plot_interval\n",
    "            last_plot = time \n",
    "            name = @sprintf(\"%s/viz.%04d.vtr\",output_dir,iout)\n",
    "            println(\"Writing visualization fle \",name)\n",
    "            vn = velocity_to_basic_nodes(grid,vxc,vyc)\n",
    "\n",
    "        visualization(grid,rho_c,eta_s,vn,P,Tnew[2:end-1,2:end-1],time/seconds_in_year;filename=name)\n",
    "            name = @sprintf(\"%s/markers.%04d.vtp\",output_dir,iout)\n",
    "            visualization(markers,time/seconds_in_year;filename=name)\n",
    "            iout += 1\n",
    "        end\n",
    "        \n",
    "        println(\"Min/Max velocity: \",minimum(vyc),\" \",maximum(vyc))\n",
    "        move_markers_rk4!(markers,grid,vx,vy,dt,continuity_weight=1/3)\n",
    "        time += dt\n",
    "        println(\"Finished Step \",itime,\" time=\",time/seconds_in_year/1e6,\" Myr\")\n",
    "    end\n",
    "    return grid,markers,vxc,vyc,rho_c,eta_n,Tnew,time\n",
    "end\n",
    "@time grid,markers,vxc,vyc,rho_c,eta_n,Tnew,time = run(1)\n"
   ]
  },
  {
   "cell_type": "code",
   "execution_count": 4,
   "id": "4fc52f0f",
   "metadata": {},
   "outputs": [
    {
     "name": "stdout",
     "output_type": "stream",
     "text": [
      "3047.331505922745"
     ]
    },
    {
     "data": {
      "image/png": "[encoded data removed]",
      "text/plain": [
       "Figure(PyObject <Figure size 640x480 with 2 Axes>)"
      ]
     },
     "metadata": {},
     "output_type": "display_data"
    },
    {
     "data": {
      "image/png": "[encoded data removed]",
      "text/plain": [
       "Figure(PyObject <Figure size 640x480 with 2 Axes>)"
      ]
     },
     "metadata": {},
     "output_type": "display_data"
    }
   ],
   "source": [
    "figure()\n",
    "title(print(time/3.15e7))\n",
    "pcolor(grid.xc,grid.yc,eta_n)\n",
    "gca().invert_yaxis()\n",
    "colorbar()\n",
    "show()\n",
    "\n",
    "figure()\n",
    "scatter(markers.x[1,:],markers.x[2,:],c=markers.scalars[markers.scalarFields[\"T\"],:],s=0.1)\n",
    "gca().invert_yaxis()\n",
    "colorbar()\n",
    "show()"
   ]
  },
  {
   "cell_type": "code",
   "execution_count": null,
   "id": "45f8838b",
   "metadata": {},
   "outputs": [],
   "source": [
    "using ProfileSVG\n",
    "@profview run(10)"
   ]
  }
 ],
 "metadata": {
  "kernelspec": {
   "display_name": "Julia 20 Threads 1.8.4",
   "language": "julia",
   "name": "julia-20-threads-1.8"
  },
  "language_info": {
   "file_extension": ".jl",
   "mimetype": "application/julia",
   "name": "julia",
   "version": "1.8.4"
  }
 },
 "nbformat": 4,
 "nbformat_minor": 5
}
