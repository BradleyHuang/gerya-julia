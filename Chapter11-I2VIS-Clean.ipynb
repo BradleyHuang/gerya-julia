{
 "cells": [
  {
   "cell_type": "markdown",
   "id": "8ea95bde",
   "metadata": {},
   "source": [
    "# Chapter 11 - I2VIS - Clean version\n",
    "\n",
    "This is an implementation of a 2D viscous flow code. The energy equation (for temperature) is solved at the cell centers (unlike the example in the chapter 10 notebook, which is solved at the basic nodes.\n",
    "\n",
    "This notebook puts all of the major function definitions into separate source files and contains only the high-level program code."
   ]
  },
  {
   "cell_type": "code",
   "execution_count": 8,
   "id": "adabca4a",
   "metadata": {},
   "outputs": [
    {
     "data": {
      "text/plain": [
       "plots (generic function with 1 method)"
      ]
     },
     "execution_count": 8,
     "metadata": {},
     "output_type": "execute_result"
    }
   ],
   "source": [
    "# Import necessary packages\n",
    "using SparseArrays\n",
    "using LinearAlgebra\n",
    "using IterativeSolvers\n",
    "using WriteVTK\n",
    "using Printf\n",
    "using Statistics \n",
    "include(\"Grid.jl\")\n",
    "include(\"Markers.jl\")\n",
    "include(\"Stokes.jl\")\n",
    "include(\"Temperature.jl\")\n",
    "\n",
    "# note that we import pyplot last to avoid a name conflict with grid.\n",
    "using PyPlot\n",
    "include(\"Visualization.jl\")"
   ]
  },
  {
   "cell_type": "markdown",
   "id": "a299a1d7",
   "metadata": {},
   "source": [
    "# Problem setup\n",
    "\n",
    "100 km sticky air layer, 500x500 km box"
   ]
  },
  {
   "cell_type": "code",
   "execution_count": 9,
   "id": "d1e54a62",
   "metadata": {},
   "outputs": [
    {
     "data": {
      "text/plain": [
       "initial_conditions! (generic function with 1 method)"
      ]
     },
     "execution_count": 9,
     "metadata": {},
     "output_type": "execute_result"
    }
   ],
   "source": [
    "struct Materials\n",
    "    # 1 - mantle\n",
    "    # 2 - plume\n",
    "    # 3 - sticky air\n",
    "    alpha::Vector{Float64}\n",
    "    rho0::Vector{Float64}\n",
    "    Hr::Vector{Float64}\n",
    "    Cp::Vector{Float64}\n",
    "    kThermal::Vector{Float64}\n",
    "    eta::Vector{Float64}\n",
    "    function Materials()\n",
    "         # These are the values used in Gerya's problem 11.1\n",
    "         new([3e-5,2e-5,0.0],[3300.,3200.,1.0],[2e-8,3e-8,0.0],[1000.,1000.,3.3e6],[3.0,2.0,300.0],[1e21,1e20,1e17])\n",
    "    end    \n",
    "end\n",
    "\n",
    "function update_marker_density!(markers::Markers,materials::Materials)\n",
    "    rho = markers.scalarFields[\"rho\"]\n",
    "    T = markers.scalarFields[\"T\"]\n",
    "    mmat = markers.integers[markers.integerFields[\"material\"],:]\n",
    "    \n",
    "    for i in 1:markers.nmark                \n",
    "        # receompute density using the current temperature value\n",
    "        # assume reference temperature is 273.0\n",
    "        markers.scalars[rho,i] = materials.rho0[mmat[i]] # don't update density - for comparison with gerya\n",
    "        # materials.rho0[mmat[i]]*(1.0-materials.alpha[mmat[i]]*(markers.scalars[T,i]-273.0)) \n",
    "    end\n",
    "end\n",
    "\n",
    "# function initialize_marker_properties!(markers::Markers,materials::Materials)\n",
    "#     eta = markers.scalarFields[\"eta\"]\n",
    "#     T = markers.scalarFields[\"T\"]\n",
    "#     mmat = markers.integerFields[\"material\"]\n",
    "#     for i in 1:markers.nmark                \n",
    "#         markers.scalars[eta,i] = materials.eta[mmat[i]]\n",
    "#     end\n",
    "# end\n",
    "\n",
    "function initial_conditions!(markers::Markers,materials::Materials)\n",
    "    material = markers.integerFields[\"material\"]\n",
    "    T = markers.scalarFields[\"T\"]\n",
    "    eta = markers.scalarFields[\"eta\"]\n",
    "    alpha = markers.scalarFields[\"alpha\"]\n",
    "    for i in 1:markers.nmark\n",
    "        mx = markers.x[1,i]\n",
    "        my = markers.x[2,i]\n",
    "        mr = ((mx-2.5e5)^2 + (my-2.5e5)^2)^0.5\n",
    "        if my < 1e5\n",
    "             # sticky air\n",
    "             markers.integers[material,i] = 3\n",
    "             markers.scalars[T,i] = 273.0\n",
    "             markers.scalars[eta,i] = materials.eta[3]\n",
    "             markers.scalars[alpha,i] = materials.alpha[3]            \n",
    "         elseif mr < 1e5\n",
    "             # plume\n",
    "             markers.integers[material,i] = 2\n",
    "             markers.scalars[T,i] = 1800.0\n",
    "             markers.scalars[eta,i] = materials.eta[2]\n",
    "             markers.scalars[alpha,i] = materials.alpha[2]            \n",
    "         else\n",
    "            # ambient mantle\n",
    "            markers.integers[material,i] = 1\n",
    "            markers.scalars[T,i] = 1500.0            \n",
    "            markers.scalars[eta,i] = materials.eta[1]\n",
    "            markers.scalars[alpha,i] = materials.alpha[1]            \n",
    "\n",
    "         end\n",
    "    end\n",
    "    update_marker_density!(markers,materials)\n",
    "end"
   ]
  },
  {
   "cell_type": "code",
   "execution_count": 10,
   "id": "d079c6ba",
   "metadata": {},
   "outputs": [
    {
     "data": {
      "text/plain": [
       "compute_shear_heating (generic function with 1 method)"
      ]
     },
     "execution_count": 10,
     "metadata": {},
     "output_type": "execute_result"
    }
   ],
   "source": [
    "# new code - compute stress and strain rate.\n",
    "function compute_strainrate(grid::CartesianGrid,vx::Matrix{Float64},vy::Matrix{Float64})\n",
    "   # Take vx and vy at the velocity nodes\n",
    "    # compute exx and eyy at the cell centers\n",
    "    # compute exy at the basic nodes\n",
    "    exy = zeros(grid.ny,grid.nx)\n",
    "    for i in 1:grid.ny\n",
    "        for j in 1:grid.nx\n",
    "            # sxy = \n",
    "            exy[i,j] = 0.5*( (vx[i+1,j]-vx[i,j])/(grid.yc[i+1]-grid.yc[i]) + (vy[i,j+1]-vy[i,j])/(grid.xc[j+1]-grid.xc[j]) )\n",
    "        end\n",
    "    end\n",
    "    exx = zeros(grid.ny+1,grid.nx+1)\n",
    "    eyy = zeros(grid.ny+1,grid.nx+1)\n",
    "    for i in 2:grid.ny # first row is outside domain\n",
    "        for j in 2:grid.nx # first column is outside domain\n",
    "            exx[i,j] = (vx[i,j] - vx[i,j-1])/(grid.x[j]-grid.x[j-1])\n",
    "            eyy[i,j] = (vy[i,j] - vy[i-1,j])/(grid.y[i]-grid.y[i-1])\n",
    "        end\n",
    "    end\n",
    "    return exx,eyy,exy\n",
    "end\n",
    "\n",
    "function compute_stress(grid::CartesianGrid,vx::Matrix{Float64},vy::Matrix{Float64},etan::Matrix{Float64},etas::Matrix{Float64})\n",
    "    # compute stresses given velocities and viscosities\n",
    "    exx,eyy,exy = compute_strainrate(grid,vx,vy)\n",
    "    sxy = 2.0*etas .* exy\n",
    "    sxx = 2.0*etan .* exx\n",
    "    syy = 2.0*etan .* eyy\n",
    "    return sxx,syy,sxy\n",
    "end\n",
    "\n",
    "function compute_shear_heating(grid::CartesianGrid,vx::Matrix{Float64},vy::Matrix{Float64},etan::Matrix{Float64},etas::Matrix{Float64})\n",
    "    # compute stresses given velocities and viscosities\n",
    "    exx,eyy,exy = compute_strainrate(grid,vx,vy)\n",
    "    sxy = 2.0*etas .* exy\n",
    "    sxx = 2.0*etan .* exx\n",
    "    syy = 2.0*etan .* eyy\n",
    "    # average sxy*exy over each cell\n",
    "    sxyexy = zeros(grid.ny+1,grid.nx+1)\n",
    "    for i in 2:grid.ny\n",
    "        for j in 2:grid.nx\n",
    "            sxyexy[i,j] = 0.25*(sxy[i,j]*exy[i,j]+sxy[i-1,j]*exy[i-1,j]+sxy[i,j-1]*exy[i,j-1]+sxy[i-1,j-1]*exy[i-1,j-1])\n",
    "        end\n",
    "    end\n",
    "    shear_heating = sxx .* exx + syy .* eyy + 2.0*sxyexy\n",
    "    return shear_heating    \n",
    "end"
   ]
  },
  {
   "cell_type": "code",
   "execution_count": 11,
   "id": "025308ef",
   "metadata": {},
   "outputs": [
    {
     "data": {
      "text/plain": [
       "(7, 6)"
      ]
     },
     "execution_count": 11,
     "metadata": {},
     "output_type": "execute_result"
    }
   ],
   "source": [
    "size(eta_n)\n",
    "#compute_stress(grid,vx,vy,eta_n)\n"
   ]
  },
  {
   "cell_type": "markdown",
   "id": "d0a1430a",
   "metadata": {},
   "source": [
    "# i2vis procedure\n",
    "\n",
    "0. Set up the Eulerian grid and Lagrangian markers. Distribute the markers within the domain and assign initial conditions.\n",
    "1. Compute density and viscosity at the basic nodes. Compute cell center viscosity via averaging.\n",
    "2. Assemble and solve the Stokes equations.\n",
    "3. Compute the maximum timestep from the velocity field and CFL number.\n",
    "3. Transfer temperature from markers to basic nodes.\n",
    "4. Compute the new temperature solution.\n",
    "5. If the maximum temperature change exceeds a specified value, reduce the timstep and repeat step 4.\n",
    "6. Compute the subgrid temperature changes and update the temperature on the markers.\n",
    "7. Move the markers using 2nd order Runge-Kutta"
   ]
  },
  {
   "cell_type": "markdown",
   "id": "dcd9f777",
   "metadata": {},
   "source": [
    "TO DO:\n",
    "1. 4th order Runge-Kutta (Christian)\n",
    "2. Calculate rhox (rho at vx points) -> (optionally) pass to Stokes.jl (Max)\n",
    "3. Add free-surface stabilization terms to Stokes.jl (Lucy)\n",
    "4. Add functionality for shear heating (Max)\n",
    "5. Add functionality for adiabatic heating (Uthkarsh)"
   ]
  },
  {
   "cell_type": "code",
   "execution_count": 12,
   "id": "7333fd83",
   "metadata": {},
   "outputs": [
    {
     "name": "stdout",
     "output_type": "stream",
     "text": [
      "Creating Markers...\n",
      "  0.069103 seconds (71.07 k allocations: 3.658 MiB, 99.93% compilation time)\n",
      "Initial condition...\n",
      "  0.000099 seconds (326 allocations: 5.828 KiB)\n",
      "\n",
      "[1.0 1.0 1.0 1.0 1.0 1.0; 472.2857142857138 472.2857142857138 472.2857142857139 472.2857142857139 472.2857142857138 472.2857142857139; 2887.6249999999995 2887.178571428571 2859.890625 2859.890625 2887.178571428571 2887.6249999999995; 3300.0000000000005 3297.321428571428 3233.59375 3233.59375 3297.321428571428 3300.0000000000005; 3300.0000000000005 3299.553571428571 3272.2656249999995 3272.2656249999995 3299.5535714285716 3300.0000000000005; 3300.0 3300.0 3300.0 3300.0 3300.0 3300.0; 3299.9999999999995 3299.9999999999995 3300.000000000001 3300.000000000001 3300.0000000000005 3300.0]\n",
      "Trying with timestep 3.15e13\n",
      "dTmax=5.615448514870309 dt=3.15e13\n",
      "-1.5451669448126943e-9 1.5451669448127001e-9Finished Step 1 time=1.0 Myr\n"
     ]
    },
    {
     "data": {
      "image/png": "[encoded data removed]",
      "text/plain": [
       "Figure(PyObject <Figure size 640x480 with 1 Axes>)"
      ]
     },
     "metadata": {},
     "output_type": "display_data"
    }
   ],
   "source": [
    "#function run(nstep::Int64)\n",
    "    nstep=1\n",
    "\n",
    "    nx = 5\n",
    "    ny = 6\n",
    "    W = 5e5\n",
    "    H = 5e5\n",
    "    gx = 0.0\n",
    "    gy = 10.0\n",
    "\n",
    "    Tbcval = [0.0,0.0,273.0,1500.0]\n",
    "    bc = BoundaryConditions(0,0,0,0) # currently does nothing but is required argument to stokes solver.\n",
    "    materials = Materials()\n",
    "    \n",
    "    markx = 4\n",
    "    marky = 4\n",
    "    seconds_in_year = 3.15e7\n",
    "    plot_interval = 1e6*seconds_in_year # plot interval in seconds\n",
    "    end_time = 3e7*seconds_in_year\n",
    "    dtmax = plot_interval\n",
    "    grid = CartesianGrid(W,H,nx,ny)\n",
    "    println(\"Creating Markers...\")\n",
    "    @time markers = Markers(grid,[\"alpha\",\"T\",\"rho\",\"eta\"],[\"material\"] ; nmx=markx,nmy=marky,random=false)\n",
    "    println(\"Initial condition...\")\n",
    "    @time initial_conditions!(markers, materials)\n",
    "\n",
    "    # define arrays for k, rho, cp, H at the basic nodes. Fill them with constant values for now.\n",
    "    kThermal = 3.0 .*ones(grid.ny,grid.nx);\n",
    "    Cp = 1250. .* ones(grid.ny,grid.nx);\n",
    "    H = zeros(grid.ny,grid.nx);\n",
    "    H = zeros(grid.ny,grid.nx);\n",
    "    # fill!(rho,3200.);\n",
    "    # fill!(kThermal,3.0);\n",
    "    # fill!(Cp,1000.);\n",
    "\n",
    "    time = 0.0\n",
    "    iout=0\n",
    "    last_plot = 0.0\n",
    "\n",
    "    #     local rho\n",
    "    #     local eta_s\n",
    "    #     local T\n",
    "    #     local dt\n",
    "    #     local dTmax\n",
    "    #     local dTemp\n",
    "    #     local Tnew\n",
    "    #     local Tlast\n",
    "\n",
    "    rho = nothing\n",
    "    rhoc = nothing\n",
    "    eta_s = nothing\n",
    "    eta_n = nothing\n",
    "    vxc = nothing\n",
    "    vyc = nothing\n",
    "    shear_heating = nothing\n",
    "    vx = nothing\n",
    "    vy = nothing\n",
    "    rho_vx = nothing\n",
    "\n",
    "    output_dir = \"test\"\n",
    "    for itime in 1:nstep\n",
    "        # Get density and viscosity from the markers.\n",
    "        rho_new,eta_s_new = marker_to_basic_node(markers,grid,[\"rho\",\"eta\"]);\n",
    "        rhoc_new,alpha = marker_to_cell_center(markers,grid,[\"rho\",\"alpha\"])\n",
    "        rho_vx, = marker_to_stag(markers,grid,[\"rho\",],\"vx\")\n",
    "        rho_vy, = marker_to_stag(markers,grid,[\"rho\",],\"vy\")\n",
    "    \n",
    "        print(\"\\n\",rhoc_new,\"\\n\")\n",
    "        \n",
    "        if time > 0.0\n",
    "            nanind = findall(isnan.(rho_new))\n",
    "            rho_new[nanind] = rho[nanind]\n",
    "            eta_s_new[nanind] = eta_s[nanind]     \n",
    "        end\n",
    "        rhoc = copy(rhoc_new)\n",
    "        rho   = copy(rho_new)\n",
    "        eta_s = copy(eta_s_new) \n",
    "\n",
    "        #eta_n = viscosity_to_cell_centers(grid,eta_s_new)\n",
    "        eta_n, = marker_to_cell_center(markers,grid,[\"eta\",])\n",
    "        \n",
    "        # assemble and solve the stokes equations\n",
    "        L,R = form_stokes(grid,eta_s_new,eta_n,rho_vx,rho_vy,bc,gx,gy)\n",
    "        solution = L\\R\n",
    "        vx,vy,P = unpack(solution,grid;ghost=true)\n",
    "        \n",
    "    \n",
    "        vxc,vyc = velocity_to_centers(grid,vx,vy)\n",
    "        if itime > 1  \n",
    "            this_dtmax = min(1.5*dt,dtmax)\n",
    "        else\n",
    "            this_dtmax = dtmax\n",
    "        end\n",
    "        dt = compute_timestep(grid,vxc,vyc;dtmax=this_dtmax)\n",
    "\n",
    "        \n",
    "        # get temperature at cell centers\n",
    "        Tlast, = marker_to_cell_center(markers,grid,[\"T\",])\n",
    "        Tlast = ghost_temperature_center(grid,Tlast,Tbcval);\n",
    "        if time > 0.0\n",
    "            nanind = findall(isnan.(Tlast))\n",
    "            Tlast[nanind] = T[nanind]\n",
    "        end\n",
    "\n",
    "        dTmax = Inf\n",
    "        dTemp = nothing\n",
    "        Tnew = nothing\n",
    "        while dTmax >= 20.0 # limit maximum temperature change\n",
    "            # assemble and solve the energy equation\n",
    "            println(\"Trying with timestep \",dt)\n",
    "            L,R = assemble_energy_equation_center(grid,rho,Cp,kThermal,H,Tlast,dt,Tbcval);\n",
    "            Tnew = L\\R;\n",
    "            Tnew = reshape(Tnew,grid.ny,grid.nx);\n",
    "            Tnew = ghost_temperature_center(grid,Tnew,Tbcval);\n",
    "\n",
    "            T = copy(Tnew)\n",
    "\n",
    "            dTemp = Tnew-Tlast\n",
    "            # compute the maximum temperature change\n",
    "            dTmax = maximum(abs.(dTemp[2:end-1,2:end-1]))\n",
    "            println(\"dTmax=\",dTmax,\" dt=\",dt)\n",
    "            dt = min(dt,dTmax < 20.0 ? dt : dt/2)\n",
    "        end\n",
    "\n",
    "        dT_subgrid_node = subgrid_temperature_relaxation_center!(markers,grid,Tlast,Cp[1,1],kThermal[1,1],dt)\n",
    "        dT_remaining = dTemp - dT_subgrid_node\n",
    "        # dT_remaining = dTemp\n",
    "        cell_center_change_to_markers!(markers,grid,dT_remaining,\"T\")\n",
    "\n",
    "        if time == 0.0 || time - last_plot >= plot_interval\n",
    "            last_plot = time \n",
    "            name = @sprintf(\"%s/viz.%04d.vtr\",output_dir,iout)\n",
    "            vn = velocity_to_basic_nodes(grid,vxc,vyc)\n",
    "\n",
    "        visualization(grid,rho,eta_s,vn,P,Tnew[2:end-1,2:end-1],time/seconds_in_year;filename=name)\n",
    "            name = @sprintf(\"%s/markers.%04d.vtp\",output_dir,iout)\n",
    "            visualization(markers,time/seconds_in_year;filename=name)\n",
    "            iout += 1\n",
    "        end\n",
    "\n",
    "        \n",
    "        print(minimum(vyc),\" \",maximum(vyc))\n",
    "        move_markers_rk4!(markers,grid,vx,vy,dt,continuity_weight=1/3)\n",
    "        time += dt\n",
    "        println(\"Finished Step \",itime,\" time=\",time/seconds_in_year/1e6,\" Myr\")\n",
    "    end\n",
    "# end\n",
    "# @time run(1)\n",
    "\n",
    "\n",
    "figure()\n",
    "scatter(markers.x[1,:],markers.x[2,:],c=\"b\",s=0.1)\n",
    "show()"
   ]
  },
  {
   "cell_type": "code",
   "execution_count": 6,
   "id": "a30cc753",
   "metadata": {},
   "outputs": [
    {
     "data": {
      "text/plain": [
       "(6, 5)"
      ]
     },
     "execution_count": 6,
     "metadata": {},
     "output_type": "execute_result"
    }
   ],
   "source": [
    "etan, = marker_to_stag(markers,grid,[\"eta\",],\"center\")\n",
    "size(eta_s)"
   ]
  },
  {
   "cell_type": "code",
   "execution_count": 24,
   "id": "33925a28",
   "metadata": {},
   "outputs": [
    {
     "ename": "LoadError",
     "evalue": "MethodError: no method matching run(::Int64)\n\u001b[0mClosest candidates are:\n\u001b[0m  run(\u001b[91m::Base.AbstractCmd\u001b[39m, \u001b[91m::Any...\u001b[39m; wait) at /opt/julia-1.7.1/share/julia/base/process.jl:443",
     "output_type": "error",
     "traceback": [
      "MethodError: no method matching run(::Int64)\n\u001b[0mClosest candidates are:\n\u001b[0m  run(\u001b[91m::Base.AbstractCmd\u001b[39m, \u001b[91m::Any...\u001b[39m; wait) at /opt/julia-1.7.1/share/julia/base/process.jl:443",
      "",
      "Stacktrace:",
      " [1] macro expansion",
      "   @ /opt/julia-1.7.1/share/julia/stdlib/v1.7/Profile/src/Profile.jl:28 [inlined]",
      " [2] top-level scope",
      "   @ ~/.julia/packages/ProfileSVG/ecSyU/src/ProfileSVG.jl:17",
      " [3] eval",
      "   @ ./boot.jl:373 [inlined]",
      " [4] include_string(mapexpr::typeof(REPL.softscope), mod::Module, code::String, filename::String)",
      "   @ Base ./loading.jl:1196"
     ]
    }
   ],
   "source": [
    "using Profile, ProfileSVG\n",
    "@profview run(2)"
   ]
  },
  {
   "cell_type": "code",
   "execution_count": 25,
   "id": "8bb3d6c3",
   "metadata": {},
   "outputs": [
    {
     "ename": "LoadError",
     "evalue": "MethodError: no method matching run(::Int64)\n\u001b[0mClosest candidates are:\n\u001b[0m  run(\u001b[91m::Base.AbstractCmd\u001b[39m, \u001b[91m::Any...\u001b[39m; wait) at /opt/julia-1.7.1/share/julia/base/process.jl:443",
     "output_type": "error",
     "traceback": [
      "MethodError: no method matching run(::Int64)\n\u001b[0mClosest candidates are:\n\u001b[0m  run(\u001b[91m::Base.AbstractCmd\u001b[39m, \u001b[91m::Any...\u001b[39m; wait) at /opt/julia-1.7.1/share/julia/base/process.jl:443",
      "",
      "Stacktrace:",
      " [1] top-level scope",
      "   @ ./timing.jl:220 [inlined]",
      " [2] top-level scope",
      "   @ ./In[25]:0",
      " [3] eval",
      "   @ ./boot.jl:373 [inlined]",
      " [4] include_string(mapexpr::typeof(REPL.softscope), mod::Module, code::String, filename::String)",
      "   @ Base ./loading.jl:1196"
     ]
    }
   ],
   "source": [
    "@time run(2)"
   ]
  },
  {
   "cell_type": "code",
   "execution_count": 26,
   "id": "2eae6604",
   "metadata": {},
   "outputs": [
    {
     "data": {
      "text/plain": [
       "6"
      ]
     },
     "execution_count": 26,
     "metadata": {},
     "output_type": "execute_result"
    }
   ],
   "source": [
    "grid.ny"
   ]
  },
  {
   "cell_type": "code",
   "execution_count": 103,
   "id": "3a9cb306",
   "metadata": {},
   "outputs": [
    {
     "ename": "LoadError",
     "evalue": "UndefVarError: meshgrid not defined",
     "output_type": "error",
     "traceback": [
      "UndefVarError: meshgrid not defined",
      "",
      "Stacktrace:",
      " [1] top-level scope",
      "   @ In[103]:2",
      " [2] eval",
      "   @ ./boot.jl:373 [inlined]",
      " [3] include_string(mapexpr::typeof(REPL.softscope), mod::Module, code::String, filename::String)",
      "   @ Base ./loading.jl:1196"
     ]
    }
   ],
   "source": [
    "\n",
    "xx,yy = meshgrid(grid.xc,grid.yc)\n",
    "figure()\n",
    "\n",
    "quiver()"
   ]
  },
  {
   "cell_type": "code",
   "execution_count": null,
   "id": "1d1d261c",
   "metadata": {},
   "outputs": [],
   "source": [
    "rho = nothing"
   ]
  },
  {
   "cell_type": "code",
   "execution_count": null,
   "id": "d31c3b02",
   "metadata": {},
   "outputs": [],
   "source": [
    "rho == nothing"
   ]
  },
  {
   "cell_type": "code",
   "execution_count": 16,
   "id": "6822a00c",
   "metadata": {},
   "outputs": [
    {
     "data": {
      "text/plain": [
       "6×5 Matrix{Float64}:\n",
       " 0.0   0.0           0.0          0.0          0.0\n",
       " 0.0  -4.90581e-15  -5.33427e-29  4.90581e-15  0.0\n",
       " 0.0  -8.97906e-15   1.02951e-29  8.97906e-15  0.0\n",
       " 0.0  -8.4021e-15   -8.21639e-30  8.4021e-15   0.0\n",
       " 0.0  -5.78816e-15   1.32529e-28  5.78816e-15  0.0\n",
       " 0.0   0.0           0.0          0.0          0.0"
      ]
     },
     "execution_count": 16,
     "metadata": {},
     "output_type": "execute_result"
    }
   ],
   "source": [
    "shear_heating = compute_shear_heating(grid,vx,vy,etan,eta_s)\n",
    "exx,eyy,exy = compute_strainrate(grid,vx,vy)\n",
    "# d,e,f = compute_stress(grid,vx,vy,etan,eta_s)\n",
    "\n",
    "exy"
   ]
  },
  {
   "cell_type": "code",
   "execution_count": null,
   "id": "058dfd9f",
   "metadata": {},
   "outputs": [],
   "source": []
  }
 ],
 "metadata": {
  "kernelspec": {
   "display_name": "Julia 20 Threads 1.7.1",
   "language": "julia",
   "name": "julia-20-threads-1.7"
  },
  "language_info": {
   "file_extension": ".jl",
   "mimetype": "application/julia",
   "name": "julia",
   "version": "1.7.1"
  }
 },
 "nbformat": 4,
 "nbformat_minor": 5
}
