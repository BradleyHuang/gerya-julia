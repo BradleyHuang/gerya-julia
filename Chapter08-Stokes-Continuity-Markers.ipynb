{
 "cells": [
  {
   "cell_type": "code",
   "execution_count": 4,
   "id": "546472e2",
   "metadata": {},
   "outputs": [
    {
     "data": {
      "text/plain": [
       "unpack (generic function with 1 method)"
      ]
     },
     "execution_count": 4,
     "metadata": {},
     "output_type": "execute_result"
    }
   ],
   "source": [
    "# Import necessary packages\n",
    "using SparseArrays\n",
    "using StaticArrays\n",
    "using LinearAlgebra\n",
    "using IterativeSolvers\n",
    "using AlgebraicMultigrid\n",
    "using Printf\n",
    "\n",
    "include(\"Grid.jl\")\n",
    "include(\"Stokes.jl\")"
   ]
  },
  {
   "cell_type": "code",
   "execution_count": 9,
   "id": "2d07de6b",
   "metadata": {},
   "outputs": [
    {
     "data": {
      "text/plain": [
       "initial_conditions_updown (generic function with 1 method)"
      ]
     },
     "execution_count": 9,
     "metadata": {},
     "output_type": "execute_result"
    }
   ],
   "source": [
    "mutable struct Marker\n",
    "    x::MVector{2,Float64}# mutable but fixed-size vector of coordinates\n",
    "    cell::MVector{2,Int16}# cell in which the marker is located\n",
    "    rho::Float64\n",
    "    function Marker()\n",
    "       new(MVector{2,Float64}(-1.,-1.),MVector{2,Int16}(-1,-1),0.0) \n",
    "    end\n",
    "end\n",
    "\n",
    "mutable struct Markers\n",
    "    # Currently, the markers only contains the array of markers and the number of markers in the array.\n",
    "    m::Array{Marker,1}\n",
    "    nmark::Int64\n",
    "    function Markers(n::Integer)\n",
    "       new( Array{Marker,1}(undef,n),0)\n",
    "    end\n",
    "    function Markers(grid::CartesianGrid; nmx::Integer=5,nmy::Integer=5)\n",
    "       # distribute markers uniformly in the domain \n",
    "        # nmx and nmy are the number of markers per cell in the x and y directions, respectively.\n",
    "        N = nmx*nmy*grid.nx*grid.ny # total number of markers\n",
    "        mm = Array{Marker,1}(undef,N)\n",
    "        mdx = grid.W/nmx/grid.nx\n",
    "        mdy = grid.H/nmy/grid.ny\n",
    "        k=1\n",
    "        for i in 1:grid.ny-1\n",
    "            for j in 1:grid.nx-1\n",
    "                for ii in 1:nmy\n",
    "                    for jj in 1:nmx\n",
    "                        mm[k] = Marker()\n",
    "                        mm[k].x[1] = mdx/2. + mdx*(jj-1) + mdx*nmx*(j-1)\n",
    "                        mm[k].x[2] = mdy/2. + mdy*(ii-1) + mdy*nmy*(i-1) \n",
    "                        mm[k].cell[1] = j\n",
    "                        mm[k].cell[2] = i\n",
    "                        mm[k].rho = 0.\n",
    "                        k+=1\n",
    "                    end\n",
    "                end\n",
    "            end\n",
    "        end\n",
    "        new(mm,k-1)\n",
    "    end\n",
    "end\n",
    "\n",
    "function find_cell(x::Float64,gridx::Vector{Float64},nx::Int ; guess::Integer=nothing)\n",
    "    # find the cell in the array gridx that contains the current marker\n",
    "    # first, see whether the initial guess is correct.\n",
    "    lower::Int = 1\n",
    "    upper::Int = nx\n",
    "    if guess != nothing\n",
    "        if x >= gridx[guess] && x <= gridx[guess+1]\n",
    "            return guess\n",
    "        else\n",
    "            if x>=gridx[guess+1]\n",
    "                lower = guess\n",
    "            else\n",
    "                upper = guess\n",
    "            end\n",
    "        end\n",
    "     end\n",
    "    # locate cell using bisection on lower,upper\n",
    "    while lower-upper > 1 \n",
    "        midpoint::Int = lower + floor((upper-lower)/2)\n",
    "        if x >= gridx[midpoint]\n",
    "            lower = midpoint\n",
    "        else\n",
    "            upper = midpoint\n",
    "        end\n",
    "    end\n",
    "    return lower\n",
    "end\n"
   ]
  },
  {
   "cell_type": "code",
   "execution_count": 7,
   "id": "f4373cc3",
   "metadata": {},
   "outputs": [
    {
     "data": {
      "text/plain": [
       "Markers(Marker[Marker([196.07843137254903, 148.5148514851485], Int16[1, 1], 3300.0), Marker([588.2352941176471, 148.5148514851485], Int16[1, 1], 3300.0), Marker([980.3921568627452, 148.5148514851485], Int16[1, 1], 3300.0), Marker([1372.549019607843, 148.5148514851485], Int16[1, 1], 3300.0), Marker([1764.7058823529412, 148.5148514851485], Int16[1, 1], 3300.0), Marker([196.07843137254903, 445.54455445544556], Int16[1, 1], 3300.0), Marker([588.2352941176471, 445.54455445544556], Int16[1, 1], 3300.0), Marker([980.3921568627452, 445.54455445544556], Int16[1, 1], 3300.0), Marker([1372.549019607843, 445.54455445544556], Int16[1, 1], 3300.0), Marker([1764.7058823529412, 445.54455445544556], Int16[1, 1], 3300.0)  …  #undef, #undef, #undef, #undef, #undef, #undef, #undef, #undef, #undef, #undef], 125000)"
      ]
     },
     "execution_count": 7,
     "metadata": {},
     "output_type": "execute_result"
    }
   ],
   "source": [
    "# Set up the grid\n",
    "nx = 51\n",
    "ny = 101\n",
    "W = 1e5\n",
    "H = 1.5e5\n",
    "gy = -10.0\n",
    "gx =  0.0\n",
    "markx = 10\n",
    "marky = 10\n",
    "grid = CartesianGrid(W,H,nx,ny)\n",
    "markers = Markers(grid)\n",
    "\n",
    "\n",
    "# rho,eta_s,eta_n = initial_conditions(grid)\n",
    "# bc = BoundaryConditions(0,0,0,0)\n",
    "# @time L,R = form_stokes(grid,eta_s,eta_n,bc,gx,gy)\n",
    "# @time solution = L\\R\n",
    "# @time vx,vy,P = unpack(solution,grid)"
   ]
  },
  {
   "cell_type": "code",
   "execution_count": 8,
   "id": "4fdea702",
   "metadata": {},
   "outputs": [
    {
     "data": {
      "text/plain": [
       "1"
      ]
     },
     "execution_count": 8,
     "metadata": {},
     "output_type": "execute_result"
    }
   ],
   "source": []
  },
  {
   "cell_type": "code",
   "execution_count": 9,
   "id": "1f8ff634",
   "metadata": {},
   "outputs": [
    {
     "data": {
      "text/plain": [
       "Marker([-1.0, -1.0], Integer[-1, -1], 0.0)"
      ]
     },
     "execution_count": 9,
     "metadata": {},
     "output_type": "execute_result"
    }
   ],
   "source": [
    "a[1]= Marker()"
   ]
  },
  {
   "cell_type": "code",
   "execution_count": 10,
   "id": "f60fee87",
   "metadata": {},
   "outputs": [
    {
     "data": {
      "text/plain": [
       "1000-element Vector{Marker}:\n",
       "    Marker([-1.0, -1.0], Integer[-1, -1], 0.0)\n",
       " #undef\n",
       " #undef\n",
       " #undef\n",
       " #undef\n",
       " #undef\n",
       " #undef\n",
       " #undef\n",
       " #undef\n",
       " #undef\n",
       " #undef\n",
       " #undef\n",
       " #undef\n",
       "   ⋮\n",
       " #undef\n",
       " #undef\n",
       " #undef\n",
       " #undef\n",
       " #undef\n",
       " #undef\n",
       " #undef\n",
       " #undef\n",
       " #undef\n",
       " #undef\n",
       " #undef\n",
       " #undef"
      ]
     },
     "execution_count": 10,
     "metadata": {},
     "output_type": "execute_result"
    }
   ],
   "source": [
    "a"
   ]
  },
  {
   "cell_type": "code",
   "execution_count": null,
   "id": "7b51168b",
   "metadata": {},
   "outputs": [],
   "source": []
  }
 ],
 "metadata": {
  "kernelspec": {
   "display_name": "Julia 1.7.1",
   "language": "julia",
   "name": "julia-1.7"
  },
  "language_info": {
   "file_extension": ".jl",
   "mimetype": "application/julia",
   "name": "julia",
   "version": "1.7.1"
  }
 },
 "nbformat": 4,
 "nbformat_minor": 5
}
